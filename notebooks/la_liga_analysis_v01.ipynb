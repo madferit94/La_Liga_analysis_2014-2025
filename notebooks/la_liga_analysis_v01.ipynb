{
 "cells": [
  {
   "cell_type": "markdown",
   "metadata": {},
   "source": [
    "## La Liga: A Brief Analysis ##"
   ]
  },
  {
   "cell_type": "markdown",
   "metadata": {},
   "source": [
    "# 1단계: 라이브러리 임포트 (Import Libraries)"
   ]
  },
  {
   "cell_type": "code",
   "execution_count": 1,
   "metadata": {},
   "outputs": [
    {
     "name": "stdout",
     "output_type": "stream",
     "text": [
      "Data loading and season labeling complete.\n",
      "\n",
      "--- Season by Match Count ---\n",
      "       season  match_count\n",
      "0   2014-2015          380\n",
      "1   2015-2016          380\n",
      "2   2016-2017          380\n",
      "3   2017-2018          380\n",
      "4   2018-2019          380\n",
      "5   2019-2020          380\n",
      "6   2020-2021          380\n",
      "7   2021-2022          380\n",
      "8   2022-2023          380\n",
      "9   2023-2024          380\n",
      "10  2024-2025          380\n"
     ]
    },
    {
     "data": {
      "application/vnd.plotly.v1+json": {
       "config": {
        "plotlyServerURL": "https://plot.ly"
       },
       "data": [
        {
         "hovertemplate": "season=%{x}<br>match_count=%{y}<extra></extra>",
         "legendgroup": "",
         "marker": {
          "color": "#636efa",
          "pattern": {
           "shape": ""
          }
         },
         "name": "",
         "orientation": "v",
         "showlegend": false,
         "textposition": "auto",
         "texttemplate": "%{y}",
         "type": "bar",
         "x": [
          "2014-2015",
          "2015-2016",
          "2016-2017",
          "2017-2018",
          "2018-2019",
          "2019-2020",
          "2020-2021",
          "2021-2022",
          "2022-2023",
          "2023-2024",
          "2024-2025"
         ],
         "xaxis": "x",
         "y": {
          "bdata": "fAF8AXwBfAF8AXwBfAF8AXwBfAF8AQ==",
          "dtype": "i2"
         },
         "yaxis": "y"
        }
       ],
       "layout": {
        "annotations": [
         {
          "showarrow": false,
          "text": "Standard Line (380 Matches)",
          "x": 1,
          "xanchor": "right",
          "xref": "x domain",
          "y": 380,
          "yanchor": "bottom",
          "yref": "y"
         }
        ],
        "barmode": "relative",
        "legend": {
         "tracegroupgap": 0
        },
        "shapes": [
         {
          "line": {
           "color": "red",
           "dash": "dash"
          },
          "type": "line",
          "x0": 0,
          "x1": 1,
          "xref": "x domain",
          "y0": 380,
          "y1": 380,
          "yref": "y"
         }
        ],
        "template": {
         "data": {
          "bar": [
           {
            "error_x": {
             "color": "#2a3f5f"
            },
            "error_y": {
             "color": "#2a3f5f"
            },
            "marker": {
             "line": {
              "color": "#E5ECF6",
              "width": 0.5
             },
             "pattern": {
              "fillmode": "overlay",
              "size": 10,
              "solidity": 0.2
             }
            },
            "type": "bar"
           }
          ],
          "barpolar": [
           {
            "marker": {
             "line": {
              "color": "#E5ECF6",
              "width": 0.5
             },
             "pattern": {
              "fillmode": "overlay",
              "size": 10,
              "solidity": 0.2
             }
            },
            "type": "barpolar"
           }
          ],
          "carpet": [
           {
            "aaxis": {
             "endlinecolor": "#2a3f5f",
             "gridcolor": "white",
             "linecolor": "white",
             "minorgridcolor": "white",
             "startlinecolor": "#2a3f5f"
            },
            "baxis": {
             "endlinecolor": "#2a3f5f",
             "gridcolor": "white",
             "linecolor": "white",
             "minorgridcolor": "white",
             "startlinecolor": "#2a3f5f"
            },
            "type": "carpet"
           }
          ],
          "choropleth": [
           {
            "colorbar": {
             "outlinewidth": 0,
             "ticks": ""
            },
            "type": "choropleth"
           }
          ],
          "contour": [
           {
            "colorbar": {
             "outlinewidth": 0,
             "ticks": ""
            },
            "colorscale": [
             [
              0,
              "#0d0887"
             ],
             [
              0.1111111111111111,
              "#46039f"
             ],
             [
              0.2222222222222222,
              "#7201a8"
             ],
             [
              0.3333333333333333,
              "#9c179e"
             ],
             [
              0.4444444444444444,
              "#bd3786"
             ],
             [
              0.5555555555555556,
              "#d8576b"
             ],
             [
              0.6666666666666666,
              "#ed7953"
             ],
             [
              0.7777777777777778,
              "#fb9f3a"
             ],
             [
              0.8888888888888888,
              "#fdca26"
             ],
             [
              1,
              "#f0f921"
             ]
            ],
            "type": "contour"
           }
          ],
          "contourcarpet": [
           {
            "colorbar": {
             "outlinewidth": 0,
             "ticks": ""
            },
            "type": "contourcarpet"
           }
          ],
          "heatmap": [
           {
            "colorbar": {
             "outlinewidth": 0,
             "ticks": ""
            },
            "colorscale": [
             [
              0,
              "#0d0887"
             ],
             [
              0.1111111111111111,
              "#46039f"
             ],
             [
              0.2222222222222222,
              "#7201a8"
             ],
             [
              0.3333333333333333,
              "#9c179e"
             ],
             [
              0.4444444444444444,
              "#bd3786"
             ],
             [
              0.5555555555555556,
              "#d8576b"
             ],
             [
              0.6666666666666666,
              "#ed7953"
             ],
             [
              0.7777777777777778,
              "#fb9f3a"
             ],
             [
              0.8888888888888888,
              "#fdca26"
             ],
             [
              1,
              "#f0f921"
             ]
            ],
            "type": "heatmap"
           }
          ],
          "histogram": [
           {
            "marker": {
             "pattern": {
              "fillmode": "overlay",
              "size": 10,
              "solidity": 0.2
             }
            },
            "type": "histogram"
           }
          ],
          "histogram2d": [
           {
            "colorbar": {
             "outlinewidth": 0,
             "ticks": ""
            },
            "colorscale": [
             [
              0,
              "#0d0887"
             ],
             [
              0.1111111111111111,
              "#46039f"
             ],
             [
              0.2222222222222222,
              "#7201a8"
             ],
             [
              0.3333333333333333,
              "#9c179e"
             ],
             [
              0.4444444444444444,
              "#bd3786"
             ],
             [
              0.5555555555555556,
              "#d8576b"
             ],
             [
              0.6666666666666666,
              "#ed7953"
             ],
             [
              0.7777777777777778,
              "#fb9f3a"
             ],
             [
              0.8888888888888888,
              "#fdca26"
             ],
             [
              1,
              "#f0f921"
             ]
            ],
            "type": "histogram2d"
           }
          ],
          "histogram2dcontour": [
           {
            "colorbar": {
             "outlinewidth": 0,
             "ticks": ""
            },
            "colorscale": [
             [
              0,
              "#0d0887"
             ],
             [
              0.1111111111111111,
              "#46039f"
             ],
             [
              0.2222222222222222,
              "#7201a8"
             ],
             [
              0.3333333333333333,
              "#9c179e"
             ],
             [
              0.4444444444444444,
              "#bd3786"
             ],
             [
              0.5555555555555556,
              "#d8576b"
             ],
             [
              0.6666666666666666,
              "#ed7953"
             ],
             [
              0.7777777777777778,
              "#fb9f3a"
             ],
             [
              0.8888888888888888,
              "#fdca26"
             ],
             [
              1,
              "#f0f921"
             ]
            ],
            "type": "histogram2dcontour"
           }
          ],
          "mesh3d": [
           {
            "colorbar": {
             "outlinewidth": 0,
             "ticks": ""
            },
            "type": "mesh3d"
           }
          ],
          "parcoords": [
           {
            "line": {
             "colorbar": {
              "outlinewidth": 0,
              "ticks": ""
             }
            },
            "type": "parcoords"
           }
          ],
          "pie": [
           {
            "automargin": true,
            "type": "pie"
           }
          ],
          "scatter": [
           {
            "fillpattern": {
             "fillmode": "overlay",
             "size": 10,
             "solidity": 0.2
            },
            "type": "scatter"
           }
          ],
          "scatter3d": [
           {
            "line": {
             "colorbar": {
              "outlinewidth": 0,
              "ticks": ""
             }
            },
            "marker": {
             "colorbar": {
              "outlinewidth": 0,
              "ticks": ""
             }
            },
            "type": "scatter3d"
           }
          ],
          "scattercarpet": [
           {
            "marker": {
             "colorbar": {
              "outlinewidth": 0,
              "ticks": ""
             }
            },
            "type": "scattercarpet"
           }
          ],
          "scattergeo": [
           {
            "marker": {
             "colorbar": {
              "outlinewidth": 0,
              "ticks": ""
             }
            },
            "type": "scattergeo"
           }
          ],
          "scattergl": [
           {
            "marker": {
             "colorbar": {
              "outlinewidth": 0,
              "ticks": ""
             }
            },
            "type": "scattergl"
           }
          ],
          "scattermap": [
           {
            "marker": {
             "colorbar": {
              "outlinewidth": 0,
              "ticks": ""
             }
            },
            "type": "scattermap"
           }
          ],
          "scattermapbox": [
           {
            "marker": {
             "colorbar": {
              "outlinewidth": 0,
              "ticks": ""
             }
            },
            "type": "scattermapbox"
           }
          ],
          "scatterpolar": [
           {
            "marker": {
             "colorbar": {
              "outlinewidth": 0,
              "ticks": ""
             }
            },
            "type": "scatterpolar"
           }
          ],
          "scatterpolargl": [
           {
            "marker": {
             "colorbar": {
              "outlinewidth": 0,
              "ticks": ""
             }
            },
            "type": "scatterpolargl"
           }
          ],
          "scatterternary": [
           {
            "marker": {
             "colorbar": {
              "outlinewidth": 0,
              "ticks": ""
             }
            },
            "type": "scatterternary"
           }
          ],
          "surface": [
           {
            "colorbar": {
             "outlinewidth": 0,
             "ticks": ""
            },
            "colorscale": [
             [
              0,
              "#0d0887"
             ],
             [
              0.1111111111111111,
              "#46039f"
             ],
             [
              0.2222222222222222,
              "#7201a8"
             ],
             [
              0.3333333333333333,
              "#9c179e"
             ],
             [
              0.4444444444444444,
              "#bd3786"
             ],
             [
              0.5555555555555556,
              "#d8576b"
             ],
             [
              0.6666666666666666,
              "#ed7953"
             ],
             [
              0.7777777777777778,
              "#fb9f3a"
             ],
             [
              0.8888888888888888,
              "#fdca26"
             ],
             [
              1,
              "#f0f921"
             ]
            ],
            "type": "surface"
           }
          ],
          "table": [
           {
            "cells": {
             "fill": {
              "color": "#EBF0F8"
             },
             "line": {
              "color": "white"
             }
            },
            "header": {
             "fill": {
              "color": "#C8D4E3"
             },
             "line": {
              "color": "white"
             }
            },
            "type": "table"
           }
          ]
         },
         "layout": {
          "annotationdefaults": {
           "arrowcolor": "#2a3f5f",
           "arrowhead": 0,
           "arrowwidth": 1
          },
          "autotypenumbers": "strict",
          "coloraxis": {
           "colorbar": {
            "outlinewidth": 0,
            "ticks": ""
           }
          },
          "colorscale": {
           "diverging": [
            [
             0,
             "#8e0152"
            ],
            [
             0.1,
             "#c51b7d"
            ],
            [
             0.2,
             "#de77ae"
            ],
            [
             0.3,
             "#f1b6da"
            ],
            [
             0.4,
             "#fde0ef"
            ],
            [
             0.5,
             "#f7f7f7"
            ],
            [
             0.6,
             "#e6f5d0"
            ],
            [
             0.7,
             "#b8e186"
            ],
            [
             0.8,
             "#7fbc41"
            ],
            [
             0.9,
             "#4d9221"
            ],
            [
             1,
             "#276419"
            ]
           ],
           "sequential": [
            [
             0,
             "#0d0887"
            ],
            [
             0.1111111111111111,
             "#46039f"
            ],
            [
             0.2222222222222222,
             "#7201a8"
            ],
            [
             0.3333333333333333,
             "#9c179e"
            ],
            [
             0.4444444444444444,
             "#bd3786"
            ],
            [
             0.5555555555555556,
             "#d8576b"
            ],
            [
             0.6666666666666666,
             "#ed7953"
            ],
            [
             0.7777777777777778,
             "#fb9f3a"
            ],
            [
             0.8888888888888888,
             "#fdca26"
            ],
            [
             1,
             "#f0f921"
            ]
           ],
           "sequentialminus": [
            [
             0,
             "#0d0887"
            ],
            [
             0.1111111111111111,
             "#46039f"
            ],
            [
             0.2222222222222222,
             "#7201a8"
            ],
            [
             0.3333333333333333,
             "#9c179e"
            ],
            [
             0.4444444444444444,
             "#bd3786"
            ],
            [
             0.5555555555555556,
             "#d8576b"
            ],
            [
             0.6666666666666666,
             "#ed7953"
            ],
            [
             0.7777777777777778,
             "#fb9f3a"
            ],
            [
             0.8888888888888888,
             "#fdca26"
            ],
            [
             1,
             "#f0f921"
            ]
           ]
          },
          "colorway": [
           "#636efa",
           "#EF553B",
           "#00cc96",
           "#ab63fa",
           "#FFA15A",
           "#19d3f3",
           "#FF6692",
           "#B6E880",
           "#FF97FF",
           "#FECB52"
          ],
          "font": {
           "color": "#2a3f5f"
          },
          "geo": {
           "bgcolor": "white",
           "lakecolor": "white",
           "landcolor": "#E5ECF6",
           "showlakes": true,
           "showland": true,
           "subunitcolor": "white"
          },
          "hoverlabel": {
           "align": "left"
          },
          "hovermode": "closest",
          "mapbox": {
           "style": "light"
          },
          "paper_bgcolor": "white",
          "plot_bgcolor": "#E5ECF6",
          "polar": {
           "angularaxis": {
            "gridcolor": "white",
            "linecolor": "white",
            "ticks": ""
           },
           "bgcolor": "#E5ECF6",
           "radialaxis": {
            "gridcolor": "white",
            "linecolor": "white",
            "ticks": ""
           }
          },
          "scene": {
           "xaxis": {
            "backgroundcolor": "#E5ECF6",
            "gridcolor": "white",
            "gridwidth": 2,
            "linecolor": "white",
            "showbackground": true,
            "ticks": "",
            "zerolinecolor": "white"
           },
           "yaxis": {
            "backgroundcolor": "#E5ECF6",
            "gridcolor": "white",
            "gridwidth": 2,
            "linecolor": "white",
            "showbackground": true,
            "ticks": "",
            "zerolinecolor": "white"
           },
           "zaxis": {
            "backgroundcolor": "#E5ECF6",
            "gridcolor": "white",
            "gridwidth": 2,
            "linecolor": "white",
            "showbackground": true,
            "ticks": "",
            "zerolinecolor": "white"
           }
          },
          "shapedefaults": {
           "line": {
            "color": "#2a3f5f"
           }
          },
          "ternary": {
           "aaxis": {
            "gridcolor": "white",
            "linecolor": "white",
            "ticks": ""
           },
           "baxis": {
            "gridcolor": "white",
            "linecolor": "white",
            "ticks": ""
           },
           "bgcolor": "#E5ECF6",
           "caxis": {
            "gridcolor": "white",
            "linecolor": "white",
            "ticks": ""
           }
          },
          "title": {
           "x": 0.05
          },
          "xaxis": {
           "automargin": true,
           "gridcolor": "white",
           "linecolor": "white",
           "ticks": "",
           "title": {
            "standoff": 15
           },
           "zerolinecolor": "white",
           "zerolinewidth": 2
          },
          "yaxis": {
           "automargin": true,
           "gridcolor": "white",
           "linecolor": "white",
           "ticks": "",
           "title": {
            "standoff": 15
           },
           "zerolinecolor": "white",
           "zerolinewidth": 2
          }
         }
        },
        "title": {
         "text": "Number of Matches per Season"
        },
        "xaxis": {
         "anchor": "y",
         "domain": [
          0,
          1
         ],
         "title": {
          "text": "season"
         }
        },
        "yaxis": {
         "anchor": "x",
         "domain": [
          0,
          1
         ],
         "title": {
          "text": "match_count"
         }
        }
       }
      }
     },
     "metadata": {},
     "output_type": "display_data"
    }
   ],
   "source": [
    "# 1-1. 라이브러리 임포트 (Import Libraries)\n",
    "import pandas as pd\n",
    "import numpy as np\n",
    "import plotly.express as px\n",
    "import plotly.graph_objects as go\n",
    "\n",
    "# 1-2. 데이터 로드 및 'date' 컬럼 타입 변환 (Load Data and Convert 'date' column)\n",
    "df = pd.read_csv('la_liga_2014_2025_all_matches_final.csv')\n",
    "df['date'] = pd.to_datetime(df['date'])\n",
    "\n",
    "# 1-3. 정확한 시즌 라벨링 함수 정의 (Define Accurate Season Labeling Function)\n",
    "# 제공해주신 시즌 정보를 바탕으로, 날짜가 어느 시즌에 속하는지 구분합니다.\n",
    "season_end_dates = {\n",
    "    '2014-2015': '2015-05-24', '2015-2016': '2016-05-16', '2016-2017': '2017-05-22',\n",
    "    '2017-2018': '2018-05-21', '2018-2019': '2019-05-27', '2019-2020': '2020-07-20',\n",
    "    '2020-2021': '2021-05-24', '2021-2022': '2022-05-23', '2022-2023': '2023-06-05',\n",
    "    '2023-2024': '2024-05-27', '2024-2025': '2025-05-26'\n",
    "}\n",
    "# 날짜 문자열을 datetime 객체로 변환합니다.\n",
    "season_end_dates_dt = {season: pd.to_datetime(end_date) for season, end_date in season_end_dates.items()}\n",
    "\n",
    "def get_season(date):\n",
    "    for season, end_date in season_end_dates_dt.items():\n",
    "        if date <= end_date:\n",
    "            # 해당 시즌의 시작일을 찾습니다. (이전 시즌의 종료일 + 1일)\n",
    "            previous_season_year = int(season.split('-')[0]) - 1\n",
    "            previous_season = f\"{previous_season_year}-{previous_season_year+1}\"\n",
    "            start_date = season_end_dates_dt.get(previous_season, pd.to_datetime('1900-01-01')) + pd.Timedelta(days=1)\n",
    "            \n",
    "            if date >= start_date:\n",
    "                return season\n",
    "    return \"Unknown\"\n",
    "\n",
    "df['season'] = df['date'].apply(get_season)\n",
    "\n",
    "print(\"Data loading and season labeling complete.\")\n",
    "\n",
    "# 1-4. 시즌별 경기 수 확인 (Verify Match Count per Season)\n",
    "# La Liga는 20개 팀이 홈&어웨이로 경기를 치르므로, 한 시즌은 (20 * 19) / 2 = 190경기가 아닌, 팀당 38경기씩 총 380경기가 맞습니다.\n",
    "# (팀당 38경기 * 20팀) / 2 = 380 경기.\n",
    "# 이 검증을 통해 데이터가 누락 없이 잘 포함되었는지 확인합니다.\n",
    "match_counts = df.groupby('season').size().reset_index(name='match_count')\n",
    "print(\"\\n--- Season by Match Count ---\")\n",
    "print(match_counts)\n",
    "\n",
    "# 시각화를 통해 한눈에 확인\n",
    "fig_match_counts = px.bar(match_counts, x='season', y='match_count', text_auto=True,\n",
    "                          title='Number of Matches per Season')\n",
    "fig_match_counts.add_hline(y=380, line_dash=\"dash\", line_color=\"red\", annotation_text=\"Standard Line (380 Matches)\")\n",
    "fig_match_counts.show()"
   ]
  },
  {
   "cell_type": "markdown",
   "metadata": {},
   "source": [
    "### 1. EDA 결과 해석 (Interpretation of EDA Results)\n",
    "\n",
    "- English: The dataset is clean and robust, containing 4,180 match records with 20 columns and no missing values. \n",
    "\n",
    "- Korean: 이 데이터셋은 4,180개의 경기 기록을 담고 있으며 결측치가 전혀 없는 매우 깨끗한 데이터입니다."
   ]
  },
  {
   "cell_type": "markdown",
   "metadata": {},
   "source": [
    "# 2단계: 탐색적 데이터 분석 (EDA - Exploratory Data Analysis)"
   ]
  },
  {
   "cell_type": "code",
   "execution_count": 2,
   "metadata": {},
   "outputs": [
    {
     "name": "stdout",
     "output_type": "stream",
     "text": [
      "--- Data Basic Information ---\n",
      "<class 'pandas.core.frame.DataFrame'>\n",
      "RangeIndex: 4180 entries, 0 to 4179\n",
      "Data columns (total 20 columns):\n",
      " #   Column         Non-Null Count  Dtype         \n",
      "---  ------         --------------  -----         \n",
      " 0   match_id       4180 non-null   int64         \n",
      " 1   date           4180 non-null   datetime64[ns]\n",
      " 2   home_team      4180 non-null   object        \n",
      " 3   away_team      4180 non-null   object        \n",
      " 4   home_goals     4180 non-null   int64         \n",
      " 5   away_goals     4180 non-null   int64         \n",
      " 6   home_xg        4180 non-null   float64       \n",
      " 7   away_xg        4180 non-null   float64       \n",
      " 8   home_shots     4180 non-null   int64         \n",
      " 9   away_shots     4180 non-null   int64         \n",
      " 10  home_sot       4180 non-null   int64         \n",
      " 11  away_sot       4180 non-null   int64         \n",
      " 12  home_deep      4180 non-null   int64         \n",
      " 13  away_deep      4180 non-null   int64         \n",
      " 14  home_ppda      4180 non-null   float64       \n",
      " 15  away_ppda      4180 non-null   float64       \n",
      " 16  home_xpts      4180 non-null   float64       \n",
      " 17  away_xpts      4180 non-null   float64       \n",
      " 18  season_mapped  4180 non-null   object        \n",
      " 19  season         4180 non-null   object        \n",
      "dtypes: datetime64[ns](1), float64(6), int64(9), object(4)\n",
      "memory usage: 653.2+ KB\n",
      "\n",
      "\n",
      "--- Descriptive Statistics ---\n",
      "           match_id                           date   home_goals   away_goals  \\\n",
      "count   4180.000000                           4180  4180.000000  4180.000000   \n",
      "mean   12945.738756  2020-01-14 04:45:44.712918272     1.494258     1.132057   \n",
      "min     1399.000000            2014-08-23 18:00:00     0.000000     0.000000   \n",
      "25%     5749.750000            2017-04-02 14:11:15     1.000000     0.000000   \n",
      "50%    12212.500000            2020-01-11 20:00:00     1.000000     1.000000   \n",
      "75%    19056.250000            2022-10-19 17:15:00     2.000000     2.000000   \n",
      "max    27361.000000            2025-05-25 19:00:00    10.000000     8.000000   \n",
      "std     7809.695904                            NaN     1.297453     1.120957   \n",
      "\n",
      "           home_xg      away_xg   home_shots   away_shots     home_sot  \\\n",
      "count  4180.000000  4180.000000  4180.000000  4180.000000  4180.000000   \n",
      "mean      1.544172     1.147610    13.222727    10.441148     4.647368   \n",
      "min       0.050000     0.000000     2.000000     0.000000     0.000000   \n",
      "25%       0.860000     0.560000    10.000000     7.000000     3.000000   \n",
      "50%       1.380000     0.980000    13.000000    10.000000     4.000000   \n",
      "75%       2.040000     1.560000    16.000000    13.000000     6.000000   \n",
      "max       6.610000     6.190000    40.000000    35.000000    17.000000   \n",
      "std       0.923703     0.784594     4.954728     4.335381     2.516289   \n",
      "\n",
      "          away_sot    home_deep    away_deep    home_ppda    away_ppda  \\\n",
      "count  4180.000000  4180.000000  4180.000000  4180.000000  4180.000000   \n",
      "mean      3.636364     6.413397     4.894258     9.832672    11.264766   \n",
      "min       0.000000     0.000000     0.000000     2.270000     2.080000   \n",
      "25%       2.000000     3.000000     2.000000     6.520000     7.310000   \n",
      "50%       3.000000     6.000000     4.000000     8.850000     9.960000   \n",
      "75%       5.000000     8.000000     7.000000    11.960000    13.572500   \n",
      "max      15.000000    42.000000    28.000000    50.290000    91.500000   \n",
      "std       2.156104     4.370758     3.655258     4.784840     5.924630   \n",
      "\n",
      "         home_xpts    away_xpts  \n",
      "count  4180.000000  4180.000000  \n",
      "mean      1.630459     1.130842  \n",
      "min       0.000000     0.000000  \n",
      "25%       0.970000     0.460000  \n",
      "50%       1.670000     1.000000  \n",
      "75%       2.330000     1.720000  \n",
      "max       3.000000     3.000000  \n",
      "std       0.814479     0.785965  \n",
      "\n",
      "\n",
      "--- Missing Value Check ---\n",
      "match_id         0\n",
      "date             0\n",
      "home_team        0\n",
      "away_team        0\n",
      "home_goals       0\n",
      "away_goals       0\n",
      "home_xg          0\n",
      "away_xg          0\n",
      "home_shots       0\n",
      "away_shots       0\n",
      "home_sot         0\n",
      "away_sot         0\n",
      "home_deep        0\n",
      "away_deep        0\n",
      "home_ppda        0\n",
      "away_ppda        0\n",
      "home_xpts        0\n",
      "away_xpts        0\n",
      "season_mapped    0\n",
      "season           0\n",
      "dtype: int64\n"
     ]
    },
    {
     "data": {
      "application/vnd.plotly.v1+json": {
       "config": {
        "plotlyServerURL": "https://plot.ly"
       },
       "data": [
        {
         "coloraxis": "coloraxis",
         "hovertemplate": "x: %{x}<br>y: %{y}<br>color: %{z}<extra></extra>",
         "name": "0",
         "texttemplate": "%{z}",
         "type": "heatmap",
         "x": [
          "home_goals",
          "away_goals",
          "home_xg",
          "away_xg",
          "home_shots",
          "away_shots",
          "home_sot",
          "away_sot",
          "home_deep",
          "away_deep",
          "home_ppda",
          "away_ppda"
         ],
         "xaxis": "x",
         "y": [
          "home_goals",
          "away_goals",
          "home_xg",
          "away_xg",
          "home_shots",
          "away_shots",
          "home_sot",
          "away_sot",
          "home_deep",
          "away_deep",
          "home_ppda",
          "away_ppda"
         ],
         "yaxis": "y",
         "z": {
          "bdata": "AAAAAAAA8D9JlsSlmUmkvxj97X/CNuQ/7IpbJ5IJvb92RraVumvQPwIvJtnAyaS/X+ik7ved4j9Cy8WdQAiuv4OJUPFay9Q/P7jJi7h7vb9+zwJuGACEvyAbMHFI2MQ/SZbEpZlJpL8AAAAAAADwP0QWh3oCOLW/RfZC3l5x5D+zygK0NDJrP/zR5XJBL9I/+SMBpEp6n78XpNLw8uDiP8JegqdtCau/RGVLaaOM0z+dNpO+DpO7P/RZvh7ROp+/GP3tf8I25D9EFod6Aji1vwAAAAAAAPA/21BV1Vwaw7+FtZGedXLjP5ZtJQmlrcG/l7vBMueD5T+81MuXzwDAvxJ4BlK+bOE/cjMirPIjx78uR6T91lm6vz1g5kBG8dE/7IpbJ5IJvb9F9kLeXnHkP9tQVdVcGsO/AAAAAAAA8D/xYvgMfjPAv7l5/OHQneM/Z4CX4RGLu78Fp5ZLSSjlP2c5UFfVHsG/L9UoMMnI4D/bVvk+hS/NP0HrwGTOMbm/dka2lbpr0D+zygK0NDJrP4W1kZ51cuM/8WL4DH4zwL8AAAAAAADwP/NgiN1Y9c+/jLRbUrP15D9GWm+MMA3AvyuoGBWI6uE/2dSlkukOzL+wCjHjtPDMvw9BQLcmMNY/Ai8m2cDJpL/80eVyQS/SP5ZtJQmlrcG/uXn84dCd4z/zYIjdWPXPvwAAAAAAAPA/qnZd868Awb+X9o6gmJvkP8Pq2AY3Psq/qs3ThP6G4T+PJJbH9nbVP/pTEzG9nsy/X+ik7ved4j/5IwGkSnqfv5e7wTLng+U/Z4CX4RGLu7+MtFtSs/XkP6p2XfOvAMG/AAAAAAAA8D9iTl8W62O2vyMQOcoCqd4/aNZoLOw4xb/74LN71yq8v6PJxq2tYNE/QsvFnUAIrr8XpNLw8uDiP7zUy5fPAMC/BaeWS0ko5T9GWm+MMA3Av5f2jqCYm+Q/Yk5fFutjtr8AAAAAAADwP5gCifNZiMC/7AKd62Gr3T+NRHp/nbDNP2QsvXU44by/g4lQ8VrL1D/CXoKnbQmrvxJ4BlK+bOE/ZzlQV9Uewb8rqBgViOrhP8Pq2AY3Psq/IxA5ygKp3j+YAonzWYjAvwAAAAAAAPA/41cmFu1Ayb/fpJLmdczGvzB/i7Og4dk/P7jJi7h7vb9EZUtpo4zTP3IzIqzyI8e/L9UoMMnI4D/Z1KWS6Q7Mv6rN04T+huE/aNZoLOw4xb/sAp3rYavdP+NXJhbtQMm/AAAAAAAA8D/jsR71wcLZP5wOMbzWHMq/fs8CbhgAhL+dNpO+DpO7Py5HpP3WWbq/21b5PoUvzT+wCjHjtPDMv48klsf2dtU/++Cze9cqvL+NRHp/nbDNP9+kkuZ1zMa/47Ee9cHC2T8AAAAAAADwP4u1TT/9ALq/IBswcUjYxD/0Wb4e0Tqfvz1g5kBG8dE/QevAZM4xub8PQUC3JjDWP/pTEzG9nsy/o8nGra1g0T9kLL11OOG8vzB/i7Og4dk/nA4xvNYcyr+LtU0//QC6vwAAAAAAAPA/",
          "dtype": "f8",
          "shape": "12, 12"
         }
        }
       ],
       "layout": {
        "coloraxis": {
         "colorscale": [
          [
           0,
           "#0d0887"
          ],
          [
           0.1111111111111111,
           "#46039f"
          ],
          [
           0.2222222222222222,
           "#7201a8"
          ],
          [
           0.3333333333333333,
           "#9c179e"
          ],
          [
           0.4444444444444444,
           "#bd3786"
          ],
          [
           0.5555555555555556,
           "#d8576b"
          ],
          [
           0.6666666666666666,
           "#ed7953"
          ],
          [
           0.7777777777777778,
           "#fb9f3a"
          ],
          [
           0.8888888888888888,
           "#fdca26"
          ],
          [
           1,
           "#f0f921"
          ]
         ]
        },
        "template": {
         "data": {
          "bar": [
           {
            "error_x": {
             "color": "#2a3f5f"
            },
            "error_y": {
             "color": "#2a3f5f"
            },
            "marker": {
             "line": {
              "color": "#E5ECF6",
              "width": 0.5
             },
             "pattern": {
              "fillmode": "overlay",
              "size": 10,
              "solidity": 0.2
             }
            },
            "type": "bar"
           }
          ],
          "barpolar": [
           {
            "marker": {
             "line": {
              "color": "#E5ECF6",
              "width": 0.5
             },
             "pattern": {
              "fillmode": "overlay",
              "size": 10,
              "solidity": 0.2
             }
            },
            "type": "barpolar"
           }
          ],
          "carpet": [
           {
            "aaxis": {
             "endlinecolor": "#2a3f5f",
             "gridcolor": "white",
             "linecolor": "white",
             "minorgridcolor": "white",
             "startlinecolor": "#2a3f5f"
            },
            "baxis": {
             "endlinecolor": "#2a3f5f",
             "gridcolor": "white",
             "linecolor": "white",
             "minorgridcolor": "white",
             "startlinecolor": "#2a3f5f"
            },
            "type": "carpet"
           }
          ],
          "choropleth": [
           {
            "colorbar": {
             "outlinewidth": 0,
             "ticks": ""
            },
            "type": "choropleth"
           }
          ],
          "contour": [
           {
            "colorbar": {
             "outlinewidth": 0,
             "ticks": ""
            },
            "colorscale": [
             [
              0,
              "#0d0887"
             ],
             [
              0.1111111111111111,
              "#46039f"
             ],
             [
              0.2222222222222222,
              "#7201a8"
             ],
             [
              0.3333333333333333,
              "#9c179e"
             ],
             [
              0.4444444444444444,
              "#bd3786"
             ],
             [
              0.5555555555555556,
              "#d8576b"
             ],
             [
              0.6666666666666666,
              "#ed7953"
             ],
             [
              0.7777777777777778,
              "#fb9f3a"
             ],
             [
              0.8888888888888888,
              "#fdca26"
             ],
             [
              1,
              "#f0f921"
             ]
            ],
            "type": "contour"
           }
          ],
          "contourcarpet": [
           {
            "colorbar": {
             "outlinewidth": 0,
             "ticks": ""
            },
            "type": "contourcarpet"
           }
          ],
          "heatmap": [
           {
            "colorbar": {
             "outlinewidth": 0,
             "ticks": ""
            },
            "colorscale": [
             [
              0,
              "#0d0887"
             ],
             [
              0.1111111111111111,
              "#46039f"
             ],
             [
              0.2222222222222222,
              "#7201a8"
             ],
             [
              0.3333333333333333,
              "#9c179e"
             ],
             [
              0.4444444444444444,
              "#bd3786"
             ],
             [
              0.5555555555555556,
              "#d8576b"
             ],
             [
              0.6666666666666666,
              "#ed7953"
             ],
             [
              0.7777777777777778,
              "#fb9f3a"
             ],
             [
              0.8888888888888888,
              "#fdca26"
             ],
             [
              1,
              "#f0f921"
             ]
            ],
            "type": "heatmap"
           }
          ],
          "histogram": [
           {
            "marker": {
             "pattern": {
              "fillmode": "overlay",
              "size": 10,
              "solidity": 0.2
             }
            },
            "type": "histogram"
           }
          ],
          "histogram2d": [
           {
            "colorbar": {
             "outlinewidth": 0,
             "ticks": ""
            },
            "colorscale": [
             [
              0,
              "#0d0887"
             ],
             [
              0.1111111111111111,
              "#46039f"
             ],
             [
              0.2222222222222222,
              "#7201a8"
             ],
             [
              0.3333333333333333,
              "#9c179e"
             ],
             [
              0.4444444444444444,
              "#bd3786"
             ],
             [
              0.5555555555555556,
              "#d8576b"
             ],
             [
              0.6666666666666666,
              "#ed7953"
             ],
             [
              0.7777777777777778,
              "#fb9f3a"
             ],
             [
              0.8888888888888888,
              "#fdca26"
             ],
             [
              1,
              "#f0f921"
             ]
            ],
            "type": "histogram2d"
           }
          ],
          "histogram2dcontour": [
           {
            "colorbar": {
             "outlinewidth": 0,
             "ticks": ""
            },
            "colorscale": [
             [
              0,
              "#0d0887"
             ],
             [
              0.1111111111111111,
              "#46039f"
             ],
             [
              0.2222222222222222,
              "#7201a8"
             ],
             [
              0.3333333333333333,
              "#9c179e"
             ],
             [
              0.4444444444444444,
              "#bd3786"
             ],
             [
              0.5555555555555556,
              "#d8576b"
             ],
             [
              0.6666666666666666,
              "#ed7953"
             ],
             [
              0.7777777777777778,
              "#fb9f3a"
             ],
             [
              0.8888888888888888,
              "#fdca26"
             ],
             [
              1,
              "#f0f921"
             ]
            ],
            "type": "histogram2dcontour"
           }
          ],
          "mesh3d": [
           {
            "colorbar": {
             "outlinewidth": 0,
             "ticks": ""
            },
            "type": "mesh3d"
           }
          ],
          "parcoords": [
           {
            "line": {
             "colorbar": {
              "outlinewidth": 0,
              "ticks": ""
             }
            },
            "type": "parcoords"
           }
          ],
          "pie": [
           {
            "automargin": true,
            "type": "pie"
           }
          ],
          "scatter": [
           {
            "fillpattern": {
             "fillmode": "overlay",
             "size": 10,
             "solidity": 0.2
            },
            "type": "scatter"
           }
          ],
          "scatter3d": [
           {
            "line": {
             "colorbar": {
              "outlinewidth": 0,
              "ticks": ""
             }
            },
            "marker": {
             "colorbar": {
              "outlinewidth": 0,
              "ticks": ""
             }
            },
            "type": "scatter3d"
           }
          ],
          "scattercarpet": [
           {
            "marker": {
             "colorbar": {
              "outlinewidth": 0,
              "ticks": ""
             }
            },
            "type": "scattercarpet"
           }
          ],
          "scattergeo": [
           {
            "marker": {
             "colorbar": {
              "outlinewidth": 0,
              "ticks": ""
             }
            },
            "type": "scattergeo"
           }
          ],
          "scattergl": [
           {
            "marker": {
             "colorbar": {
              "outlinewidth": 0,
              "ticks": ""
             }
            },
            "type": "scattergl"
           }
          ],
          "scattermap": [
           {
            "marker": {
             "colorbar": {
              "outlinewidth": 0,
              "ticks": ""
             }
            },
            "type": "scattermap"
           }
          ],
          "scattermapbox": [
           {
            "marker": {
             "colorbar": {
              "outlinewidth": 0,
              "ticks": ""
             }
            },
            "type": "scattermapbox"
           }
          ],
          "scatterpolar": [
           {
            "marker": {
             "colorbar": {
              "outlinewidth": 0,
              "ticks": ""
             }
            },
            "type": "scatterpolar"
           }
          ],
          "scatterpolargl": [
           {
            "marker": {
             "colorbar": {
              "outlinewidth": 0,
              "ticks": ""
             }
            },
            "type": "scatterpolargl"
           }
          ],
          "scatterternary": [
           {
            "marker": {
             "colorbar": {
              "outlinewidth": 0,
              "ticks": ""
             }
            },
            "type": "scatterternary"
           }
          ],
          "surface": [
           {
            "colorbar": {
             "outlinewidth": 0,
             "ticks": ""
            },
            "colorscale": [
             [
              0,
              "#0d0887"
             ],
             [
              0.1111111111111111,
              "#46039f"
             ],
             [
              0.2222222222222222,
              "#7201a8"
             ],
             [
              0.3333333333333333,
              "#9c179e"
             ],
             [
              0.4444444444444444,
              "#bd3786"
             ],
             [
              0.5555555555555556,
              "#d8576b"
             ],
             [
              0.6666666666666666,
              "#ed7953"
             ],
             [
              0.7777777777777778,
              "#fb9f3a"
             ],
             [
              0.8888888888888888,
              "#fdca26"
             ],
             [
              1,
              "#f0f921"
             ]
            ],
            "type": "surface"
           }
          ],
          "table": [
           {
            "cells": {
             "fill": {
              "color": "#EBF0F8"
             },
             "line": {
              "color": "white"
             }
            },
            "header": {
             "fill": {
              "color": "#C8D4E3"
             },
             "line": {
              "color": "white"
             }
            },
            "type": "table"
           }
          ]
         },
         "layout": {
          "annotationdefaults": {
           "arrowcolor": "#2a3f5f",
           "arrowhead": 0,
           "arrowwidth": 1
          },
          "autotypenumbers": "strict",
          "coloraxis": {
           "colorbar": {
            "outlinewidth": 0,
            "ticks": ""
           }
          },
          "colorscale": {
           "diverging": [
            [
             0,
             "#8e0152"
            ],
            [
             0.1,
             "#c51b7d"
            ],
            [
             0.2,
             "#de77ae"
            ],
            [
             0.3,
             "#f1b6da"
            ],
            [
             0.4,
             "#fde0ef"
            ],
            [
             0.5,
             "#f7f7f7"
            ],
            [
             0.6,
             "#e6f5d0"
            ],
            [
             0.7,
             "#b8e186"
            ],
            [
             0.8,
             "#7fbc41"
            ],
            [
             0.9,
             "#4d9221"
            ],
            [
             1,
             "#276419"
            ]
           ],
           "sequential": [
            [
             0,
             "#0d0887"
            ],
            [
             0.1111111111111111,
             "#46039f"
            ],
            [
             0.2222222222222222,
             "#7201a8"
            ],
            [
             0.3333333333333333,
             "#9c179e"
            ],
            [
             0.4444444444444444,
             "#bd3786"
            ],
            [
             0.5555555555555556,
             "#d8576b"
            ],
            [
             0.6666666666666666,
             "#ed7953"
            ],
            [
             0.7777777777777778,
             "#fb9f3a"
            ],
            [
             0.8888888888888888,
             "#fdca26"
            ],
            [
             1,
             "#f0f921"
            ]
           ],
           "sequentialminus": [
            [
             0,
             "#0d0887"
            ],
            [
             0.1111111111111111,
             "#46039f"
            ],
            [
             0.2222222222222222,
             "#7201a8"
            ],
            [
             0.3333333333333333,
             "#9c179e"
            ],
            [
             0.4444444444444444,
             "#bd3786"
            ],
            [
             0.5555555555555556,
             "#d8576b"
            ],
            [
             0.6666666666666666,
             "#ed7953"
            ],
            [
             0.7777777777777778,
             "#fb9f3a"
            ],
            [
             0.8888888888888888,
             "#fdca26"
            ],
            [
             1,
             "#f0f921"
            ]
           ]
          },
          "colorway": [
           "#636efa",
           "#EF553B",
           "#00cc96",
           "#ab63fa",
           "#FFA15A",
           "#19d3f3",
           "#FF6692",
           "#B6E880",
           "#FF97FF",
           "#FECB52"
          ],
          "font": {
           "color": "#2a3f5f"
          },
          "geo": {
           "bgcolor": "white",
           "lakecolor": "white",
           "landcolor": "#E5ECF6",
           "showlakes": true,
           "showland": true,
           "subunitcolor": "white"
          },
          "hoverlabel": {
           "align": "left"
          },
          "hovermode": "closest",
          "mapbox": {
           "style": "light"
          },
          "paper_bgcolor": "white",
          "plot_bgcolor": "#E5ECF6",
          "polar": {
           "angularaxis": {
            "gridcolor": "white",
            "linecolor": "white",
            "ticks": ""
           },
           "bgcolor": "#E5ECF6",
           "radialaxis": {
            "gridcolor": "white",
            "linecolor": "white",
            "ticks": ""
           }
          },
          "scene": {
           "xaxis": {
            "backgroundcolor": "#E5ECF6",
            "gridcolor": "white",
            "gridwidth": 2,
            "linecolor": "white",
            "showbackground": true,
            "ticks": "",
            "zerolinecolor": "white"
           },
           "yaxis": {
            "backgroundcolor": "#E5ECF6",
            "gridcolor": "white",
            "gridwidth": 2,
            "linecolor": "white",
            "showbackground": true,
            "ticks": "",
            "zerolinecolor": "white"
           },
           "zaxis": {
            "backgroundcolor": "#E5ECF6",
            "gridcolor": "white",
            "gridwidth": 2,
            "linecolor": "white",
            "showbackground": true,
            "ticks": "",
            "zerolinecolor": "white"
           }
          },
          "shapedefaults": {
           "line": {
            "color": "#2a3f5f"
           }
          },
          "ternary": {
           "aaxis": {
            "gridcolor": "white",
            "linecolor": "white",
            "ticks": ""
           },
           "baxis": {
            "gridcolor": "white",
            "linecolor": "white",
            "ticks": ""
           },
           "bgcolor": "#E5ECF6",
           "caxis": {
            "gridcolor": "white",
            "linecolor": "white",
            "ticks": ""
           }
          },
          "title": {
           "x": 0.05
          },
          "xaxis": {
           "automargin": true,
           "gridcolor": "white",
           "linecolor": "white",
           "ticks": "",
           "title": {
            "standoff": 15
           },
           "zerolinecolor": "white",
           "zerolinewidth": 2
          },
          "yaxis": {
           "automargin": true,
           "gridcolor": "white",
           "linecolor": "white",
           "ticks": "",
           "title": {
            "standoff": 15
           },
           "zerolinecolor": "white",
           "zerolinewidth": 2
          }
         }
        },
        "title": {
         "text": "Correlation Heatmap of Key Variables"
        },
        "xaxis": {
         "anchor": "y",
         "domain": [
          0,
          1
         ]
        },
        "yaxis": {
         "anchor": "x",
         "autorange": "reversed",
         "domain": [
          0,
          1
         ]
        }
       }
      }
     },
     "metadata": {},
     "output_type": "display_data"
    }
   ],
   "source": [
    "# 2-1. 데이터 기본 정보 확인 (Initial Data Inspection)\n",
    "print(\"--- Data Basic Information ---\")\n",
    "df.info()\n",
    "\n",
    "print(\"\\n\\n--- Descriptive Statistics ---\")\n",
    "print(df.describe())\n",
    "\n",
    "print(\"\\n\\n--- Missing Value Check ---\")\n",
    "print(df.isnull().sum())\n",
    "\n",
    "# 2-2. 주요 변수 간 상관관계 분석 (Correlation Analysis of Key Variables)\n",
    "corr_matrix = df[['home_goals', 'away_goals', 'home_xg', 'away_xg', 'home_shots', 'away_shots', 'home_sot', 'away_sot', 'home_deep', 'away_deep', 'home_ppda', 'away_ppda']].corr()\n",
    "\n",
    "fig_corr = px.imshow(corr_matrix, text_auto=True, aspect=\"auto\",\n",
    "                     title=\"Correlation Heatmap of Key Variables\")\n",
    "fig_corr.show()"
   ]
  },
  {
   "cell_type": "markdown",
   "metadata": {},
   "source": [
    "### 2. Correlation Heatmap of Key Variables (주요 변수 간 상관관계 히트맵)\n",
    "\n",
    "#### English\n",
    "\t•\tThe strongest relationships appear between expected goals (xG) and shots on target (SoT) for both home and away teams (≈0.66–0.67).\n",
    "\t•\tThis is intuitive: the more accurate shots a team produces, the higher its expected goals.\n",
    "\t•\tAlso, total shots and shots on target show a strong correlation (≈0.64–0.65), since SoT is a subset of shots.\n",
    "\t•\tFinally, away xG and away goals correlate at 0.64, showing that xG is a meaningful predictor of actual scoring.\n",
    "\n",
    "#### Korean (한국어)\n",
    "\t•\t가장 강한 상관관계는 기대 득점(xG) 과 유효 슈팅(SoT) 사이에서 나타났습니다 (약 0.66–0.67).\n",
    "\t•\t이는 직관적으로 타당합니다. 유효 슈팅이 많을수록 득점 기대값이 높아지기 때문입니다.\n",
    "\t•\t또한 총 슈팅 수와 유효 슈팅 수 역시 강한 상관관계(0.64~0.65)를 보였습니다. 이는 유효 슈팅이 슈팅의 부분집합이기 때문입니다.\n",
    "\t•\t마지막으로, 원정 xG와 원정 득점 간 상관관계가 0.64로 나타나, xG가 실제 득점을 설명하는 데 중요한 지표임을 확인할 수 있습니다. "
   ]
  },
  {
   "cell_type": "markdown",
   "metadata": {},
   "source": [
    "#  3단계: La Liga 전체 트렌드 분석 (League-wide Trend Analysis)"
   ]
  },
  {
   "cell_type": "code",
   "execution_count": 3,
   "metadata": {},
   "outputs": [
    {
     "name": "stderr",
     "output_type": "stream",
     "text": [
      "/var/folders/yl/3cpbqsq96s70dm9lcf8p9c_00000gn/T/ipykernel_3532/3018619177.py:2: FutureWarning:\n",
      "\n",
      "DataFrameGroupBy.apply operated on the grouping columns. This behavior is deprecated, and in a future version of pandas the grouping columns will be excluded from the operation. Either pass `include_groups=False` to exclude the groupings or explicitly select the grouping columns after groupby to silence this warning.\n",
      "\n"
     ]
    },
    {
     "data": {
      "application/vnd.plotly.v1+json": {
       "config": {
        "plotlyServerURL": "https://plot.ly"
       },
       "data": [
        {
         "hovertemplate": "Season=%{x}<br>Goals per Match=%{y}<extra></extra>",
         "legendgroup": "",
         "line": {
          "color": "#636efa",
          "dash": "solid"
         },
         "marker": {
          "symbol": "circle"
         },
         "mode": "lines+markers",
         "name": "",
         "orientation": "v",
         "showlegend": false,
         "type": "scatter",
         "x": [
          "2014-2015",
          "2015-2016",
          "2016-2017",
          "2017-2018",
          "2018-2019",
          "2019-2020",
          "2020-2021",
          "2021-2022",
          "2022-2023",
          "2023-2024",
          "2024-2025"
         ],
         "xaxis": "x",
         "y": {
          "bdata": "4HNLnPo9BUBUv+eWOPUFQJc49XtuiQdA7ViBMNKOBUAeKxBG2rEEQE79nlvi1ANAA2GkHSsQBEBWIIy0YwUEQK+hvIbyGgRAh/IaymsoBUAor6G8hvIEQA==",
          "dtype": "f8"
         },
         "yaxis": "y"
        }
       ],
       "layout": {
        "legend": {
         "tracegroupgap": 0
        },
        "template": {
         "data": {
          "bar": [
           {
            "error_x": {
             "color": "#2a3f5f"
            },
            "error_y": {
             "color": "#2a3f5f"
            },
            "marker": {
             "line": {
              "color": "#E5ECF6",
              "width": 0.5
             },
             "pattern": {
              "fillmode": "overlay",
              "size": 10,
              "solidity": 0.2
             }
            },
            "type": "bar"
           }
          ],
          "barpolar": [
           {
            "marker": {
             "line": {
              "color": "#E5ECF6",
              "width": 0.5
             },
             "pattern": {
              "fillmode": "overlay",
              "size": 10,
              "solidity": 0.2
             }
            },
            "type": "barpolar"
           }
          ],
          "carpet": [
           {
            "aaxis": {
             "endlinecolor": "#2a3f5f",
             "gridcolor": "white",
             "linecolor": "white",
             "minorgridcolor": "white",
             "startlinecolor": "#2a3f5f"
            },
            "baxis": {
             "endlinecolor": "#2a3f5f",
             "gridcolor": "white",
             "linecolor": "white",
             "minorgridcolor": "white",
             "startlinecolor": "#2a3f5f"
            },
            "type": "carpet"
           }
          ],
          "choropleth": [
           {
            "colorbar": {
             "outlinewidth": 0,
             "ticks": ""
            },
            "type": "choropleth"
           }
          ],
          "contour": [
           {
            "colorbar": {
             "outlinewidth": 0,
             "ticks": ""
            },
            "colorscale": [
             [
              0,
              "#0d0887"
             ],
             [
              0.1111111111111111,
              "#46039f"
             ],
             [
              0.2222222222222222,
              "#7201a8"
             ],
             [
              0.3333333333333333,
              "#9c179e"
             ],
             [
              0.4444444444444444,
              "#bd3786"
             ],
             [
              0.5555555555555556,
              "#d8576b"
             ],
             [
              0.6666666666666666,
              "#ed7953"
             ],
             [
              0.7777777777777778,
              "#fb9f3a"
             ],
             [
              0.8888888888888888,
              "#fdca26"
             ],
             [
              1,
              "#f0f921"
             ]
            ],
            "type": "contour"
           }
          ],
          "contourcarpet": [
           {
            "colorbar": {
             "outlinewidth": 0,
             "ticks": ""
            },
            "type": "contourcarpet"
           }
          ],
          "heatmap": [
           {
            "colorbar": {
             "outlinewidth": 0,
             "ticks": ""
            },
            "colorscale": [
             [
              0,
              "#0d0887"
             ],
             [
              0.1111111111111111,
              "#46039f"
             ],
             [
              0.2222222222222222,
              "#7201a8"
             ],
             [
              0.3333333333333333,
              "#9c179e"
             ],
             [
              0.4444444444444444,
              "#bd3786"
             ],
             [
              0.5555555555555556,
              "#d8576b"
             ],
             [
              0.6666666666666666,
              "#ed7953"
             ],
             [
              0.7777777777777778,
              "#fb9f3a"
             ],
             [
              0.8888888888888888,
              "#fdca26"
             ],
             [
              1,
              "#f0f921"
             ]
            ],
            "type": "heatmap"
           }
          ],
          "histogram": [
           {
            "marker": {
             "pattern": {
              "fillmode": "overlay",
              "size": 10,
              "solidity": 0.2
             }
            },
            "type": "histogram"
           }
          ],
          "histogram2d": [
           {
            "colorbar": {
             "outlinewidth": 0,
             "ticks": ""
            },
            "colorscale": [
             [
              0,
              "#0d0887"
             ],
             [
              0.1111111111111111,
              "#46039f"
             ],
             [
              0.2222222222222222,
              "#7201a8"
             ],
             [
              0.3333333333333333,
              "#9c179e"
             ],
             [
              0.4444444444444444,
              "#bd3786"
             ],
             [
              0.5555555555555556,
              "#d8576b"
             ],
             [
              0.6666666666666666,
              "#ed7953"
             ],
             [
              0.7777777777777778,
              "#fb9f3a"
             ],
             [
              0.8888888888888888,
              "#fdca26"
             ],
             [
              1,
              "#f0f921"
             ]
            ],
            "type": "histogram2d"
           }
          ],
          "histogram2dcontour": [
           {
            "colorbar": {
             "outlinewidth": 0,
             "ticks": ""
            },
            "colorscale": [
             [
              0,
              "#0d0887"
             ],
             [
              0.1111111111111111,
              "#46039f"
             ],
             [
              0.2222222222222222,
              "#7201a8"
             ],
             [
              0.3333333333333333,
              "#9c179e"
             ],
             [
              0.4444444444444444,
              "#bd3786"
             ],
             [
              0.5555555555555556,
              "#d8576b"
             ],
             [
              0.6666666666666666,
              "#ed7953"
             ],
             [
              0.7777777777777778,
              "#fb9f3a"
             ],
             [
              0.8888888888888888,
              "#fdca26"
             ],
             [
              1,
              "#f0f921"
             ]
            ],
            "type": "histogram2dcontour"
           }
          ],
          "mesh3d": [
           {
            "colorbar": {
             "outlinewidth": 0,
             "ticks": ""
            },
            "type": "mesh3d"
           }
          ],
          "parcoords": [
           {
            "line": {
             "colorbar": {
              "outlinewidth": 0,
              "ticks": ""
             }
            },
            "type": "parcoords"
           }
          ],
          "pie": [
           {
            "automargin": true,
            "type": "pie"
           }
          ],
          "scatter": [
           {
            "fillpattern": {
             "fillmode": "overlay",
             "size": 10,
             "solidity": 0.2
            },
            "type": "scatter"
           }
          ],
          "scatter3d": [
           {
            "line": {
             "colorbar": {
              "outlinewidth": 0,
              "ticks": ""
             }
            },
            "marker": {
             "colorbar": {
              "outlinewidth": 0,
              "ticks": ""
             }
            },
            "type": "scatter3d"
           }
          ],
          "scattercarpet": [
           {
            "marker": {
             "colorbar": {
              "outlinewidth": 0,
              "ticks": ""
             }
            },
            "type": "scattercarpet"
           }
          ],
          "scattergeo": [
           {
            "marker": {
             "colorbar": {
              "outlinewidth": 0,
              "ticks": ""
             }
            },
            "type": "scattergeo"
           }
          ],
          "scattergl": [
           {
            "marker": {
             "colorbar": {
              "outlinewidth": 0,
              "ticks": ""
             }
            },
            "type": "scattergl"
           }
          ],
          "scattermap": [
           {
            "marker": {
             "colorbar": {
              "outlinewidth": 0,
              "ticks": ""
             }
            },
            "type": "scattermap"
           }
          ],
          "scattermapbox": [
           {
            "marker": {
             "colorbar": {
              "outlinewidth": 0,
              "ticks": ""
             }
            },
            "type": "scattermapbox"
           }
          ],
          "scatterpolar": [
           {
            "marker": {
             "colorbar": {
              "outlinewidth": 0,
              "ticks": ""
             }
            },
            "type": "scatterpolar"
           }
          ],
          "scatterpolargl": [
           {
            "marker": {
             "colorbar": {
              "outlinewidth": 0,
              "ticks": ""
             }
            },
            "type": "scatterpolargl"
           }
          ],
          "scatterternary": [
           {
            "marker": {
             "colorbar": {
              "outlinewidth": 0,
              "ticks": ""
             }
            },
            "type": "scatterternary"
           }
          ],
          "surface": [
           {
            "colorbar": {
             "outlinewidth": 0,
             "ticks": ""
            },
            "colorscale": [
             [
              0,
              "#0d0887"
             ],
             [
              0.1111111111111111,
              "#46039f"
             ],
             [
              0.2222222222222222,
              "#7201a8"
             ],
             [
              0.3333333333333333,
              "#9c179e"
             ],
             [
              0.4444444444444444,
              "#bd3786"
             ],
             [
              0.5555555555555556,
              "#d8576b"
             ],
             [
              0.6666666666666666,
              "#ed7953"
             ],
             [
              0.7777777777777778,
              "#fb9f3a"
             ],
             [
              0.8888888888888888,
              "#fdca26"
             ],
             [
              1,
              "#f0f921"
             ]
            ],
            "type": "surface"
           }
          ],
          "table": [
           {
            "cells": {
             "fill": {
              "color": "#EBF0F8"
             },
             "line": {
              "color": "white"
             }
            },
            "header": {
             "fill": {
              "color": "#C8D4E3"
             },
             "line": {
              "color": "white"
             }
            },
            "type": "table"
           }
          ]
         },
         "layout": {
          "annotationdefaults": {
           "arrowcolor": "#2a3f5f",
           "arrowhead": 0,
           "arrowwidth": 1
          },
          "autotypenumbers": "strict",
          "coloraxis": {
           "colorbar": {
            "outlinewidth": 0,
            "ticks": ""
           }
          },
          "colorscale": {
           "diverging": [
            [
             0,
             "#8e0152"
            ],
            [
             0.1,
             "#c51b7d"
            ],
            [
             0.2,
             "#de77ae"
            ],
            [
             0.3,
             "#f1b6da"
            ],
            [
             0.4,
             "#fde0ef"
            ],
            [
             0.5,
             "#f7f7f7"
            ],
            [
             0.6,
             "#e6f5d0"
            ],
            [
             0.7,
             "#b8e186"
            ],
            [
             0.8,
             "#7fbc41"
            ],
            [
             0.9,
             "#4d9221"
            ],
            [
             1,
             "#276419"
            ]
           ],
           "sequential": [
            [
             0,
             "#0d0887"
            ],
            [
             0.1111111111111111,
             "#46039f"
            ],
            [
             0.2222222222222222,
             "#7201a8"
            ],
            [
             0.3333333333333333,
             "#9c179e"
            ],
            [
             0.4444444444444444,
             "#bd3786"
            ],
            [
             0.5555555555555556,
             "#d8576b"
            ],
            [
             0.6666666666666666,
             "#ed7953"
            ],
            [
             0.7777777777777778,
             "#fb9f3a"
            ],
            [
             0.8888888888888888,
             "#fdca26"
            ],
            [
             1,
             "#f0f921"
            ]
           ],
           "sequentialminus": [
            [
             0,
             "#0d0887"
            ],
            [
             0.1111111111111111,
             "#46039f"
            ],
            [
             0.2222222222222222,
             "#7201a8"
            ],
            [
             0.3333333333333333,
             "#9c179e"
            ],
            [
             0.4444444444444444,
             "#bd3786"
            ],
            [
             0.5555555555555556,
             "#d8576b"
            ],
            [
             0.6666666666666666,
             "#ed7953"
            ],
            [
             0.7777777777777778,
             "#fb9f3a"
            ],
            [
             0.8888888888888888,
             "#fdca26"
            ],
            [
             1,
             "#f0f921"
            ]
           ]
          },
          "colorway": [
           "#636efa",
           "#EF553B",
           "#00cc96",
           "#ab63fa",
           "#FFA15A",
           "#19d3f3",
           "#FF6692",
           "#B6E880",
           "#FF97FF",
           "#FECB52"
          ],
          "font": {
           "color": "#2a3f5f"
          },
          "geo": {
           "bgcolor": "white",
           "lakecolor": "white",
           "landcolor": "#E5ECF6",
           "showlakes": true,
           "showland": true,
           "subunitcolor": "white"
          },
          "hoverlabel": {
           "align": "left"
          },
          "hovermode": "closest",
          "mapbox": {
           "style": "light"
          },
          "paper_bgcolor": "white",
          "plot_bgcolor": "#E5ECF6",
          "polar": {
           "angularaxis": {
            "gridcolor": "white",
            "linecolor": "white",
            "ticks": ""
           },
           "bgcolor": "#E5ECF6",
           "radialaxis": {
            "gridcolor": "white",
            "linecolor": "white",
            "ticks": ""
           }
          },
          "scene": {
           "xaxis": {
            "backgroundcolor": "#E5ECF6",
            "gridcolor": "white",
            "gridwidth": 2,
            "linecolor": "white",
            "showbackground": true,
            "ticks": "",
            "zerolinecolor": "white"
           },
           "yaxis": {
            "backgroundcolor": "#E5ECF6",
            "gridcolor": "white",
            "gridwidth": 2,
            "linecolor": "white",
            "showbackground": true,
            "ticks": "",
            "zerolinecolor": "white"
           },
           "zaxis": {
            "backgroundcolor": "#E5ECF6",
            "gridcolor": "white",
            "gridwidth": 2,
            "linecolor": "white",
            "showbackground": true,
            "ticks": "",
            "zerolinecolor": "white"
           }
          },
          "shapedefaults": {
           "line": {
            "color": "#2a3f5f"
           }
          },
          "ternary": {
           "aaxis": {
            "gridcolor": "white",
            "linecolor": "white",
            "ticks": ""
           },
           "baxis": {
            "gridcolor": "white",
            "linecolor": "white",
            "ticks": ""
           },
           "bgcolor": "#E5ECF6",
           "caxis": {
            "gridcolor": "white",
            "linecolor": "white",
            "ticks": ""
           }
          },
          "title": {
           "x": 0.05
          },
          "xaxis": {
           "automargin": true,
           "gridcolor": "white",
           "linecolor": "white",
           "ticks": "",
           "title": {
            "standoff": 15
           },
           "zerolinecolor": "white",
           "zerolinewidth": 2
          },
          "yaxis": {
           "automargin": true,
           "gridcolor": "white",
           "linecolor": "white",
           "ticks": "",
           "title": {
            "standoff": 15
           },
           "zerolinecolor": "white",
           "zerolinewidth": 2
          }
         }
        },
        "title": {
         "text": "Seasonal Average Goals per Match"
        },
        "xaxis": {
         "anchor": "y",
         "domain": [
          0,
          1
         ],
         "title": {
          "text": "Season"
         }
        },
        "yaxis": {
         "anchor": "x",
         "domain": [
          0,
          1
         ],
         "title": {
          "text": "Goals per Match"
         }
        }
       }
      }
     },
     "metadata": {},
     "output_type": "display_data"
    },
    {
     "data": {
      "application/vnd.plotly.v1+json": {
       "config": {
        "plotlyServerURL": "https://plot.ly"
       },
       "data": [
        {
         "name": "Home Win",
         "type": "bar",
         "x": [
          "2014-2015",
          "2015-2016",
          "2016-2017",
          "2017-2018",
          "2018-2019",
          "2019-2020",
          "2020-2021",
          "2021-2022",
          "2022-2023",
          "2023-2024",
          "2024-2025"
         ],
         "y": {
          "bdata": "zczMzMzM3D8j7ViBMNLeP7/nljj1e94/XOLU77kl3j+3xKnfc0vcP+LU77klTt0/xanfc0uc2j+ivIbyGsrbP3Hq99wSp94/BcJIO1Yg3D9pxwqEkXbcPw==",
          "dtype": "f8"
         }
        },
        {
         "name": "Draw",
         "type": "bar",
         "x": [
          "2014-2015",
          "2015-2016",
          "2016-2017",
          "2017-2018",
          "2018-2019",
          "2019-2020",
          "2020-2021",
          "2021-2022",
          "2022-2023",
          "2023-2024",
          "2024-2025"
         ],
         "y": {
          "bdata": "cer33BKnzj/V77klTv3OP6rfc0uc+s0/f88tcer3zD9sKK+hvIbSP/Maymsor9E/uiVO/Z5b0j8eKxBG2rHSP6rfc0uc+s0/ViCMtGMF0j9kBcJIO1bQPw==",
          "dtype": "f8"
         }
        },
        {
         "name": "Away Win",
         "type": "bar",
         "x": [
          "2014-2015",
          "2015-2016",
          "2016-2017",
          "2017-2018",
          "2018-2019",
          "2019-2020",
          "2020-2021",
          "2021-2022",
          "2022-2023",
          "2023-2024",
          "2024-2025"
         ],
         "y": {
          "bdata": "+z23xKnf0z/zGsprKK/RP2wor6G8htI/5TWU11Be0z/dEqd+zy3RPysQRtqxAtE/gTDSjhUI0z9BGGnHCoTRP7olTv2eW9I/pB0rEEba0T8zMzMzMzPTPw==",
          "dtype": "f8"
         }
        }
       ],
       "layout": {
        "barmode": "stack",
        "template": {
         "data": {
          "bar": [
           {
            "error_x": {
             "color": "#2a3f5f"
            },
            "error_y": {
             "color": "#2a3f5f"
            },
            "marker": {
             "line": {
              "color": "#E5ECF6",
              "width": 0.5
             },
             "pattern": {
              "fillmode": "overlay",
              "size": 10,
              "solidity": 0.2
             }
            },
            "type": "bar"
           }
          ],
          "barpolar": [
           {
            "marker": {
             "line": {
              "color": "#E5ECF6",
              "width": 0.5
             },
             "pattern": {
              "fillmode": "overlay",
              "size": 10,
              "solidity": 0.2
             }
            },
            "type": "barpolar"
           }
          ],
          "carpet": [
           {
            "aaxis": {
             "endlinecolor": "#2a3f5f",
             "gridcolor": "white",
             "linecolor": "white",
             "minorgridcolor": "white",
             "startlinecolor": "#2a3f5f"
            },
            "baxis": {
             "endlinecolor": "#2a3f5f",
             "gridcolor": "white",
             "linecolor": "white",
             "minorgridcolor": "white",
             "startlinecolor": "#2a3f5f"
            },
            "type": "carpet"
           }
          ],
          "choropleth": [
           {
            "colorbar": {
             "outlinewidth": 0,
             "ticks": ""
            },
            "type": "choropleth"
           }
          ],
          "contour": [
           {
            "colorbar": {
             "outlinewidth": 0,
             "ticks": ""
            },
            "colorscale": [
             [
              0,
              "#0d0887"
             ],
             [
              0.1111111111111111,
              "#46039f"
             ],
             [
              0.2222222222222222,
              "#7201a8"
             ],
             [
              0.3333333333333333,
              "#9c179e"
             ],
             [
              0.4444444444444444,
              "#bd3786"
             ],
             [
              0.5555555555555556,
              "#d8576b"
             ],
             [
              0.6666666666666666,
              "#ed7953"
             ],
             [
              0.7777777777777778,
              "#fb9f3a"
             ],
             [
              0.8888888888888888,
              "#fdca26"
             ],
             [
              1,
              "#f0f921"
             ]
            ],
            "type": "contour"
           }
          ],
          "contourcarpet": [
           {
            "colorbar": {
             "outlinewidth": 0,
             "ticks": ""
            },
            "type": "contourcarpet"
           }
          ],
          "heatmap": [
           {
            "colorbar": {
             "outlinewidth": 0,
             "ticks": ""
            },
            "colorscale": [
             [
              0,
              "#0d0887"
             ],
             [
              0.1111111111111111,
              "#46039f"
             ],
             [
              0.2222222222222222,
              "#7201a8"
             ],
             [
              0.3333333333333333,
              "#9c179e"
             ],
             [
              0.4444444444444444,
              "#bd3786"
             ],
             [
              0.5555555555555556,
              "#d8576b"
             ],
             [
              0.6666666666666666,
              "#ed7953"
             ],
             [
              0.7777777777777778,
              "#fb9f3a"
             ],
             [
              0.8888888888888888,
              "#fdca26"
             ],
             [
              1,
              "#f0f921"
             ]
            ],
            "type": "heatmap"
           }
          ],
          "histogram": [
           {
            "marker": {
             "pattern": {
              "fillmode": "overlay",
              "size": 10,
              "solidity": 0.2
             }
            },
            "type": "histogram"
           }
          ],
          "histogram2d": [
           {
            "colorbar": {
             "outlinewidth": 0,
             "ticks": ""
            },
            "colorscale": [
             [
              0,
              "#0d0887"
             ],
             [
              0.1111111111111111,
              "#46039f"
             ],
             [
              0.2222222222222222,
              "#7201a8"
             ],
             [
              0.3333333333333333,
              "#9c179e"
             ],
             [
              0.4444444444444444,
              "#bd3786"
             ],
             [
              0.5555555555555556,
              "#d8576b"
             ],
             [
              0.6666666666666666,
              "#ed7953"
             ],
             [
              0.7777777777777778,
              "#fb9f3a"
             ],
             [
              0.8888888888888888,
              "#fdca26"
             ],
             [
              1,
              "#f0f921"
             ]
            ],
            "type": "histogram2d"
           }
          ],
          "histogram2dcontour": [
           {
            "colorbar": {
             "outlinewidth": 0,
             "ticks": ""
            },
            "colorscale": [
             [
              0,
              "#0d0887"
             ],
             [
              0.1111111111111111,
              "#46039f"
             ],
             [
              0.2222222222222222,
              "#7201a8"
             ],
             [
              0.3333333333333333,
              "#9c179e"
             ],
             [
              0.4444444444444444,
              "#bd3786"
             ],
             [
              0.5555555555555556,
              "#d8576b"
             ],
             [
              0.6666666666666666,
              "#ed7953"
             ],
             [
              0.7777777777777778,
              "#fb9f3a"
             ],
             [
              0.8888888888888888,
              "#fdca26"
             ],
             [
              1,
              "#f0f921"
             ]
            ],
            "type": "histogram2dcontour"
           }
          ],
          "mesh3d": [
           {
            "colorbar": {
             "outlinewidth": 0,
             "ticks": ""
            },
            "type": "mesh3d"
           }
          ],
          "parcoords": [
           {
            "line": {
             "colorbar": {
              "outlinewidth": 0,
              "ticks": ""
             }
            },
            "type": "parcoords"
           }
          ],
          "pie": [
           {
            "automargin": true,
            "type": "pie"
           }
          ],
          "scatter": [
           {
            "fillpattern": {
             "fillmode": "overlay",
             "size": 10,
             "solidity": 0.2
            },
            "type": "scatter"
           }
          ],
          "scatter3d": [
           {
            "line": {
             "colorbar": {
              "outlinewidth": 0,
              "ticks": ""
             }
            },
            "marker": {
             "colorbar": {
              "outlinewidth": 0,
              "ticks": ""
             }
            },
            "type": "scatter3d"
           }
          ],
          "scattercarpet": [
           {
            "marker": {
             "colorbar": {
              "outlinewidth": 0,
              "ticks": ""
             }
            },
            "type": "scattercarpet"
           }
          ],
          "scattergeo": [
           {
            "marker": {
             "colorbar": {
              "outlinewidth": 0,
              "ticks": ""
             }
            },
            "type": "scattergeo"
           }
          ],
          "scattergl": [
           {
            "marker": {
             "colorbar": {
              "outlinewidth": 0,
              "ticks": ""
             }
            },
            "type": "scattergl"
           }
          ],
          "scattermap": [
           {
            "marker": {
             "colorbar": {
              "outlinewidth": 0,
              "ticks": ""
             }
            },
            "type": "scattermap"
           }
          ],
          "scattermapbox": [
           {
            "marker": {
             "colorbar": {
              "outlinewidth": 0,
              "ticks": ""
             }
            },
            "type": "scattermapbox"
           }
          ],
          "scatterpolar": [
           {
            "marker": {
             "colorbar": {
              "outlinewidth": 0,
              "ticks": ""
             }
            },
            "type": "scatterpolar"
           }
          ],
          "scatterpolargl": [
           {
            "marker": {
             "colorbar": {
              "outlinewidth": 0,
              "ticks": ""
             }
            },
            "type": "scatterpolargl"
           }
          ],
          "scatterternary": [
           {
            "marker": {
             "colorbar": {
              "outlinewidth": 0,
              "ticks": ""
             }
            },
            "type": "scatterternary"
           }
          ],
          "surface": [
           {
            "colorbar": {
             "outlinewidth": 0,
             "ticks": ""
            },
            "colorscale": [
             [
              0,
              "#0d0887"
             ],
             [
              0.1111111111111111,
              "#46039f"
             ],
             [
              0.2222222222222222,
              "#7201a8"
             ],
             [
              0.3333333333333333,
              "#9c179e"
             ],
             [
              0.4444444444444444,
              "#bd3786"
             ],
             [
              0.5555555555555556,
              "#d8576b"
             ],
             [
              0.6666666666666666,
              "#ed7953"
             ],
             [
              0.7777777777777778,
              "#fb9f3a"
             ],
             [
              0.8888888888888888,
              "#fdca26"
             ],
             [
              1,
              "#f0f921"
             ]
            ],
            "type": "surface"
           }
          ],
          "table": [
           {
            "cells": {
             "fill": {
              "color": "#EBF0F8"
             },
             "line": {
              "color": "white"
             }
            },
            "header": {
             "fill": {
              "color": "#C8D4E3"
             },
             "line": {
              "color": "white"
             }
            },
            "type": "table"
           }
          ]
         },
         "layout": {
          "annotationdefaults": {
           "arrowcolor": "#2a3f5f",
           "arrowhead": 0,
           "arrowwidth": 1
          },
          "autotypenumbers": "strict",
          "coloraxis": {
           "colorbar": {
            "outlinewidth": 0,
            "ticks": ""
           }
          },
          "colorscale": {
           "diverging": [
            [
             0,
             "#8e0152"
            ],
            [
             0.1,
             "#c51b7d"
            ],
            [
             0.2,
             "#de77ae"
            ],
            [
             0.3,
             "#f1b6da"
            ],
            [
             0.4,
             "#fde0ef"
            ],
            [
             0.5,
             "#f7f7f7"
            ],
            [
             0.6,
             "#e6f5d0"
            ],
            [
             0.7,
             "#b8e186"
            ],
            [
             0.8,
             "#7fbc41"
            ],
            [
             0.9,
             "#4d9221"
            ],
            [
             1,
             "#276419"
            ]
           ],
           "sequential": [
            [
             0,
             "#0d0887"
            ],
            [
             0.1111111111111111,
             "#46039f"
            ],
            [
             0.2222222222222222,
             "#7201a8"
            ],
            [
             0.3333333333333333,
             "#9c179e"
            ],
            [
             0.4444444444444444,
             "#bd3786"
            ],
            [
             0.5555555555555556,
             "#d8576b"
            ],
            [
             0.6666666666666666,
             "#ed7953"
            ],
            [
             0.7777777777777778,
             "#fb9f3a"
            ],
            [
             0.8888888888888888,
             "#fdca26"
            ],
            [
             1,
             "#f0f921"
            ]
           ],
           "sequentialminus": [
            [
             0,
             "#0d0887"
            ],
            [
             0.1111111111111111,
             "#46039f"
            ],
            [
             0.2222222222222222,
             "#7201a8"
            ],
            [
             0.3333333333333333,
             "#9c179e"
            ],
            [
             0.4444444444444444,
             "#bd3786"
            ],
            [
             0.5555555555555556,
             "#d8576b"
            ],
            [
             0.6666666666666666,
             "#ed7953"
            ],
            [
             0.7777777777777778,
             "#fb9f3a"
            ],
            [
             0.8888888888888888,
             "#fdca26"
            ],
            [
             1,
             "#f0f921"
            ]
           ]
          },
          "colorway": [
           "#636efa",
           "#EF553B",
           "#00cc96",
           "#ab63fa",
           "#FFA15A",
           "#19d3f3",
           "#FF6692",
           "#B6E880",
           "#FF97FF",
           "#FECB52"
          ],
          "font": {
           "color": "#2a3f5f"
          },
          "geo": {
           "bgcolor": "white",
           "lakecolor": "white",
           "landcolor": "#E5ECF6",
           "showlakes": true,
           "showland": true,
           "subunitcolor": "white"
          },
          "hoverlabel": {
           "align": "left"
          },
          "hovermode": "closest",
          "mapbox": {
           "style": "light"
          },
          "paper_bgcolor": "white",
          "plot_bgcolor": "#E5ECF6",
          "polar": {
           "angularaxis": {
            "gridcolor": "white",
            "linecolor": "white",
            "ticks": ""
           },
           "bgcolor": "#E5ECF6",
           "radialaxis": {
            "gridcolor": "white",
            "linecolor": "white",
            "ticks": ""
           }
          },
          "scene": {
           "xaxis": {
            "backgroundcolor": "#E5ECF6",
            "gridcolor": "white",
            "gridwidth": 2,
            "linecolor": "white",
            "showbackground": true,
            "ticks": "",
            "zerolinecolor": "white"
           },
           "yaxis": {
            "backgroundcolor": "#E5ECF6",
            "gridcolor": "white",
            "gridwidth": 2,
            "linecolor": "white",
            "showbackground": true,
            "ticks": "",
            "zerolinecolor": "white"
           },
           "zaxis": {
            "backgroundcolor": "#E5ECF6",
            "gridcolor": "white",
            "gridwidth": 2,
            "linecolor": "white",
            "showbackground": true,
            "ticks": "",
            "zerolinecolor": "white"
           }
          },
          "shapedefaults": {
           "line": {
            "color": "#2a3f5f"
           }
          },
          "ternary": {
           "aaxis": {
            "gridcolor": "white",
            "linecolor": "white",
            "ticks": ""
           },
           "baxis": {
            "gridcolor": "white",
            "linecolor": "white",
            "ticks": ""
           },
           "bgcolor": "#E5ECF6",
           "caxis": {
            "gridcolor": "white",
            "linecolor": "white",
            "ticks": ""
           }
          },
          "title": {
           "x": 0.05
          },
          "xaxis": {
           "automargin": true,
           "gridcolor": "white",
           "linecolor": "white",
           "ticks": "",
           "title": {
            "standoff": 15
           },
           "zerolinecolor": "white",
           "zerolinewidth": 2
          },
          "yaxis": {
           "automargin": true,
           "gridcolor": "white",
           "linecolor": "white",
           "ticks": "",
           "title": {
            "standoff": 15
           },
           "zerolinecolor": "white",
           "zerolinewidth": 2
          }
         }
        },
        "title": {
         "text": "Changes in Home/Draw/Away Win Rates by Season"
        },
        "xaxis": {
         "title": {
          "text": "Season"
         }
        },
        "yaxis": {
         "tickformat": ".0%",
         "title": {
          "text": "Rate"
         }
        }
       }
      }
     },
     "metadata": {},
     "output_type": "display_data"
    }
   ],
   "source": [
    "# 3-1. 시즌별 경기당 평균 득점 추이 (Seasonal Goals per Match Trend)\n",
    "season_goals = df.groupby(\"season\").apply(\n",
    "    lambda x: (x[\"home_goals\"] + x[\"away_goals\"]).sum() / len(x)\n",
    ").reset_index(name=\"goals_per_match\")\n",
    "\n",
    "fig_season_goals = px.line(\n",
    "    season_goals,\n",
    "    x=\"season\",\n",
    "    y=\"goals_per_match\",\n",
    "    markers=True,\n",
    "    title=\"Seasonal Average Goals per Match\",\n",
    "    labels={\"season\": \"Season\", \"goals_per_match\": \"Goals per Match\"}\n",
    ")\n",
    "fig_season_goals.show()\n",
    "\n",
    "# 3-2. 시즌별 홈/원정 승률 변화 (Seasonal Home/Away Win Rate Changes)\n",
    "df[\"result\"] = np.where(\n",
    "    df[\"home_goals\"] > df[\"away_goals\"], \"Home Win\",\n",
    "    np.where(df[\"home_goals\"] < df[\"away_goals\"], \"Away Win\", \"Draw\")\n",
    ")\n",
    "res_counts = df.groupby([\"season\", \"result\"]).size().unstack(fill_value=0)\n",
    "res_rates = res_counts.div(res_counts.sum(axis=1), axis=0)\n",
    "\n",
    "fig_win_rate = go.Figure()\n",
    "fig_win_rate.add_bar(name='Home Win', x=res_rates.index, y=res_rates['Home Win'])\n",
    "fig_win_rate.add_bar(name='Draw', x=res_rates.index, y=res_rates['Draw'])\n",
    "fig_win_rate.add_bar(name='Away Win', x=res_rates.index, y=res_rates['Away Win'])\n",
    "\n",
    "fig_win_rate.update_layout(\n",
    "    barmode='stack',\n",
    "    title=\"Changes in Home/Draw/Away Win Rates by Season\",\n",
    "    xaxis_title=\"Season\",\n",
    "    yaxis_title=\"Rate\",\n",
    "    yaxis_tickformat='.0%'\n",
    ")\n",
    "fig_win_rate.show()"
   ]
  },
  {
   "cell_type": "markdown",
   "metadata": {},
   "source": [
    "3. Seasonal Average Goals per Match (시즌별 평균 득점 추세)\n",
    "\n",
    "- **English**: This line chart shows the average number of goals scored per match across La Liga seasons from 2014–15 to 2024–25.  \n",
    "  The peak was in the 2016–17 season (around 2.93 goals per match), followed by a decline until 2019–20. Recently, goal averages have stabilized around 2.6.  \n",
    "  This indicates cyclical patterns in offensive intensity across the league.  \n",
    "\n",
    "- **한국어**: 이 선 그래프는 2014–15 시즌부터 2024–25 시즌까지 라리가 경기당 평균 득점 수를 보여줍니다.  \n",
    "  2016–17 시즌에 약 2.9득점으로 정점을 찍은 뒤 2019–20 시즌까지 감소했으며, 최근에는 약 2.6득점 수준에서 안정세를 보입니다.  \n",
    "  이는 라리가 전체 공격 강도가 일정한 주기적 변화를 겪고 있음을 의미합니다.  \n",
    "\n",
    "\n",
    "---\n",
    " 3. Home/Draw/Away Win Rates (홈/무/원정 승률 변화)\n",
    "- **English**  \n",
    "The stacked bar chart illustrates the seasonal distribution of home wins, draws, and away wins.  \n",
    "Normally, home teams achieve the highest share of wins, reflecting the well-known *home advantage*.  \n",
    "\n",
    "- However, in the **2020–2021 season**, the home win rate declined significantly, while away wins increased.  \n",
    "This coincided with the COVID-19 pandemic, during which matches were played behind closed doors.  \n",
    "The absence of fans diminished the psychological and environmental benefits usually enjoyed by home teams.  \n",
    "\n",
    "---\n",
    "\n",
    "- **Korean (한국어)**  \n",
    "이 누적 막대 그래프는 시즌별 **홈팀 승리 / 무승부 / 원정팀 승리 비율**을 보여줍니다.  \n",
    "일반적으로 홈팀의 승률이 가장 높으며, 이는 전통적인 *홈 어드밴티지*를 반영합니다.  \n",
    "\n",
    "- 그러나 **2020–2021 시즌**에는 홈팀 승률이 크게 하락하고 원정팀 승률이 상승했습니다.  \n",
    "이 시기는 코로나19로 인해 **무관중 경기**가 치러진 시즌으로, 관중 응원과 같은 홈 어드밴티지가 줄어든 결과로 해석할 수 있습니다.  \n",
    "\n",
    "---\n",
    "\n",
    "📌 **Portfolio Note**  \n",
    "- The drop in home win rates in **2020–2021** aligns with the absence of fans during the COVID-19 pandemic.  \n",
    "- Interpreting this change as a shift in *home advantage* makes the analysis more professional and research-oriented.  "
   ]
  },
  {
   "cell_type": "markdown",
   "metadata": {},
   "source": [
    "# 4단계: Big 3 공격효율성 분석 (Big 3 Attack Efficiency Trend Analysis (GF – xGF per Match)\n",
    ")"
   ]
  },
  {
   "cell_type": "code",
   "execution_count": 4,
   "metadata": {},
   "outputs": [
    {
     "data": {
      "application/vnd.plotly.v1+json": {
       "config": {
        "plotlyServerURL": "https://plot.ly"
       },
       "data": [
        {
         "alignmentgroup": "True",
         "hovertemplate": "Team=Atletico Madrid<br>Season=%{x}<br>Attack Efficiency (GF - xGF per Match)=%{y}<extra></extra>",
         "legendgroup": "Atletico Madrid",
         "marker": {
          "color": "#636efa",
          "pattern": {
           "shape": ""
          }
         },
         "name": "Atletico Madrid",
         "offsetgroup": "Atletico Madrid",
         "orientation": "v",
         "showlegend": true,
         "textposition": "outside",
         "texttemplate": "%{y:.2f}",
         "type": "bar",
         "x": [
          "2014-2015",
          "2015-2016",
          "2016-2017",
          "2017-2018",
          "2018-2019",
          "2019-2020",
          "2020-2021",
          "2021-2022",
          "2022-2023",
          "2023-2024",
          "2024-2025"
         ],
         "xaxis": "x",
         "y": {
          "bdata": "HIy0YwXC0D8ATEnoQybLP6DDTwRobc8/AJ9b4tTvyT9AHzLZVye1P9gEFVs158m/gCkJfchkzz+I+ePbuMvCP+CAg+SIpqE/AIwHdv9Scj/QA7t/KQm9vw==",
          "dtype": "f8"
         },
         "yaxis": "y"
        },
        {
         "alignmentgroup": "True",
         "hovertemplate": "Team=Barcelona<br>Season=%{x}<br>Attack Efficiency (GF - xGF per Match)=%{y}<extra></extra>",
         "legendgroup": "Barcelona",
         "marker": {
          "color": "#EF553B",
          "pattern": {
           "shape": ""
          }
         },
         "name": "Barcelona",
         "offsetgroup": "Barcelona",
         "orientation": "v",
         "showlegend": true,
         "textposition": "outside",
         "texttemplate": "%{y:.2f}",
         "type": "bar",
         "x": [
          "2014-2015",
          "2015-2016",
          "2016-2017",
          "2017-2018",
          "2018-2019",
          "2019-2020",
          "2020-2021",
          "2021-2022",
          "2022-2023",
          "2023-2024",
          "2024-2025"
         ],
         "xaxis": "x",
         "y": {
          "bdata": "kK2a83Slxz+A8GYTVGylvwQVWzXn6eI/EMprKK+hzD+AN5ugYqvGP1jGsKiFmNc/AJbeGXCQnD9QqoxhUQuxvyBAa3vBm9W/AJHJvjqpsr+A3hlwkByxPw==",
          "dtype": "f8"
         },
         "yaxis": "y"
        },
        {
         "alignmentgroup": "True",
         "hovertemplate": "Team=Real Madrid<br>Season=%{x}<br>Attack Efficiency (GF - xGF per Match)=%{y}<extra></extra>",
         "legendgroup": "Real Madrid",
         "marker": {
          "color": "#00cc96",
          "pattern": {
           "shape": ""
          }
         },
         "name": "Real Madrid",
         "offsetgroup": "Real Madrid",
         "orientation": "v",
         "showlegend": true,
         "textposition": "outside",
         "texttemplate": "%{y:.2f}",
         "type": "bar",
         "x": [
          "2014-2015",
          "2015-2016",
          "2016-2017",
          "2017-2018",
          "2018-2019",
          "2019-2020",
          "2020-2021",
          "2021-2022",
          "2022-2023",
          "2023-2024",
          "2024-2025"
         ],
         "xaxis": "x",
         "y": {
          "bdata": "QMVWzXm64j/kIDmiaXTgP0AYaccKhNk/QFd6Z8BBsj+IMNKOFQjDvwA4SI5oGq2/IAK0the8qT8A9HSldwZ8v7Bxl+Xigb2/4OKB3b+UxD8Yw6IWYv7Qvw==",
          "dtype": "f8"
         },
         "yaxis": "y"
        }
       ],
       "layout": {
        "barmode": "group",
        "legend": {
         "title": {
          "text": "Team"
         },
         "tracegroupgap": 0
        },
        "shapes": [
         {
          "line": {
           "color": "black",
           "dash": "dash",
           "width": 2
          },
          "type": "line",
          "x0": 0,
          "x1": 1,
          "xref": "x domain",
          "y0": 0,
          "y1": 0,
          "yref": "y"
         }
        ],
        "template": {
         "data": {
          "bar": [
           {
            "error_x": {
             "color": "#2a3f5f"
            },
            "error_y": {
             "color": "#2a3f5f"
            },
            "marker": {
             "line": {
              "color": "#E5ECF6",
              "width": 0.5
             },
             "pattern": {
              "fillmode": "overlay",
              "size": 10,
              "solidity": 0.2
             }
            },
            "type": "bar"
           }
          ],
          "barpolar": [
           {
            "marker": {
             "line": {
              "color": "#E5ECF6",
              "width": 0.5
             },
             "pattern": {
              "fillmode": "overlay",
              "size": 10,
              "solidity": 0.2
             }
            },
            "type": "barpolar"
           }
          ],
          "carpet": [
           {
            "aaxis": {
             "endlinecolor": "#2a3f5f",
             "gridcolor": "white",
             "linecolor": "white",
             "minorgridcolor": "white",
             "startlinecolor": "#2a3f5f"
            },
            "baxis": {
             "endlinecolor": "#2a3f5f",
             "gridcolor": "white",
             "linecolor": "white",
             "minorgridcolor": "white",
             "startlinecolor": "#2a3f5f"
            },
            "type": "carpet"
           }
          ],
          "choropleth": [
           {
            "colorbar": {
             "outlinewidth": 0,
             "ticks": ""
            },
            "type": "choropleth"
           }
          ],
          "contour": [
           {
            "colorbar": {
             "outlinewidth": 0,
             "ticks": ""
            },
            "colorscale": [
             [
              0,
              "#0d0887"
             ],
             [
              0.1111111111111111,
              "#46039f"
             ],
             [
              0.2222222222222222,
              "#7201a8"
             ],
             [
              0.3333333333333333,
              "#9c179e"
             ],
             [
              0.4444444444444444,
              "#bd3786"
             ],
             [
              0.5555555555555556,
              "#d8576b"
             ],
             [
              0.6666666666666666,
              "#ed7953"
             ],
             [
              0.7777777777777778,
              "#fb9f3a"
             ],
             [
              0.8888888888888888,
              "#fdca26"
             ],
             [
              1,
              "#f0f921"
             ]
            ],
            "type": "contour"
           }
          ],
          "contourcarpet": [
           {
            "colorbar": {
             "outlinewidth": 0,
             "ticks": ""
            },
            "type": "contourcarpet"
           }
          ],
          "heatmap": [
           {
            "colorbar": {
             "outlinewidth": 0,
             "ticks": ""
            },
            "colorscale": [
             [
              0,
              "#0d0887"
             ],
             [
              0.1111111111111111,
              "#46039f"
             ],
             [
              0.2222222222222222,
              "#7201a8"
             ],
             [
              0.3333333333333333,
              "#9c179e"
             ],
             [
              0.4444444444444444,
              "#bd3786"
             ],
             [
              0.5555555555555556,
              "#d8576b"
             ],
             [
              0.6666666666666666,
              "#ed7953"
             ],
             [
              0.7777777777777778,
              "#fb9f3a"
             ],
             [
              0.8888888888888888,
              "#fdca26"
             ],
             [
              1,
              "#f0f921"
             ]
            ],
            "type": "heatmap"
           }
          ],
          "histogram": [
           {
            "marker": {
             "pattern": {
              "fillmode": "overlay",
              "size": 10,
              "solidity": 0.2
             }
            },
            "type": "histogram"
           }
          ],
          "histogram2d": [
           {
            "colorbar": {
             "outlinewidth": 0,
             "ticks": ""
            },
            "colorscale": [
             [
              0,
              "#0d0887"
             ],
             [
              0.1111111111111111,
              "#46039f"
             ],
             [
              0.2222222222222222,
              "#7201a8"
             ],
             [
              0.3333333333333333,
              "#9c179e"
             ],
             [
              0.4444444444444444,
              "#bd3786"
             ],
             [
              0.5555555555555556,
              "#d8576b"
             ],
             [
              0.6666666666666666,
              "#ed7953"
             ],
             [
              0.7777777777777778,
              "#fb9f3a"
             ],
             [
              0.8888888888888888,
              "#fdca26"
             ],
             [
              1,
              "#f0f921"
             ]
            ],
            "type": "histogram2d"
           }
          ],
          "histogram2dcontour": [
           {
            "colorbar": {
             "outlinewidth": 0,
             "ticks": ""
            },
            "colorscale": [
             [
              0,
              "#0d0887"
             ],
             [
              0.1111111111111111,
              "#46039f"
             ],
             [
              0.2222222222222222,
              "#7201a8"
             ],
             [
              0.3333333333333333,
              "#9c179e"
             ],
             [
              0.4444444444444444,
              "#bd3786"
             ],
             [
              0.5555555555555556,
              "#d8576b"
             ],
             [
              0.6666666666666666,
              "#ed7953"
             ],
             [
              0.7777777777777778,
              "#fb9f3a"
             ],
             [
              0.8888888888888888,
              "#fdca26"
             ],
             [
              1,
              "#f0f921"
             ]
            ],
            "type": "histogram2dcontour"
           }
          ],
          "mesh3d": [
           {
            "colorbar": {
             "outlinewidth": 0,
             "ticks": ""
            },
            "type": "mesh3d"
           }
          ],
          "parcoords": [
           {
            "line": {
             "colorbar": {
              "outlinewidth": 0,
              "ticks": ""
             }
            },
            "type": "parcoords"
           }
          ],
          "pie": [
           {
            "automargin": true,
            "type": "pie"
           }
          ],
          "scatter": [
           {
            "fillpattern": {
             "fillmode": "overlay",
             "size": 10,
             "solidity": 0.2
            },
            "type": "scatter"
           }
          ],
          "scatter3d": [
           {
            "line": {
             "colorbar": {
              "outlinewidth": 0,
              "ticks": ""
             }
            },
            "marker": {
             "colorbar": {
              "outlinewidth": 0,
              "ticks": ""
             }
            },
            "type": "scatter3d"
           }
          ],
          "scattercarpet": [
           {
            "marker": {
             "colorbar": {
              "outlinewidth": 0,
              "ticks": ""
             }
            },
            "type": "scattercarpet"
           }
          ],
          "scattergeo": [
           {
            "marker": {
             "colorbar": {
              "outlinewidth": 0,
              "ticks": ""
             }
            },
            "type": "scattergeo"
           }
          ],
          "scattergl": [
           {
            "marker": {
             "colorbar": {
              "outlinewidth": 0,
              "ticks": ""
             }
            },
            "type": "scattergl"
           }
          ],
          "scattermap": [
           {
            "marker": {
             "colorbar": {
              "outlinewidth": 0,
              "ticks": ""
             }
            },
            "type": "scattermap"
           }
          ],
          "scattermapbox": [
           {
            "marker": {
             "colorbar": {
              "outlinewidth": 0,
              "ticks": ""
             }
            },
            "type": "scattermapbox"
           }
          ],
          "scatterpolar": [
           {
            "marker": {
             "colorbar": {
              "outlinewidth": 0,
              "ticks": ""
             }
            },
            "type": "scatterpolar"
           }
          ],
          "scatterpolargl": [
           {
            "marker": {
             "colorbar": {
              "outlinewidth": 0,
              "ticks": ""
             }
            },
            "type": "scatterpolargl"
           }
          ],
          "scatterternary": [
           {
            "marker": {
             "colorbar": {
              "outlinewidth": 0,
              "ticks": ""
             }
            },
            "type": "scatterternary"
           }
          ],
          "surface": [
           {
            "colorbar": {
             "outlinewidth": 0,
             "ticks": ""
            },
            "colorscale": [
             [
              0,
              "#0d0887"
             ],
             [
              0.1111111111111111,
              "#46039f"
             ],
             [
              0.2222222222222222,
              "#7201a8"
             ],
             [
              0.3333333333333333,
              "#9c179e"
             ],
             [
              0.4444444444444444,
              "#bd3786"
             ],
             [
              0.5555555555555556,
              "#d8576b"
             ],
             [
              0.6666666666666666,
              "#ed7953"
             ],
             [
              0.7777777777777778,
              "#fb9f3a"
             ],
             [
              0.8888888888888888,
              "#fdca26"
             ],
             [
              1,
              "#f0f921"
             ]
            ],
            "type": "surface"
           }
          ],
          "table": [
           {
            "cells": {
             "fill": {
              "color": "#EBF0F8"
             },
             "line": {
              "color": "white"
             }
            },
            "header": {
             "fill": {
              "color": "#C8D4E3"
             },
             "line": {
              "color": "white"
             }
            },
            "type": "table"
           }
          ]
         },
         "layout": {
          "annotationdefaults": {
           "arrowcolor": "#2a3f5f",
           "arrowhead": 0,
           "arrowwidth": 1
          },
          "autotypenumbers": "strict",
          "coloraxis": {
           "colorbar": {
            "outlinewidth": 0,
            "ticks": ""
           }
          },
          "colorscale": {
           "diverging": [
            [
             0,
             "#8e0152"
            ],
            [
             0.1,
             "#c51b7d"
            ],
            [
             0.2,
             "#de77ae"
            ],
            [
             0.3,
             "#f1b6da"
            ],
            [
             0.4,
             "#fde0ef"
            ],
            [
             0.5,
             "#f7f7f7"
            ],
            [
             0.6,
             "#e6f5d0"
            ],
            [
             0.7,
             "#b8e186"
            ],
            [
             0.8,
             "#7fbc41"
            ],
            [
             0.9,
             "#4d9221"
            ],
            [
             1,
             "#276419"
            ]
           ],
           "sequential": [
            [
             0,
             "#0d0887"
            ],
            [
             0.1111111111111111,
             "#46039f"
            ],
            [
             0.2222222222222222,
             "#7201a8"
            ],
            [
             0.3333333333333333,
             "#9c179e"
            ],
            [
             0.4444444444444444,
             "#bd3786"
            ],
            [
             0.5555555555555556,
             "#d8576b"
            ],
            [
             0.6666666666666666,
             "#ed7953"
            ],
            [
             0.7777777777777778,
             "#fb9f3a"
            ],
            [
             0.8888888888888888,
             "#fdca26"
            ],
            [
             1,
             "#f0f921"
            ]
           ],
           "sequentialminus": [
            [
             0,
             "#0d0887"
            ],
            [
             0.1111111111111111,
             "#46039f"
            ],
            [
             0.2222222222222222,
             "#7201a8"
            ],
            [
             0.3333333333333333,
             "#9c179e"
            ],
            [
             0.4444444444444444,
             "#bd3786"
            ],
            [
             0.5555555555555556,
             "#d8576b"
            ],
            [
             0.6666666666666666,
             "#ed7953"
            ],
            [
             0.7777777777777778,
             "#fb9f3a"
            ],
            [
             0.8888888888888888,
             "#fdca26"
            ],
            [
             1,
             "#f0f921"
            ]
           ]
          },
          "colorway": [
           "#636efa",
           "#EF553B",
           "#00cc96",
           "#ab63fa",
           "#FFA15A",
           "#19d3f3",
           "#FF6692",
           "#B6E880",
           "#FF97FF",
           "#FECB52"
          ],
          "font": {
           "color": "#2a3f5f"
          },
          "geo": {
           "bgcolor": "white",
           "lakecolor": "white",
           "landcolor": "#E5ECF6",
           "showlakes": true,
           "showland": true,
           "subunitcolor": "white"
          },
          "hoverlabel": {
           "align": "left"
          },
          "hovermode": "closest",
          "mapbox": {
           "style": "light"
          },
          "paper_bgcolor": "white",
          "plot_bgcolor": "#E5ECF6",
          "polar": {
           "angularaxis": {
            "gridcolor": "white",
            "linecolor": "white",
            "ticks": ""
           },
           "bgcolor": "#E5ECF6",
           "radialaxis": {
            "gridcolor": "white",
            "linecolor": "white",
            "ticks": ""
           }
          },
          "scene": {
           "xaxis": {
            "backgroundcolor": "#E5ECF6",
            "gridcolor": "white",
            "gridwidth": 2,
            "linecolor": "white",
            "showbackground": true,
            "ticks": "",
            "zerolinecolor": "white"
           },
           "yaxis": {
            "backgroundcolor": "#E5ECF6",
            "gridcolor": "white",
            "gridwidth": 2,
            "linecolor": "white",
            "showbackground": true,
            "ticks": "",
            "zerolinecolor": "white"
           },
           "zaxis": {
            "backgroundcolor": "#E5ECF6",
            "gridcolor": "white",
            "gridwidth": 2,
            "linecolor": "white",
            "showbackground": true,
            "ticks": "",
            "zerolinecolor": "white"
           }
          },
          "shapedefaults": {
           "line": {
            "color": "#2a3f5f"
           }
          },
          "ternary": {
           "aaxis": {
            "gridcolor": "white",
            "linecolor": "white",
            "ticks": ""
           },
           "baxis": {
            "gridcolor": "white",
            "linecolor": "white",
            "ticks": ""
           },
           "bgcolor": "#E5ECF6",
           "caxis": {
            "gridcolor": "white",
            "linecolor": "white",
            "ticks": ""
           }
          },
          "title": {
           "x": 0.05
          },
          "xaxis": {
           "automargin": true,
           "gridcolor": "white",
           "linecolor": "white",
           "ticks": "",
           "title": {
            "standoff": 15
           },
           "zerolinecolor": "white",
           "zerolinewidth": 2
          },
          "yaxis": {
           "automargin": true,
           "gridcolor": "white",
           "linecolor": "white",
           "ticks": "",
           "title": {
            "standoff": 15
           },
           "zerolinecolor": "white",
           "zerolinewidth": 2
          }
         }
        },
        "title": {
         "text": "Big 3 Attack Efficiency Trend (GF - xGF per Match)"
        },
        "xaxis": {
         "anchor": "y",
         "domain": [
          0,
          1
         ],
         "title": {
          "text": "Season"
         }
        },
        "yaxis": {
         "anchor": "x",
         "domain": [
          0,
          1
         ],
         "title": {
          "text": "Attack Efficiency (GF - xGF per Match)"
         }
        }
       }
      }
     },
     "metadata": {},
     "output_type": "display_data"
    }
   ],
   "source": [
    "# 4-1. 데이터 재구성 (Restructure Data)\n",
    "home_df = df[['season', 'home_team', 'home_goals', 'home_xg']].rename(columns={'home_team': 'team', 'home_goals': 'GF', 'home_xg': 'xGF'})\n",
    "away_df = df[['season', 'away_team', 'away_goals', 'away_xg']].rename(columns={'away_team': 'team', 'away_goals': 'GF', 'away_xg': 'xGF'})\n",
    "team_df = pd.concat([home_df, away_df], ignore_index=True)\n",
    "\n",
    "# 4-2. 이름 표준화 함수 및 딕셔너리 정의 (Define Name Standardization)\n",
    "big3_alias = {\n",
    "    \"Real Madrid\": [\"Real Madrid\"],\n",
    "    \"Barcelona\":   [\"Barcelona\", \"FC Barcelona\"],\n",
    "    \"Atletico Madrid\": [\"Atletico Madrid\", \"Atlético Madrid\"]\n",
    "}\n",
    "def standardize_name(team_name):\n",
    "    for standard_name, aliases in big3_alias.items():\n",
    "        if team_name in aliases:\n",
    "            return standard_name\n",
    "    return team_name\n",
    "team_df['team_std'] = team_df['team'].apply(standardize_name)\n",
    "\n",
    "# 4-3. Big 3 팀 필터링 및 시즌별 집계 (Filter and Aggregate)\n",
    "big3_teams = [\"Real Madrid\", \"Barcelona\", \"Atletico Madrid\"]\n",
    "big3_df = team_df[team_df['team_std'].isin(big3_teams)]\n",
    "season_team_agg = big3_df.groupby(['season', 'team_std']).agg(\n",
    "    GF_total=('GF', 'sum'),\n",
    "    xGF_total=('xGF', 'sum'),\n",
    "    matches=('team_std', 'size')\n",
    ").reset_index().rename(columns={'team_std': 'team'})\n",
    "\n",
    "# 4-4. 경기당 지표 및 공격 효율성 계산 (Calculate Metrics)\n",
    "season_team_agg['GF_per_match'] = season_team_agg['GF_total'] / season_team_agg['matches']\n",
    "season_team_agg['xGF_per_match'] = season_team_agg['xGF_total'] / season_team_agg['matches']\n",
    "season_team_agg['attack_efficiency'] = season_team_agg['GF_per_match'] - season_team_agg['xGF_per_match']\n",
    "\n",
    "# 4-5. [수정됨] 공격 효율성 시각화 (REVISED: Visualize Attack Efficiency with Labels)\n",
    "fig_efficiency = px.bar(\n",
    "    season_team_agg,\n",
    "    x=\"season\",\n",
    "    y=\"attack_efficiency\",\n",
    "    color=\"team\",\n",
    "    barmode='group',\n",
    "    title=\"Big 3 Attack Efficiency Trend (GF - xGF per Match)\",\n",
    "    labels={\n",
    "        \"season\": \"Season\",\n",
    "        \"attack_efficiency\": \"Attack Efficiency (GF - xGF per Match)\",\n",
    "        \"team\": \"Team\"\n",
    "    },\n",
    "    text_auto=True  # 막대에 텍스트를 자동으로 추가하는 기능\n",
    ")\n",
    "\n",
    "# 텍스트 라벨의 소수점 자릿수와 위치를 조정하여 가독성을 높입니다.\n",
    "fig_efficiency.update_traces(texttemplate='%{y:.2f}', textposition='outside')\n",
    "fig_efficiency.add_hline(y=0, line_width=2, line_dash=\"dash\", line_color=\"black\")\n",
    "fig_efficiency.show()"
   ]
  },
  {
   "cell_type": "markdown",
   "metadata": {},
   "source": [
    "## 4. Graph Interpretation (그래프 해석)\n",
    "\n",
    "# **Definition**  \n",
    "  - Attack Efficiency = GF_per_match − xGF_per_match  \n",
    "\n",
    "# 🔵 Atletico Madrid\n",
    "\t-\tMostly positive values until late 2010s → slightly more goals than expected.\n",
    "\t-\t2019-20 & 2024-25: Negative values → attack efficiency dropped.\n",
    "\t-\tOverall stable, but recent decline in finishing quality observed.\n",
    "\n",
    "# 🔴 Barcelona\n",
    "\t-\t2014–2017: Large positive margin → Messi’s prime years, highly efficient finishing.\n",
    "\t-\t2018 onward: Gradual decline, with 2022-23 below zero → inefficient finishing.\n",
    "\t-\tRecently slight recovery, but no longer dominant as in the past.\n",
    "\n",
    "# 🟢 Real Madrid\n",
    "\t-\t2014–2017: Strong positive values → Ronaldo era, elite finishing efficiency.\n",
    "\t-\t2018 onward: Gradual decline, turning negative in 2024-25.\n",
    "\t-\tReflects post-Ronaldo transition and reliance on new attacking structures.\n",
    "===\n",
    "\n",
    "# 🔵 Atletico Madrid\n",
    "\t•\t대부분 시즌에서 +값(0 이상) → 기대득점 대비 실제 득점이 조금 더 많았음.\n",
    "\t•\t하지만 2019-20, 2024-25 시즌에는 마이너스로 떨어짐 → 공격 효율이 기대치보다 낮았음을 의미.\n",
    "\t•\t전반적으로 안정적인 득점 효율을 보여줬으나, 최근 시즌들에는 득점력 하락 조짐이 있음.\n",
    "\n",
    "# 🔴 Barcelona\n",
    "\t•\t2014-2017 시즌에는 GF-xGF가 크게 양수 → 메시 전성기 시절, 기대득점보다 훨씬 많은 득점을 기록.\n",
    "\t•\t그러나 2018-19 이후 점차 줄어들어 2022-23 시즌에는 음수 → 기대득점보다 덜 득점하는 비효율적인 공격력.\n",
    "\t•\t최근 다시 소폭 회복했으나, 과거만큼의 압도적 효율은 사라짐.\n",
    "\n",
    "# 🟢 Real Madrid\n",
    "\t•\t2014-2017 시즌 압도적 양수 → 호날두 시절, 기회보다 훨씬 많은 득점 (골 결정력 최강).\n",
    "\t•\t2018-2019 이후 점차 하락, 최근 시즌(2024-25)에서는 오히려 음수 → 기대득점보다 덜 넣는 모습.\n",
    "\t•\t이는 호날두 이탈 + 벤제마 이후 공격 전환 과정에서 나타난 변화로 해석 가능."
   ]
  },
  {
   "cell_type": "markdown",
   "metadata": {},
   "source": [
    "# 5단계 Defensive Analysis: Goals Conceded & PPDA"
   ]
  },
  {
   "cell_type": "markdown",
   "metadata": {},
   "source": [
    "0) What & Why (영/한 요약)\n",
    "-\t•\tPPDA = Passes allowed Per Defensive Action (상대에게 허용한 패스 수 ÷ 수비행동 수).\n",
    " → 낮을수록 강한 압박(더 공격적으로 수비).\n",
    "-\t•\tGA (Goals Against) = 실점.\n",
    "-\t•\txGA (Expected Goals Against) = 실점이 예상된 값(상대가 만든 xG).\n",
    "-\t•\tDefensive Efficiency (수비 효율성) = xGA_per_match − GA_per_match\n",
    " → 양수(+): 예상보다 실점을 적게 함(좋음), 음수(−): 예상보다 많이 실점(나쁨)."
   ]
  },
  {
   "cell_type": "markdown",
   "metadata": {},
   "source": [
    "1) Import & Data Load (임포트/데이터 로드)"
   ]
  },
  {
   "cell_type": "code",
   "execution_count": 9,
   "metadata": {},
   "outputs": [
    {
     "name": "stdout",
     "output_type": "stream",
     "text": [
      "(4180, 19) ['match_id', 'date', 'home_team', 'away_team', 'home_goals', 'away_goals', 'home_xg', 'away_xg', 'home_shots', 'away_shots', 'home_sot', 'away_sot']\n"
     ]
    }
   ],
   "source": [
    "# 1) Import & Load\n",
    "import pandas as pd\n",
    "import numpy as np\n",
    "import plotly.express as px\n",
    "\n",
    "DF_PATH = \"la_liga_2014_2025_all_matches_final.csv\"  # 파일이 현재 폴더에 있어야 함\n",
    "df = pd.read_csv(DF_PATH, parse_dates=[\"date\"])\n",
    "print(df.shape, df.columns.tolist()[:12])  # 빠른 확인"
   ]
  },
  {
   "cell_type": "markdown",
   "metadata": {},
   "source": [
    "2) Season Normalization (시즌 표기 통일 + 순서 고정)\n",
    "\n",
    "- EN: Normalize season labels to a standard form like 2016-17, then set a categorical order so x-axis doesn’t shuffle.\n",
    "- KR: 시즌 표기를 2016-17 형식으로 통일하고, 카테고리 순서를 지정해 x축 순서를 고정합니다."
   ]
  },
  {
   "cell_type": "code",
   "execution_count": 10,
   "metadata": {},
   "outputs": [
    {
     "name": "stdout",
     "output_type": "stream",
     "text": [
      "NaN seasons: 0\n"
     ]
    }
   ],
   "source": [
    "# 2) Season normalization\n",
    "SEASON_ORDER = [\"2014-15\",\"2015-16\",\"2016-17\",\"2017-18\",\"2018-19\",\n",
    "                \"2019-20\",\"2020-21\",\"2021-22\",\"2022-23\",\"2023-24\",\"2024-25\"]\n",
    "\n",
    "def normalize_season_label(s: str) -> str:\n",
    "    if pd.isna(s):\n",
    "        return s\n",
    "    s = str(s).strip().replace(\"–\",\"-\").replace(\"—\",\"-\").replace(\"/\", \"-\").replace(\" \", \"\")\n",
    "    mapping = {\n",
    "        \"2014-2015\":\"2014-15\",\"2015-2016\":\"2015-16\",\"2016-2017\":\"2016-17\",\n",
    "        \"2017-2018\":\"2017-18\",\"2018-2019\":\"2018-19\",\"2019-2020\":\"2019-20\",\n",
    "        \"2020-2021\":\"2020-21\",\"2021-2022\":\"2021-22\",\"2022-2023\":\"2022-23\",\n",
    "        \"2023-2024\":\"2023-24\",\"2024-2025\":\"2024-25\"\n",
    "    }\n",
    "    return mapping.get(s, s)\n",
    "\n",
    "# If 'season' is missing, map from 'date' using given boundaries\n",
    "if \"season\" not in df.columns:\n",
    "    SEASON_BOUNDARIES = {\n",
    "        \"2014-15\": (\"2014-08-23\",\"2015-05-24\"),\n",
    "        \"2015-16\": (\"2015-08-21\",\"2016-05-15\"),\n",
    "        \"2016-17\": (\"2016-08-19\",\"2017-05-21\"),\n",
    "        \"2017-18\": (\"2017-08-18\",\"2018-05-20\"),\n",
    "        \"2018-19\": (\"2018-08-17\",\"2019-05-26\"),\n",
    "        \"2019-20\": (\"2019-08-16\",\"2020-07-19\"),\n",
    "        \"2020-21\": (\"2020-09-12\",\"2021-05-23\"),\n",
    "        \"2021-22\": (\"2021-08-13\",\"2022-05-22\"),\n",
    "        \"2022-23\": (\"2022-08-12\",\"2023-06-04\"),\n",
    "        \"2023-24\": (\"2023-08-11\",\"2024-05-26\"),\n",
    "        \"2024-25\": (\"2024-08-15\",\"2025-05-25\"),\n",
    "    }\n",
    "    def season_from_date(d):\n",
    "        d = pd.to_datetime(d).date()\n",
    "        for sn,(s,e) in SEASON_BOUNDARIES.items():\n",
    "            if pd.to_datetime(s).date() <= d <= pd.to_datetime(e).date():\n",
    "                return sn\n",
    "        return None\n",
    "    df[\"season\"] = df[\"date\"].apply(season_from_date)\n",
    "\n",
    "# Normalize & set order\n",
    "df[\"season\"] = df[\"season\"].apply(normalize_season_label)\n",
    "df[\"season\"] = pd.Categorical(df[\"season\"], categories=SEASON_ORDER, ordered=True)\n",
    "\n",
    "print(\"NaN seasons:\", int(df[\"season\"].isna().sum()))"
   ]
  },
  {
   "cell_type": "markdown",
   "metadata": {},
   "source": [
    "3) Build Team-Game Defensive Rows (팀-경기 수비 행 만들기)\n",
    "\n",
    "- EN: For defense, the opponent’s goals/xG become our GA/xGA. PPDA comes from our team’s PPDA column.\n",
    "- KR: 수비 관점에서는 상대 득점/xG가 우리의 실점(GA)/예상 실점(xGA) 이 됩니다. PPDA는 우리팀 PPDA를 사용합니다"
   ]
  },
  {
   "cell_type": "code",
   "execution_count": 11,
   "metadata": {},
   "outputs": [
    {
     "data": {
      "text/html": [
       "<div>\n",
       "<style scoped>\n",
       "    .dataframe tbody tr th:only-of-type {\n",
       "        vertical-align: middle;\n",
       "    }\n",
       "\n",
       "    .dataframe tbody tr th {\n",
       "        vertical-align: top;\n",
       "    }\n",
       "\n",
       "    .dataframe thead th {\n",
       "        text-align: right;\n",
       "    }\n",
       "</style>\n",
       "<table border=\"1\" class=\"dataframe\">\n",
       "  <thead>\n",
       "    <tr style=\"text-align: right;\">\n",
       "      <th></th>\n",
       "      <th>season</th>\n",
       "      <th>team</th>\n",
       "      <th>GA</th>\n",
       "      <th>xGA</th>\n",
       "      <th>PPDA</th>\n",
       "    </tr>\n",
       "  </thead>\n",
       "  <tbody>\n",
       "    <tr>\n",
       "      <th>0</th>\n",
       "      <td>2014-15</td>\n",
       "      <td>Malaga</td>\n",
       "      <td>0.0</td>\n",
       "      <td>1.14</td>\n",
       "      <td>12.07</td>\n",
       "    </tr>\n",
       "    <tr>\n",
       "      <th>1</th>\n",
       "      <td>2014-15</td>\n",
       "      <td>Sevilla</td>\n",
       "      <td>1.0</td>\n",
       "      <td>1.75</td>\n",
       "      <td>9.42</td>\n",
       "    </tr>\n",
       "    <tr>\n",
       "      <th>2</th>\n",
       "      <td>2014-15</td>\n",
       "      <td>Granada</td>\n",
       "      <td>1.0</td>\n",
       "      <td>0.38</td>\n",
       "      <td>4.78</td>\n",
       "    </tr>\n",
       "    <tr>\n",
       "      <th>3</th>\n",
       "      <td>2014-15</td>\n",
       "      <td>Almeria</td>\n",
       "      <td>1.0</td>\n",
       "      <td>0.40</td>\n",
       "      <td>6.67</td>\n",
       "    </tr>\n",
       "    <tr>\n",
       "      <th>4</th>\n",
       "      <td>2014-15</td>\n",
       "      <td>Eibar</td>\n",
       "      <td>0.0</td>\n",
       "      <td>0.98</td>\n",
       "      <td>8.79</td>\n",
       "    </tr>\n",
       "  </tbody>\n",
       "</table>\n",
       "</div>"
      ],
      "text/plain": [
       "    season     team   GA   xGA   PPDA\n",
       "0  2014-15   Malaga  0.0  1.14  12.07\n",
       "1  2014-15  Sevilla  1.0  1.75   9.42\n",
       "2  2014-15  Granada  1.0  0.38   4.78\n",
       "3  2014-15  Almeria  1.0  0.40   6.67\n",
       "4  2014-15    Eibar  0.0  0.98   8.79"
      ]
     },
     "execution_count": 11,
     "metadata": {},
     "output_type": "execute_result"
    }
   ],
   "source": [
    "# 3) Team-game defensive rows\n",
    "home_def = df[[\"season\",\"home_team\",\"away_goals\",\"away_xg\",\"home_ppda\"]].rename(\n",
    "    columns={\"home_team\":\"team\",\"away_goals\":\"GA\",\"away_xg\":\"xGA\",\"home_ppda\":\"PPDA\"}\n",
    ")\n",
    "away_def = df[[\"season\",\"away_team\",\"home_goals\",\"home_xg\",\"away_ppda\"]].rename(\n",
    "    columns={\"away_team\":\"team\",\"home_goals\":\"GA\",\"home_xg\":\"xGA\",\"away_ppda\":\"PPDA\"}\n",
    ")\n",
    "team_def = pd.concat([home_def, away_def], ignore_index=True)\n",
    "team_def[[\"GA\",\"xGA\",\"PPDA\"]] = team_def[[\"GA\",\"xGA\",\"PPDA\"]].astype(float)\n",
    "\n",
    "# (optional) harmonize team names\n",
    "def norm_team(s):\n",
    "    if pd.isna(s): return s\n",
    "    return (str(s).strip()\n",
    "            .replace(\"Atlético Madrid\",\"Atletico Madrid\")\n",
    "            .replace(\"FC Barcelona\",\"Barcelona\")\n",
    "            .replace(\"Real Madrid CF\",\"Real Madrid\"))\n",
    "team_def[\"team\"] = team_def[\"team\"].apply(norm_team)\n",
    "\n",
    "team_def.head()"
   ]
  },
  {
   "cell_type": "markdown",
   "metadata": {},
   "source": [
    "4) Aggregate per Season-Team & Compute Defensive Efficiency\n",
    "\n",
    "    (시즌·팀 집계 + 수비 효율성 계산)\n",
    "\n",
    "-    EN: Aggregate totals/means, convert to per-match, and define\n",
    "-    def_efficiency = xGA_per_match − GA_per_match (positive = good).\n",
    "-    KR: 합계를 시즌·팀 단위로 집계 후 경기당 지표로 환산,\n",
    "-    def_efficiency = xGA/m − GA/m 으로 정의합니다 (양수=좋음)."
   ]
  },
  {
   "cell_type": "code",
   "execution_count": 22,
   "metadata": {},
   "outputs": [
    {
     "data": {
      "text/html": [
       "<div>\n",
       "<style scoped>\n",
       "    .dataframe tbody tr th:only-of-type {\n",
       "        vertical-align: middle;\n",
       "    }\n",
       "\n",
       "    .dataframe tbody tr th {\n",
       "        vertical-align: top;\n",
       "    }\n",
       "\n",
       "    .dataframe thead th {\n",
       "        text-align: right;\n",
       "    }\n",
       "</style>\n",
       "<table border=\"1\" class=\"dataframe\">\n",
       "  <thead>\n",
       "    <tr style=\"text-align: right;\">\n",
       "      <th></th>\n",
       "      <th>season</th>\n",
       "      <th>team</th>\n",
       "      <th>GA_total</th>\n",
       "      <th>xGA_total</th>\n",
       "      <th>matches</th>\n",
       "      <th>PPDA_avg</th>\n",
       "      <th>GA_per_match</th>\n",
       "      <th>xGA_per_match</th>\n",
       "      <th>def_efficiency</th>\n",
       "    </tr>\n",
       "  </thead>\n",
       "  <tbody>\n",
       "    <tr>\n",
       "      <th>0</th>\n",
       "      <td>2014-15</td>\n",
       "      <td>Almeria</td>\n",
       "      <td>64.0</td>\n",
       "      <td>58.86</td>\n",
       "      <td>38</td>\n",
       "      <td>8.76</td>\n",
       "      <td>1.68</td>\n",
       "      <td>1.55</td>\n",
       "      <td>-0.13</td>\n",
       "    </tr>\n",
       "    <tr>\n",
       "      <th>1</th>\n",
       "      <td>2014-15</td>\n",
       "      <td>Athletic Club</td>\n",
       "      <td>41.0</td>\n",
       "      <td>44.09</td>\n",
       "      <td>38</td>\n",
       "      <td>7.46</td>\n",
       "      <td>1.08</td>\n",
       "      <td>1.16</td>\n",
       "      <td>0.08</td>\n",
       "    </tr>\n",
       "    <tr>\n",
       "      <th>2</th>\n",
       "      <td>2014-15</td>\n",
       "      <td>Atletico Madrid</td>\n",
       "      <td>29.0</td>\n",
       "      <td>29.08</td>\n",
       "      <td>38</td>\n",
       "      <td>8.98</td>\n",
       "      <td>0.76</td>\n",
       "      <td>0.77</td>\n",
       "      <td>0.01</td>\n",
       "    </tr>\n",
       "    <tr>\n",
       "      <th>3</th>\n",
       "      <td>2014-15</td>\n",
       "      <td>Barcelona</td>\n",
       "      <td>21.0</td>\n",
       "      <td>28.47</td>\n",
       "      <td>38</td>\n",
       "      <td>5.68</td>\n",
       "      <td>0.55</td>\n",
       "      <td>0.75</td>\n",
       "      <td>0.20</td>\n",
       "    </tr>\n",
       "    <tr>\n",
       "      <th>4</th>\n",
       "      <td>2014-15</td>\n",
       "      <td>Celta Vigo</td>\n",
       "      <td>44.0</td>\n",
       "      <td>51.73</td>\n",
       "      <td>38</td>\n",
       "      <td>6.06</td>\n",
       "      <td>1.16</td>\n",
       "      <td>1.36</td>\n",
       "      <td>0.20</td>\n",
       "    </tr>\n",
       "    <tr>\n",
       "      <th>5</th>\n",
       "      <td>2014-15</td>\n",
       "      <td>Cordoba</td>\n",
       "      <td>68.0</td>\n",
       "      <td>57.33</td>\n",
       "      <td>38</td>\n",
       "      <td>11.61</td>\n",
       "      <td>1.79</td>\n",
       "      <td>1.51</td>\n",
       "      <td>-0.28</td>\n",
       "    </tr>\n",
       "    <tr>\n",
       "      <th>6</th>\n",
       "      <td>2014-15</td>\n",
       "      <td>Deportivo La Coruna</td>\n",
       "      <td>60.0</td>\n",
       "      <td>50.99</td>\n",
       "      <td>38</td>\n",
       "      <td>9.87</td>\n",
       "      <td>1.58</td>\n",
       "      <td>1.34</td>\n",
       "      <td>-0.24</td>\n",
       "    </tr>\n",
       "    <tr>\n",
       "      <th>7</th>\n",
       "      <td>2014-15</td>\n",
       "      <td>Eibar</td>\n",
       "      <td>55.0</td>\n",
       "      <td>53.70</td>\n",
       "      <td>38</td>\n",
       "      <td>9.64</td>\n",
       "      <td>1.45</td>\n",
       "      <td>1.41</td>\n",
       "      <td>-0.04</td>\n",
       "    </tr>\n",
       "    <tr>\n",
       "      <th>8</th>\n",
       "      <td>2014-15</td>\n",
       "      <td>Elche</td>\n",
       "      <td>62.0</td>\n",
       "      <td>58.05</td>\n",
       "      <td>38</td>\n",
       "      <td>9.52</td>\n",
       "      <td>1.63</td>\n",
       "      <td>1.53</td>\n",
       "      <td>-0.10</td>\n",
       "    </tr>\n",
       "    <tr>\n",
       "      <th>9</th>\n",
       "      <td>2014-15</td>\n",
       "      <td>Espanyol</td>\n",
       "      <td>51.0</td>\n",
       "      <td>48.29</td>\n",
       "      <td>38</td>\n",
       "      <td>9.38</td>\n",
       "      <td>1.34</td>\n",
       "      <td>1.27</td>\n",
       "      <td>-0.07</td>\n",
       "    </tr>\n",
       "    <tr>\n",
       "      <th>10</th>\n",
       "      <td>2014-15</td>\n",
       "      <td>Getafe</td>\n",
       "      <td>64.0</td>\n",
       "      <td>53.65</td>\n",
       "      <td>38</td>\n",
       "      <td>10.15</td>\n",
       "      <td>1.68</td>\n",
       "      <td>1.41</td>\n",
       "      <td>-0.27</td>\n",
       "    </tr>\n",
       "    <tr>\n",
       "      <th>11</th>\n",
       "      <td>2014-15</td>\n",
       "      <td>Granada</td>\n",
       "      <td>64.0</td>\n",
       "      <td>54.27</td>\n",
       "      <td>38</td>\n",
       "      <td>8.93</td>\n",
       "      <td>1.68</td>\n",
       "      <td>1.43</td>\n",
       "      <td>-0.25</td>\n",
       "    </tr>\n",
       "    <tr>\n",
       "      <th>12</th>\n",
       "      <td>2014-15</td>\n",
       "      <td>Levante</td>\n",
       "      <td>67.0</td>\n",
       "      <td>60.24</td>\n",
       "      <td>38</td>\n",
       "      <td>12.38</td>\n",
       "      <td>1.76</td>\n",
       "      <td>1.59</td>\n",
       "      <td>-0.17</td>\n",
       "    </tr>\n",
       "    <tr>\n",
       "      <th>13</th>\n",
       "      <td>2014-15</td>\n",
       "      <td>Malaga</td>\n",
       "      <td>48.0</td>\n",
       "      <td>54.14</td>\n",
       "      <td>38</td>\n",
       "      <td>7.79</td>\n",
       "      <td>1.26</td>\n",
       "      <td>1.42</td>\n",
       "      <td>0.16</td>\n",
       "    </tr>\n",
       "    <tr>\n",
       "      <th>14</th>\n",
       "      <td>2014-15</td>\n",
       "      <td>Rayo Vallecano</td>\n",
       "      <td>68.0</td>\n",
       "      <td>70.42</td>\n",
       "      <td>38</td>\n",
       "      <td>6.16</td>\n",
       "      <td>1.79</td>\n",
       "      <td>1.85</td>\n",
       "      <td>0.06</td>\n",
       "    </tr>\n",
       "    <tr>\n",
       "      <th>15</th>\n",
       "      <td>2014-15</td>\n",
       "      <td>Real Madrid</td>\n",
       "      <td>38.0</td>\n",
       "      <td>42.58</td>\n",
       "      <td>38</td>\n",
       "      <td>10.21</td>\n",
       "      <td>1.00</td>\n",
       "      <td>1.12</td>\n",
       "      <td>0.12</td>\n",
       "    </tr>\n",
       "    <tr>\n",
       "      <th>16</th>\n",
       "      <td>2014-15</td>\n",
       "      <td>Real Sociedad</td>\n",
       "      <td>51.0</td>\n",
       "      <td>51.15</td>\n",
       "      <td>38</td>\n",
       "      <td>8.61</td>\n",
       "      <td>1.34</td>\n",
       "      <td>1.35</td>\n",
       "      <td>0.01</td>\n",
       "    </tr>\n",
       "    <tr>\n",
       "      <th>17</th>\n",
       "      <td>2014-15</td>\n",
       "      <td>Sevilla</td>\n",
       "      <td>45.0</td>\n",
       "      <td>47.87</td>\n",
       "      <td>38</td>\n",
       "      <td>8.28</td>\n",
       "      <td>1.18</td>\n",
       "      <td>1.26</td>\n",
       "      <td>0.08</td>\n",
       "    </tr>\n",
       "    <tr>\n",
       "      <th>18</th>\n",
       "      <td>2014-15</td>\n",
       "      <td>Valencia</td>\n",
       "      <td>32.0</td>\n",
       "      <td>39.38</td>\n",
       "      <td>38</td>\n",
       "      <td>8.71</td>\n",
       "      <td>0.84</td>\n",
       "      <td>1.04</td>\n",
       "      <td>0.20</td>\n",
       "    </tr>\n",
       "    <tr>\n",
       "      <th>19</th>\n",
       "      <td>2014-15</td>\n",
       "      <td>Villarreal</td>\n",
       "      <td>37.0</td>\n",
       "      <td>40.74</td>\n",
       "      <td>38</td>\n",
       "      <td>10.07</td>\n",
       "      <td>0.97</td>\n",
       "      <td>1.07</td>\n",
       "      <td>0.10</td>\n",
       "    </tr>\n",
       "  </tbody>\n",
       "</table>\n",
       "</div>"
      ],
      "text/plain": [
       "     season                 team  GA_total  xGA_total  matches  PPDA_avg  \\\n",
       "0   2014-15              Almeria      64.0      58.86       38      8.76   \n",
       "1   2014-15        Athletic Club      41.0      44.09       38      7.46   \n",
       "2   2014-15      Atletico Madrid      29.0      29.08       38      8.98   \n",
       "3   2014-15            Barcelona      21.0      28.47       38      5.68   \n",
       "4   2014-15           Celta Vigo      44.0      51.73       38      6.06   \n",
       "5   2014-15              Cordoba      68.0      57.33       38     11.61   \n",
       "6   2014-15  Deportivo La Coruna      60.0      50.99       38      9.87   \n",
       "7   2014-15                Eibar      55.0      53.70       38      9.64   \n",
       "8   2014-15                Elche      62.0      58.05       38      9.52   \n",
       "9   2014-15             Espanyol      51.0      48.29       38      9.38   \n",
       "10  2014-15               Getafe      64.0      53.65       38     10.15   \n",
       "11  2014-15              Granada      64.0      54.27       38      8.93   \n",
       "12  2014-15              Levante      67.0      60.24       38     12.38   \n",
       "13  2014-15               Malaga      48.0      54.14       38      7.79   \n",
       "14  2014-15       Rayo Vallecano      68.0      70.42       38      6.16   \n",
       "15  2014-15          Real Madrid      38.0      42.58       38     10.21   \n",
       "16  2014-15        Real Sociedad      51.0      51.15       38      8.61   \n",
       "17  2014-15              Sevilla      45.0      47.87       38      8.28   \n",
       "18  2014-15             Valencia      32.0      39.38       38      8.71   \n",
       "19  2014-15           Villarreal      37.0      40.74       38     10.07   \n",
       "\n",
       "    GA_per_match  xGA_per_match  def_efficiency  \n",
       "0           1.68           1.55           -0.13  \n",
       "1           1.08           1.16            0.08  \n",
       "2           0.76           0.77            0.01  \n",
       "3           0.55           0.75            0.20  \n",
       "4           1.16           1.36            0.20  \n",
       "5           1.79           1.51           -0.28  \n",
       "6           1.58           1.34           -0.24  \n",
       "7           1.45           1.41           -0.04  \n",
       "8           1.63           1.53           -0.10  \n",
       "9           1.34           1.27           -0.07  \n",
       "10          1.68           1.41           -0.27  \n",
       "11          1.68           1.43           -0.25  \n",
       "12          1.76           1.59           -0.17  \n",
       "13          1.26           1.42            0.16  \n",
       "14          1.79           1.85            0.06  \n",
       "15          1.00           1.12            0.12  \n",
       "16          1.34           1.35            0.01  \n",
       "17          1.18           1.26            0.08  \n",
       "18          0.84           1.04            0.20  \n",
       "19          0.97           1.07            0.10  "
      ]
     },
     "execution_count": 22,
     "metadata": {},
     "output_type": "execute_result"
    }
   ],
   "source": [
    "# 4) Aggregate & compute per-match + efficiency\n",
    "grp = (team_def\n",
    "       .dropna(subset=[\"season\",\"team\"])            # 시즌/팀 결측 제거\n",
    "       .groupby([\"season\",\"team\"], observed=True)   # 관측된 조합만 사용\n",
    ")\n",
    "\n",
    "season_team_def = grp.agg(\n",
    "    GA_total=(\"GA\",\"sum\"),\n",
    "    xGA_total=(\"xGA\",\"sum\"),\n",
    "    matches=(\"team\",\"size\"),\n",
    "    PPDA_avg=(\"PPDA\",\"mean\")\n",
    ").reset_index()   # <- as_index=True 상태에서 마지막에 인덱스 복구\n",
    "\n",
    "# 이후 계산은 그대로 유지\n",
    "season_team_def[\"GA_per_match\"]  = season_team_def[\"GA_total\"]  / season_team_def[\"matches\"]\n",
    "season_team_def[\"xGA_per_match\"] = season_team_def[\"xGA_total\"] / season_team_def[\"matches\"]\n",
    "season_team_def[\"def_efficiency\"] = season_team_def[\"xGA_per_match\"] - season_team_def[\"GA_per_match\"]\n",
    "\n",
    "# 보기 좋게 2dp\n",
    "num_cols = [\"GA_total\",\"xGA_total\",\"matches\",\"PPDA_avg\",\"GA_per_match\",\"xGA_per_match\",\"def_efficiency\"]\n",
    "season_team_def[num_cols] = season_team_def[num_cols].round(2)\n",
    "\n",
    "# Defensive Efficiency (positive is good)\n",
    "season_team_def[\"def_efficiency\"] = season_team_def[\"xGA_per_match\"] - season_team_def[\"GA_per_match\"]\n",
    "\n",
    "# 2dp rounding for neat output (tables/hover)\n",
    "num_cols = [\"GA_total\",\"xGA_total\",\"matches\",\"PPDA_avg\",\"GA_per_match\",\"xGA_per_match\",\"def_efficiency\"]\n",
    "season_team_def[num_cols] = season_team_def[num_cols].round(2)\n",
    "\n",
    "# Order by season then team\n",
    "season_team_def[\"season\"] = pd.Categorical(season_team_def[\"season\"], categories=SEASON_ORDER, ordered=True)\n",
    "season_team_def = season_team_def.sort_values([\"season\",\"team\"]).reset_index(drop=True)\n",
    "\n",
    "season_team_def.head(20)"
   ]
  },
  {
   "cell_type": "markdown",
   "metadata": {},
   "source": [
    "5) Visualizations (시각화: 소수점 둘째자리)\n",
    "\n",
    "-    5-a) League-wide: PPDA vs GA per match (리그 전체 산점도)\n",
    "\n",
    "-    EN: If the cloud slopes up-right, weaker pressing (higher PPDA) links to more goals conceded.\n",
    "-    KR: 오른쪽 위로 기울면 압박이 약할수록(PPDA 높음) 실점이 많아짐을 시사."
   ]
  },
  {
   "cell_type": "code",
   "execution_count": 14,
   "metadata": {},
   "outputs": [
    {
     "data": {
      "application/vnd.plotly.v1+json": {
       "config": {
        "plotlyServerURL": "https://plot.ly"
       },
       "data": [
        {
         "customdata": [
          [
           "Almeria",
           "2014-15"
          ],
          [
           "Athletic Club",
           "2014-15"
          ],
          [
           "Atletico Madrid",
           "2014-15"
          ],
          [
           "Barcelona",
           "2014-15"
          ],
          [
           "Celta Vigo",
           "2014-15"
          ],
          [
           "Cordoba",
           "2014-15"
          ],
          [
           "Deportivo La Coruna",
           "2014-15"
          ],
          [
           "Eibar",
           "2014-15"
          ],
          [
           "Elche",
           "2014-15"
          ],
          [
           "Espanyol",
           "2014-15"
          ],
          [
           "Getafe",
           "2014-15"
          ],
          [
           "Granada",
           "2014-15"
          ],
          [
           "Levante",
           "2014-15"
          ],
          [
           "Malaga",
           "2014-15"
          ],
          [
           "Rayo Vallecano",
           "2014-15"
          ],
          [
           "Real Madrid",
           "2014-15"
          ],
          [
           "Real Sociedad",
           "2014-15"
          ],
          [
           "Sevilla",
           "2014-15"
          ],
          [
           "Valencia",
           "2014-15"
          ],
          [
           "Villarreal",
           "2014-15"
          ]
         ],
         "hovertemplate": "Team: %{customdata[0]}<br>Season: %{customdata[1]}<br>PPDA: %{x:.2f}<br>GA/m: %{y:.2f}",
         "legendgroup": "2014-15",
         "marker": {
          "color": "#636efa",
          "symbol": "circle"
         },
         "mode": "markers",
         "name": "2014-15",
         "orientation": "v",
         "showlegend": true,
         "type": "scatter",
         "x": {
          "bdata": "hetRuB6FIUDXo3A9CtcdQPYoXI/C9SFAuB6F61G4FkA9CtejcD0YQLgehetROCdAPQrXo3C9I0BI4XoUrkcjQArXo3A9CiNAw/UoXI/CIkDNzMzMzEwkQFyPwvUo3CFAw/UoXI/CKEApXI/C9SgfQKRwPQrXoxhA7FG4HoVrJEC4HoXrUTghQI/C9ShcjyBA7FG4HoVrIUCkcD0K1yMkQA==",
          "dtype": "f8"
         },
         "xaxis": "x",
         "y": {
          "bdata": "4XoUrkfh+j9I4XoUrkfxP1K4HoXrUeg/mpmZmZmZ4T+PwvUoXI/yP6RwPQrXo/w/SOF6FK5H+T8zMzMzMzP3PxSuR+F6FPo/cT0K16Nw9T/hehSuR+H6P+F6FK5H4fo/KVyPwvUo/D8pXI/C9Sj0P6RwPQrXo/w/AAAAAAAA8D9xPQrXo3D1P+F6FK5H4fI/4XoUrkfh6j8K16NwPQrvPw==",
          "dtype": "f8"
         },
         "yaxis": "y"
        },
        {
         "customdata": [
          [
           "Athletic Club",
           "2015-16"
          ],
          [
           "Atletico Madrid",
           "2015-16"
          ],
          [
           "Barcelona",
           "2015-16"
          ],
          [
           "Celta Vigo",
           "2015-16"
          ],
          [
           "Deportivo La Coruna",
           "2015-16"
          ],
          [
           "Eibar",
           "2015-16"
          ],
          [
           "Espanyol",
           "2015-16"
          ],
          [
           "Getafe",
           "2015-16"
          ],
          [
           "Granada",
           "2015-16"
          ],
          [
           "Las Palmas",
           "2015-16"
          ],
          [
           "Levante",
           "2015-16"
          ],
          [
           "Malaga",
           "2015-16"
          ],
          [
           "Rayo Vallecano",
           "2015-16"
          ],
          [
           "Real Betis",
           "2015-16"
          ],
          [
           "Real Madrid",
           "2015-16"
          ],
          [
           "Real Sociedad",
           "2015-16"
          ],
          [
           "Sevilla",
           "2015-16"
          ],
          [
           "Sporting Gijon",
           "2015-16"
          ],
          [
           "Valencia",
           "2015-16"
          ],
          [
           "Villarreal",
           "2015-16"
          ]
         ],
         "hovertemplate": "Team: %{customdata[0]}<br>Season: %{customdata[1]}<br>PPDA: %{x:.2f}<br>GA/m: %{y:.2f}",
         "legendgroup": "2015-16",
         "marker": {
          "color": "#EF553B",
          "symbol": "circle"
         },
         "mode": "markers",
         "name": "2015-16",
         "orientation": "v",
         "showlegend": true,
         "type": "scatter",
         "x": {
          "bdata": "uB6F61E4IECuR+F6FK4hQArXo3A9ChhAw/UoXI/CGUCkcD0K16MmQDMzMzMzMx9AAAAAAAAAIUA9CtejcL0jQAAAAAAAACJAKVyPwvUoJEAzMzMzM7MlQFK4HoXrUR9A16NwPQrXG0A9CtejcD0mQAAAAAAAgCJAUrgehetRIEAzMzMzMzMhQKRwPQrXIydAH4XrUbgeIkBcj8L1KNwjQA==",
          "dtype": "f8"
         },
         "xaxis": "x",
         "y": {
          "bdata": "4XoUrkfh8j8UrkfhehTeP1K4HoXrUeg/zczMzMzM+D/D9Shcj8L5P8P1KFyPwvk/MzMzMzMz/z8pXI/C9Sj8Px+F61G4Hv0/PQrXo3A99j9xPQrXo3D9P3E9CtejcO0/uB6F61G4/j/sUbgehev1P3sUrkfheuw/KVyPwvUo9D8fhetRuB71PxSuR+F6FPo/KVyPwvUo9D9xPQrXo3DtPw==",
          "dtype": "f8"
         },
         "yaxis": "y"
        },
        {
         "customdata": [
          [
           "Alaves",
           "2016-17"
          ],
          [
           "Athletic Club",
           "2016-17"
          ],
          [
           "Atletico Madrid",
           "2016-17"
          ],
          [
           "Barcelona",
           "2016-17"
          ],
          [
           "Celta Vigo",
           "2016-17"
          ],
          [
           "Deportivo La Coruna",
           "2016-17"
          ],
          [
           "Eibar",
           "2016-17"
          ],
          [
           "Espanyol",
           "2016-17"
          ],
          [
           "Granada",
           "2016-17"
          ],
          [
           "Las Palmas",
           "2016-17"
          ],
          [
           "Leganes",
           "2016-17"
          ],
          [
           "Malaga",
           "2016-17"
          ],
          [
           "Osasuna",
           "2016-17"
          ],
          [
           "Real Betis",
           "2016-17"
          ],
          [
           "Real Madrid",
           "2016-17"
          ],
          [
           "Real Sociedad",
           "2016-17"
          ],
          [
           "Sevilla",
           "2016-17"
          ],
          [
           "Sporting Gijon",
           "2016-17"
          ],
          [
           "Valencia",
           "2016-17"
          ],
          [
           "Villarreal",
           "2016-17"
          ]
         ],
         "hovertemplate": "Team: %{customdata[0]}<br>Season: %{customdata[1]}<br>PPDA: %{x:.2f}<br>GA/m: %{y:.2f}",
         "legendgroup": "2016-17",
         "marker": {
          "color": "#00cc96",
          "symbol": "circle"
         },
         "mode": "markers",
         "name": "2016-17",
         "orientation": "v",
         "showlegend": true,
         "type": "scatter",
         "x": {
          "bdata": "zczMzMzMKED2KFyPwvUfQGZmZmZm5iNAzczMzMzMGkApXI/C9aghQLgehetROCRASOF6FK5HH0A9CtejcD0nQIXrUbgeBShA9ihcj8J1JEDsUbgehWsiQArXo3A9iiFAcT0K16PwJkBI4XoUrkciQHsUrkfheiNAZmZmZmZmHEDsUbgehesbQI/C9ShcDyNAMzMzMzOzI0CPwvUoXA8nQA==",
          "dtype": "f8"
         },
         "xaxis": "x",
         "y": {
          "bdata": "FK5H4XoU8j8UrkfhehTyP7gehetRuOY/CtejcD0K7z8fhetRuB79P8P1KFyPwvk/cT0K16Nw9T8fhetRuB71P0jhehSuRwFAMzMzMzMz/z8zMzMzMzP3PzMzMzMzM/c/w/UoXI/CA0DhehSuR+H6P0jhehSuR/E/PQrXo3A99j+kcD0K16P0Pz0K16NwPf4/XI/C9Shc+z/Xo3A9CtfrPw==",
          "dtype": "f8"
         },
         "yaxis": "y"
        },
        {
         "customdata": [
          [
           "Alaves",
           "2017-18"
          ],
          [
           "Athletic Club",
           "2017-18"
          ],
          [
           "Atletico Madrid",
           "2017-18"
          ],
          [
           "Barcelona",
           "2017-18"
          ],
          [
           "Celta Vigo",
           "2017-18"
          ],
          [
           "Deportivo La Coruna",
           "2017-18"
          ],
          [
           "Eibar",
           "2017-18"
          ],
          [
           "Espanyol",
           "2017-18"
          ],
          [
           "Getafe",
           "2017-18"
          ],
          [
           "Girona",
           "2017-18"
          ],
          [
           "Las Palmas",
           "2017-18"
          ],
          [
           "Leganes",
           "2017-18"
          ],
          [
           "Levante",
           "2017-18"
          ],
          [
           "Malaga",
           "2017-18"
          ],
          [
           "Real Betis",
           "2017-18"
          ],
          [
           "Real Madrid",
           "2017-18"
          ],
          [
           "Real Sociedad",
           "2017-18"
          ],
          [
           "Sevilla",
           "2017-18"
          ],
          [
           "Valencia",
           "2017-18"
          ],
          [
           "Villarreal",
           "2017-18"
          ]
         ],
         "hovertemplate": "Team: %{customdata[0]}<br>Season: %{customdata[1]}<br>PPDA: %{x:.2f}<br>GA/m: %{y:.2f}",
         "legendgroup": "2017-18",
         "marker": {
          "color": "#ab63fa",
          "symbol": "circle"
         },
         "mode": "markers",
         "name": "2017-18",
         "orientation": "v",
         "showlegend": true,
         "type": "scatter",
         "x": {
          "bdata": "AAAAAAAAKECPwvUoXI8hQKRwPQrXIyVAuB6F61E4IkBxPQrXo/AkQDMzMzMzMyZAexSuR+F6HUDD9Shcj8IlQArXo3A9CiNApHA9CtcjI0BI4XoUrkciQB+F61G4niVAFK5H4XoUKUAUrkfhehQlQB+F61G4niNAmpmZmZmZIkBI4XoUrkcjQK5H4XoULiJAPQrXo3A9JUDNzMzMzEwjQA==",
          "dtype": "f8"
         },
         "xaxis": "x",
         "y": {
          "bdata": "H4XrUbge9T+kcD0K16P0P4/C9Shcj+I/UrgehetR6D9I4XoUrkf5PwAAAAAAAABAH4XrUbge9T/D9Shcj8LxP9ejcD0K1+s/zczMzMzM+D8zMzMzMzP/P3E9CtejcPU/exSuR+F6+D/D9Shcj8L5P8P1KFyPwvk/j8L1KFyP8j/NzMzMzMz4P3sUrkfhevg/AAAAAAAA8D8fhetRuB71Pw==",
          "dtype": "f8"
         },
         "yaxis": "y"
        },
        {
         "customdata": [
          [
           "Alaves",
           "2018-19"
          ],
          [
           "Athletic Club",
           "2018-19"
          ],
          [
           "Atletico Madrid",
           "2018-19"
          ],
          [
           "Barcelona",
           "2018-19"
          ],
          [
           "Celta Vigo",
           "2018-19"
          ],
          [
           "Eibar",
           "2018-19"
          ],
          [
           "Espanyol",
           "2018-19"
          ],
          [
           "Getafe",
           "2018-19"
          ],
          [
           "Girona",
           "2018-19"
          ],
          [
           "Leganes",
           "2018-19"
          ],
          [
           "Levante",
           "2018-19"
          ],
          [
           "Rayo Vallecano",
           "2018-19"
          ],
          [
           "Real Betis",
           "2018-19"
          ],
          [
           "Real Madrid",
           "2018-19"
          ],
          [
           "Real Sociedad",
           "2018-19"
          ],
          [
           "Real Valladolid",
           "2018-19"
          ],
          [
           "SD Huesca",
           "2018-19"
          ],
          [
           "Sevilla",
           "2018-19"
          ],
          [
           "Valencia",
           "2018-19"
          ],
          [
           "Villarreal",
           "2018-19"
          ]
         ],
         "hovertemplate": "Team: %{customdata[0]}<br>Season: %{customdata[1]}<br>PPDA: %{x:.2f}<br>GA/m: %{y:.2f}",
         "legendgroup": "2018-19",
         "marker": {
          "color": "#FFA15A",
          "symbol": "circle"
         },
         "mode": "markers",
         "name": "2018-19",
         "orientation": "v",
         "showlegend": true,
         "type": "scatter",
         "x": {
          "bdata": "9ihcj8J1JkCamZmZmZkgQKRwPQrXIyZACtejcD0KIkAK16NwPYolQEjhehSuRxxAuB6F61G4I0AK16NwPYohQEjhehSuxyZAcT0K16PwKEApXI/C9SglQI/C9ShcDyNApHA9CtejIkDNzMzMzMwhQOF6FK5H4SNAZmZmZmbmJkBxPQrXo3AkQM3MzMzMTCVAcT0K16PwKUDNzMzMzEwmQA==",
          "dtype": "f8"
         },
         "xaxis": "x",
         "y": {
          "bdata": "H4XrUbge9T/hehSuR+HyP1K4HoXrUeg/ZmZmZmZm7j8UrkfhehT6Px+F61G4HvU/H4XrUbge9T9xPQrXo3DtPz0K16NwPfY/FK5H4XoU8j/Xo3A9Ctf7P3E9CtejcP0/7FG4HoXr9T9cj8L1KFzzP1yPwvUoXPM/cT0K16Nw9T9cj8L1KFz7P9ejcD0K1/M/cT0K16Nw7T/sUbgehev1Pw==",
          "dtype": "f8"
         },
         "yaxis": "y"
        },
        {
         "customdata": [
          [
           "Alaves",
           "2019-20"
          ],
          [
           "Athletic Club",
           "2019-20"
          ],
          [
           "Atletico Madrid",
           "2019-20"
          ],
          [
           "Barcelona",
           "2019-20"
          ],
          [
           "Celta Vigo",
           "2019-20"
          ],
          [
           "Eibar",
           "2019-20"
          ],
          [
           "Espanyol",
           "2019-20"
          ],
          [
           "Getafe",
           "2019-20"
          ],
          [
           "Granada",
           "2019-20"
          ],
          [
           "Leganes",
           "2019-20"
          ],
          [
           "Levante",
           "2019-20"
          ],
          [
           "Mallorca",
           "2019-20"
          ],
          [
           "Osasuna",
           "2019-20"
          ],
          [
           "Real Betis",
           "2019-20"
          ],
          [
           "Real Madrid",
           "2019-20"
          ],
          [
           "Real Sociedad",
           "2019-20"
          ],
          [
           "Real Valladolid",
           "2019-20"
          ],
          [
           "Sevilla",
           "2019-20"
          ],
          [
           "Valencia",
           "2019-20"
          ],
          [
           "Villarreal",
           "2019-20"
          ]
         ],
         "hovertemplate": "Team: %{customdata[0]}<br>Season: %{customdata[1]}<br>PPDA: %{x:.2f}<br>GA/m: %{y:.2f}",
         "legendgroup": "2019-20",
         "marker": {
          "color": "#19d3f3",
          "symbol": "circle"
         },
         "mode": "markers",
         "name": "2019-20",
         "orientation": "v",
         "showlegend": true,
         "type": "scatter",
         "x": {
          "bdata": "7FG4HoVrKEDsUbgehWsjQOF6FK5HYSNAhetRuB6FIEAUrkfhehQlQHE9Ctej8CFA4XoUrkfhIkAK16NwPQocQFyPwvUoXCRAUrgehevRJUCF61G4HgUoQHsUrkfheilAMzMzMzMzIkC4HoXrUbgkQIXrUbgehSJAzczMzMxMIUBI4XoUrscoQFK4HoXr0SBArkfhehQuLEDNzMzMzMwlQA==",
          "dtype": "f8"
         },
         "xaxis": "x",
         "y": {
          "bdata": "zczMzMzM+D8AAAAAAADwP7gehetRuOY/AAAAAAAA8D+kcD0K16P0P4XrUbgehfc/exSuR+F6+D8K16NwPQrvP+F6FK5H4fI/cT0K16Nw9T89CtejcD32P1yPwvUoXPs/uB6F61G49j9I4XoUrkf5Px+F61G4HuU/KVyPwvUo9D8UrkfhehTyP3sUrkfheuw/PQrXo3A99j+kcD0K16P0Pw==",
          "dtype": "f8"
         },
         "yaxis": "y"
        },
        {
         "customdata": [
          [
           "Alaves",
           "2020-21"
          ],
          [
           "Athletic Club",
           "2020-21"
          ],
          [
           "Atletico Madrid",
           "2020-21"
          ],
          [
           "Barcelona",
           "2020-21"
          ],
          [
           "Cadiz",
           "2020-21"
          ],
          [
           "Celta Vigo",
           "2020-21"
          ],
          [
           "Eibar",
           "2020-21"
          ],
          [
           "Elche",
           "2020-21"
          ],
          [
           "Getafe",
           "2020-21"
          ],
          [
           "Granada",
           "2020-21"
          ],
          [
           "Levante",
           "2020-21"
          ],
          [
           "Osasuna",
           "2020-21"
          ],
          [
           "Real Betis",
           "2020-21"
          ],
          [
           "Real Madrid",
           "2020-21"
          ],
          [
           "Real Sociedad",
           "2020-21"
          ],
          [
           "Real Valladolid",
           "2020-21"
          ],
          [
           "SD Huesca",
           "2020-21"
          ],
          [
           "Sevilla",
           "2020-21"
          ],
          [
           "Valencia",
           "2020-21"
          ],
          [
           "Villarreal",
           "2020-21"
          ]
         ],
         "hovertemplate": "Team: %{customdata[0]}<br>Season: %{customdata[1]}<br>PPDA: %{x:.2f}<br>GA/m: %{y:.2f}",
         "legendgroup": "2020-21",
         "marker": {
          "color": "#FF6692",
          "symbol": "circle"
         },
         "mode": "markers",
         "name": "2020-21",
         "orientation": "v",
         "showlegend": true,
         "type": "scatter",
         "x": {
          "bdata": "w/UoXI9CKUAUrkfhepQkQEjhehSuxyVAUrgehevRI0DNzMzMzIwyQGZmZmZmZh5AFK5H4XoUIkDNzMzMzEwtQFyPwvUoXCJAexSuR+H6J0C4HoXrUTgkQD0K16NwvSZASOF6FK5HI0AUrkfhehQlQKRwPQrXoyBA4XoUrkdhJkCkcD0K1yMpQPYoXI/C9SBArkfhehQuJ0ApXI/C9agkQA==",
          "dtype": "f8"
         },
         "xaxis": "x",
         "y": {
          "bdata": "AAAAAAAA+D/D9Shcj8LxPx+F61G4HuU/AAAAAAAA8D97FK5H4Xr4PwAAAAAAAPg/7FG4HoXr9T8zMzMzMzP3PxSuR+F6FPI/XI/C9Shc+z8AAAAAAAD4Pylcj8L1KPQ/H4XrUbge9T+uR+F6FK7nPwAAAAAAAPA/AAAAAAAA+D89CtejcD32P9ejcD0K1+s/PQrXo3A99j+PwvUoXI/yPw==",
          "dtype": "f8"
         },
         "yaxis": "y"
        },
        {
         "customdata": [
          [
           "Alaves",
           "2021-22"
          ],
          [
           "Athletic Club",
           "2021-22"
          ],
          [
           "Atletico Madrid",
           "2021-22"
          ],
          [
           "Barcelona",
           "2021-22"
          ],
          [
           "Cadiz",
           "2021-22"
          ],
          [
           "Celta Vigo",
           "2021-22"
          ],
          [
           "Elche",
           "2021-22"
          ],
          [
           "Espanyol",
           "2021-22"
          ],
          [
           "Getafe",
           "2021-22"
          ],
          [
           "Granada",
           "2021-22"
          ],
          [
           "Levante",
           "2021-22"
          ],
          [
           "Mallorca",
           "2021-22"
          ],
          [
           "Osasuna",
           "2021-22"
          ],
          [
           "Rayo Vallecano",
           "2021-22"
          ],
          [
           "Real Betis",
           "2021-22"
          ],
          [
           "Real Madrid",
           "2021-22"
          ],
          [
           "Real Sociedad",
           "2021-22"
          ],
          [
           "Sevilla",
           "2021-22"
          ],
          [
           "Valencia",
           "2021-22"
          ],
          [
           "Villarreal",
           "2021-22"
          ]
         ],
         "hovertemplate": "Team: %{customdata[0]}<br>Season: %{customdata[1]}<br>PPDA: %{x:.2f}<br>GA/m: %{y:.2f}",
         "legendgroup": "2021-22",
         "marker": {
          "color": "#B6E880",
          "symbol": "circle"
         },
         "mode": "markers",
         "name": "2021-22",
         "orientation": "v",
         "showlegend": true,
         "type": "scatter",
         "x": {
          "bdata": "ZmZmZmZmKUAUrkfhepQkQNejcD0KVydAXI/C9ShcIEBI4XoUrkcsQPYoXI/C9R9ACtejcD0KK0BI4XoUrkcsQOxRuB6F6yhAexSuR+H6JkC4HoXrUTglQJqZmZmZGSZAhetRuB4FJUCuR+F6FC4iQClcj8L1KCRA4XoUrkdhKUDNzMzMzEwiQHE9Ctej8CJASOF6FK7HIUAzMzMzM7MkQA==",
          "dtype": "f8"
         },
         "xaxis": "x",
         "y": {
          "bdata": "XI/C9Shc+z9mZmZmZmbuPxSuR+F6FPI/AAAAAAAA8D9xPQrXo3D1PxSuR+F6FPI/7FG4HoXr9T89CtejcD32P0jhehSuR/E/w/UoXI/C+T8AAAAAAAAAQI/C9Shcj/o/cT0K16Nw9T8fhetRuB71P83MzMzMzPA/PQrXo3A96j8K16NwPQrvP0jhehSuR+k/PQrXo3A99j8K16NwPQrvPw==",
          "dtype": "f8"
         },
         "yaxis": "y"
        },
        {
         "customdata": [
          [
           "Almeria",
           "2022-23"
          ],
          [
           "Athletic Club",
           "2022-23"
          ],
          [
           "Atletico Madrid",
           "2022-23"
          ],
          [
           "Barcelona",
           "2022-23"
          ],
          [
           "Cadiz",
           "2022-23"
          ],
          [
           "Celta Vigo",
           "2022-23"
          ],
          [
           "Elche",
           "2022-23"
          ],
          [
           "Espanyol",
           "2022-23"
          ],
          [
           "Getafe",
           "2022-23"
          ],
          [
           "Girona",
           "2022-23"
          ],
          [
           "Mallorca",
           "2022-23"
          ],
          [
           "Osasuna",
           "2022-23"
          ],
          [
           "Rayo Vallecano",
           "2022-23"
          ],
          [
           "Real Betis",
           "2022-23"
          ],
          [
           "Real Madrid",
           "2022-23"
          ],
          [
           "Real Sociedad",
           "2022-23"
          ],
          [
           "Real Valladolid",
           "2022-23"
          ],
          [
           "Sevilla",
           "2022-23"
          ],
          [
           "Valencia",
           "2022-23"
          ],
          [
           "Villarreal",
           "2022-23"
          ]
         ],
         "hovertemplate": "Team: %{customdata[0]}<br>Season: %{customdata[1]}<br>PPDA: %{x:.2f}<br>GA/m: %{y:.2f}",
         "legendgroup": "2022-23",
         "marker": {
          "color": "#FF97FF",
          "symbol": "circle"
         },
         "mode": "markers",
         "name": "2022-23",
         "orientation": "v",
         "showlegend": true,
         "type": "scatter",
         "x": {
          "bdata": "hetRuB6FLUCamZmZmZkjQOF6FK5HYS1A4XoUrkfhHkCkcD0K16MrQM3MzMzMTCdAAAAAAACAK0B7FK5H4XooQEjhehSuxy5AAAAAAACAKkCuR+F6FC4sQOxRuB6FayZAPQrXo3C9IEDNzMzMzEwpQFyPwvUo3CZAZmZmZmZmHkBmZmZmZuYkQD0K16NwPSZArkfhehQuJEBxPQrXo3AjQA==",
          "dtype": "f8"
         },
         "xaxis": "x",
         "y": {
          "bdata": "XI/C9Shc+z8UrkfhehTyP9ejcD0K1+s/9ihcj8L14D89CtejcD32Pz0K16NwPfY/KVyPwvUo/D8fhetRuB79P+F6FK5H4fI/MzMzMzMz9z8UrkfhehTyP8P1KFyPwvE/PQrXo3A99j9I4XoUrkfxP2ZmZmZmZu4/cT0K16Nw7T+PwvUoXI/6P7gehetRuPY/4XoUrkfh8j/NzMzMzMzwPw==",
          "dtype": "f8"
         },
         "yaxis": "y"
        },
        {
         "customdata": [
          [
           "Alaves",
           "2023-24"
          ],
          [
           "Almeria",
           "2023-24"
          ],
          [
           "Athletic Club",
           "2023-24"
          ],
          [
           "Atletico Madrid",
           "2023-24"
          ],
          [
           "Barcelona",
           "2023-24"
          ],
          [
           "Cadiz",
           "2023-24"
          ],
          [
           "Celta Vigo",
           "2023-24"
          ],
          [
           "Getafe",
           "2023-24"
          ],
          [
           "Girona",
           "2023-24"
          ],
          [
           "Granada",
           "2023-24"
          ],
          [
           "Las Palmas",
           "2023-24"
          ],
          [
           "Mallorca",
           "2023-24"
          ],
          [
           "Osasuna",
           "2023-24"
          ],
          [
           "Rayo Vallecano",
           "2023-24"
          ],
          [
           "Real Betis",
           "2023-24"
          ],
          [
           "Real Madrid",
           "2023-24"
          ],
          [
           "Real Sociedad",
           "2023-24"
          ],
          [
           "Sevilla",
           "2023-24"
          ],
          [
           "Valencia",
           "2023-24"
          ],
          [
           "Villarreal",
           "2023-24"
          ]
         ],
         "hovertemplate": "Team: %{customdata[0]}<br>Season: %{customdata[1]}<br>PPDA: %{x:.2f}<br>GA/m: %{y:.2f}",
         "legendgroup": "2023-24",
         "marker": {
          "color": "#FECB52",
          "symbol": "circle"
         },
         "mode": "markers",
         "name": "2023-24",
         "orientation": "v",
         "showlegend": true,
         "type": "scatter",
         "x": {
          "bdata": "UrgehevRK0C4HoXrUbgrQHE9Ctej8CVA7FG4HoXrK0AzMzMzMzMhQHE9Ctej8CZAexSuR+F6LUAAAAAAAAAkQLgehetRuChAPQrXo3C9KUAAAAAAAIAjQKRwPQrXoydAmpmZmZkZKUAK16NwPYojQM3MzMzMzCpArkfhehQuKkAK16NwPQofQKRwPQrXIy1A4XoUrkfhL0DhehSuR+EqQA==",
          "dtype": "f8"
         },
         "xaxis": "x",
         "y": {
          "bdata": "XI/C9Shc8z+F61G4HoX/PwrXo3A9Cu8/FK5H4XoU8j+PwvUoXI/yPzMzMzMzM/c/AAAAAAAA+D+4HoXrUbj2P1yPwvUoXPM/pHA9CtejAEDXo3A9CtfzP4/C9Shcj/I/hetRuB6F9z8pXI/C9Sj0P+F6FK5H4fI/w/UoXI/C5T97FK5H4XrwP7gehetRuPY/4XoUrkfh8j9cj8L1KFz7Pw==",
          "dtype": "f8"
         },
         "yaxis": "y"
        },
        {
         "customdata": [
          [
           "Alaves",
           "2024-25"
          ],
          [
           "Athletic Club",
           "2024-25"
          ],
          [
           "Atletico Madrid",
           "2024-25"
          ],
          [
           "Barcelona",
           "2024-25"
          ],
          [
           "Celta Vigo",
           "2024-25"
          ],
          [
           "Espanyol",
           "2024-25"
          ],
          [
           "Getafe",
           "2024-25"
          ],
          [
           "Girona",
           "2024-25"
          ],
          [
           "Las Palmas",
           "2024-25"
          ],
          [
           "Leganes",
           "2024-25"
          ],
          [
           "Mallorca",
           "2024-25"
          ],
          [
           "Osasuna",
           "2024-25"
          ],
          [
           "Rayo Vallecano",
           "2024-25"
          ],
          [
           "Real Betis",
           "2024-25"
          ],
          [
           "Real Madrid",
           "2024-25"
          ],
          [
           "Real Sociedad",
           "2024-25"
          ],
          [
           "Real Valladolid",
           "2024-25"
          ],
          [
           "Sevilla",
           "2024-25"
          ],
          [
           "Valencia",
           "2024-25"
          ],
          [
           "Villarreal",
           "2024-25"
          ]
         ],
         "hovertemplate": "Team: %{customdata[0]}<br>Season: %{customdata[1]}<br>PPDA: %{x:.2f}<br>GA/m: %{y:.2f}",
         "legendgroup": "2024-25",
         "marker": {
          "color": "#636efa",
          "symbol": "circle"
         },
         "mode": "markers",
         "name": "2024-25",
         "orientation": "v",
         "showlegend": true,
         "type": "scatter",
         "x": {
          "bdata": "j8L1KFwPJEDhehSuR+EnQB+F61G4ni5AuB6F61G4GkCuR+F6FK4pQHE9CtejsDBAAAAAAAAAJUDD9Shcj0InQOxRuB6FaylAmpmZmZmZKUDXo3A9CtcqQEjhehSuRyhAhetRuB6FIUBmZmZmZuYmQOxRuB6FayhArkfhehSuI0DD9Shcj4IwQEjhehSuxyhAexSuR+F6K0AzMzMzMzMtQA==",
          "dtype": "f8"
         },
         "xaxis": "x",
         "y": {
          "bdata": "KVyPwvUo9D9SuB6F61HoP0jhehSuR+k/exSuR+F68D8AAAAAAAD4P3E9CtejcPU/exSuR+F68D9I4XoUrkf5P8P1KFyPwvk/hetRuB6F9z+PwvUoXI/yP+xRuB6F6/U/4XoUrkfh8j8fhetRuB71PwAAAAAAAPA/XI/C9Shc8z/2KFyPwvUCQDMzMzMzM/c/uB6F61G49j9xPQrXo3D1Pw==",
          "dtype": "f8"
         },
         "yaxis": "y"
        }
       ],
       "layout": {
        "legend": {
         "title": {
          "text": "season"
         },
         "tracegroupgap": 0
        },
        "template": {
         "data": {
          "bar": [
           {
            "error_x": {
             "color": "#2a3f5f"
            },
            "error_y": {
             "color": "#2a3f5f"
            },
            "marker": {
             "line": {
              "color": "#E5ECF6",
              "width": 0.5
             },
             "pattern": {
              "fillmode": "overlay",
              "size": 10,
              "solidity": 0.2
             }
            },
            "type": "bar"
           }
          ],
          "barpolar": [
           {
            "marker": {
             "line": {
              "color": "#E5ECF6",
              "width": 0.5
             },
             "pattern": {
              "fillmode": "overlay",
              "size": 10,
              "solidity": 0.2
             }
            },
            "type": "barpolar"
           }
          ],
          "carpet": [
           {
            "aaxis": {
             "endlinecolor": "#2a3f5f",
             "gridcolor": "white",
             "linecolor": "white",
             "minorgridcolor": "white",
             "startlinecolor": "#2a3f5f"
            },
            "baxis": {
             "endlinecolor": "#2a3f5f",
             "gridcolor": "white",
             "linecolor": "white",
             "minorgridcolor": "white",
             "startlinecolor": "#2a3f5f"
            },
            "type": "carpet"
           }
          ],
          "choropleth": [
           {
            "colorbar": {
             "outlinewidth": 0,
             "ticks": ""
            },
            "type": "choropleth"
           }
          ],
          "contour": [
           {
            "colorbar": {
             "outlinewidth": 0,
             "ticks": ""
            },
            "colorscale": [
             [
              0,
              "#0d0887"
             ],
             [
              0.1111111111111111,
              "#46039f"
             ],
             [
              0.2222222222222222,
              "#7201a8"
             ],
             [
              0.3333333333333333,
              "#9c179e"
             ],
             [
              0.4444444444444444,
              "#bd3786"
             ],
             [
              0.5555555555555556,
              "#d8576b"
             ],
             [
              0.6666666666666666,
              "#ed7953"
             ],
             [
              0.7777777777777778,
              "#fb9f3a"
             ],
             [
              0.8888888888888888,
              "#fdca26"
             ],
             [
              1,
              "#f0f921"
             ]
            ],
            "type": "contour"
           }
          ],
          "contourcarpet": [
           {
            "colorbar": {
             "outlinewidth": 0,
             "ticks": ""
            },
            "type": "contourcarpet"
           }
          ],
          "heatmap": [
           {
            "colorbar": {
             "outlinewidth": 0,
             "ticks": ""
            },
            "colorscale": [
             [
              0,
              "#0d0887"
             ],
             [
              0.1111111111111111,
              "#46039f"
             ],
             [
              0.2222222222222222,
              "#7201a8"
             ],
             [
              0.3333333333333333,
              "#9c179e"
             ],
             [
              0.4444444444444444,
              "#bd3786"
             ],
             [
              0.5555555555555556,
              "#d8576b"
             ],
             [
              0.6666666666666666,
              "#ed7953"
             ],
             [
              0.7777777777777778,
              "#fb9f3a"
             ],
             [
              0.8888888888888888,
              "#fdca26"
             ],
             [
              1,
              "#f0f921"
             ]
            ],
            "type": "heatmap"
           }
          ],
          "histogram": [
           {
            "marker": {
             "pattern": {
              "fillmode": "overlay",
              "size": 10,
              "solidity": 0.2
             }
            },
            "type": "histogram"
           }
          ],
          "histogram2d": [
           {
            "colorbar": {
             "outlinewidth": 0,
             "ticks": ""
            },
            "colorscale": [
             [
              0,
              "#0d0887"
             ],
             [
              0.1111111111111111,
              "#46039f"
             ],
             [
              0.2222222222222222,
              "#7201a8"
             ],
             [
              0.3333333333333333,
              "#9c179e"
             ],
             [
              0.4444444444444444,
              "#bd3786"
             ],
             [
              0.5555555555555556,
              "#d8576b"
             ],
             [
              0.6666666666666666,
              "#ed7953"
             ],
             [
              0.7777777777777778,
              "#fb9f3a"
             ],
             [
              0.8888888888888888,
              "#fdca26"
             ],
             [
              1,
              "#f0f921"
             ]
            ],
            "type": "histogram2d"
           }
          ],
          "histogram2dcontour": [
           {
            "colorbar": {
             "outlinewidth": 0,
             "ticks": ""
            },
            "colorscale": [
             [
              0,
              "#0d0887"
             ],
             [
              0.1111111111111111,
              "#46039f"
             ],
             [
              0.2222222222222222,
              "#7201a8"
             ],
             [
              0.3333333333333333,
              "#9c179e"
             ],
             [
              0.4444444444444444,
              "#bd3786"
             ],
             [
              0.5555555555555556,
              "#d8576b"
             ],
             [
              0.6666666666666666,
              "#ed7953"
             ],
             [
              0.7777777777777778,
              "#fb9f3a"
             ],
             [
              0.8888888888888888,
              "#fdca26"
             ],
             [
              1,
              "#f0f921"
             ]
            ],
            "type": "histogram2dcontour"
           }
          ],
          "mesh3d": [
           {
            "colorbar": {
             "outlinewidth": 0,
             "ticks": ""
            },
            "type": "mesh3d"
           }
          ],
          "parcoords": [
           {
            "line": {
             "colorbar": {
              "outlinewidth": 0,
              "ticks": ""
             }
            },
            "type": "parcoords"
           }
          ],
          "pie": [
           {
            "automargin": true,
            "type": "pie"
           }
          ],
          "scatter": [
           {
            "fillpattern": {
             "fillmode": "overlay",
             "size": 10,
             "solidity": 0.2
            },
            "type": "scatter"
           }
          ],
          "scatter3d": [
           {
            "line": {
             "colorbar": {
              "outlinewidth": 0,
              "ticks": ""
             }
            },
            "marker": {
             "colorbar": {
              "outlinewidth": 0,
              "ticks": ""
             }
            },
            "type": "scatter3d"
           }
          ],
          "scattercarpet": [
           {
            "marker": {
             "colorbar": {
              "outlinewidth": 0,
              "ticks": ""
             }
            },
            "type": "scattercarpet"
           }
          ],
          "scattergeo": [
           {
            "marker": {
             "colorbar": {
              "outlinewidth": 0,
              "ticks": ""
             }
            },
            "type": "scattergeo"
           }
          ],
          "scattergl": [
           {
            "marker": {
             "colorbar": {
              "outlinewidth": 0,
              "ticks": ""
             }
            },
            "type": "scattergl"
           }
          ],
          "scattermap": [
           {
            "marker": {
             "colorbar": {
              "outlinewidth": 0,
              "ticks": ""
             }
            },
            "type": "scattermap"
           }
          ],
          "scattermapbox": [
           {
            "marker": {
             "colorbar": {
              "outlinewidth": 0,
              "ticks": ""
             }
            },
            "type": "scattermapbox"
           }
          ],
          "scatterpolar": [
           {
            "marker": {
             "colorbar": {
              "outlinewidth": 0,
              "ticks": ""
             }
            },
            "type": "scatterpolar"
           }
          ],
          "scatterpolargl": [
           {
            "marker": {
             "colorbar": {
              "outlinewidth": 0,
              "ticks": ""
             }
            },
            "type": "scatterpolargl"
           }
          ],
          "scatterternary": [
           {
            "marker": {
             "colorbar": {
              "outlinewidth": 0,
              "ticks": ""
             }
            },
            "type": "scatterternary"
           }
          ],
          "surface": [
           {
            "colorbar": {
             "outlinewidth": 0,
             "ticks": ""
            },
            "colorscale": [
             [
              0,
              "#0d0887"
             ],
             [
              0.1111111111111111,
              "#46039f"
             ],
             [
              0.2222222222222222,
              "#7201a8"
             ],
             [
              0.3333333333333333,
              "#9c179e"
             ],
             [
              0.4444444444444444,
              "#bd3786"
             ],
             [
              0.5555555555555556,
              "#d8576b"
             ],
             [
              0.6666666666666666,
              "#ed7953"
             ],
             [
              0.7777777777777778,
              "#fb9f3a"
             ],
             [
              0.8888888888888888,
              "#fdca26"
             ],
             [
              1,
              "#f0f921"
             ]
            ],
            "type": "surface"
           }
          ],
          "table": [
           {
            "cells": {
             "fill": {
              "color": "#EBF0F8"
             },
             "line": {
              "color": "white"
             }
            },
            "header": {
             "fill": {
              "color": "#C8D4E3"
             },
             "line": {
              "color": "white"
             }
            },
            "type": "table"
           }
          ]
         },
         "layout": {
          "annotationdefaults": {
           "arrowcolor": "#2a3f5f",
           "arrowhead": 0,
           "arrowwidth": 1
          },
          "autotypenumbers": "strict",
          "coloraxis": {
           "colorbar": {
            "outlinewidth": 0,
            "ticks": ""
           }
          },
          "colorscale": {
           "diverging": [
            [
             0,
             "#8e0152"
            ],
            [
             0.1,
             "#c51b7d"
            ],
            [
             0.2,
             "#de77ae"
            ],
            [
             0.3,
             "#f1b6da"
            ],
            [
             0.4,
             "#fde0ef"
            ],
            [
             0.5,
             "#f7f7f7"
            ],
            [
             0.6,
             "#e6f5d0"
            ],
            [
             0.7,
             "#b8e186"
            ],
            [
             0.8,
             "#7fbc41"
            ],
            [
             0.9,
             "#4d9221"
            ],
            [
             1,
             "#276419"
            ]
           ],
           "sequential": [
            [
             0,
             "#0d0887"
            ],
            [
             0.1111111111111111,
             "#46039f"
            ],
            [
             0.2222222222222222,
             "#7201a8"
            ],
            [
             0.3333333333333333,
             "#9c179e"
            ],
            [
             0.4444444444444444,
             "#bd3786"
            ],
            [
             0.5555555555555556,
             "#d8576b"
            ],
            [
             0.6666666666666666,
             "#ed7953"
            ],
            [
             0.7777777777777778,
             "#fb9f3a"
            ],
            [
             0.8888888888888888,
             "#fdca26"
            ],
            [
             1,
             "#f0f921"
            ]
           ],
           "sequentialminus": [
            [
             0,
             "#0d0887"
            ],
            [
             0.1111111111111111,
             "#46039f"
            ],
            [
             0.2222222222222222,
             "#7201a8"
            ],
            [
             0.3333333333333333,
             "#9c179e"
            ],
            [
             0.4444444444444444,
             "#bd3786"
            ],
            [
             0.5555555555555556,
             "#d8576b"
            ],
            [
             0.6666666666666666,
             "#ed7953"
            ],
            [
             0.7777777777777778,
             "#fb9f3a"
            ],
            [
             0.8888888888888888,
             "#fdca26"
            ],
            [
             1,
             "#f0f921"
            ]
           ]
          },
          "colorway": [
           "#636efa",
           "#EF553B",
           "#00cc96",
           "#ab63fa",
           "#FFA15A",
           "#19d3f3",
           "#FF6692",
           "#B6E880",
           "#FF97FF",
           "#FECB52"
          ],
          "font": {
           "color": "#2a3f5f"
          },
          "geo": {
           "bgcolor": "white",
           "lakecolor": "white",
           "landcolor": "#E5ECF6",
           "showlakes": true,
           "showland": true,
           "subunitcolor": "white"
          },
          "hoverlabel": {
           "align": "left"
          },
          "hovermode": "closest",
          "mapbox": {
           "style": "light"
          },
          "paper_bgcolor": "white",
          "plot_bgcolor": "#E5ECF6",
          "polar": {
           "angularaxis": {
            "gridcolor": "white",
            "linecolor": "white",
            "ticks": ""
           },
           "bgcolor": "#E5ECF6",
           "radialaxis": {
            "gridcolor": "white",
            "linecolor": "white",
            "ticks": ""
           }
          },
          "scene": {
           "xaxis": {
            "backgroundcolor": "#E5ECF6",
            "gridcolor": "white",
            "gridwidth": 2,
            "linecolor": "white",
            "showbackground": true,
            "ticks": "",
            "zerolinecolor": "white"
           },
           "yaxis": {
            "backgroundcolor": "#E5ECF6",
            "gridcolor": "white",
            "gridwidth": 2,
            "linecolor": "white",
            "showbackground": true,
            "ticks": "",
            "zerolinecolor": "white"
           },
           "zaxis": {
            "backgroundcolor": "#E5ECF6",
            "gridcolor": "white",
            "gridwidth": 2,
            "linecolor": "white",
            "showbackground": true,
            "ticks": "",
            "zerolinecolor": "white"
           }
          },
          "shapedefaults": {
           "line": {
            "color": "#2a3f5f"
           }
          },
          "ternary": {
           "aaxis": {
            "gridcolor": "white",
            "linecolor": "white",
            "ticks": ""
           },
           "baxis": {
            "gridcolor": "white",
            "linecolor": "white",
            "ticks": ""
           },
           "bgcolor": "#E5ECF6",
           "caxis": {
            "gridcolor": "white",
            "linecolor": "white",
            "ticks": ""
           }
          },
          "title": {
           "x": 0.05
          },
          "xaxis": {
           "automargin": true,
           "gridcolor": "white",
           "linecolor": "white",
           "ticks": "",
           "title": {
            "standoff": 15
           },
           "zerolinecolor": "white",
           "zerolinewidth": 2
          },
          "yaxis": {
           "automargin": true,
           "gridcolor": "white",
           "linecolor": "white",
           "ticks": "",
           "title": {
            "standoff": 15
           },
           "zerolinecolor": "white",
           "zerolinewidth": 2
          }
         }
        },
        "title": {
         "text": "League-wide: PPDA vs Goals Conceded per Match"
        },
        "xaxis": {
         "anchor": "y",
         "domain": [
          0,
          1
         ],
         "tickformat": ".2f",
         "title": {
          "text": "PPDA (lower = stronger press)"
         }
        },
        "yaxis": {
         "anchor": "x",
         "domain": [
          0,
          1
         ],
         "tickformat": ".2f",
         "title": {
          "text": "GA per Match"
         }
        }
       }
      }
     },
     "metadata": {},
     "output_type": "display_data"
    }
   ],
   "source": [
    "# 5-a) League-wide scatter\n",
    "fig_scatter = px.scatter(\n",
    "    season_team_def, x=\"PPDA_avg\", y=\"GA_per_match\", color=\"season\",\n",
    "    labels={\"PPDA_avg\":\"PPDA (lower = stronger press)\", \"GA_per_match\":\"GA per Match\"},\n",
    "    title=\"League-wide: PPDA vs Goals Conceded per Match\",\n",
    "    hover_data=[\"team\",\"season\"]\n",
    ")\n",
    "fig_scatter.update_traces(hovertemplate=\"Team: %{customdata[0]}<br>Season: %{customdata[1]}<br>PPDA: %{x:.2f}<br>GA/m: %{y:.2f}\")\n",
    "fig_scatter.update_xaxes(tickformat=\".2f\")\n",
    "fig_scatter.update_yaxes(tickformat=\".2f\")\n",
    "fig_scatter.show()"
   ]
  },
  {
   "cell_type": "markdown",
   "metadata": {},
   "source": [
    "5-b) Big 3 Defensive Efficiency (빅3 수비 효율성 막대)\n",
    "\n",
    "-    EN: Positive bars mean “better than expected” defense.\n",
    "-    KR: 막대가 양수면 “예상보다 실점이 적어 수비가 좋았음”을 뜻합니다."
   ]
  },
  {
   "cell_type": "code",
   "execution_count": 18,
   "metadata": {},
   "outputs": [
    {
     "data": {
      "application/vnd.plotly.v1+json": {
       "config": {
        "plotlyServerURL": "https://plot.ly"
       },
       "data": [
        {
         "alignmentgroup": "True",
         "customdata": [
          [
           "Atletico Madrid"
          ],
          [
           "Atletico Madrid"
          ],
          [
           "Atletico Madrid"
          ],
          [
           "Atletico Madrid"
          ],
          [
           "Atletico Madrid"
          ],
          [
           "Atletico Madrid"
          ],
          [
           "Atletico Madrid"
          ],
          [
           "Atletico Madrid"
          ],
          [
           "Atletico Madrid"
          ],
          [
           "Atletico Madrid"
          ],
          [
           "Atletico Madrid"
          ]
         ],
         "hovertemplate": "Season %{x}<br>Team: %{customdata[0]}<br>Def Eff: %{y:.2f}<extra></extra>",
         "legendgroup": "Atletico Madrid",
         "marker": {
          "color": "#636efa",
          "line": {
           "color": "black",
           "width": 0.5
          },
          "pattern": {
           "shape": ""
          }
         },
         "name": "Atletico Madrid",
         "offsetgroup": "Atletico Madrid",
         "orientation": "v",
         "showlegend": true,
         "text": [
          "",
          "0.26",
          "0.11",
          "0.35",
          "0.33",
          "0.12",
          "0.28",
          "-0.19",
          "0.27",
          "",
          "0.22"
         ],
         "textposition": "outside",
         "type": "bar",
         "x": [
          "2014-15",
          "2015-16",
          "2016-17",
          "2017-18",
          "2018-19",
          "2019-20",
          "2020-21",
          "2021-22",
          "2022-23",
          "2023-24",
          "2024-25"
         ],
         "xaxis": "x",
         "y": {
          "bdata": "exSuR+F6hD+kcD0K16PQPylcj8L1KLw/ZmZmZmZm1j8fhetRuB7VP7gehetRuL4/7FG4HoXr0T9SuB6F61HIv0jhehSuR9E/exSuR+F6hD8pXI/C9SjMPw==",
          "dtype": "f8"
         },
         "yaxis": "y"
        },
        {
         "alignmentgroup": "True",
         "customdata": [
          [
           "Barcelona"
          ],
          [
           "Barcelona"
          ],
          [
           "Barcelona"
          ],
          [
           "Barcelona"
          ],
          [
           "Barcelona"
          ],
          [
           "Barcelona"
          ],
          [
           "Barcelona"
          ],
          [
           "Barcelona"
          ],
          [
           "Barcelona"
          ],
          [
           "Barcelona"
          ],
          [
           "Barcelona"
          ]
         ],
         "hovertemplate": "Season %{x}<br>Team: %{customdata[0]}<br>Def Eff: %{y:.2f}<extra></extra>",
         "legendgroup": "Barcelona",
         "marker": {
          "color": "#EF553B",
          "line": {
           "color": "black",
           "width": 0.5
          },
          "pattern": {
           "shape": ""
          }
         },
         "name": "Barcelona",
         "offsetgroup": "Barcelona",
         "orientation": "v",
         "showlegend": true,
         "text": [
          "0.20",
          "0.14",
          "-0.15",
          "0.34",
          "0.23",
          "",
          "0.08",
          "-0.08",
          "0.35",
          "0.04",
          "0.10"
         ],
         "textposition": "outside",
         "type": "bar",
         "x": [
          "2014-15",
          "2015-16",
          "2016-17",
          "2017-18",
          "2018-19",
          "2019-20",
          "2020-21",
          "2021-22",
          "2022-23",
          "2023-24",
          "2024-25"
         ],
         "xaxis": "x",
         "y": {
          "bdata": "mpmZmZmZyT/sUbgehevBPzMzMzMzM8O/w/UoXI/C1T9xPQrXo3DNPwAAAAAAAAAAexSuR+F6tD97FK5H4Xq0v2ZmZmZmZtY/exSuR+F6pD+amZmZmZm5Pw==",
          "dtype": "f8"
         },
         "yaxis": "y"
        },
        {
         "alignmentgroup": "True",
         "customdata": [
          [
           "Real Madrid"
          ],
          [
           "Real Madrid"
          ],
          [
           "Real Madrid"
          ],
          [
           "Real Madrid"
          ],
          [
           "Real Madrid"
          ],
          [
           "Real Madrid"
          ],
          [
           "Real Madrid"
          ],
          [
           "Real Madrid"
          ],
          [
           "Real Madrid"
          ],
          [
           "Real Madrid"
          ],
          [
           "Real Madrid"
          ]
         ],
         "hovertemplate": "Season %{x}<br>Team: %{customdata[0]}<br>Def Eff: %{y:.2f}<extra></extra>",
         "legendgroup": "Real Madrid",
         "marker": {
          "color": "#00cc96",
          "line": {
           "color": "black",
           "width": 0.5
          },
          "pattern": {
           "shape": ""
          }
         },
         "name": "Real Madrid",
         "offsetgroup": "Real Madrid",
         "orientation": "v",
         "showlegend": true,
         "text": [
          "0.12",
          "0.30",
          "-0.11",
          "0.03",
          "0.07",
          "0.21",
          "0.28",
          "0.38",
          "0.09",
          "0.35",
          "0.21"
         ],
         "textposition": "outside",
         "type": "bar",
         "x": [
          "2014-15",
          "2015-16",
          "2016-17",
          "2017-18",
          "2018-19",
          "2019-20",
          "2020-21",
          "2021-22",
          "2022-23",
          "2023-24",
          "2024-25"
         ],
         "xaxis": "x",
         "y": {
          "bdata": "uB6F61G4vj8zMzMzMzPTPylcj8L1KLy/uB6F61G4nj/sUbgeheuxP+F6FK5H4co/7FG4HoXr0T9SuB6F61HYPwrXo3A9Crc/ZmZmZmZm1j/hehSuR+HKPw==",
          "dtype": "f8"
         },
         "yaxis": "y"
        }
       ],
       "layout": {
        "barmode": "group",
        "legend": {
         "title": {
          "text": "team"
         },
         "tracegroupgap": 0
        },
        "shapes": [
         {
          "line": {
           "color": "black",
           "dash": "dash",
           "width": 2
          },
          "type": "line",
          "x0": 0,
          "x1": 1,
          "xref": "x domain",
          "y0": 0,
          "y1": 0,
          "yref": "y"
         },
         {
          "fillcolor": "lightgray",
          "layer": "below",
          "line": {
           "width": 0
          },
          "opacity": 0.18,
          "type": "rect",
          "x0": 0,
          "x1": 1,
          "xref": "x domain",
          "y0": -0.03,
          "y1": 0.03,
          "yref": "y"
         }
        ],
        "template": {
         "data": {
          "bar": [
           {
            "error_x": {
             "color": "#2a3f5f"
            },
            "error_y": {
             "color": "#2a3f5f"
            },
            "marker": {
             "line": {
              "color": "#E5ECF6",
              "width": 0.5
             },
             "pattern": {
              "fillmode": "overlay",
              "size": 10,
              "solidity": 0.2
             }
            },
            "type": "bar"
           }
          ],
          "barpolar": [
           {
            "marker": {
             "line": {
              "color": "#E5ECF6",
              "width": 0.5
             },
             "pattern": {
              "fillmode": "overlay",
              "size": 10,
              "solidity": 0.2
             }
            },
            "type": "barpolar"
           }
          ],
          "carpet": [
           {
            "aaxis": {
             "endlinecolor": "#2a3f5f",
             "gridcolor": "white",
             "linecolor": "white",
             "minorgridcolor": "white",
             "startlinecolor": "#2a3f5f"
            },
            "baxis": {
             "endlinecolor": "#2a3f5f",
             "gridcolor": "white",
             "linecolor": "white",
             "minorgridcolor": "white",
             "startlinecolor": "#2a3f5f"
            },
            "type": "carpet"
           }
          ],
          "choropleth": [
           {
            "colorbar": {
             "outlinewidth": 0,
             "ticks": ""
            },
            "type": "choropleth"
           }
          ],
          "contour": [
           {
            "colorbar": {
             "outlinewidth": 0,
             "ticks": ""
            },
            "colorscale": [
             [
              0,
              "#0d0887"
             ],
             [
              0.1111111111111111,
              "#46039f"
             ],
             [
              0.2222222222222222,
              "#7201a8"
             ],
             [
              0.3333333333333333,
              "#9c179e"
             ],
             [
              0.4444444444444444,
              "#bd3786"
             ],
             [
              0.5555555555555556,
              "#d8576b"
             ],
             [
              0.6666666666666666,
              "#ed7953"
             ],
             [
              0.7777777777777778,
              "#fb9f3a"
             ],
             [
              0.8888888888888888,
              "#fdca26"
             ],
             [
              1,
              "#f0f921"
             ]
            ],
            "type": "contour"
           }
          ],
          "contourcarpet": [
           {
            "colorbar": {
             "outlinewidth": 0,
             "ticks": ""
            },
            "type": "contourcarpet"
           }
          ],
          "heatmap": [
           {
            "colorbar": {
             "outlinewidth": 0,
             "ticks": ""
            },
            "colorscale": [
             [
              0,
              "#0d0887"
             ],
             [
              0.1111111111111111,
              "#46039f"
             ],
             [
              0.2222222222222222,
              "#7201a8"
             ],
             [
              0.3333333333333333,
              "#9c179e"
             ],
             [
              0.4444444444444444,
              "#bd3786"
             ],
             [
              0.5555555555555556,
              "#d8576b"
             ],
             [
              0.6666666666666666,
              "#ed7953"
             ],
             [
              0.7777777777777778,
              "#fb9f3a"
             ],
             [
              0.8888888888888888,
              "#fdca26"
             ],
             [
              1,
              "#f0f921"
             ]
            ],
            "type": "heatmap"
           }
          ],
          "histogram": [
           {
            "marker": {
             "pattern": {
              "fillmode": "overlay",
              "size": 10,
              "solidity": 0.2
             }
            },
            "type": "histogram"
           }
          ],
          "histogram2d": [
           {
            "colorbar": {
             "outlinewidth": 0,
             "ticks": ""
            },
            "colorscale": [
             [
              0,
              "#0d0887"
             ],
             [
              0.1111111111111111,
              "#46039f"
             ],
             [
              0.2222222222222222,
              "#7201a8"
             ],
             [
              0.3333333333333333,
              "#9c179e"
             ],
             [
              0.4444444444444444,
              "#bd3786"
             ],
             [
              0.5555555555555556,
              "#d8576b"
             ],
             [
              0.6666666666666666,
              "#ed7953"
             ],
             [
              0.7777777777777778,
              "#fb9f3a"
             ],
             [
              0.8888888888888888,
              "#fdca26"
             ],
             [
              1,
              "#f0f921"
             ]
            ],
            "type": "histogram2d"
           }
          ],
          "histogram2dcontour": [
           {
            "colorbar": {
             "outlinewidth": 0,
             "ticks": ""
            },
            "colorscale": [
             [
              0,
              "#0d0887"
             ],
             [
              0.1111111111111111,
              "#46039f"
             ],
             [
              0.2222222222222222,
              "#7201a8"
             ],
             [
              0.3333333333333333,
              "#9c179e"
             ],
             [
              0.4444444444444444,
              "#bd3786"
             ],
             [
              0.5555555555555556,
              "#d8576b"
             ],
             [
              0.6666666666666666,
              "#ed7953"
             ],
             [
              0.7777777777777778,
              "#fb9f3a"
             ],
             [
              0.8888888888888888,
              "#fdca26"
             ],
             [
              1,
              "#f0f921"
             ]
            ],
            "type": "histogram2dcontour"
           }
          ],
          "mesh3d": [
           {
            "colorbar": {
             "outlinewidth": 0,
             "ticks": ""
            },
            "type": "mesh3d"
           }
          ],
          "parcoords": [
           {
            "line": {
             "colorbar": {
              "outlinewidth": 0,
              "ticks": ""
             }
            },
            "type": "parcoords"
           }
          ],
          "pie": [
           {
            "automargin": true,
            "type": "pie"
           }
          ],
          "scatter": [
           {
            "fillpattern": {
             "fillmode": "overlay",
             "size": 10,
             "solidity": 0.2
            },
            "type": "scatter"
           }
          ],
          "scatter3d": [
           {
            "line": {
             "colorbar": {
              "outlinewidth": 0,
              "ticks": ""
             }
            },
            "marker": {
             "colorbar": {
              "outlinewidth": 0,
              "ticks": ""
             }
            },
            "type": "scatter3d"
           }
          ],
          "scattercarpet": [
           {
            "marker": {
             "colorbar": {
              "outlinewidth": 0,
              "ticks": ""
             }
            },
            "type": "scattercarpet"
           }
          ],
          "scattergeo": [
           {
            "marker": {
             "colorbar": {
              "outlinewidth": 0,
              "ticks": ""
             }
            },
            "type": "scattergeo"
           }
          ],
          "scattergl": [
           {
            "marker": {
             "colorbar": {
              "outlinewidth": 0,
              "ticks": ""
             }
            },
            "type": "scattergl"
           }
          ],
          "scattermap": [
           {
            "marker": {
             "colorbar": {
              "outlinewidth": 0,
              "ticks": ""
             }
            },
            "type": "scattermap"
           }
          ],
          "scattermapbox": [
           {
            "marker": {
             "colorbar": {
              "outlinewidth": 0,
              "ticks": ""
             }
            },
            "type": "scattermapbox"
           }
          ],
          "scatterpolar": [
           {
            "marker": {
             "colorbar": {
              "outlinewidth": 0,
              "ticks": ""
             }
            },
            "type": "scatterpolar"
           }
          ],
          "scatterpolargl": [
           {
            "marker": {
             "colorbar": {
              "outlinewidth": 0,
              "ticks": ""
             }
            },
            "type": "scatterpolargl"
           }
          ],
          "scatterternary": [
           {
            "marker": {
             "colorbar": {
              "outlinewidth": 0,
              "ticks": ""
             }
            },
            "type": "scatterternary"
           }
          ],
          "surface": [
           {
            "colorbar": {
             "outlinewidth": 0,
             "ticks": ""
            },
            "colorscale": [
             [
              0,
              "#0d0887"
             ],
             [
              0.1111111111111111,
              "#46039f"
             ],
             [
              0.2222222222222222,
              "#7201a8"
             ],
             [
              0.3333333333333333,
              "#9c179e"
             ],
             [
              0.4444444444444444,
              "#bd3786"
             ],
             [
              0.5555555555555556,
              "#d8576b"
             ],
             [
              0.6666666666666666,
              "#ed7953"
             ],
             [
              0.7777777777777778,
              "#fb9f3a"
             ],
             [
              0.8888888888888888,
              "#fdca26"
             ],
             [
              1,
              "#f0f921"
             ]
            ],
            "type": "surface"
           }
          ],
          "table": [
           {
            "cells": {
             "fill": {
              "color": "#EBF0F8"
             },
             "line": {
              "color": "white"
             }
            },
            "header": {
             "fill": {
              "color": "#C8D4E3"
             },
             "line": {
              "color": "white"
             }
            },
            "type": "table"
           }
          ]
         },
         "layout": {
          "annotationdefaults": {
           "arrowcolor": "#2a3f5f",
           "arrowhead": 0,
           "arrowwidth": 1
          },
          "autotypenumbers": "strict",
          "coloraxis": {
           "colorbar": {
            "outlinewidth": 0,
            "ticks": ""
           }
          },
          "colorscale": {
           "diverging": [
            [
             0,
             "#8e0152"
            ],
            [
             0.1,
             "#c51b7d"
            ],
            [
             0.2,
             "#de77ae"
            ],
            [
             0.3,
             "#f1b6da"
            ],
            [
             0.4,
             "#fde0ef"
            ],
            [
             0.5,
             "#f7f7f7"
            ],
            [
             0.6,
             "#e6f5d0"
            ],
            [
             0.7,
             "#b8e186"
            ],
            [
             0.8,
             "#7fbc41"
            ],
            [
             0.9,
             "#4d9221"
            ],
            [
             1,
             "#276419"
            ]
           ],
           "sequential": [
            [
             0,
             "#0d0887"
            ],
            [
             0.1111111111111111,
             "#46039f"
            ],
            [
             0.2222222222222222,
             "#7201a8"
            ],
            [
             0.3333333333333333,
             "#9c179e"
            ],
            [
             0.4444444444444444,
             "#bd3786"
            ],
            [
             0.5555555555555556,
             "#d8576b"
            ],
            [
             0.6666666666666666,
             "#ed7953"
            ],
            [
             0.7777777777777778,
             "#fb9f3a"
            ],
            [
             0.8888888888888888,
             "#fdca26"
            ],
            [
             1,
             "#f0f921"
            ]
           ],
           "sequentialminus": [
            [
             0,
             "#0d0887"
            ],
            [
             0.1111111111111111,
             "#46039f"
            ],
            [
             0.2222222222222222,
             "#7201a8"
            ],
            [
             0.3333333333333333,
             "#9c179e"
            ],
            [
             0.4444444444444444,
             "#bd3786"
            ],
            [
             0.5555555555555556,
             "#d8576b"
            ],
            [
             0.6666666666666666,
             "#ed7953"
            ],
            [
             0.7777777777777778,
             "#fb9f3a"
            ],
            [
             0.8888888888888888,
             "#fdca26"
            ],
            [
             1,
             "#f0f921"
            ]
           ]
          },
          "colorway": [
           "#636efa",
           "#EF553B",
           "#00cc96",
           "#ab63fa",
           "#FFA15A",
           "#19d3f3",
           "#FF6692",
           "#B6E880",
           "#FF97FF",
           "#FECB52"
          ],
          "font": {
           "color": "#2a3f5f"
          },
          "geo": {
           "bgcolor": "white",
           "lakecolor": "white",
           "landcolor": "#E5ECF6",
           "showlakes": true,
           "showland": true,
           "subunitcolor": "white"
          },
          "hoverlabel": {
           "align": "left"
          },
          "hovermode": "closest",
          "mapbox": {
           "style": "light"
          },
          "paper_bgcolor": "white",
          "plot_bgcolor": "#E5ECF6",
          "polar": {
           "angularaxis": {
            "gridcolor": "white",
            "linecolor": "white",
            "ticks": ""
           },
           "bgcolor": "#E5ECF6",
           "radialaxis": {
            "gridcolor": "white",
            "linecolor": "white",
            "ticks": ""
           }
          },
          "scene": {
           "xaxis": {
            "backgroundcolor": "#E5ECF6",
            "gridcolor": "white",
            "gridwidth": 2,
            "linecolor": "white",
            "showbackground": true,
            "ticks": "",
            "zerolinecolor": "white"
           },
           "yaxis": {
            "backgroundcolor": "#E5ECF6",
            "gridcolor": "white",
            "gridwidth": 2,
            "linecolor": "white",
            "showbackground": true,
            "ticks": "",
            "zerolinecolor": "white"
           },
           "zaxis": {
            "backgroundcolor": "#E5ECF6",
            "gridcolor": "white",
            "gridwidth": 2,
            "linecolor": "white",
            "showbackground": true,
            "ticks": "",
            "zerolinecolor": "white"
           }
          },
          "shapedefaults": {
           "line": {
            "color": "#2a3f5f"
           }
          },
          "ternary": {
           "aaxis": {
            "gridcolor": "white",
            "linecolor": "white",
            "ticks": ""
           },
           "baxis": {
            "gridcolor": "white",
            "linecolor": "white",
            "ticks": ""
           },
           "bgcolor": "#E5ECF6",
           "caxis": {
            "gridcolor": "white",
            "linecolor": "white",
            "ticks": ""
           }
          },
          "title": {
           "x": 0.05
          },
          "xaxis": {
           "automargin": true,
           "gridcolor": "white",
           "linecolor": "white",
           "ticks": "",
           "title": {
            "standoff": 15
           },
           "zerolinecolor": "white",
           "zerolinewidth": 2
          },
          "yaxis": {
           "automargin": true,
           "gridcolor": "white",
           "linecolor": "white",
           "ticks": "",
           "title": {
            "standoff": 15
           },
           "zerolinecolor": "white",
           "zerolinewidth": 2
          }
         }
        },
        "title": {
         "text": "Big 3 Defensive Efficiency (xGA/m − GA/m)"
        },
        "xaxis": {
         "anchor": "y",
         "categoryarray": [
          "2014-15",
          "2015-16",
          "2016-17",
          "2017-18",
          "2018-19",
          "2019-20",
          "2020-21",
          "2021-22",
          "2022-23",
          "2023-24",
          "2024-25"
         ],
         "categoryorder": "array",
         "domain": [
          0,
          1
         ],
         "title": {
          "text": "Season / 시즌"
         }
        },
        "yaxis": {
         "anchor": "x",
         "domain": [
          0,
          1
         ],
         "range": [
          -0.4,
          0.4
         ],
         "tickformat": ".2f",
         "title": {
          "text": "Defensive Efficiency (xGA/m − GA/m)"
         }
        }
       }
      }
     },
     "metadata": {},
     "output_type": "display_data"
    }
   ],
   "source": [
    "# 빅3 필터 + 그래프(hover fix 포함)\n",
    "big3 = [\"Real Madrid\",\"Barcelona\",\"Atletico Madrid\"]\n",
    "big3_def = season_team_def[season_team_def[\"team\"].isin(big3)].copy()\n",
    "big3_def[\"season\"] = pd.Categorical(big3_def[\"season\"], categories=SEASON_ORDER, ordered=True)\n",
    "\n",
    "lab = big3_def.copy()\n",
    "lab[\"ae_txt\"] = lab[\"def_efficiency\"].apply(lambda v: f\"{v:.2f}\" if pd.notna(v) and abs(v) >= 0.03 else \"\")\n",
    "pad = 0.02\n",
    "rng = float(lab[\"def_efficiency\"].abs().max()) if not lab.empty else 0.1\n",
    "ylim = max(0.10, round(rng + pad, 2))\n",
    "\n",
    "import plotly.express as px\n",
    "fig_defeff = px.bar(\n",
    "    lab, x=\"season\", y=\"def_efficiency\", color=\"team\",\n",
    "    barmode=\"group\", category_orders={\"season\": SEASON_ORDER},\n",
    "    labels={\"season\":\"Season / 시즌\",\"def_efficiency\":\"Defensive Efficiency (xGA/m − GA/m)\"},\n",
    "    title=\"Big 3 Defensive Efficiency (xGA/m − GA/m)\",\n",
    "    text=\"ae_txt\",\n",
    "    custom_data=[\"team\"]   # ← hover용 팀명 전달\n",
    ")\n",
    "fig_defeff.update_traces(\n",
    "    textposition=\"outside\",\n",
    "    marker_line_width=0.5, marker_line_color=\"black\",\n",
    "    hovertemplate=\"Season %{x}<br>Team: %{customdata[0]}<br>Def Eff: %{y:.2f}<extra></extra>\"\n",
    ")\n",
    "fig_defeff.update_yaxes(tickformat=\".2f\", range=[-ylim, ylim])\n",
    "fig_defeff.add_hline(y=0, line_dash=\"dash\", line_width=2, line_color=\"black\")\n",
    "fig_defeff.add_hrect(y0=-0.03, y1=0.03, fillcolor=\"lightgray\", opacity=0.18, line_width=0, layer=\"below\")\n",
    "fig_defeff.show()"
   ]
  },
  {
   "cell_type": "markdown",
   "metadata": {},
   "source": [
    "5-c) Big 3 PPDA Trend (빅3 PPDA 추세)\n",
    "\n",
    "    - EN: Lower PPDA → stronger pressing. See if drops in PPDA align with lower GA/m.\n",
    "    - KR: PPDA 하락 = 압박 강화. PPDA 하락이 GA/m 하락과 함께 움직이는지 확인하세요."
   ]
  },
  {
   "cell_type": "code",
   "execution_count": 19,
   "metadata": {},
   "outputs": [
    {
     "data": {
      "application/vnd.plotly.v1+json": {
       "config": {
        "plotlyServerURL": "https://plot.ly"
       },
       "data": [
        {
         "hovertemplate": "Season %{x}<br>%{legendgroup}: PPDA %{y:.2f}",
         "legendgroup": "Atletico Madrid",
         "line": {
          "color": "#636efa",
          "dash": "solid"
         },
         "marker": {
          "symbol": "circle"
         },
         "mode": "lines+markers",
         "name": "Atletico Madrid",
         "orientation": "v",
         "showlegend": true,
         "type": "scatter",
         "x": [
          "2014-15",
          "2015-16",
          "2016-17",
          "2017-18",
          "2018-19",
          "2019-20",
          "2020-21",
          "2021-22",
          "2022-23",
          "2023-24",
          "2024-25"
         ],
         "xaxis": "x",
         "y": {
          "bdata": "9ihcj8L1IUCuR+F6FK4hQGZmZmZm5iNApHA9CtcjJUCkcD0K1yMmQOF6FK5HYSNASOF6FK7HJUDXo3A9ClcnQOF6FK5HYS1A7FG4HoXrK0AfhetRuJ4uQA==",
          "dtype": "f8"
         },
         "yaxis": "y"
        },
        {
         "hovertemplate": "Season %{x}<br>%{legendgroup}: PPDA %{y:.2f}",
         "legendgroup": "Barcelona",
         "line": {
          "color": "#EF553B",
          "dash": "solid"
         },
         "marker": {
          "symbol": "circle"
         },
         "mode": "lines+markers",
         "name": "Barcelona",
         "orientation": "v",
         "showlegend": true,
         "type": "scatter",
         "x": [
          "2014-15",
          "2015-16",
          "2016-17",
          "2017-18",
          "2018-19",
          "2019-20",
          "2020-21",
          "2021-22",
          "2022-23",
          "2023-24",
          "2024-25"
         ],
         "xaxis": "x",
         "y": {
          "bdata": "uB6F61G4FkAK16NwPQoYQM3MzMzMzBpAuB6F61E4IkAK16NwPQoiQIXrUbgehSBAUrgehevRI0Bcj8L1KFwgQOF6FK5H4R5AMzMzMzMzIUC4HoXrUbgaQA==",
          "dtype": "f8"
         },
         "yaxis": "y"
        },
        {
         "hovertemplate": "Season %{x}<br>%{legendgroup}: PPDA %{y:.2f}",
         "legendgroup": "Real Madrid",
         "line": {
          "color": "#00cc96",
          "dash": "solid"
         },
         "marker": {
          "symbol": "circle"
         },
         "mode": "lines+markers",
         "name": "Real Madrid",
         "orientation": "v",
         "showlegend": true,
         "type": "scatter",
         "x": [
          "2014-15",
          "2015-16",
          "2016-17",
          "2017-18",
          "2018-19",
          "2019-20",
          "2020-21",
          "2021-22",
          "2022-23",
          "2023-24",
          "2024-25"
         ],
         "xaxis": "x",
         "y": {
          "bdata": "7FG4HoVrJEAAAAAAAIAiQHsUrkfheiNAmpmZmZmZIkDNzMzMzMwhQIXrUbgehSJAFK5H4XoUJUDhehSuR2EpQFyPwvUo3CZArkfhehQuKkDsUbgehWsoQA==",
          "dtype": "f8"
         },
         "yaxis": "y"
        }
       ],
       "layout": {
        "legend": {
         "title": {
          "text": "team"
         },
         "tracegroupgap": 0
        },
        "template": {
         "data": {
          "bar": [
           {
            "error_x": {
             "color": "#2a3f5f"
            },
            "error_y": {
             "color": "#2a3f5f"
            },
            "marker": {
             "line": {
              "color": "#E5ECF6",
              "width": 0.5
             },
             "pattern": {
              "fillmode": "overlay",
              "size": 10,
              "solidity": 0.2
             }
            },
            "type": "bar"
           }
          ],
          "barpolar": [
           {
            "marker": {
             "line": {
              "color": "#E5ECF6",
              "width": 0.5
             },
             "pattern": {
              "fillmode": "overlay",
              "size": 10,
              "solidity": 0.2
             }
            },
            "type": "barpolar"
           }
          ],
          "carpet": [
           {
            "aaxis": {
             "endlinecolor": "#2a3f5f",
             "gridcolor": "white",
             "linecolor": "white",
             "minorgridcolor": "white",
             "startlinecolor": "#2a3f5f"
            },
            "baxis": {
             "endlinecolor": "#2a3f5f",
             "gridcolor": "white",
             "linecolor": "white",
             "minorgridcolor": "white",
             "startlinecolor": "#2a3f5f"
            },
            "type": "carpet"
           }
          ],
          "choropleth": [
           {
            "colorbar": {
             "outlinewidth": 0,
             "ticks": ""
            },
            "type": "choropleth"
           }
          ],
          "contour": [
           {
            "colorbar": {
             "outlinewidth": 0,
             "ticks": ""
            },
            "colorscale": [
             [
              0,
              "#0d0887"
             ],
             [
              0.1111111111111111,
              "#46039f"
             ],
             [
              0.2222222222222222,
              "#7201a8"
             ],
             [
              0.3333333333333333,
              "#9c179e"
             ],
             [
              0.4444444444444444,
              "#bd3786"
             ],
             [
              0.5555555555555556,
              "#d8576b"
             ],
             [
              0.6666666666666666,
              "#ed7953"
             ],
             [
              0.7777777777777778,
              "#fb9f3a"
             ],
             [
              0.8888888888888888,
              "#fdca26"
             ],
             [
              1,
              "#f0f921"
             ]
            ],
            "type": "contour"
           }
          ],
          "contourcarpet": [
           {
            "colorbar": {
             "outlinewidth": 0,
             "ticks": ""
            },
            "type": "contourcarpet"
           }
          ],
          "heatmap": [
           {
            "colorbar": {
             "outlinewidth": 0,
             "ticks": ""
            },
            "colorscale": [
             [
              0,
              "#0d0887"
             ],
             [
              0.1111111111111111,
              "#46039f"
             ],
             [
              0.2222222222222222,
              "#7201a8"
             ],
             [
              0.3333333333333333,
              "#9c179e"
             ],
             [
              0.4444444444444444,
              "#bd3786"
             ],
             [
              0.5555555555555556,
              "#d8576b"
             ],
             [
              0.6666666666666666,
              "#ed7953"
             ],
             [
              0.7777777777777778,
              "#fb9f3a"
             ],
             [
              0.8888888888888888,
              "#fdca26"
             ],
             [
              1,
              "#f0f921"
             ]
            ],
            "type": "heatmap"
           }
          ],
          "histogram": [
           {
            "marker": {
             "pattern": {
              "fillmode": "overlay",
              "size": 10,
              "solidity": 0.2
             }
            },
            "type": "histogram"
           }
          ],
          "histogram2d": [
           {
            "colorbar": {
             "outlinewidth": 0,
             "ticks": ""
            },
            "colorscale": [
             [
              0,
              "#0d0887"
             ],
             [
              0.1111111111111111,
              "#46039f"
             ],
             [
              0.2222222222222222,
              "#7201a8"
             ],
             [
              0.3333333333333333,
              "#9c179e"
             ],
             [
              0.4444444444444444,
              "#bd3786"
             ],
             [
              0.5555555555555556,
              "#d8576b"
             ],
             [
              0.6666666666666666,
              "#ed7953"
             ],
             [
              0.7777777777777778,
              "#fb9f3a"
             ],
             [
              0.8888888888888888,
              "#fdca26"
             ],
             [
              1,
              "#f0f921"
             ]
            ],
            "type": "histogram2d"
           }
          ],
          "histogram2dcontour": [
           {
            "colorbar": {
             "outlinewidth": 0,
             "ticks": ""
            },
            "colorscale": [
             [
              0,
              "#0d0887"
             ],
             [
              0.1111111111111111,
              "#46039f"
             ],
             [
              0.2222222222222222,
              "#7201a8"
             ],
             [
              0.3333333333333333,
              "#9c179e"
             ],
             [
              0.4444444444444444,
              "#bd3786"
             ],
             [
              0.5555555555555556,
              "#d8576b"
             ],
             [
              0.6666666666666666,
              "#ed7953"
             ],
             [
              0.7777777777777778,
              "#fb9f3a"
             ],
             [
              0.8888888888888888,
              "#fdca26"
             ],
             [
              1,
              "#f0f921"
             ]
            ],
            "type": "histogram2dcontour"
           }
          ],
          "mesh3d": [
           {
            "colorbar": {
             "outlinewidth": 0,
             "ticks": ""
            },
            "type": "mesh3d"
           }
          ],
          "parcoords": [
           {
            "line": {
             "colorbar": {
              "outlinewidth": 0,
              "ticks": ""
             }
            },
            "type": "parcoords"
           }
          ],
          "pie": [
           {
            "automargin": true,
            "type": "pie"
           }
          ],
          "scatter": [
           {
            "fillpattern": {
             "fillmode": "overlay",
             "size": 10,
             "solidity": 0.2
            },
            "type": "scatter"
           }
          ],
          "scatter3d": [
           {
            "line": {
             "colorbar": {
              "outlinewidth": 0,
              "ticks": ""
             }
            },
            "marker": {
             "colorbar": {
              "outlinewidth": 0,
              "ticks": ""
             }
            },
            "type": "scatter3d"
           }
          ],
          "scattercarpet": [
           {
            "marker": {
             "colorbar": {
              "outlinewidth": 0,
              "ticks": ""
             }
            },
            "type": "scattercarpet"
           }
          ],
          "scattergeo": [
           {
            "marker": {
             "colorbar": {
              "outlinewidth": 0,
              "ticks": ""
             }
            },
            "type": "scattergeo"
           }
          ],
          "scattergl": [
           {
            "marker": {
             "colorbar": {
              "outlinewidth": 0,
              "ticks": ""
             }
            },
            "type": "scattergl"
           }
          ],
          "scattermap": [
           {
            "marker": {
             "colorbar": {
              "outlinewidth": 0,
              "ticks": ""
             }
            },
            "type": "scattermap"
           }
          ],
          "scattermapbox": [
           {
            "marker": {
             "colorbar": {
              "outlinewidth": 0,
              "ticks": ""
             }
            },
            "type": "scattermapbox"
           }
          ],
          "scatterpolar": [
           {
            "marker": {
             "colorbar": {
              "outlinewidth": 0,
              "ticks": ""
             }
            },
            "type": "scatterpolar"
           }
          ],
          "scatterpolargl": [
           {
            "marker": {
             "colorbar": {
              "outlinewidth": 0,
              "ticks": ""
             }
            },
            "type": "scatterpolargl"
           }
          ],
          "scatterternary": [
           {
            "marker": {
             "colorbar": {
              "outlinewidth": 0,
              "ticks": ""
             }
            },
            "type": "scatterternary"
           }
          ],
          "surface": [
           {
            "colorbar": {
             "outlinewidth": 0,
             "ticks": ""
            },
            "colorscale": [
             [
              0,
              "#0d0887"
             ],
             [
              0.1111111111111111,
              "#46039f"
             ],
             [
              0.2222222222222222,
              "#7201a8"
             ],
             [
              0.3333333333333333,
              "#9c179e"
             ],
             [
              0.4444444444444444,
              "#bd3786"
             ],
             [
              0.5555555555555556,
              "#d8576b"
             ],
             [
              0.6666666666666666,
              "#ed7953"
             ],
             [
              0.7777777777777778,
              "#fb9f3a"
             ],
             [
              0.8888888888888888,
              "#fdca26"
             ],
             [
              1,
              "#f0f921"
             ]
            ],
            "type": "surface"
           }
          ],
          "table": [
           {
            "cells": {
             "fill": {
              "color": "#EBF0F8"
             },
             "line": {
              "color": "white"
             }
            },
            "header": {
             "fill": {
              "color": "#C8D4E3"
             },
             "line": {
              "color": "white"
             }
            },
            "type": "table"
           }
          ]
         },
         "layout": {
          "annotationdefaults": {
           "arrowcolor": "#2a3f5f",
           "arrowhead": 0,
           "arrowwidth": 1
          },
          "autotypenumbers": "strict",
          "coloraxis": {
           "colorbar": {
            "outlinewidth": 0,
            "ticks": ""
           }
          },
          "colorscale": {
           "diverging": [
            [
             0,
             "#8e0152"
            ],
            [
             0.1,
             "#c51b7d"
            ],
            [
             0.2,
             "#de77ae"
            ],
            [
             0.3,
             "#f1b6da"
            ],
            [
             0.4,
             "#fde0ef"
            ],
            [
             0.5,
             "#f7f7f7"
            ],
            [
             0.6,
             "#e6f5d0"
            ],
            [
             0.7,
             "#b8e186"
            ],
            [
             0.8,
             "#7fbc41"
            ],
            [
             0.9,
             "#4d9221"
            ],
            [
             1,
             "#276419"
            ]
           ],
           "sequential": [
            [
             0,
             "#0d0887"
            ],
            [
             0.1111111111111111,
             "#46039f"
            ],
            [
             0.2222222222222222,
             "#7201a8"
            ],
            [
             0.3333333333333333,
             "#9c179e"
            ],
            [
             0.4444444444444444,
             "#bd3786"
            ],
            [
             0.5555555555555556,
             "#d8576b"
            ],
            [
             0.6666666666666666,
             "#ed7953"
            ],
            [
             0.7777777777777778,
             "#fb9f3a"
            ],
            [
             0.8888888888888888,
             "#fdca26"
            ],
            [
             1,
             "#f0f921"
            ]
           ],
           "sequentialminus": [
            [
             0,
             "#0d0887"
            ],
            [
             0.1111111111111111,
             "#46039f"
            ],
            [
             0.2222222222222222,
             "#7201a8"
            ],
            [
             0.3333333333333333,
             "#9c179e"
            ],
            [
             0.4444444444444444,
             "#bd3786"
            ],
            [
             0.5555555555555556,
             "#d8576b"
            ],
            [
             0.6666666666666666,
             "#ed7953"
            ],
            [
             0.7777777777777778,
             "#fb9f3a"
            ],
            [
             0.8888888888888888,
             "#fdca26"
            ],
            [
             1,
             "#f0f921"
            ]
           ]
          },
          "colorway": [
           "#636efa",
           "#EF553B",
           "#00cc96",
           "#ab63fa",
           "#FFA15A",
           "#19d3f3",
           "#FF6692",
           "#B6E880",
           "#FF97FF",
           "#FECB52"
          ],
          "font": {
           "color": "#2a3f5f"
          },
          "geo": {
           "bgcolor": "white",
           "lakecolor": "white",
           "landcolor": "#E5ECF6",
           "showlakes": true,
           "showland": true,
           "subunitcolor": "white"
          },
          "hoverlabel": {
           "align": "left"
          },
          "hovermode": "closest",
          "mapbox": {
           "style": "light"
          },
          "paper_bgcolor": "white",
          "plot_bgcolor": "#E5ECF6",
          "polar": {
           "angularaxis": {
            "gridcolor": "white",
            "linecolor": "white",
            "ticks": ""
           },
           "bgcolor": "#E5ECF6",
           "radialaxis": {
            "gridcolor": "white",
            "linecolor": "white",
            "ticks": ""
           }
          },
          "scene": {
           "xaxis": {
            "backgroundcolor": "#E5ECF6",
            "gridcolor": "white",
            "gridwidth": 2,
            "linecolor": "white",
            "showbackground": true,
            "ticks": "",
            "zerolinecolor": "white"
           },
           "yaxis": {
            "backgroundcolor": "#E5ECF6",
            "gridcolor": "white",
            "gridwidth": 2,
            "linecolor": "white",
            "showbackground": true,
            "ticks": "",
            "zerolinecolor": "white"
           },
           "zaxis": {
            "backgroundcolor": "#E5ECF6",
            "gridcolor": "white",
            "gridwidth": 2,
            "linecolor": "white",
            "showbackground": true,
            "ticks": "",
            "zerolinecolor": "white"
           }
          },
          "shapedefaults": {
           "line": {
            "color": "#2a3f5f"
           }
          },
          "ternary": {
           "aaxis": {
            "gridcolor": "white",
            "linecolor": "white",
            "ticks": ""
           },
           "baxis": {
            "gridcolor": "white",
            "linecolor": "white",
            "ticks": ""
           },
           "bgcolor": "#E5ECF6",
           "caxis": {
            "gridcolor": "white",
            "linecolor": "white",
            "ticks": ""
           }
          },
          "title": {
           "x": 0.05
          },
          "xaxis": {
           "automargin": true,
           "gridcolor": "white",
           "linecolor": "white",
           "ticks": "",
           "title": {
            "standoff": 15
           },
           "zerolinecolor": "white",
           "zerolinewidth": 2
          },
          "yaxis": {
           "automargin": true,
           "gridcolor": "white",
           "linecolor": "white",
           "ticks": "",
           "title": {
            "standoff": 15
           },
           "zerolinecolor": "white",
           "zerolinewidth": 2
          }
         }
        },
        "title": {
         "text": "Big 3 PPDA Trend (lower = stronger pressing)"
        },
        "xaxis": {
         "anchor": "y",
         "categoryarray": [
          "2014-15",
          "2015-16",
          "2016-17",
          "2017-18",
          "2018-19",
          "2019-20",
          "2020-21",
          "2021-22",
          "2022-23",
          "2023-24",
          "2024-25"
         ],
         "categoryorder": "array",
         "domain": [
          0,
          1
         ],
         "title": {
          "text": "season"
         }
        },
        "yaxis": {
         "anchor": "x",
         "domain": [
          0,
          1
         ],
         "tickformat": ".2f",
         "title": {
          "text": "PPDA_avg"
         }
        }
       }
      }
     },
     "metadata": {},
     "output_type": "display_data"
    }
   ],
   "source": [
    "fig_ppda = px.line(\n",
    "    big3_def, x=\"season\", y=\"PPDA_avg\", color=\"team\", markers=True,\n",
    "    category_orders={\"season\": SEASON_ORDER},\n",
    "    title=\"Big 3 PPDA Trend (lower = stronger pressing)\"\n",
    ")\n",
    "fig_ppda.update_traces(hovertemplate=\"Season %{x}<br>%{legendgroup}: PPDA %{y:.2f}\")\n",
    "fig_ppda.update_yaxes(tickformat=\".2f\")\n",
    "fig_ppda.show()"
   ]
  },
  {
   "cell_type": "markdown",
   "metadata": {},
   "source": [
    "5-d) Big 3 GA per Match Trend (빅3 경기당 실점 추세)\n",
    "\n",
    "    - EN: Downward trend suggests improved defensive outcomes.\n",
    "    - KR: 하락 추세면 수비 결과(실점)가 개선되는 방향입니다."
   ]
  },
  {
   "cell_type": "code",
   "execution_count": 20,
   "metadata": {},
   "outputs": [
    {
     "data": {
      "application/vnd.plotly.v1+json": {
       "config": {
        "plotlyServerURL": "https://plot.ly"
       },
       "data": [
        {
         "hovertemplate": "Season %{x}<br>%{legendgroup}: GA/m %{y:.2f}",
         "legendgroup": "Atletico Madrid",
         "line": {
          "color": "#636efa",
          "dash": "solid"
         },
         "marker": {
          "symbol": "circle"
         },
         "mode": "lines+markers",
         "name": "Atletico Madrid",
         "orientation": "v",
         "showlegend": true,
         "type": "scatter",
         "x": [
          "2014-15",
          "2015-16",
          "2016-17",
          "2017-18",
          "2018-19",
          "2019-20",
          "2020-21",
          "2021-22",
          "2022-23",
          "2023-24",
          "2024-25"
         ],
         "xaxis": "x",
         "y": {
          "bdata": "UrgehetR6D8UrkfhehTeP7gehetRuOY/j8L1KFyP4j9SuB6F61HoP7gehetRuOY/H4XrUbge5T8UrkfhehTyP9ejcD0K1+s/FK5H4XoU8j9I4XoUrkfpPw==",
          "dtype": "f8"
         },
         "yaxis": "y"
        },
        {
         "hovertemplate": "Season %{x}<br>%{legendgroup}: GA/m %{y:.2f}",
         "legendgroup": "Barcelona",
         "line": {
          "color": "#EF553B",
          "dash": "solid"
         },
         "marker": {
          "symbol": "circle"
         },
         "mode": "lines+markers",
         "name": "Barcelona",
         "orientation": "v",
         "showlegend": true,
         "type": "scatter",
         "x": [
          "2014-15",
          "2015-16",
          "2016-17",
          "2017-18",
          "2018-19",
          "2019-20",
          "2020-21",
          "2021-22",
          "2022-23",
          "2023-24",
          "2024-25"
         ],
         "xaxis": "x",
         "y": {
          "bdata": "mpmZmZmZ4T9SuB6F61HoPwrXo3A9Cu8/UrgehetR6D9mZmZmZmbuPwAAAAAAAPA/AAAAAAAA8D8AAAAAAADwP/YoXI/C9eA/j8L1KFyP8j97FK5H4XrwPw==",
          "dtype": "f8"
         },
         "yaxis": "y"
        },
        {
         "hovertemplate": "Season %{x}<br>%{legendgroup}: GA/m %{y:.2f}",
         "legendgroup": "Real Madrid",
         "line": {
          "color": "#00cc96",
          "dash": "solid"
         },
         "marker": {
          "symbol": "circle"
         },
         "mode": "lines+markers",
         "name": "Real Madrid",
         "orientation": "v",
         "showlegend": true,
         "type": "scatter",
         "x": [
          "2014-15",
          "2015-16",
          "2016-17",
          "2017-18",
          "2018-19",
          "2019-20",
          "2020-21",
          "2021-22",
          "2022-23",
          "2023-24",
          "2024-25"
         ],
         "xaxis": "x",
         "y": {
          "bdata": "AAAAAAAA8D97FK5H4XrsP0jhehSuR/E/j8L1KFyP8j9cj8L1KFzzPx+F61G4HuU/rkfhehSu5z89CtejcD3qP2ZmZmZmZu4/w/UoXI/C5T8AAAAAAADwPw==",
          "dtype": "f8"
         },
         "yaxis": "y"
        }
       ],
       "layout": {
        "legend": {
         "title": {
          "text": "team"
         },
         "tracegroupgap": 0
        },
        "shapes": [
         {
          "line": {
           "dash": "dash"
          },
          "type": "line",
          "x0": 0,
          "x1": 1,
          "xref": "x domain",
          "y0": 0,
          "y1": 0,
          "yref": "y"
         }
        ],
        "template": {
         "data": {
          "bar": [
           {
            "error_x": {
             "color": "#2a3f5f"
            },
            "error_y": {
             "color": "#2a3f5f"
            },
            "marker": {
             "line": {
              "color": "#E5ECF6",
              "width": 0.5
             },
             "pattern": {
              "fillmode": "overlay",
              "size": 10,
              "solidity": 0.2
             }
            },
            "type": "bar"
           }
          ],
          "barpolar": [
           {
            "marker": {
             "line": {
              "color": "#E5ECF6",
              "width": 0.5
             },
             "pattern": {
              "fillmode": "overlay",
              "size": 10,
              "solidity": 0.2
             }
            },
            "type": "barpolar"
           }
          ],
          "carpet": [
           {
            "aaxis": {
             "endlinecolor": "#2a3f5f",
             "gridcolor": "white",
             "linecolor": "white",
             "minorgridcolor": "white",
             "startlinecolor": "#2a3f5f"
            },
            "baxis": {
             "endlinecolor": "#2a3f5f",
             "gridcolor": "white",
             "linecolor": "white",
             "minorgridcolor": "white",
             "startlinecolor": "#2a3f5f"
            },
            "type": "carpet"
           }
          ],
          "choropleth": [
           {
            "colorbar": {
             "outlinewidth": 0,
             "ticks": ""
            },
            "type": "choropleth"
           }
          ],
          "contour": [
           {
            "colorbar": {
             "outlinewidth": 0,
             "ticks": ""
            },
            "colorscale": [
             [
              0,
              "#0d0887"
             ],
             [
              0.1111111111111111,
              "#46039f"
             ],
             [
              0.2222222222222222,
              "#7201a8"
             ],
             [
              0.3333333333333333,
              "#9c179e"
             ],
             [
              0.4444444444444444,
              "#bd3786"
             ],
             [
              0.5555555555555556,
              "#d8576b"
             ],
             [
              0.6666666666666666,
              "#ed7953"
             ],
             [
              0.7777777777777778,
              "#fb9f3a"
             ],
             [
              0.8888888888888888,
              "#fdca26"
             ],
             [
              1,
              "#f0f921"
             ]
            ],
            "type": "contour"
           }
          ],
          "contourcarpet": [
           {
            "colorbar": {
             "outlinewidth": 0,
             "ticks": ""
            },
            "type": "contourcarpet"
           }
          ],
          "heatmap": [
           {
            "colorbar": {
             "outlinewidth": 0,
             "ticks": ""
            },
            "colorscale": [
             [
              0,
              "#0d0887"
             ],
             [
              0.1111111111111111,
              "#46039f"
             ],
             [
              0.2222222222222222,
              "#7201a8"
             ],
             [
              0.3333333333333333,
              "#9c179e"
             ],
             [
              0.4444444444444444,
              "#bd3786"
             ],
             [
              0.5555555555555556,
              "#d8576b"
             ],
             [
              0.6666666666666666,
              "#ed7953"
             ],
             [
              0.7777777777777778,
              "#fb9f3a"
             ],
             [
              0.8888888888888888,
              "#fdca26"
             ],
             [
              1,
              "#f0f921"
             ]
            ],
            "type": "heatmap"
           }
          ],
          "histogram": [
           {
            "marker": {
             "pattern": {
              "fillmode": "overlay",
              "size": 10,
              "solidity": 0.2
             }
            },
            "type": "histogram"
           }
          ],
          "histogram2d": [
           {
            "colorbar": {
             "outlinewidth": 0,
             "ticks": ""
            },
            "colorscale": [
             [
              0,
              "#0d0887"
             ],
             [
              0.1111111111111111,
              "#46039f"
             ],
             [
              0.2222222222222222,
              "#7201a8"
             ],
             [
              0.3333333333333333,
              "#9c179e"
             ],
             [
              0.4444444444444444,
              "#bd3786"
             ],
             [
              0.5555555555555556,
              "#d8576b"
             ],
             [
              0.6666666666666666,
              "#ed7953"
             ],
             [
              0.7777777777777778,
              "#fb9f3a"
             ],
             [
              0.8888888888888888,
              "#fdca26"
             ],
             [
              1,
              "#f0f921"
             ]
            ],
            "type": "histogram2d"
           }
          ],
          "histogram2dcontour": [
           {
            "colorbar": {
             "outlinewidth": 0,
             "ticks": ""
            },
            "colorscale": [
             [
              0,
              "#0d0887"
             ],
             [
              0.1111111111111111,
              "#46039f"
             ],
             [
              0.2222222222222222,
              "#7201a8"
             ],
             [
              0.3333333333333333,
              "#9c179e"
             ],
             [
              0.4444444444444444,
              "#bd3786"
             ],
             [
              0.5555555555555556,
              "#d8576b"
             ],
             [
              0.6666666666666666,
              "#ed7953"
             ],
             [
              0.7777777777777778,
              "#fb9f3a"
             ],
             [
              0.8888888888888888,
              "#fdca26"
             ],
             [
              1,
              "#f0f921"
             ]
            ],
            "type": "histogram2dcontour"
           }
          ],
          "mesh3d": [
           {
            "colorbar": {
             "outlinewidth": 0,
             "ticks": ""
            },
            "type": "mesh3d"
           }
          ],
          "parcoords": [
           {
            "line": {
             "colorbar": {
              "outlinewidth": 0,
              "ticks": ""
             }
            },
            "type": "parcoords"
           }
          ],
          "pie": [
           {
            "automargin": true,
            "type": "pie"
           }
          ],
          "scatter": [
           {
            "fillpattern": {
             "fillmode": "overlay",
             "size": 10,
             "solidity": 0.2
            },
            "type": "scatter"
           }
          ],
          "scatter3d": [
           {
            "line": {
             "colorbar": {
              "outlinewidth": 0,
              "ticks": ""
             }
            },
            "marker": {
             "colorbar": {
              "outlinewidth": 0,
              "ticks": ""
             }
            },
            "type": "scatter3d"
           }
          ],
          "scattercarpet": [
           {
            "marker": {
             "colorbar": {
              "outlinewidth": 0,
              "ticks": ""
             }
            },
            "type": "scattercarpet"
           }
          ],
          "scattergeo": [
           {
            "marker": {
             "colorbar": {
              "outlinewidth": 0,
              "ticks": ""
             }
            },
            "type": "scattergeo"
           }
          ],
          "scattergl": [
           {
            "marker": {
             "colorbar": {
              "outlinewidth": 0,
              "ticks": ""
             }
            },
            "type": "scattergl"
           }
          ],
          "scattermap": [
           {
            "marker": {
             "colorbar": {
              "outlinewidth": 0,
              "ticks": ""
             }
            },
            "type": "scattermap"
           }
          ],
          "scattermapbox": [
           {
            "marker": {
             "colorbar": {
              "outlinewidth": 0,
              "ticks": ""
             }
            },
            "type": "scattermapbox"
           }
          ],
          "scatterpolar": [
           {
            "marker": {
             "colorbar": {
              "outlinewidth": 0,
              "ticks": ""
             }
            },
            "type": "scatterpolar"
           }
          ],
          "scatterpolargl": [
           {
            "marker": {
             "colorbar": {
              "outlinewidth": 0,
              "ticks": ""
             }
            },
            "type": "scatterpolargl"
           }
          ],
          "scatterternary": [
           {
            "marker": {
             "colorbar": {
              "outlinewidth": 0,
              "ticks": ""
             }
            },
            "type": "scatterternary"
           }
          ],
          "surface": [
           {
            "colorbar": {
             "outlinewidth": 0,
             "ticks": ""
            },
            "colorscale": [
             [
              0,
              "#0d0887"
             ],
             [
              0.1111111111111111,
              "#46039f"
             ],
             [
              0.2222222222222222,
              "#7201a8"
             ],
             [
              0.3333333333333333,
              "#9c179e"
             ],
             [
              0.4444444444444444,
              "#bd3786"
             ],
             [
              0.5555555555555556,
              "#d8576b"
             ],
             [
              0.6666666666666666,
              "#ed7953"
             ],
             [
              0.7777777777777778,
              "#fb9f3a"
             ],
             [
              0.8888888888888888,
              "#fdca26"
             ],
             [
              1,
              "#f0f921"
             ]
            ],
            "type": "surface"
           }
          ],
          "table": [
           {
            "cells": {
             "fill": {
              "color": "#EBF0F8"
             },
             "line": {
              "color": "white"
             }
            },
            "header": {
             "fill": {
              "color": "#C8D4E3"
             },
             "line": {
              "color": "white"
             }
            },
            "type": "table"
           }
          ]
         },
         "layout": {
          "annotationdefaults": {
           "arrowcolor": "#2a3f5f",
           "arrowhead": 0,
           "arrowwidth": 1
          },
          "autotypenumbers": "strict",
          "coloraxis": {
           "colorbar": {
            "outlinewidth": 0,
            "ticks": ""
           }
          },
          "colorscale": {
           "diverging": [
            [
             0,
             "#8e0152"
            ],
            [
             0.1,
             "#c51b7d"
            ],
            [
             0.2,
             "#de77ae"
            ],
            [
             0.3,
             "#f1b6da"
            ],
            [
             0.4,
             "#fde0ef"
            ],
            [
             0.5,
             "#f7f7f7"
            ],
            [
             0.6,
             "#e6f5d0"
            ],
            [
             0.7,
             "#b8e186"
            ],
            [
             0.8,
             "#7fbc41"
            ],
            [
             0.9,
             "#4d9221"
            ],
            [
             1,
             "#276419"
            ]
           ],
           "sequential": [
            [
             0,
             "#0d0887"
            ],
            [
             0.1111111111111111,
             "#46039f"
            ],
            [
             0.2222222222222222,
             "#7201a8"
            ],
            [
             0.3333333333333333,
             "#9c179e"
            ],
            [
             0.4444444444444444,
             "#bd3786"
            ],
            [
             0.5555555555555556,
             "#d8576b"
            ],
            [
             0.6666666666666666,
             "#ed7953"
            ],
            [
             0.7777777777777778,
             "#fb9f3a"
            ],
            [
             0.8888888888888888,
             "#fdca26"
            ],
            [
             1,
             "#f0f921"
            ]
           ],
           "sequentialminus": [
            [
             0,
             "#0d0887"
            ],
            [
             0.1111111111111111,
             "#46039f"
            ],
            [
             0.2222222222222222,
             "#7201a8"
            ],
            [
             0.3333333333333333,
             "#9c179e"
            ],
            [
             0.4444444444444444,
             "#bd3786"
            ],
            [
             0.5555555555555556,
             "#d8576b"
            ],
            [
             0.6666666666666666,
             "#ed7953"
            ],
            [
             0.7777777777777778,
             "#fb9f3a"
            ],
            [
             0.8888888888888888,
             "#fdca26"
            ],
            [
             1,
             "#f0f921"
            ]
           ]
          },
          "colorway": [
           "#636efa",
           "#EF553B",
           "#00cc96",
           "#ab63fa",
           "#FFA15A",
           "#19d3f3",
           "#FF6692",
           "#B6E880",
           "#FF97FF",
           "#FECB52"
          ],
          "font": {
           "color": "#2a3f5f"
          },
          "geo": {
           "bgcolor": "white",
           "lakecolor": "white",
           "landcolor": "#E5ECF6",
           "showlakes": true,
           "showland": true,
           "subunitcolor": "white"
          },
          "hoverlabel": {
           "align": "left"
          },
          "hovermode": "closest",
          "mapbox": {
           "style": "light"
          },
          "paper_bgcolor": "white",
          "plot_bgcolor": "#E5ECF6",
          "polar": {
           "angularaxis": {
            "gridcolor": "white",
            "linecolor": "white",
            "ticks": ""
           },
           "bgcolor": "#E5ECF6",
           "radialaxis": {
            "gridcolor": "white",
            "linecolor": "white",
            "ticks": ""
           }
          },
          "scene": {
           "xaxis": {
            "backgroundcolor": "#E5ECF6",
            "gridcolor": "white",
            "gridwidth": 2,
            "linecolor": "white",
            "showbackground": true,
            "ticks": "",
            "zerolinecolor": "white"
           },
           "yaxis": {
            "backgroundcolor": "#E5ECF6",
            "gridcolor": "white",
            "gridwidth": 2,
            "linecolor": "white",
            "showbackground": true,
            "ticks": "",
            "zerolinecolor": "white"
           },
           "zaxis": {
            "backgroundcolor": "#E5ECF6",
            "gridcolor": "white",
            "gridwidth": 2,
            "linecolor": "white",
            "showbackground": true,
            "ticks": "",
            "zerolinecolor": "white"
           }
          },
          "shapedefaults": {
           "line": {
            "color": "#2a3f5f"
           }
          },
          "ternary": {
           "aaxis": {
            "gridcolor": "white",
            "linecolor": "white",
            "ticks": ""
           },
           "baxis": {
            "gridcolor": "white",
            "linecolor": "white",
            "ticks": ""
           },
           "bgcolor": "#E5ECF6",
           "caxis": {
            "gridcolor": "white",
            "linecolor": "white",
            "ticks": ""
           }
          },
          "title": {
           "x": 0.05
          },
          "xaxis": {
           "automargin": true,
           "gridcolor": "white",
           "linecolor": "white",
           "ticks": "",
           "title": {
            "standoff": 15
           },
           "zerolinecolor": "white",
           "zerolinewidth": 2
          },
          "yaxis": {
           "automargin": true,
           "gridcolor": "white",
           "linecolor": "white",
           "ticks": "",
           "title": {
            "standoff": 15
           },
           "zerolinecolor": "white",
           "zerolinewidth": 2
          }
         }
        },
        "title": {
         "text": "Big 3 Goals Conceded per Match Trend"
        },
        "xaxis": {
         "anchor": "y",
         "categoryarray": [
          "2014-15",
          "2015-16",
          "2016-17",
          "2017-18",
          "2018-19",
          "2019-20",
          "2020-21",
          "2021-22",
          "2022-23",
          "2023-24",
          "2024-25"
         ],
         "categoryorder": "array",
         "domain": [
          0,
          1
         ],
         "title": {
          "text": "season"
         }
        },
        "yaxis": {
         "anchor": "x",
         "domain": [
          0,
          1
         ],
         "tickformat": ".2f",
         "title": {
          "text": "GA_per_match"
         }
        }
       }
      }
     },
     "metadata": {},
     "output_type": "display_data"
    }
   ],
   "source": [
    "fig_ga = px.line(\n",
    "    big3_def, x=\"season\", y=\"GA_per_match\", color=\"team\", markers=True,\n",
    "    category_orders={\"season\": SEASON_ORDER},\n",
    "    title=\"Big 3 Goals Conceded per Match Trend\"\n",
    ")\n",
    "fig_ga.update_traces(hovertemplate=\"Season %{x}<br>%{legendgroup}: GA/m %{y:.2f}\")\n",
    "fig_ga.update_yaxes(tickformat=\".2f\")\n",
    "fig_ga.add_hline(y=0, line_dash=\"dash\")\n",
    "fig_ga.show()"
   ]
  },
  {
   "cell_type": "markdown",
   "metadata": {},
   "source": [
    "- EN\n",
    "\n",
    "    Across 2014–2025, Real Madrid deliver the steadiest defensive overperformance (positive DefEff) despite not always pressing aggressively (higher PPDA), suggesting effectiveness driven by box protection, shot-quality suppression, and goalkeeping. Barcelona’s best defensive seasons coincide with lower PPDA, indicating a clearer payoff from structured high pressing. Atlético’s 2021–22 stands out as a defensive underperformance (negative DefEff), with subsequent recovery; longer-term PPDA drift upward hints at a shift away from intense pressing.\n",
    "\n",
    "- KR\n",
    "\n",
    "    2014–2025 전기간을 보면, 레알은 압박( PPDA )이 항상 강하지 않아도 **지속적으로 기대 대비 실점을 줄이는 효율(양의 DefEff)**을 보여 박스 보호/슈팅 퀄리티 관리/GK 퍼포먼스의 기여가 컸음을 시사합니다. 바르셀로나는 **낮은 PPDA(강한 압박)**일수록 GA/m 하락과 DefEff 개선이 동행해 구조화된 전방 압박의 효과가 비교적 명확합니다. 아틀레티코는 2021–22에 음의 DefEff로 기대 이하의 수비 성과가 두드러졌고 이후 회복했으며, 장기적으로 **PPDA 상승(압박 약화)**이 관측됩니다."
   ]
  },
  {
   "cell_type": "code",
   "execution_count": 21,
   "metadata": {},
   "outputs": [],
   "source": [
    "from pathlib import Path\n",
    "import plotly.io as pio\n",
    "\n",
    "OUT = Path(\"outputs\"); OUT.mkdir(exist_ok=True)\n",
    "\n",
    "# 2dp summary for Big3\n",
    "export_cols = [\"season\",\"team\",\"GA_per_match\",\"xGA_per_match\",\"def_efficiency\",\"PPDA_avg\",\"matches\"]\n",
    "tmp = big3_def[export_cols].copy().sort_values([\"team\",\"season\"])\n",
    "tmp.to_csv(OUT/\"big3_defense_summary_2dp.csv\", index=False)\n",
    "\n",
    "# HTML charts\n",
    "pio.write_html(fig_scatter, file=OUT/\"league_PPDA_vs_GA.html\", include_plotlyjs=\"cdn\")\n",
    "pio.write_html(fig_defeff, file=OUT/\"big3_def_efficiency.html\", include_plotlyjs=\"cdn\")\n",
    "pio.write_html(fig_ppda,   file=OUT/\"big3_ppda_trend.html\", include_plotlyjs=\"cdn\")\n",
    "pio.write_html(fig_ga,     file=OUT/\"big3_ga_trend.html\", include_plotlyjs=\"cdn\")"
   ]
  }
 ],
 "metadata": {
  "kernelspec": {
   "display_name": "ds_study",
   "language": "python",
   "name": "python3"
  },
  "language_info": {
   "codemirror_mode": {
    "name": "ipython",
    "version": 3
   },
   "file_extension": ".py",
   "mimetype": "text/x-python",
   "name": "python",
   "nbconvert_exporter": "python",
   "pygments_lexer": "ipython3",
   "version": "3.10.18"
  }
 },
 "nbformat": 4,
 "nbformat_minor": 2
}
