{
 "cells": [
  {
   "cell_type": "markdown",
   "metadata": {},
   "source": [
    "## La Liga Big 3 (2014–2025): Seasonal Goals & Expected Goals (xG) Comparison\n",
    "- Real Madrid, Barcelona, and Atletico Madrid — season-by-season trends in Goals For (GF) and Expected Goals For (xGF), with simple interpretations."
   ]
  },
  {
   "cell_type": "markdown",
   "metadata": {},
   "source": [
    "### Step A. Imports & Paths"
   ]
  },
  {
   "cell_type": "code",
   "execution_count": 6,
   "metadata": {},
   "outputs": [
    {
     "name": "stdout",
     "output_type": "stream",
     "text": [
      "   match_id                 date home_team            away_team  home_goals  \\\n",
      "0      5826  2014-08-23 18:00:00    Malaga        Athletic Club           1   \n",
      "1      5827  2014-08-23 20:00:00   Sevilla             Valencia           1   \n",
      "2      5828  2014-08-23 20:00:00   Granada  Deportivo La Coruna           2   \n",
      "3      5829  2014-08-23 22:00:00   Almeria             Espanyol           1   \n",
      "4      5830  2014-08-24 18:00:00     Eibar        Real Sociedad           1   \n",
      "\n",
      "   away_goals  home_xg  away_xg  home_shots  away_shots  home_sot  away_sot  \\\n",
      "0           0     1.32     1.14          12          12         3         5   \n",
      "1           1     1.17     1.75          12          11         3         1   \n",
      "2           1     0.55     0.38          10           8         3         1   \n",
      "3           1     0.98     0.40          19          12         6         2   \n",
      "4           0     0.47     0.98          12          19         5         4   \n",
      "\n",
      "   home_deep  away_deep  home_ppda  away_ppda  home_xpts  away_xpts  \n",
      "0          4          5      12.07       6.30       1.53       1.14  \n",
      "1          8          4       9.42      10.65       0.89       1.82  \n",
      "2          2          4       4.78       5.80       1.45       1.08  \n",
      "3          5          4       6.67      15.80       1.88       0.77  \n",
      "4          4          1       8.79       6.67       0.83       1.81  \n"
     ]
    }
   ],
   "source": [
    "import pandas as pd\n",
    "import numpy as np\n",
    "import matplotlib.pyplot as plt\n",
    "from pathlib import Path\n",
    "\n",
    "df = pd.read_csv('la_liga_2014-2025_match_info.csv')\n",
    "\n",
    "print(df.head())"
   ]
  },
  {
   "cell_type": "code",
   "execution_count": 23,
   "metadata": {},
   "outputs": [],
   "source": [
    "# Step A — Imports & Paths\n",
    "# EN: Prepare libraries and set the CSV path.\n"
   ]
  },
  {
   "cell_type": "markdown",
   "metadata": {},
   "source": [
    "### Step B. Load & Create Season Labels"
   ]
  },
  {
   "cell_type": "code",
   "execution_count": 8,
   "metadata": {},
   "outputs": [
    {
     "name": "stdout",
     "output_type": "stream",
     "text": [
      "                 date home_team            away_team  home_goals  away_goals  \\\n",
      "0 2014-08-23 18:00:00    Malaga        Athletic Club           1           0   \n",
      "1 2014-08-23 20:00:00   Sevilla             Valencia           1           1   \n",
      "2 2014-08-23 20:00:00   Granada  Deportivo La Coruna           2           1   \n",
      "3 2014-08-23 22:00:00   Almeria             Espanyol           1           1   \n",
      "4 2014-08-24 18:00:00     Eibar        Real Sociedad           1           0   \n",
      "\n",
      "   home_xg  away_xg  \n",
      "0     1.32     1.14  \n",
      "1     1.17     1.75  \n",
      "2     0.55     0.38  \n",
      "3     0.98     0.40  \n",
      "4     0.47     0.98  \n"
     ]
    }
   ],
   "source": [
    "df = pd.read_csv('la_liga_2014-2025_match_info.csv')\n",
    "df[\"date\"] = pd.to_datetime(df[\"date\"], errors=\"raise\")\n",
    "\n",
    "# Create 'season' if missing (La Liga runs Aug–May)\n",
    "def make_season(y, m): \n",
    "    return f\"{y}-{y+1}\" if m >= 8 else f\"{y-1}-{y}\"\n",
    "\n",
    "if \"season\" not in df.columns:\n",
    "    df[\"season\"] = df.apply(lambda r: make_season(r[\"date\"].year, r[\"date\"].month), axis=1)\n",
    "\n",
    "print(df[[\"date\",\"home_team\",\"away_team\",\"home_goals\",\"away_goals\",\"home_xg\",\"away_xg\"]].head())\n"
   ]
  },
  {
   "cell_type": "code",
   "execution_count": 24,
   "metadata": {},
   "outputs": [],
   "source": [
    "# Step B — Load & Season Labels\n",
    "# EN: Load matches and create a 'season' label (Aug–May) from the match date if missing.\n",
    "# Columns used: date (parse to datetime); if season missing, build from date.\n"
   ]
  },
  {
   "cell_type": "markdown",
   "metadata": {},
   "source": [
    "### Step C. Build team-match rows (Home & Away to one “team” table)"
   ]
  },
  {
   "cell_type": "code",
   "execution_count": 10,
   "metadata": {},
   "outputs": [
    {
     "name": "stdout",
     "output_type": "stream",
     "text": [
      "                    date     season    team  gf  ga   xgf   xga  pts\n",
      "4947 2016-08-22 00:15:00  2016-2017  Alaves   1   1  0.03  4.18    1\n",
      "777  2016-08-28 20:15:00  2016-2017  Alaves   0   0  1.12  0.28    1\n",
      "4965 2016-09-10 22:30:00  2016-2017  Alaves   2   1  0.29  1.35    3\n",
      "799  2016-09-19 22:45:00  2016-2017  Alaves   0   0  0.46  0.67    1\n",
      "4989 2016-09-23 00:00:00  2016-2017  Alaves   1   2  0.26  1.42    0\n"
     ]
    }
   ],
   "source": [
    "# Convert each match into two rows: one for home team, one for away team\n",
    "home = df[[\"date\",\"season\",\"home_team\",\"home_goals\",\"away_goals\",\"home_xg\",\"away_xg\"]].copy()\n",
    "home.columns = [\"date\",\"season\",\"team\",\"gf\",\"ga\",\"xgf\",\"xga\"]\n",
    "\n",
    "away = df[[\"date\",\"season\",\"away_team\",\"away_goals\",\"home_goals\",\"away_xg\",\"home_xg\"]].copy()\n",
    "away.columns = [\"date\",\"season\",\"team\",\"gf\",\"ga\",\"xgf\",\"xga\"]\n",
    "\n",
    "tm = pd.concat([home, away], ignore_index=True)\n",
    "tm.sort_values([\"team\",\"date\"], inplace=True)\n",
    "\n",
    "# Points per match (3/1/0) for later (optional)\n",
    "tm[\"pts\"] = np.where(tm[\"gf\"]>tm[\"ga\"], 3, np.where(tm[\"gf\"]==tm[\"ga\"], 1, 0))\n",
    "\n",
    "print(tm.head())\n"
   ]
  },
  {
   "cell_type": "code",
   "execution_count": 25,
   "metadata": {},
   "outputs": [],
   "source": [
    "# Step C — Team-Match Table (Home/Away -> Team rows)\n",
    "# EN: Convert each match into two team rows (home team & away team) with GF/GA and xGF/xGA.\n",
    "#     Also compute points per match (3 win / 1 draw / 0 loss) for later use.\n",
    "# Columns used: date, season, home_team, away_team, home_goals, away_goals, home_xg, away_xg\n",
    "# Derived: team, gf, ga, xgf, xga, pts"
   ]
  },
  {
   "cell_type": "markdown",
   "metadata": {},
   "source": [
    "### Step D. Filter the “Big 3” & Aggregate by Season"
   ]
  },
  {
   "cell_type": "code",
   "execution_count": 12,
   "metadata": {},
   "outputs": [
    {
     "data": {
      "text/html": [
       "<div>\n",
       "<style scoped>\n",
       "    .dataframe tbody tr th:only-of-type {\n",
       "        vertical-align: middle;\n",
       "    }\n",
       "\n",
       "    .dataframe tbody tr th {\n",
       "        vertical-align: top;\n",
       "    }\n",
       "\n",
       "    .dataframe thead th {\n",
       "        text-align: right;\n",
       "    }\n",
       "</style>\n",
       "<table border=\"1\" class=\"dataframe\">\n",
       "  <thead>\n",
       "    <tr style=\"text-align: right;\">\n",
       "      <th></th>\n",
       "      <th>season</th>\n",
       "      <th>team_std</th>\n",
       "      <th>matches</th>\n",
       "      <th>GF</th>\n",
       "      <th>GA</th>\n",
       "      <th>xGF</th>\n",
       "      <th>xGA</th>\n",
       "      <th>Pts</th>\n",
       "      <th>GF_per_match</th>\n",
       "      <th>GA_per_match</th>\n",
       "      <th>xGF_per_match</th>\n",
       "      <th>xGA_per_match</th>\n",
       "      <th>PPG</th>\n",
       "    </tr>\n",
       "  </thead>\n",
       "  <tbody>\n",
       "    <tr>\n",
       "      <th>0</th>\n",
       "      <td>2014-2015</td>\n",
       "      <td>Atletico Madrid</td>\n",
       "      <td>38</td>\n",
       "      <td>67</td>\n",
       "      <td>29</td>\n",
       "      <td>57.05</td>\n",
       "      <td>29.08</td>\n",
       "      <td>78</td>\n",
       "      <td>1.763158</td>\n",
       "      <td>0.763158</td>\n",
       "      <td>1.501316</td>\n",
       "      <td>0.765263</td>\n",
       "      <td>2.052632</td>\n",
       "    </tr>\n",
       "    <tr>\n",
       "      <th>1</th>\n",
       "      <td>2014-2015</td>\n",
       "      <td>Barcelona</td>\n",
       "      <td>38</td>\n",
       "      <td>110</td>\n",
       "      <td>21</td>\n",
       "      <td>102.98</td>\n",
       "      <td>28.47</td>\n",
       "      <td>94</td>\n",
       "      <td>2.894737</td>\n",
       "      <td>0.552632</td>\n",
       "      <td>2.710000</td>\n",
       "      <td>0.749211</td>\n",
       "      <td>2.473684</td>\n",
       "    </tr>\n",
       "    <tr>\n",
       "      <th>2</th>\n",
       "      <td>2014-2015</td>\n",
       "      <td>Real Madrid</td>\n",
       "      <td>38</td>\n",
       "      <td>118</td>\n",
       "      <td>38</td>\n",
       "      <td>95.76</td>\n",
       "      <td>42.58</td>\n",
       "      <td>92</td>\n",
       "      <td>3.105263</td>\n",
       "      <td>1.000000</td>\n",
       "      <td>2.520000</td>\n",
       "      <td>1.120526</td>\n",
       "      <td>2.421053</td>\n",
       "    </tr>\n",
       "    <tr>\n",
       "      <th>3</th>\n",
       "      <td>2015-2016</td>\n",
       "      <td>Atletico Madrid</td>\n",
       "      <td>38</td>\n",
       "      <td>63</td>\n",
       "      <td>18</td>\n",
       "      <td>54.94</td>\n",
       "      <td>27.79</td>\n",
       "      <td>88</td>\n",
       "      <td>1.657895</td>\n",
       "      <td>0.473684</td>\n",
       "      <td>1.445789</td>\n",
       "      <td>0.731316</td>\n",
       "      <td>2.315789</td>\n",
       "    </tr>\n",
       "    <tr>\n",
       "      <th>4</th>\n",
       "      <td>2015-2016</td>\n",
       "      <td>Barcelona</td>\n",
       "      <td>38</td>\n",
       "      <td>112</td>\n",
       "      <td>29</td>\n",
       "      <td>113.59</td>\n",
       "      <td>34.05</td>\n",
       "      <td>91</td>\n",
       "      <td>2.947368</td>\n",
       "      <td>0.763158</td>\n",
       "      <td>2.989211</td>\n",
       "      <td>0.896053</td>\n",
       "      <td>2.394737</td>\n",
       "    </tr>\n",
       "  </tbody>\n",
       "</table>\n",
       "</div>"
      ],
      "text/plain": [
       "      season         team_std  matches   GF  GA     xGF    xGA  Pts  \\\n",
       "0  2014-2015  Atletico Madrid       38   67  29   57.05  29.08   78   \n",
       "1  2014-2015        Barcelona       38  110  21  102.98  28.47   94   \n",
       "2  2014-2015      Real Madrid       38  118  38   95.76  42.58   92   \n",
       "3  2015-2016  Atletico Madrid       38   63  18   54.94  27.79   88   \n",
       "4  2015-2016        Barcelona       38  112  29  113.59  34.05   91   \n",
       "\n",
       "   GF_per_match  GA_per_match  xGF_per_match  xGA_per_match       PPG  \n",
       "0      1.763158      0.763158       1.501316       0.765263  2.052632  \n",
       "1      2.894737      0.552632       2.710000       0.749211  2.473684  \n",
       "2      3.105263      1.000000       2.520000       1.120526  2.421053  \n",
       "3      1.657895      0.473684       1.445789       0.731316  2.315789  \n",
       "4      2.947368      0.763158       2.989211       0.896053  2.394737  "
      ]
     },
     "execution_count": 12,
     "metadata": {},
     "output_type": "execute_result"
    }
   ],
   "source": [
    "# Team name robustness (handles minor variants)\n",
    "big3_alias = {\n",
    "    \"Real Madrid\": [\"Real Madrid\"],\n",
    "    \"Barcelona\":   [\"Barcelona\",\"FC Barcelona\"],\n",
    "    \"Atletico Madrid\": [\"Atletico Madrid\",\"Atlético Madrid\"]\n",
    "}\n",
    "\n",
    "def is_big3(name):\n",
    "    return any(name in v for v in big3_alias.values()) or \\\n",
    "           any(any(alias==name for alias in v) for v in big3_alias.values())\n",
    "\n",
    "# Safer: map to canonical names\n",
    "def canonical(name):\n",
    "    for k, aliases in big3_alias.items():\n",
    "        if name in aliases:\n",
    "            return k\n",
    "    return name\n",
    "\n",
    "tm[\"team_std\"] = tm[\"team\"].apply(canonical)\n",
    "big3 = tm[tm[\"team_std\"].isin([\"Real Madrid\",\"Barcelona\",\"Atletico Madrid\"])].copy()\n",
    "\n",
    "# Season-level per-team averages\n",
    "season_team = (big3\n",
    "               .groupby([\"season\",\"team_std\"])\n",
    "               .agg(\n",
    "                   matches=(\"team_std\",\"size\"),\n",
    "                   GF=(\"gf\",\"sum\"), GA=(\"ga\",\"sum\"),\n",
    "                   xGF=(\"xgf\",\"sum\"), xGA=(\"xga\",\"sum\"),\n",
    "                   Pts=(\"pts\",\"sum\")\n",
    "               )\n",
    "               .reset_index())\n",
    "\n",
    "# Per-match metrics\n",
    "season_team[\"GF_per_match\"]  = season_team[\"GF\"]/season_team[\"matches\"]\n",
    "season_team[\"GA_per_match\"]  = season_team[\"GA\"]/season_team[\"matches\"]\n",
    "season_team[\"xGF_per_match\"] = season_team[\"xGF\"]/season_team[\"matches\"]\n",
    "season_team[\"xGA_per_match\"] = season_team[\"xGA\"]/season_team[\"matches\"]\n",
    "season_team[\"PPG\"]           = season_team[\"Pts\"]/season_team[\"matches\"]  # points per game\n",
    "\n",
    "season_team.head()\n"
   ]
  },
  {
   "cell_type": "code",
   "execution_count": 26,
   "metadata": {},
   "outputs": [],
   "source": [
    "# Step D — Filter Big 3 & Aggregate by Season\n",
    "# EN: Keep only Real Madrid, Barcelona, Atletico Madrid (canonical names) and aggregate by season.\n",
    "#     Sum totals (GF/GA/xGF/xGA/points) and compute per-match metrics.\n",
    "# Columns used: season, team (mapped to team_std), gf, ga, xgf, xga, pts\n",
    "# Derived: matches, GF_per_match, GA_per_match, xGF_per_match, xGA_per_match, PPG"
   ]
  },
  {
   "cell_type": "markdown",
   "metadata": {},
   "source": [
    "### Step E. Plot 1: Seasonal GF per match (line)"
   ]
  },
  {
   "cell_type": "code",
   "execution_count": 14,
   "metadata": {},
   "outputs": [
    {
     "data": {
      "application/vnd.plotly.v1+json": {
       "config": {
        "plotlyServerURL": "https://plot.ly"
       },
       "data": [
        {
         "customdata": [
          [
           "Atletico Madrid"
          ],
          [
           "Atletico Madrid"
          ],
          [
           "Atletico Madrid"
          ],
          [
           "Atletico Madrid"
          ],
          [
           "Atletico Madrid"
          ],
          [
           "Atletico Madrid"
          ],
          [
           "Atletico Madrid"
          ],
          [
           "Atletico Madrid"
          ],
          [
           "Atletico Madrid"
          ],
          [
           "Atletico Madrid"
          ],
          [
           "Atletico Madrid"
          ]
         ],
         "hovertemplate": "Team=%{customdata[0]}<br>Season=%{x}<br>GF per match=%{y:.2f}<extra></extra>",
         "legendgroup": "Atletico Madrid",
         "line": {
          "color": "#636efa",
          "dash": "solid"
         },
         "marker": {
          "symbol": "circle"
         },
         "mode": "lines+markers",
         "name": "Atletico Madrid",
         "orientation": "v",
         "showlegend": true,
         "type": "scatter",
         "x": [
          "2014-2015",
          "2015-2016",
          "2016-2017",
          "2017-2018",
          "2018-2019",
          "2019-2020",
          "2020-2021",
          "2021-2022",
          "2022-2023",
          "2023-2024",
          "2024-2025"
         ],
         "xaxis": "x",
         "y": {
          "bdata": "XkN5DeU1/D9sKK+hvIb6P5TXUF5Def0/vYbyGspr+D+H8hrKayj3P5TXUF5DefU/XkN5DeU1/D/lNZTXUF77P5TXUF5Def0/lNdQXkN5/T8bymsor6H8Pw==",
          "dtype": "f8"
         },
         "yaxis": "y"
        },
        {
         "customdata": [
          [
           "Barcelona"
          ],
          [
           "Barcelona"
          ],
          [
           "Barcelona"
          ],
          [
           "Barcelona"
          ],
          [
           "Barcelona"
          ],
          [
           "Barcelona"
          ],
          [
           "Barcelona"
          ],
          [
           "Barcelona"
          ],
          [
           "Barcelona"
          ],
          [
           "Barcelona"
          ],
          [
           "Barcelona"
          ]
         ],
         "hovertemplate": "Team=%{customdata[0]}<br>Season=%{x}<br>GF per match=%{y:.2f}<extra></extra>",
         "legendgroup": "Barcelona",
         "line": {
          "color": "#EF553B",
          "dash": "solid"
         },
         "marker": {
          "symbol": "circle"
         },
         "mode": "lines+markers",
         "name": "Barcelona",
         "orientation": "v",
         "showlegend": true,
         "type": "scatter",
         "x": [
          "2014-2015",
          "2015-2016",
          "2016-2017",
          "2017-2018",
          "2018-2019",
          "2019-2020",
          "2020-2021",
          "2021-2022",
          "2022-2023",
          "2023-2024",
          "2024-2025"
         ],
         "xaxis": "x",
         "y": {
          "bdata": "h/IaymsoB0BDeQ3lNZQHQL2G8hrKawhAeQ3lNZTXBEAor6G8hvICQK+hvIbyGgJAUV5DeQ3lAUAbymsor6H8P5TXUF5Def0/G8prKK+hAECU11BeQ3kFQA==",
          "dtype": "f8"
         },
         "yaxis": "y"
        },
        {
         "customdata": [
          [
           "Real Madrid"
          ],
          [
           "Real Madrid"
          ],
          [
           "Real Madrid"
          ],
          [
           "Real Madrid"
          ],
          [
           "Real Madrid"
          ],
          [
           "Real Madrid"
          ],
          [
           "Real Madrid"
          ],
          [
           "Real Madrid"
          ],
          [
           "Real Madrid"
          ],
          [
           "Real Madrid"
          ],
          [
           "Real Madrid"
          ]
         ],
         "hovertemplate": "Team=%{customdata[0]}<br>Season=%{x}<br>GF per match=%{y:.2f}<extra></extra>",
         "legendgroup": "Real Madrid",
         "line": {
          "color": "#00cc96",
          "dash": "solid"
         },
         "marker": {
          "symbol": "circle"
         },
         "mode": "lines+markers",
         "name": "Real Madrid",
         "orientation": "v",
         "showlegend": true,
         "type": "scatter",
         "x": [
          "2014-2015",
          "2015-2016",
          "2016-2017",
          "2017-2018",
          "2018-2019",
          "2019-2020",
          "2020-2021",
          "2021-2022",
          "2022-2023",
          "2023-2024",
          "2024-2025"
         ],
         "xaxis": "x",
         "y": {
          "bdata": "eQ3lNZTXCECH8hrKaygHQA3lNZTXUAZAoryG8hrKA0BsKK+hvIb6P5TXUF5Def0/XkN5DeU1/D95DeU1lNcAQEN5DeU1lP8/DeU1lNdQAkC9hvIaymsAQA==",
          "dtype": "f8"
         },
         "yaxis": "y"
        }
       ],
       "layout": {
        "legend": {
         "title": {
          "text": "Team"
         },
         "tracegroupgap": 0
        },
        "template": {
         "data": {
          "bar": [
           {
            "error_x": {
             "color": "#2a3f5f"
            },
            "error_y": {
             "color": "#2a3f5f"
            },
            "marker": {
             "line": {
              "color": "#E5ECF6",
              "width": 0.5
             },
             "pattern": {
              "fillmode": "overlay",
              "size": 10,
              "solidity": 0.2
             }
            },
            "type": "bar"
           }
          ],
          "barpolar": [
           {
            "marker": {
             "line": {
              "color": "#E5ECF6",
              "width": 0.5
             },
             "pattern": {
              "fillmode": "overlay",
              "size": 10,
              "solidity": 0.2
             }
            },
            "type": "barpolar"
           }
          ],
          "carpet": [
           {
            "aaxis": {
             "endlinecolor": "#2a3f5f",
             "gridcolor": "white",
             "linecolor": "white",
             "minorgridcolor": "white",
             "startlinecolor": "#2a3f5f"
            },
            "baxis": {
             "endlinecolor": "#2a3f5f",
             "gridcolor": "white",
             "linecolor": "white",
             "minorgridcolor": "white",
             "startlinecolor": "#2a3f5f"
            },
            "type": "carpet"
           }
          ],
          "choropleth": [
           {
            "colorbar": {
             "outlinewidth": 0,
             "ticks": ""
            },
            "type": "choropleth"
           }
          ],
          "contour": [
           {
            "colorbar": {
             "outlinewidth": 0,
             "ticks": ""
            },
            "colorscale": [
             [
              0,
              "#0d0887"
             ],
             [
              0.1111111111111111,
              "#46039f"
             ],
             [
              0.2222222222222222,
              "#7201a8"
             ],
             [
              0.3333333333333333,
              "#9c179e"
             ],
             [
              0.4444444444444444,
              "#bd3786"
             ],
             [
              0.5555555555555556,
              "#d8576b"
             ],
             [
              0.6666666666666666,
              "#ed7953"
             ],
             [
              0.7777777777777778,
              "#fb9f3a"
             ],
             [
              0.8888888888888888,
              "#fdca26"
             ],
             [
              1,
              "#f0f921"
             ]
            ],
            "type": "contour"
           }
          ],
          "contourcarpet": [
           {
            "colorbar": {
             "outlinewidth": 0,
             "ticks": ""
            },
            "type": "contourcarpet"
           }
          ],
          "heatmap": [
           {
            "colorbar": {
             "outlinewidth": 0,
             "ticks": ""
            },
            "colorscale": [
             [
              0,
              "#0d0887"
             ],
             [
              0.1111111111111111,
              "#46039f"
             ],
             [
              0.2222222222222222,
              "#7201a8"
             ],
             [
              0.3333333333333333,
              "#9c179e"
             ],
             [
              0.4444444444444444,
              "#bd3786"
             ],
             [
              0.5555555555555556,
              "#d8576b"
             ],
             [
              0.6666666666666666,
              "#ed7953"
             ],
             [
              0.7777777777777778,
              "#fb9f3a"
             ],
             [
              0.8888888888888888,
              "#fdca26"
             ],
             [
              1,
              "#f0f921"
             ]
            ],
            "type": "heatmap"
           }
          ],
          "histogram": [
           {
            "marker": {
             "pattern": {
              "fillmode": "overlay",
              "size": 10,
              "solidity": 0.2
             }
            },
            "type": "histogram"
           }
          ],
          "histogram2d": [
           {
            "colorbar": {
             "outlinewidth": 0,
             "ticks": ""
            },
            "colorscale": [
             [
              0,
              "#0d0887"
             ],
             [
              0.1111111111111111,
              "#46039f"
             ],
             [
              0.2222222222222222,
              "#7201a8"
             ],
             [
              0.3333333333333333,
              "#9c179e"
             ],
             [
              0.4444444444444444,
              "#bd3786"
             ],
             [
              0.5555555555555556,
              "#d8576b"
             ],
             [
              0.6666666666666666,
              "#ed7953"
             ],
             [
              0.7777777777777778,
              "#fb9f3a"
             ],
             [
              0.8888888888888888,
              "#fdca26"
             ],
             [
              1,
              "#f0f921"
             ]
            ],
            "type": "histogram2d"
           }
          ],
          "histogram2dcontour": [
           {
            "colorbar": {
             "outlinewidth": 0,
             "ticks": ""
            },
            "colorscale": [
             [
              0,
              "#0d0887"
             ],
             [
              0.1111111111111111,
              "#46039f"
             ],
             [
              0.2222222222222222,
              "#7201a8"
             ],
             [
              0.3333333333333333,
              "#9c179e"
             ],
             [
              0.4444444444444444,
              "#bd3786"
             ],
             [
              0.5555555555555556,
              "#d8576b"
             ],
             [
              0.6666666666666666,
              "#ed7953"
             ],
             [
              0.7777777777777778,
              "#fb9f3a"
             ],
             [
              0.8888888888888888,
              "#fdca26"
             ],
             [
              1,
              "#f0f921"
             ]
            ],
            "type": "histogram2dcontour"
           }
          ],
          "mesh3d": [
           {
            "colorbar": {
             "outlinewidth": 0,
             "ticks": ""
            },
            "type": "mesh3d"
           }
          ],
          "parcoords": [
           {
            "line": {
             "colorbar": {
              "outlinewidth": 0,
              "ticks": ""
             }
            },
            "type": "parcoords"
           }
          ],
          "pie": [
           {
            "automargin": true,
            "type": "pie"
           }
          ],
          "scatter": [
           {
            "fillpattern": {
             "fillmode": "overlay",
             "size": 10,
             "solidity": 0.2
            },
            "type": "scatter"
           }
          ],
          "scatter3d": [
           {
            "line": {
             "colorbar": {
              "outlinewidth": 0,
              "ticks": ""
             }
            },
            "marker": {
             "colorbar": {
              "outlinewidth": 0,
              "ticks": ""
             }
            },
            "type": "scatter3d"
           }
          ],
          "scattercarpet": [
           {
            "marker": {
             "colorbar": {
              "outlinewidth": 0,
              "ticks": ""
             }
            },
            "type": "scattercarpet"
           }
          ],
          "scattergeo": [
           {
            "marker": {
             "colorbar": {
              "outlinewidth": 0,
              "ticks": ""
             }
            },
            "type": "scattergeo"
           }
          ],
          "scattergl": [
           {
            "marker": {
             "colorbar": {
              "outlinewidth": 0,
              "ticks": ""
             }
            },
            "type": "scattergl"
           }
          ],
          "scattermap": [
           {
            "marker": {
             "colorbar": {
              "outlinewidth": 0,
              "ticks": ""
             }
            },
            "type": "scattermap"
           }
          ],
          "scattermapbox": [
           {
            "marker": {
             "colorbar": {
              "outlinewidth": 0,
              "ticks": ""
             }
            },
            "type": "scattermapbox"
           }
          ],
          "scatterpolar": [
           {
            "marker": {
             "colorbar": {
              "outlinewidth": 0,
              "ticks": ""
             }
            },
            "type": "scatterpolar"
           }
          ],
          "scatterpolargl": [
           {
            "marker": {
             "colorbar": {
              "outlinewidth": 0,
              "ticks": ""
             }
            },
            "type": "scatterpolargl"
           }
          ],
          "scatterternary": [
           {
            "marker": {
             "colorbar": {
              "outlinewidth": 0,
              "ticks": ""
             }
            },
            "type": "scatterternary"
           }
          ],
          "surface": [
           {
            "colorbar": {
             "outlinewidth": 0,
             "ticks": ""
            },
            "colorscale": [
             [
              0,
              "#0d0887"
             ],
             [
              0.1111111111111111,
              "#46039f"
             ],
             [
              0.2222222222222222,
              "#7201a8"
             ],
             [
              0.3333333333333333,
              "#9c179e"
             ],
             [
              0.4444444444444444,
              "#bd3786"
             ],
             [
              0.5555555555555556,
              "#d8576b"
             ],
             [
              0.6666666666666666,
              "#ed7953"
             ],
             [
              0.7777777777777778,
              "#fb9f3a"
             ],
             [
              0.8888888888888888,
              "#fdca26"
             ],
             [
              1,
              "#f0f921"
             ]
            ],
            "type": "surface"
           }
          ],
          "table": [
           {
            "cells": {
             "fill": {
              "color": "#EBF0F8"
             },
             "line": {
              "color": "white"
             }
            },
            "header": {
             "fill": {
              "color": "#C8D4E3"
             },
             "line": {
              "color": "white"
             }
            },
            "type": "table"
           }
          ]
         },
         "layout": {
          "annotationdefaults": {
           "arrowcolor": "#2a3f5f",
           "arrowhead": 0,
           "arrowwidth": 1
          },
          "autotypenumbers": "strict",
          "coloraxis": {
           "colorbar": {
            "outlinewidth": 0,
            "ticks": ""
           }
          },
          "colorscale": {
           "diverging": [
            [
             0,
             "#8e0152"
            ],
            [
             0.1,
             "#c51b7d"
            ],
            [
             0.2,
             "#de77ae"
            ],
            [
             0.3,
             "#f1b6da"
            ],
            [
             0.4,
             "#fde0ef"
            ],
            [
             0.5,
             "#f7f7f7"
            ],
            [
             0.6,
             "#e6f5d0"
            ],
            [
             0.7,
             "#b8e186"
            ],
            [
             0.8,
             "#7fbc41"
            ],
            [
             0.9,
             "#4d9221"
            ],
            [
             1,
             "#276419"
            ]
           ],
           "sequential": [
            [
             0,
             "#0d0887"
            ],
            [
             0.1111111111111111,
             "#46039f"
            ],
            [
             0.2222222222222222,
             "#7201a8"
            ],
            [
             0.3333333333333333,
             "#9c179e"
            ],
            [
             0.4444444444444444,
             "#bd3786"
            ],
            [
             0.5555555555555556,
             "#d8576b"
            ],
            [
             0.6666666666666666,
             "#ed7953"
            ],
            [
             0.7777777777777778,
             "#fb9f3a"
            ],
            [
             0.8888888888888888,
             "#fdca26"
            ],
            [
             1,
             "#f0f921"
            ]
           ],
           "sequentialminus": [
            [
             0,
             "#0d0887"
            ],
            [
             0.1111111111111111,
             "#46039f"
            ],
            [
             0.2222222222222222,
             "#7201a8"
            ],
            [
             0.3333333333333333,
             "#9c179e"
            ],
            [
             0.4444444444444444,
             "#bd3786"
            ],
            [
             0.5555555555555556,
             "#d8576b"
            ],
            [
             0.6666666666666666,
             "#ed7953"
            ],
            [
             0.7777777777777778,
             "#fb9f3a"
            ],
            [
             0.8888888888888888,
             "#fdca26"
            ],
            [
             1,
             "#f0f921"
            ]
           ]
          },
          "colorway": [
           "#636efa",
           "#EF553B",
           "#00cc96",
           "#ab63fa",
           "#FFA15A",
           "#19d3f3",
           "#FF6692",
           "#B6E880",
           "#FF97FF",
           "#FECB52"
          ],
          "font": {
           "color": "#2a3f5f"
          },
          "geo": {
           "bgcolor": "white",
           "lakecolor": "white",
           "landcolor": "#E5ECF6",
           "showlakes": true,
           "showland": true,
           "subunitcolor": "white"
          },
          "hoverlabel": {
           "align": "left"
          },
          "hovermode": "closest",
          "mapbox": {
           "style": "light"
          },
          "paper_bgcolor": "white",
          "plot_bgcolor": "#E5ECF6",
          "polar": {
           "angularaxis": {
            "gridcolor": "white",
            "linecolor": "white",
            "ticks": ""
           },
           "bgcolor": "#E5ECF6",
           "radialaxis": {
            "gridcolor": "white",
            "linecolor": "white",
            "ticks": ""
           }
          },
          "scene": {
           "xaxis": {
            "backgroundcolor": "#E5ECF6",
            "gridcolor": "white",
            "gridwidth": 2,
            "linecolor": "white",
            "showbackground": true,
            "ticks": "",
            "zerolinecolor": "white"
           },
           "yaxis": {
            "backgroundcolor": "#E5ECF6",
            "gridcolor": "white",
            "gridwidth": 2,
            "linecolor": "white",
            "showbackground": true,
            "ticks": "",
            "zerolinecolor": "white"
           },
           "zaxis": {
            "backgroundcolor": "#E5ECF6",
            "gridcolor": "white",
            "gridwidth": 2,
            "linecolor": "white",
            "showbackground": true,
            "ticks": "",
            "zerolinecolor": "white"
           }
          },
          "shapedefaults": {
           "line": {
            "color": "#2a3f5f"
           }
          },
          "ternary": {
           "aaxis": {
            "gridcolor": "white",
            "linecolor": "white",
            "ticks": ""
           },
           "baxis": {
            "gridcolor": "white",
            "linecolor": "white",
            "ticks": ""
           },
           "bgcolor": "#E5ECF6",
           "caxis": {
            "gridcolor": "white",
            "linecolor": "white",
            "ticks": ""
           }
          },
          "title": {
           "x": 0.05
          },
          "xaxis": {
           "automargin": true,
           "gridcolor": "white",
           "linecolor": "white",
           "ticks": "",
           "title": {
            "standoff": 15
           },
           "zerolinecolor": "white",
           "zerolinewidth": 2
          },
          "yaxis": {
           "automargin": true,
           "gridcolor": "white",
           "linecolor": "white",
           "ticks": "",
           "title": {
            "standoff": 15
           },
           "zerolinecolor": "white",
           "zerolinewidth": 2
          }
         }
        },
        "title": {
         "text": "Seasonal Goals For per Match — Big 3"
        },
        "xaxis": {
         "anchor": "y",
         "domain": [
          0,
          1
         ],
         "tickangle": 45,
         "title": {
          "text": "Season"
         }
        },
        "yaxis": {
         "anchor": "x",
         "domain": [
          0,
          1
         ],
         "title": {
          "text": "GF per match"
         }
        }
       }
      }
     },
     "metadata": {},
     "output_type": "display_data"
    }
   ],
   "source": [
    "import plotly.express as px\n",
    "\n",
    "# EN: Interactive line with hover (Season, Team, GF per match)\n",
    "# KO: 인터랙티브 라인 (시즌, 팀, 경기당 득점 표시)\n",
    "gf_long = season_team[[\"season\",\"team_std\",\"GF_per_match\"]].copy()\n",
    "\n",
    "fig_gf = px.line(\n",
    "    gf_long, x=\"season\", y=\"GF_per_match\", color=\"team_std\",\n",
    "    markers=True, title=\"Seasonal Goals For per Match — Big 3\",\n",
    "    labels={\"season\":\"Season\",\"GF_per_match\":\"GF per match\",\"team_std\":\"Team\"},\n",
    "    hover_data={\"season\":True,\"team_std\":True,\"GF_per_match\":\":.2f\"}\n",
    ")\n",
    "fig_gf.update_layout(legend_title_text=\"Team\", xaxis_tickangle=45)\n",
    "fig_gf.show()\n"
   ]
  },
  {
   "cell_type": "code",
   "execution_count": 27,
   "metadata": {},
   "outputs": [],
   "source": [
    "# Step E — Plot: Seasonal GF per Match (Big 3)\n",
    "# EN: Line chart of goals for per match by season for the Big 3.\n",
    "# Columns used: season_team['season','team_std','GF_per_match']\n",
    "# 사용 컬럼: season_team['season','team_std','GF_per_match']"
   ]
  },
  {
   "cell_type": "markdown",
   "metadata": {},
   "source": [
    "- Barcelona peaks around 2015–2017, then drops sharply by 2018–2020, and rises again by 2024–2025.\n",
    "- Real Madrid dips around 2018–2021, then recovers 2022–2024; slight pullback in 2024–2025.\n",
    "- Atletico Madrid sits lower than the other two most seasons, with a steady uptick from 2021–2024."
   ]
  },
  {
   "cell_type": "markdown",
   "metadata": {},
   "source": [
    "### Step F. Plot 2: Seasonal xGF per match (line)"
   ]
  },
  {
   "cell_type": "code",
   "execution_count": 16,
   "metadata": {},
   "outputs": [
    {
     "data": {
      "application/vnd.plotly.v1+json": {
       "config": {
        "plotlyServerURL": "https://plot.ly"
       },
       "data": [
        {
         "customdata": [
          [
           "Atletico Madrid"
          ],
          [
           "Atletico Madrid"
          ],
          [
           "Atletico Madrid"
          ],
          [
           "Atletico Madrid"
          ],
          [
           "Atletico Madrid"
          ],
          [
           "Atletico Madrid"
          ],
          [
           "Atletico Madrid"
          ],
          [
           "Atletico Madrid"
          ],
          [
           "Atletico Madrid"
          ],
          [
           "Atletico Madrid"
          ],
          [
           "Atletico Madrid"
          ]
         ],
         "hovertemplate": "Team=%{customdata[0]}<br>Season=%{x}<br>xGF per match=%{y:.2f}<extra></extra>",
         "legendgroup": "Atletico Madrid",
         "line": {
          "color": "#636efa",
          "dash": "solid"
         },
         "marker": {
          "symbol": "circle"
         },
         "mode": "lines+markers",
         "name": "Atletico Madrid",
         "orientation": "v",
         "showlegend": true,
         "type": "scatter",
         "x": [
          "2014-2015",
          "2015-2016",
          "2016-2017",
          "2017-2018",
          "2018-2019",
          "2019-2020",
          "2020-2021",
          "2021-2022",
          "2022-2023",
          "2023-2024",
          "2024-2025"
         ],
         "xaxis": "x",
         "y": {
          "bdata": "ViCMtGMF+D/s/qUk9CH3PyDfxl2Wi/k/3RKnfs8t9T+T0IdM9tX1Py94swkqtvg/Lh7Y/UtJ+D+0the82QT5P427LBcP7Pw/CNDaXvBm/T9YemfAQXL+Pw==",
          "dtype": "f8"
         },
         "yaxis": "y"
        },
        {
         "customdata": [
          [
           "Barcelona"
          ],
          [
           "Barcelona"
          ],
          [
           "Barcelona"
          ],
          [
           "Barcelona"
          ],
          [
           "Barcelona"
          ],
          [
           "Barcelona"
          ],
          [
           "Barcelona"
          ],
          [
           "Barcelona"
          ],
          [
           "Barcelona"
          ],
          [
           "Barcelona"
          ],
          [
           "Barcelona"
          ]
         ],
         "hovertemplate": "Team=%{customdata[0]}<br>Season=%{x}<br>xGF per match=%{y:.2f}<extra></extra>",
         "legendgroup": "Barcelona",
         "line": {
          "color": "#EF553B",
          "dash": "solid"
         },
         "marker": {
          "symbol": "circle"
         },
         "mode": "lines+markers",
         "name": "Barcelona",
         "orientation": "v",
         "showlegend": true,
         "type": "scatter",
         "x": [
          "2014-2015",
          "2015-2016",
          "2016-2017",
          "2017-2018",
          "2018-2019",
          "2019-2020",
          "2020-2021",
          "2021-2022",
          "2022-2023",
          "2023-2024",
          "2024-2025"
         ],
         "xaxis": "x",
         "y": {
          "bdata": "rkfhehSuBUAFFVs15+kHQHzBm01QsQNA2FBeQ3kNA0Cw+5eS0IcBQMgRTaPDT/4/JaEPmeyrAUDAlIQ+ZLL9P87Tld4ZcAFAoxZi/vg2AUCgCNDaXvAEQA==",
          "dtype": "f8"
         },
         "yaxis": "y"
        },
        {
         "customdata": [
          [
           "Real Madrid"
          ],
          [
           "Real Madrid"
          ],
          [
           "Real Madrid"
          ],
          [
           "Real Madrid"
          ],
          [
           "Real Madrid"
          ],
          [
           "Real Madrid"
          ],
          [
           "Real Madrid"
          ],
          [
           "Real Madrid"
          ],
          [
           "Real Madrid"
          ],
          [
           "Real Madrid"
          ],
          [
           "Real Madrid"
          ]
         ],
         "hovertemplate": "Team=%{customdata[0]}<br>Season=%{x}<br>xGF per match=%{y:.2f}<extra></extra>",
         "legendgroup": "Real Madrid",
         "line": {
          "color": "#00cc96",
          "dash": "solid"
         },
         "marker": {
          "symbol": "circle"
         },
         "mode": "lines+markers",
         "name": "Real Madrid",
         "orientation": "v",
         "showlegend": true,
         "type": "scatter",
         "x": [
          "2014-2015",
          "2015-2016",
          "2016-2017",
          "2017-2018",
          "2018-2019",
          "2019-2020",
          "2020-2021",
          "2021-2022",
          "2022-2023",
          "2023-2024",
          "2024-2025"
         ],
         "xaxis": "x",
         "y": {
          "bdata": "KVyPwvUoBEBOqoxhUQsDQAXCSDtWIANA5+lK7ww4A0B9bolTv+f8P1QZw6IWYv4/TaPDTwRo+z/zx7dxl+UAQC94swkqtgBA38ZdlosHAUAg38ZdlosCQA==",
          "dtype": "f8"
         },
         "yaxis": "y"
        }
       ],
       "layout": {
        "legend": {
         "title": {
          "text": "Team"
         },
         "tracegroupgap": 0
        },
        "template": {
         "data": {
          "bar": [
           {
            "error_x": {
             "color": "#2a3f5f"
            },
            "error_y": {
             "color": "#2a3f5f"
            },
            "marker": {
             "line": {
              "color": "#E5ECF6",
              "width": 0.5
             },
             "pattern": {
              "fillmode": "overlay",
              "size": 10,
              "solidity": 0.2
             }
            },
            "type": "bar"
           }
          ],
          "barpolar": [
           {
            "marker": {
             "line": {
              "color": "#E5ECF6",
              "width": 0.5
             },
             "pattern": {
              "fillmode": "overlay",
              "size": 10,
              "solidity": 0.2
             }
            },
            "type": "barpolar"
           }
          ],
          "carpet": [
           {
            "aaxis": {
             "endlinecolor": "#2a3f5f",
             "gridcolor": "white",
             "linecolor": "white",
             "minorgridcolor": "white",
             "startlinecolor": "#2a3f5f"
            },
            "baxis": {
             "endlinecolor": "#2a3f5f",
             "gridcolor": "white",
             "linecolor": "white",
             "minorgridcolor": "white",
             "startlinecolor": "#2a3f5f"
            },
            "type": "carpet"
           }
          ],
          "choropleth": [
           {
            "colorbar": {
             "outlinewidth": 0,
             "ticks": ""
            },
            "type": "choropleth"
           }
          ],
          "contour": [
           {
            "colorbar": {
             "outlinewidth": 0,
             "ticks": ""
            },
            "colorscale": [
             [
              0,
              "#0d0887"
             ],
             [
              0.1111111111111111,
              "#46039f"
             ],
             [
              0.2222222222222222,
              "#7201a8"
             ],
             [
              0.3333333333333333,
              "#9c179e"
             ],
             [
              0.4444444444444444,
              "#bd3786"
             ],
             [
              0.5555555555555556,
              "#d8576b"
             ],
             [
              0.6666666666666666,
              "#ed7953"
             ],
             [
              0.7777777777777778,
              "#fb9f3a"
             ],
             [
              0.8888888888888888,
              "#fdca26"
             ],
             [
              1,
              "#f0f921"
             ]
            ],
            "type": "contour"
           }
          ],
          "contourcarpet": [
           {
            "colorbar": {
             "outlinewidth": 0,
             "ticks": ""
            },
            "type": "contourcarpet"
           }
          ],
          "heatmap": [
           {
            "colorbar": {
             "outlinewidth": 0,
             "ticks": ""
            },
            "colorscale": [
             [
              0,
              "#0d0887"
             ],
             [
              0.1111111111111111,
              "#46039f"
             ],
             [
              0.2222222222222222,
              "#7201a8"
             ],
             [
              0.3333333333333333,
              "#9c179e"
             ],
             [
              0.4444444444444444,
              "#bd3786"
             ],
             [
              0.5555555555555556,
              "#d8576b"
             ],
             [
              0.6666666666666666,
              "#ed7953"
             ],
             [
              0.7777777777777778,
              "#fb9f3a"
             ],
             [
              0.8888888888888888,
              "#fdca26"
             ],
             [
              1,
              "#f0f921"
             ]
            ],
            "type": "heatmap"
           }
          ],
          "histogram": [
           {
            "marker": {
             "pattern": {
              "fillmode": "overlay",
              "size": 10,
              "solidity": 0.2
             }
            },
            "type": "histogram"
           }
          ],
          "histogram2d": [
           {
            "colorbar": {
             "outlinewidth": 0,
             "ticks": ""
            },
            "colorscale": [
             [
              0,
              "#0d0887"
             ],
             [
              0.1111111111111111,
              "#46039f"
             ],
             [
              0.2222222222222222,
              "#7201a8"
             ],
             [
              0.3333333333333333,
              "#9c179e"
             ],
             [
              0.4444444444444444,
              "#bd3786"
             ],
             [
              0.5555555555555556,
              "#d8576b"
             ],
             [
              0.6666666666666666,
              "#ed7953"
             ],
             [
              0.7777777777777778,
              "#fb9f3a"
             ],
             [
              0.8888888888888888,
              "#fdca26"
             ],
             [
              1,
              "#f0f921"
             ]
            ],
            "type": "histogram2d"
           }
          ],
          "histogram2dcontour": [
           {
            "colorbar": {
             "outlinewidth": 0,
             "ticks": ""
            },
            "colorscale": [
             [
              0,
              "#0d0887"
             ],
             [
              0.1111111111111111,
              "#46039f"
             ],
             [
              0.2222222222222222,
              "#7201a8"
             ],
             [
              0.3333333333333333,
              "#9c179e"
             ],
             [
              0.4444444444444444,
              "#bd3786"
             ],
             [
              0.5555555555555556,
              "#d8576b"
             ],
             [
              0.6666666666666666,
              "#ed7953"
             ],
             [
              0.7777777777777778,
              "#fb9f3a"
             ],
             [
              0.8888888888888888,
              "#fdca26"
             ],
             [
              1,
              "#f0f921"
             ]
            ],
            "type": "histogram2dcontour"
           }
          ],
          "mesh3d": [
           {
            "colorbar": {
             "outlinewidth": 0,
             "ticks": ""
            },
            "type": "mesh3d"
           }
          ],
          "parcoords": [
           {
            "line": {
             "colorbar": {
              "outlinewidth": 0,
              "ticks": ""
             }
            },
            "type": "parcoords"
           }
          ],
          "pie": [
           {
            "automargin": true,
            "type": "pie"
           }
          ],
          "scatter": [
           {
            "fillpattern": {
             "fillmode": "overlay",
             "size": 10,
             "solidity": 0.2
            },
            "type": "scatter"
           }
          ],
          "scatter3d": [
           {
            "line": {
             "colorbar": {
              "outlinewidth": 0,
              "ticks": ""
             }
            },
            "marker": {
             "colorbar": {
              "outlinewidth": 0,
              "ticks": ""
             }
            },
            "type": "scatter3d"
           }
          ],
          "scattercarpet": [
           {
            "marker": {
             "colorbar": {
              "outlinewidth": 0,
              "ticks": ""
             }
            },
            "type": "scattercarpet"
           }
          ],
          "scattergeo": [
           {
            "marker": {
             "colorbar": {
              "outlinewidth": 0,
              "ticks": ""
             }
            },
            "type": "scattergeo"
           }
          ],
          "scattergl": [
           {
            "marker": {
             "colorbar": {
              "outlinewidth": 0,
              "ticks": ""
             }
            },
            "type": "scattergl"
           }
          ],
          "scattermap": [
           {
            "marker": {
             "colorbar": {
              "outlinewidth": 0,
              "ticks": ""
             }
            },
            "type": "scattermap"
           }
          ],
          "scattermapbox": [
           {
            "marker": {
             "colorbar": {
              "outlinewidth": 0,
              "ticks": ""
             }
            },
            "type": "scattermapbox"
           }
          ],
          "scatterpolar": [
           {
            "marker": {
             "colorbar": {
              "outlinewidth": 0,
              "ticks": ""
             }
            },
            "type": "scatterpolar"
           }
          ],
          "scatterpolargl": [
           {
            "marker": {
             "colorbar": {
              "outlinewidth": 0,
              "ticks": ""
             }
            },
            "type": "scatterpolargl"
           }
          ],
          "scatterternary": [
           {
            "marker": {
             "colorbar": {
              "outlinewidth": 0,
              "ticks": ""
             }
            },
            "type": "scatterternary"
           }
          ],
          "surface": [
           {
            "colorbar": {
             "outlinewidth": 0,
             "ticks": ""
            },
            "colorscale": [
             [
              0,
              "#0d0887"
             ],
             [
              0.1111111111111111,
              "#46039f"
             ],
             [
              0.2222222222222222,
              "#7201a8"
             ],
             [
              0.3333333333333333,
              "#9c179e"
             ],
             [
              0.4444444444444444,
              "#bd3786"
             ],
             [
              0.5555555555555556,
              "#d8576b"
             ],
             [
              0.6666666666666666,
              "#ed7953"
             ],
             [
              0.7777777777777778,
              "#fb9f3a"
             ],
             [
              0.8888888888888888,
              "#fdca26"
             ],
             [
              1,
              "#f0f921"
             ]
            ],
            "type": "surface"
           }
          ],
          "table": [
           {
            "cells": {
             "fill": {
              "color": "#EBF0F8"
             },
             "line": {
              "color": "white"
             }
            },
            "header": {
             "fill": {
              "color": "#C8D4E3"
             },
             "line": {
              "color": "white"
             }
            },
            "type": "table"
           }
          ]
         },
         "layout": {
          "annotationdefaults": {
           "arrowcolor": "#2a3f5f",
           "arrowhead": 0,
           "arrowwidth": 1
          },
          "autotypenumbers": "strict",
          "coloraxis": {
           "colorbar": {
            "outlinewidth": 0,
            "ticks": ""
           }
          },
          "colorscale": {
           "diverging": [
            [
             0,
             "#8e0152"
            ],
            [
             0.1,
             "#c51b7d"
            ],
            [
             0.2,
             "#de77ae"
            ],
            [
             0.3,
             "#f1b6da"
            ],
            [
             0.4,
             "#fde0ef"
            ],
            [
             0.5,
             "#f7f7f7"
            ],
            [
             0.6,
             "#e6f5d0"
            ],
            [
             0.7,
             "#b8e186"
            ],
            [
             0.8,
             "#7fbc41"
            ],
            [
             0.9,
             "#4d9221"
            ],
            [
             1,
             "#276419"
            ]
           ],
           "sequential": [
            [
             0,
             "#0d0887"
            ],
            [
             0.1111111111111111,
             "#46039f"
            ],
            [
             0.2222222222222222,
             "#7201a8"
            ],
            [
             0.3333333333333333,
             "#9c179e"
            ],
            [
             0.4444444444444444,
             "#bd3786"
            ],
            [
             0.5555555555555556,
             "#d8576b"
            ],
            [
             0.6666666666666666,
             "#ed7953"
            ],
            [
             0.7777777777777778,
             "#fb9f3a"
            ],
            [
             0.8888888888888888,
             "#fdca26"
            ],
            [
             1,
             "#f0f921"
            ]
           ],
           "sequentialminus": [
            [
             0,
             "#0d0887"
            ],
            [
             0.1111111111111111,
             "#46039f"
            ],
            [
             0.2222222222222222,
             "#7201a8"
            ],
            [
             0.3333333333333333,
             "#9c179e"
            ],
            [
             0.4444444444444444,
             "#bd3786"
            ],
            [
             0.5555555555555556,
             "#d8576b"
            ],
            [
             0.6666666666666666,
             "#ed7953"
            ],
            [
             0.7777777777777778,
             "#fb9f3a"
            ],
            [
             0.8888888888888888,
             "#fdca26"
            ],
            [
             1,
             "#f0f921"
            ]
           ]
          },
          "colorway": [
           "#636efa",
           "#EF553B",
           "#00cc96",
           "#ab63fa",
           "#FFA15A",
           "#19d3f3",
           "#FF6692",
           "#B6E880",
           "#FF97FF",
           "#FECB52"
          ],
          "font": {
           "color": "#2a3f5f"
          },
          "geo": {
           "bgcolor": "white",
           "lakecolor": "white",
           "landcolor": "#E5ECF6",
           "showlakes": true,
           "showland": true,
           "subunitcolor": "white"
          },
          "hoverlabel": {
           "align": "left"
          },
          "hovermode": "closest",
          "mapbox": {
           "style": "light"
          },
          "paper_bgcolor": "white",
          "plot_bgcolor": "#E5ECF6",
          "polar": {
           "angularaxis": {
            "gridcolor": "white",
            "linecolor": "white",
            "ticks": ""
           },
           "bgcolor": "#E5ECF6",
           "radialaxis": {
            "gridcolor": "white",
            "linecolor": "white",
            "ticks": ""
           }
          },
          "scene": {
           "xaxis": {
            "backgroundcolor": "#E5ECF6",
            "gridcolor": "white",
            "gridwidth": 2,
            "linecolor": "white",
            "showbackground": true,
            "ticks": "",
            "zerolinecolor": "white"
           },
           "yaxis": {
            "backgroundcolor": "#E5ECF6",
            "gridcolor": "white",
            "gridwidth": 2,
            "linecolor": "white",
            "showbackground": true,
            "ticks": "",
            "zerolinecolor": "white"
           },
           "zaxis": {
            "backgroundcolor": "#E5ECF6",
            "gridcolor": "white",
            "gridwidth": 2,
            "linecolor": "white",
            "showbackground": true,
            "ticks": "",
            "zerolinecolor": "white"
           }
          },
          "shapedefaults": {
           "line": {
            "color": "#2a3f5f"
           }
          },
          "ternary": {
           "aaxis": {
            "gridcolor": "white",
            "linecolor": "white",
            "ticks": ""
           },
           "baxis": {
            "gridcolor": "white",
            "linecolor": "white",
            "ticks": ""
           },
           "bgcolor": "#E5ECF6",
           "caxis": {
            "gridcolor": "white",
            "linecolor": "white",
            "ticks": ""
           }
          },
          "title": {
           "x": 0.05
          },
          "xaxis": {
           "automargin": true,
           "gridcolor": "white",
           "linecolor": "white",
           "ticks": "",
           "title": {
            "standoff": 15
           },
           "zerolinecolor": "white",
           "zerolinewidth": 2
          },
          "yaxis": {
           "automargin": true,
           "gridcolor": "white",
           "linecolor": "white",
           "ticks": "",
           "title": {
            "standoff": 15
           },
           "zerolinecolor": "white",
           "zerolinewidth": 2
          }
         }
        },
        "title": {
         "text": "Seasonal Expected Goals For (xGF) per Match — Big 3"
        },
        "xaxis": {
         "anchor": "y",
         "domain": [
          0,
          1
         ],
         "tickangle": 45,
         "title": {
          "text": "Season"
         }
        },
        "yaxis": {
         "anchor": "x",
         "domain": [
          0,
          1
         ],
         "title": {
          "text": "xGF per match"
         }
        }
       }
      }
     },
     "metadata": {},
     "output_type": "display_data"
    }
   ],
   "source": [
    "# EN: Interactive line for expected goals (xGF) per match.\n",
    "# KO: 경기당 기대득점(xGF) 인터랙티브 라인.\n",
    "xgf_long = season_team[[\"season\",\"team_std\",\"xGF_per_match\"]].copy()\n",
    "\n",
    "fig_xgf = px.line(\n",
    "    xgf_long, x=\"season\", y=\"xGF_per_match\", color=\"team_std\",\n",
    "    markers=True, title=\"Seasonal Expected Goals For (xGF) per Match — Big 3\",\n",
    "    labels={\"season\":\"Season\",\"xGF_per_match\":\"xGF per match\",\"team_std\":\"Team\"},\n",
    "    hover_data={\"season\":True,\"team_std\":True,\"xGF_per_match\":\":.2f\"}\n",
    ")\n",
    "fig_xgf.update_layout(legend_title_text=\"Team\", xaxis_tickangle=45)\n",
    "fig_xgf.show()\n"
   ]
  },
  {
   "cell_type": "code",
   "execution_count": 17,
   "metadata": {},
   "outputs": [],
   "source": [
    "# Step F — Plot: Seasonal xGF per Match (Big 3)\n",
    "# EN: Line chart of expected goals for per match (xGF) by season for the Big 3.\n",
    "# KO: 3강의 시즌별 경기당 기대득점(xGF)을 라인 차트로 비교합니다.\n",
    "# Columns used: season_team['season','team_std','xGF_per_match']\n",
    "# 사용 컬럼: season_team['season','team_std','xGF_per_match']"
   ]
  },
  {
   "cell_type": "markdown",
   "metadata": {},
   "source": [
    "- Barcelona leads xGF in mid-2010s, then declines to 2019–2021, rebounds afterwards.\n",
    "- Real Madrid shows a trough near 2020–2021, then climbs again 2021–2025.\n",
    "- Atletico has the lowest xGF overall, but trends upward from 2021–2025."
   ]
  },
  {
   "cell_type": "markdown",
   "metadata": {},
   "source": [
    "## La Liga Big 3 Attack Efficiency Analysis (2014-2025): A Comparison of Goals For vs. Expected Goals For\n",
    "\n"
   ]
  },
  {
   "cell_type": "markdown",
   "metadata": {},
   "source": [
    "1. Purpose of the Analysis\n",
    "\n",
    "- The goal was to move beyond simply counting goals and to quantitatively evaluate the quality and clinical nature of each team's attack. This analysis helps determine whether a team's performance is driven by creating a high volume of chances or by exceptionally good finishing.\n",
    "\n",
    "-------------------------------------------------------------------------------------------------------------------------------------------------------------------------------\n",
    "\n",
    "2. Metrics Used\n",
    "\n",
    "- GF (Goals For): The total number of goals a team actually scored. \n",
    "\n",
    "- xGF (Expected Goals For): The number of goals a team would be expected to score based on the quality (e.g., shot location, angle, type of assist) of the chances they created. \n",
    "\n",
    "- Attack Efficiency: The key metric derived from the two above, calculated as: (GF per Match) - (xGF per Match).\n",
    "\n",
    "-------------------------------------------------------------------------------------------------------------------------------------------------------------------------------\n",
    "\n",
    "3. Meaning of the Metrics\n",
    "\n",
    "- GF represents the raw, final output of an attack.\n",
    "\n",
    "- xGF represents the quality of the chances created. A high xGF indicates a team is skilled at getting into dangerous scoring positions.\n",
    "\n",
    "\n",
    "3. Attack Efficiency measures finishing skill:\n",
    "\n",
    "- A positive value indicates over-performance; the team scored more goals than expected, suggesting excellent finishing, good fortune, or superior shooting talent.\n",
    "\n",
    "- A negative value indicates under-performance; the team scored fewer goals than expected, suggesting wastefulness, bad luck, or poor shot execution.\n",
    "\n",
    "- A value near zero suggests that the team's scoring was in line with the quality of chances it created."
   ]
  },
  {
   "cell_type": "markdown",
   "metadata": {},
   "source": [
    "#### Step 1: Import Data"
   ]
  },
  {
   "cell_type": "code",
   "execution_count": 18,
   "metadata": {},
   "outputs": [],
   "source": [
    "import pandas as pd\n",
    "import numpy as np\n",
    "import plotly.express as px\n",
    "import plotly.graph_objects as go"
   ]
  },
  {
   "cell_type": "markdown",
   "metadata": {},
   "source": [
    "#### Step 2: Load and Process Data"
   ]
  },
  {
   "cell_type": "code",
   "execution_count": 19,
   "metadata": {},
   "outputs": [
    {
     "name": "stdout",
     "output_type": "stream",
     "text": [
      "Data processing complete. The 'season_team' DataFrame is ready.\n"
     ]
    },
    {
     "data": {
      "text/html": [
       "<div>\n",
       "<style scoped>\n",
       "    .dataframe tbody tr th:only-of-type {\n",
       "        vertical-align: middle;\n",
       "    }\n",
       "\n",
       "    .dataframe tbody tr th {\n",
       "        vertical-align: top;\n",
       "    }\n",
       "\n",
       "    .dataframe thead th {\n",
       "        text-align: right;\n",
       "    }\n",
       "</style>\n",
       "<table border=\"1\" class=\"dataframe\">\n",
       "  <thead>\n",
       "    <tr style=\"text-align: right;\">\n",
       "      <th></th>\n",
       "      <th>season</th>\n",
       "      <th>team_std</th>\n",
       "      <th>matches</th>\n",
       "      <th>GF</th>\n",
       "      <th>xGF</th>\n",
       "      <th>GF_per_match</th>\n",
       "      <th>xGF_per_match</th>\n",
       "    </tr>\n",
       "  </thead>\n",
       "  <tbody>\n",
       "    <tr>\n",
       "      <th>0</th>\n",
       "      <td>2014-2015</td>\n",
       "      <td>Atletico Madrid</td>\n",
       "      <td>38</td>\n",
       "      <td>67</td>\n",
       "      <td>57.05</td>\n",
       "      <td>1.763158</td>\n",
       "      <td>1.501316</td>\n",
       "    </tr>\n",
       "    <tr>\n",
       "      <th>1</th>\n",
       "      <td>2014-2015</td>\n",
       "      <td>Barcelona</td>\n",
       "      <td>38</td>\n",
       "      <td>110</td>\n",
       "      <td>102.98</td>\n",
       "      <td>2.894737</td>\n",
       "      <td>2.710000</td>\n",
       "    </tr>\n",
       "    <tr>\n",
       "      <th>2</th>\n",
       "      <td>2014-2015</td>\n",
       "      <td>Real Madrid</td>\n",
       "      <td>38</td>\n",
       "      <td>118</td>\n",
       "      <td>95.76</td>\n",
       "      <td>3.105263</td>\n",
       "      <td>2.520000</td>\n",
       "    </tr>\n",
       "    <tr>\n",
       "      <th>3</th>\n",
       "      <td>2015-2016</td>\n",
       "      <td>Atletico Madrid</td>\n",
       "      <td>38</td>\n",
       "      <td>63</td>\n",
       "      <td>54.94</td>\n",
       "      <td>1.657895</td>\n",
       "      <td>1.445789</td>\n",
       "    </tr>\n",
       "    <tr>\n",
       "      <th>4</th>\n",
       "      <td>2015-2016</td>\n",
       "      <td>Barcelona</td>\n",
       "      <td>38</td>\n",
       "      <td>112</td>\n",
       "      <td>113.59</td>\n",
       "      <td>2.947368</td>\n",
       "      <td>2.989211</td>\n",
       "    </tr>\n",
       "  </tbody>\n",
       "</table>\n",
       "</div>"
      ],
      "text/plain": [
       "      season         team_std  matches   GF     xGF  GF_per_match  \\\n",
       "0  2014-2015  Atletico Madrid       38   67   57.05      1.763158   \n",
       "1  2014-2015        Barcelona       38  110  102.98      2.894737   \n",
       "2  2014-2015      Real Madrid       38  118   95.76      3.105263   \n",
       "3  2015-2016  Atletico Madrid       38   63   54.94      1.657895   \n",
       "4  2015-2016        Barcelona       38  112  113.59      2.947368   \n",
       "\n",
       "   xGF_per_match  \n",
       "0       1.501316  \n",
       "1       2.710000  \n",
       "2       2.520000  \n",
       "3       1.445789  \n",
       "4       2.989211  "
      ]
     },
     "execution_count": 19,
     "metadata": {},
     "output_type": "execute_result"
    }
   ],
   "source": [
    "# Load data and create season column\n",
    "df = pd.read_csv('la_liga_2014-2025_match_info.csv')\n",
    "df[\"date\"] = pd.to_datetime(df[\"date\"], errors=\"raise\")\n",
    "\n",
    "def make_season(y, m):\n",
    "    return f\"{y}-{y+1}\" if m >= 8 else f\"{y-1}-{y}\"\n",
    "\n",
    "if \"season\" not in df.columns:\n",
    "    df[\"season\"] = df.apply(lambda r: make_season(r[\"date\"].year, r[\"date\"].month), axis=1)\n",
    "\n",
    "# Transform data into team-centric rows\n",
    "home = df[[\"date\",\"season\",\"home_team\",\"home_goals\",\"away_goals\",\"home_xg\",\"away_xg\"]].copy()\n",
    "home.columns = [\"date\",\"season\",\"team\",\"gf\",\"ga\",\"xgf\",\"xga\"]\n",
    "\n",
    "away = df[[\"date\",\"season\",\"away_team\",\"away_goals\",\"home_goals\",\"away_xg\",\"home_xg\"]].copy()\n",
    "away.columns = [\"date\",\"season\",\"team\",\"gf\",\"ga\",\"xgf\",\"xga\"]\n",
    "\n",
    "tm = pd.concat([home, away], ignore_index=True)\n",
    "\n",
    "# Standardize team names and filter for the Big 3\n",
    "big3_alias = {\n",
    "    \"Real Madrid\": [\"Real Madrid\"],\n",
    "    \"Barcelona\":   [\"Barcelona\",\"FC Barcelona\"],\n",
    "    \"Atletico Madrid\": [\"Atletico Madrid\",\"Atlético Madrid\"]\n",
    "}\n",
    "def canonical(name):\n",
    "    for k, aliases in big3_alias.items():\n",
    "        if name in aliases:\n",
    "            return k\n",
    "    return name\n",
    "\n",
    "tm[\"team_std\"] = tm[\"team\"].apply(canonical)\n",
    "big3 = tm[tm[\"team_std\"].isin([\"Real Madrid\",\"Barcelona\",\"Atletico Madrid\"])].copy()\n",
    "\n",
    "# Aggregate by season and team\n",
    "season_team = (big3\n",
    "               .groupby([\"season\",\"team_std\"])\n",
    "               .agg(\n",
    "                   matches=(\"team_std\",\"size\"),\n",
    "                   GF=(\"gf\",\"sum\"),\n",
    "                   xGF=(\"xgf\",\"sum\"),\n",
    "               )\n",
    "               .reset_index())\n",
    "\n",
    "# Calculate per-match metrics\n",
    "season_team[\"GF_per_match\"]  = season_team[\"GF\"]/season_team[\"matches\"]\n",
    "season_team[\"xGF_per_match\"] = season_team[\"xGF\"]/season_team[\"matches\"]\n",
    "\n",
    "print(\"Data processing complete. The 'season_team' DataFrame is ready.\")\n",
    "season_team.head()"
   ]
  },
  {
   "cell_type": "markdown",
   "metadata": {},
   "source": [
    "#### Step 3: Calculate Attack Efficiency"
   ]
  },
  {
   "cell_type": "code",
   "execution_count": 20,
   "metadata": {},
   "outputs": [
    {
     "name": "stdout",
     "output_type": "stream",
     "text": [
      "Attack Efficiency calculated.\n"
     ]
    },
    {
     "data": {
      "text/html": [
       "<div>\n",
       "<style scoped>\n",
       "    .dataframe tbody tr th:only-of-type {\n",
       "        vertical-align: middle;\n",
       "    }\n",
       "\n",
       "    .dataframe tbody tr th {\n",
       "        vertical-align: top;\n",
       "    }\n",
       "\n",
       "    .dataframe thead th {\n",
       "        text-align: right;\n",
       "    }\n",
       "</style>\n",
       "<table border=\"1\" class=\"dataframe\">\n",
       "  <thead>\n",
       "    <tr style=\"text-align: right;\">\n",
       "      <th></th>\n",
       "      <th>season</th>\n",
       "      <th>team_std</th>\n",
       "      <th>attack_efficiency</th>\n",
       "    </tr>\n",
       "  </thead>\n",
       "  <tbody>\n",
       "    <tr>\n",
       "      <th>0</th>\n",
       "      <td>2014-2015</td>\n",
       "      <td>Atletico Madrid</td>\n",
       "      <td>0.261842</td>\n",
       "    </tr>\n",
       "    <tr>\n",
       "      <th>1</th>\n",
       "      <td>2014-2015</td>\n",
       "      <td>Barcelona</td>\n",
       "      <td>0.184737</td>\n",
       "    </tr>\n",
       "    <tr>\n",
       "      <th>2</th>\n",
       "      <td>2014-2015</td>\n",
       "      <td>Real Madrid</td>\n",
       "      <td>0.585263</td>\n",
       "    </tr>\n",
       "    <tr>\n",
       "      <th>3</th>\n",
       "      <td>2015-2016</td>\n",
       "      <td>Atletico Madrid</td>\n",
       "      <td>0.212105</td>\n",
       "    </tr>\n",
       "    <tr>\n",
       "      <th>4</th>\n",
       "      <td>2015-2016</td>\n",
       "      <td>Barcelona</td>\n",
       "      <td>-0.041842</td>\n",
       "    </tr>\n",
       "  </tbody>\n",
       "</table>\n",
       "</div>"
      ],
      "text/plain": [
       "      season         team_std  attack_efficiency\n",
       "0  2014-2015  Atletico Madrid           0.261842\n",
       "1  2014-2015        Barcelona           0.184737\n",
       "2  2014-2015      Real Madrid           0.585263\n",
       "3  2015-2016  Atletico Madrid           0.212105\n",
       "4  2015-2016        Barcelona          -0.041842"
      ]
     },
     "execution_count": 20,
     "metadata": {},
     "output_type": "execute_result"
    }
   ],
   "source": [
    "season_team['attack_efficiency'] = season_team['GF_per_match'] - season_team['xGF_per_match']\n",
    "print(\"Attack Efficiency calculated.\")\n",
    "season_team[['season', 'team_std', 'attack_efficiency']].head()"
   ]
  },
  {
   "cell_type": "markdown",
   "metadata": {},
   "source": [
    "#### Step 4. Visualize the Results"
   ]
  },
  {
   "cell_type": "code",
   "execution_count": 21,
   "metadata": {},
   "outputs": [
    {
     "data": {
      "application/vnd.plotly.v1+json": {
       "config": {
        "plotlyServerURL": "https://plot.ly"
       },
       "data": [
        {
         "alignmentgroup": "True",
         "hovertemplate": "Team=Atletico Madrid<br>Season=%{x}<br>Attack Efficiency (GF - xGF)=%{y:.2f}<extra></extra>",
         "legendgroup": "Atletico Madrid",
         "marker": {
          "color": "#636efa",
          "pattern": {
           "shape": ""
          }
         },
         "name": "Atletico Madrid",
         "offsetgroup": "Atletico Madrid",
         "orientation": "v",
         "showlegend": true,
         "textposition": "auto",
         "type": "bar",
         "x": [
          "2014-2015",
          "2015-2016",
          "2016-2017",
          "2017-2018",
          "2018-2019",
          "2019-2020",
          "2020-2021",
          "2021-2022",
          "2022-2023",
          "2023-2024",
          "2024-2025"
         ],
         "xaxis": "x",
         "y": {
          "bdata": "HIy0YwXC0D8ATEnoQybLP6DDTwRobc8/AJ9b4tTvyT9AHzLZVye1P9gEFVs158m/gCkJfchkzz+I+ePbuMvCP+CAg+SIpqE/AIwHdv9Scj/QA7t/KQm9vw==",
          "dtype": "f8"
         },
         "yaxis": "y"
        },
        {
         "alignmentgroup": "True",
         "hovertemplate": "Team=Barcelona<br>Season=%{x}<br>Attack Efficiency (GF - xGF)=%{y:.2f}<extra></extra>",
         "legendgroup": "Barcelona",
         "marker": {
          "color": "#EF553B",
          "pattern": {
           "shape": ""
          }
         },
         "name": "Barcelona",
         "offsetgroup": "Barcelona",
         "orientation": "v",
         "showlegend": true,
         "textposition": "auto",
         "type": "bar",
         "x": [
          "2014-2015",
          "2015-2016",
          "2016-2017",
          "2017-2018",
          "2018-2019",
          "2019-2020",
          "2020-2021",
          "2021-2022",
          "2022-2023",
          "2023-2024",
          "2024-2025"
         ],
         "xaxis": "x",
         "y": {
          "bdata": "kK2a83Slxz+A8GYTVGylvwQVWzXn6eI/EMprKK+hzD+AN5ugYqvGP1jGsKiFmNc/AJbeGXCQnD9QqoxhUQuxvyBAa3vBm9W/AJHJvjqpsr+A3hlwkByxPw==",
          "dtype": "f8"
         },
         "yaxis": "y"
        },
        {
         "alignmentgroup": "True",
         "hovertemplate": "Team=Real Madrid<br>Season=%{x}<br>Attack Efficiency (GF - xGF)=%{y:.2f}<extra></extra>",
         "legendgroup": "Real Madrid",
         "marker": {
          "color": "#00cc96",
          "pattern": {
           "shape": ""
          }
         },
         "name": "Real Madrid",
         "offsetgroup": "Real Madrid",
         "orientation": "v",
         "showlegend": true,
         "textposition": "auto",
         "type": "bar",
         "x": [
          "2014-2015",
          "2015-2016",
          "2016-2017",
          "2017-2018",
          "2018-2019",
          "2019-2020",
          "2020-2021",
          "2021-2022",
          "2022-2023",
          "2023-2024",
          "2024-2025"
         ],
         "xaxis": "x",
         "y": {
          "bdata": "QMVWzXm64j/kIDmiaXTgP0AYaccKhNk/QFd6Z8BBsj+IMNKOFQjDvwA4SI5oGq2/IAK0the8qT8A9HSldwZ8v7Bxl+Xigb2/4OKB3b+UxD8Yw6IWYv7Qvw==",
          "dtype": "f8"
         },
         "yaxis": "y"
        }
       ],
       "layout": {
        "barmode": "group",
        "legend": {
         "title": {
          "text": "Team"
         },
         "tracegroupgap": 0
        },
        "shapes": [
         {
          "line": {
           "color": "black",
           "dash": "dash",
           "width": 2
          },
          "type": "line",
          "x0": 0,
          "x1": 1,
          "xref": "x domain",
          "y0": 0,
          "y1": 0,
          "yref": "y"
         }
        ],
        "template": {
         "data": {
          "bar": [
           {
            "error_x": {
             "color": "#2a3f5f"
            },
            "error_y": {
             "color": "#2a3f5f"
            },
            "marker": {
             "line": {
              "color": "#E5ECF6",
              "width": 0.5
             },
             "pattern": {
              "fillmode": "overlay",
              "size": 10,
              "solidity": 0.2
             }
            },
            "type": "bar"
           }
          ],
          "barpolar": [
           {
            "marker": {
             "line": {
              "color": "#E5ECF6",
              "width": 0.5
             },
             "pattern": {
              "fillmode": "overlay",
              "size": 10,
              "solidity": 0.2
             }
            },
            "type": "barpolar"
           }
          ],
          "carpet": [
           {
            "aaxis": {
             "endlinecolor": "#2a3f5f",
             "gridcolor": "white",
             "linecolor": "white",
             "minorgridcolor": "white",
             "startlinecolor": "#2a3f5f"
            },
            "baxis": {
             "endlinecolor": "#2a3f5f",
             "gridcolor": "white",
             "linecolor": "white",
             "minorgridcolor": "white",
             "startlinecolor": "#2a3f5f"
            },
            "type": "carpet"
           }
          ],
          "choropleth": [
           {
            "colorbar": {
             "outlinewidth": 0,
             "ticks": ""
            },
            "type": "choropleth"
           }
          ],
          "contour": [
           {
            "colorbar": {
             "outlinewidth": 0,
             "ticks": ""
            },
            "colorscale": [
             [
              0,
              "#0d0887"
             ],
             [
              0.1111111111111111,
              "#46039f"
             ],
             [
              0.2222222222222222,
              "#7201a8"
             ],
             [
              0.3333333333333333,
              "#9c179e"
             ],
             [
              0.4444444444444444,
              "#bd3786"
             ],
             [
              0.5555555555555556,
              "#d8576b"
             ],
             [
              0.6666666666666666,
              "#ed7953"
             ],
             [
              0.7777777777777778,
              "#fb9f3a"
             ],
             [
              0.8888888888888888,
              "#fdca26"
             ],
             [
              1,
              "#f0f921"
             ]
            ],
            "type": "contour"
           }
          ],
          "contourcarpet": [
           {
            "colorbar": {
             "outlinewidth": 0,
             "ticks": ""
            },
            "type": "contourcarpet"
           }
          ],
          "heatmap": [
           {
            "colorbar": {
             "outlinewidth": 0,
             "ticks": ""
            },
            "colorscale": [
             [
              0,
              "#0d0887"
             ],
             [
              0.1111111111111111,
              "#46039f"
             ],
             [
              0.2222222222222222,
              "#7201a8"
             ],
             [
              0.3333333333333333,
              "#9c179e"
             ],
             [
              0.4444444444444444,
              "#bd3786"
             ],
             [
              0.5555555555555556,
              "#d8576b"
             ],
             [
              0.6666666666666666,
              "#ed7953"
             ],
             [
              0.7777777777777778,
              "#fb9f3a"
             ],
             [
              0.8888888888888888,
              "#fdca26"
             ],
             [
              1,
              "#f0f921"
             ]
            ],
            "type": "heatmap"
           }
          ],
          "histogram": [
           {
            "marker": {
             "pattern": {
              "fillmode": "overlay",
              "size": 10,
              "solidity": 0.2
             }
            },
            "type": "histogram"
           }
          ],
          "histogram2d": [
           {
            "colorbar": {
             "outlinewidth": 0,
             "ticks": ""
            },
            "colorscale": [
             [
              0,
              "#0d0887"
             ],
             [
              0.1111111111111111,
              "#46039f"
             ],
             [
              0.2222222222222222,
              "#7201a8"
             ],
             [
              0.3333333333333333,
              "#9c179e"
             ],
             [
              0.4444444444444444,
              "#bd3786"
             ],
             [
              0.5555555555555556,
              "#d8576b"
             ],
             [
              0.6666666666666666,
              "#ed7953"
             ],
             [
              0.7777777777777778,
              "#fb9f3a"
             ],
             [
              0.8888888888888888,
              "#fdca26"
             ],
             [
              1,
              "#f0f921"
             ]
            ],
            "type": "histogram2d"
           }
          ],
          "histogram2dcontour": [
           {
            "colorbar": {
             "outlinewidth": 0,
             "ticks": ""
            },
            "colorscale": [
             [
              0,
              "#0d0887"
             ],
             [
              0.1111111111111111,
              "#46039f"
             ],
             [
              0.2222222222222222,
              "#7201a8"
             ],
             [
              0.3333333333333333,
              "#9c179e"
             ],
             [
              0.4444444444444444,
              "#bd3786"
             ],
             [
              0.5555555555555556,
              "#d8576b"
             ],
             [
              0.6666666666666666,
              "#ed7953"
             ],
             [
              0.7777777777777778,
              "#fb9f3a"
             ],
             [
              0.8888888888888888,
              "#fdca26"
             ],
             [
              1,
              "#f0f921"
             ]
            ],
            "type": "histogram2dcontour"
           }
          ],
          "mesh3d": [
           {
            "colorbar": {
             "outlinewidth": 0,
             "ticks": ""
            },
            "type": "mesh3d"
           }
          ],
          "parcoords": [
           {
            "line": {
             "colorbar": {
              "outlinewidth": 0,
              "ticks": ""
             }
            },
            "type": "parcoords"
           }
          ],
          "pie": [
           {
            "automargin": true,
            "type": "pie"
           }
          ],
          "scatter": [
           {
            "fillpattern": {
             "fillmode": "overlay",
             "size": 10,
             "solidity": 0.2
            },
            "type": "scatter"
           }
          ],
          "scatter3d": [
           {
            "line": {
             "colorbar": {
              "outlinewidth": 0,
              "ticks": ""
             }
            },
            "marker": {
             "colorbar": {
              "outlinewidth": 0,
              "ticks": ""
             }
            },
            "type": "scatter3d"
           }
          ],
          "scattercarpet": [
           {
            "marker": {
             "colorbar": {
              "outlinewidth": 0,
              "ticks": ""
             }
            },
            "type": "scattercarpet"
           }
          ],
          "scattergeo": [
           {
            "marker": {
             "colorbar": {
              "outlinewidth": 0,
              "ticks": ""
             }
            },
            "type": "scattergeo"
           }
          ],
          "scattergl": [
           {
            "marker": {
             "colorbar": {
              "outlinewidth": 0,
              "ticks": ""
             }
            },
            "type": "scattergl"
           }
          ],
          "scattermap": [
           {
            "marker": {
             "colorbar": {
              "outlinewidth": 0,
              "ticks": ""
             }
            },
            "type": "scattermap"
           }
          ],
          "scattermapbox": [
           {
            "marker": {
             "colorbar": {
              "outlinewidth": 0,
              "ticks": ""
             }
            },
            "type": "scattermapbox"
           }
          ],
          "scatterpolar": [
           {
            "marker": {
             "colorbar": {
              "outlinewidth": 0,
              "ticks": ""
             }
            },
            "type": "scatterpolar"
           }
          ],
          "scatterpolargl": [
           {
            "marker": {
             "colorbar": {
              "outlinewidth": 0,
              "ticks": ""
             }
            },
            "type": "scatterpolargl"
           }
          ],
          "scatterternary": [
           {
            "marker": {
             "colorbar": {
              "outlinewidth": 0,
              "ticks": ""
             }
            },
            "type": "scatterternary"
           }
          ],
          "surface": [
           {
            "colorbar": {
             "outlinewidth": 0,
             "ticks": ""
            },
            "colorscale": [
             [
              0,
              "#0d0887"
             ],
             [
              0.1111111111111111,
              "#46039f"
             ],
             [
              0.2222222222222222,
              "#7201a8"
             ],
             [
              0.3333333333333333,
              "#9c179e"
             ],
             [
              0.4444444444444444,
              "#bd3786"
             ],
             [
              0.5555555555555556,
              "#d8576b"
             ],
             [
              0.6666666666666666,
              "#ed7953"
             ],
             [
              0.7777777777777778,
              "#fb9f3a"
             ],
             [
              0.8888888888888888,
              "#fdca26"
             ],
             [
              1,
              "#f0f921"
             ]
            ],
            "type": "surface"
           }
          ],
          "table": [
           {
            "cells": {
             "fill": {
              "color": "#EBF0F8"
             },
             "line": {
              "color": "white"
             }
            },
            "header": {
             "fill": {
              "color": "#C8D4E3"
             },
             "line": {
              "color": "white"
             }
            },
            "type": "table"
           }
          ]
         },
         "layout": {
          "annotationdefaults": {
           "arrowcolor": "#2a3f5f",
           "arrowhead": 0,
           "arrowwidth": 1
          },
          "autotypenumbers": "strict",
          "coloraxis": {
           "colorbar": {
            "outlinewidth": 0,
            "ticks": ""
           }
          },
          "colorscale": {
           "diverging": [
            [
             0,
             "#8e0152"
            ],
            [
             0.1,
             "#c51b7d"
            ],
            [
             0.2,
             "#de77ae"
            ],
            [
             0.3,
             "#f1b6da"
            ],
            [
             0.4,
             "#fde0ef"
            ],
            [
             0.5,
             "#f7f7f7"
            ],
            [
             0.6,
             "#e6f5d0"
            ],
            [
             0.7,
             "#b8e186"
            ],
            [
             0.8,
             "#7fbc41"
            ],
            [
             0.9,
             "#4d9221"
            ],
            [
             1,
             "#276419"
            ]
           ],
           "sequential": [
            [
             0,
             "#0d0887"
            ],
            [
             0.1111111111111111,
             "#46039f"
            ],
            [
             0.2222222222222222,
             "#7201a8"
            ],
            [
             0.3333333333333333,
             "#9c179e"
            ],
            [
             0.4444444444444444,
             "#bd3786"
            ],
            [
             0.5555555555555556,
             "#d8576b"
            ],
            [
             0.6666666666666666,
             "#ed7953"
            ],
            [
             0.7777777777777778,
             "#fb9f3a"
            ],
            [
             0.8888888888888888,
             "#fdca26"
            ],
            [
             1,
             "#f0f921"
            ]
           ],
           "sequentialminus": [
            [
             0,
             "#0d0887"
            ],
            [
             0.1111111111111111,
             "#46039f"
            ],
            [
             0.2222222222222222,
             "#7201a8"
            ],
            [
             0.3333333333333333,
             "#9c179e"
            ],
            [
             0.4444444444444444,
             "#bd3786"
            ],
            [
             0.5555555555555556,
             "#d8576b"
            ],
            [
             0.6666666666666666,
             "#ed7953"
            ],
            [
             0.7777777777777778,
             "#fb9f3a"
            ],
            [
             0.8888888888888888,
             "#fdca26"
            ],
            [
             1,
             "#f0f921"
            ]
           ]
          },
          "colorway": [
           "#636efa",
           "#EF553B",
           "#00cc96",
           "#ab63fa",
           "#FFA15A",
           "#19d3f3",
           "#FF6692",
           "#B6E880",
           "#FF97FF",
           "#FECB52"
          ],
          "font": {
           "color": "#2a3f5f"
          },
          "geo": {
           "bgcolor": "white",
           "lakecolor": "white",
           "landcolor": "#E5ECF6",
           "showlakes": true,
           "showland": true,
           "subunitcolor": "white"
          },
          "hoverlabel": {
           "align": "left"
          },
          "hovermode": "closest",
          "mapbox": {
           "style": "light"
          },
          "paper_bgcolor": "white",
          "plot_bgcolor": "#E5ECF6",
          "polar": {
           "angularaxis": {
            "gridcolor": "white",
            "linecolor": "white",
            "ticks": ""
           },
           "bgcolor": "#E5ECF6",
           "radialaxis": {
            "gridcolor": "white",
            "linecolor": "white",
            "ticks": ""
           }
          },
          "scene": {
           "xaxis": {
            "backgroundcolor": "#E5ECF6",
            "gridcolor": "white",
            "gridwidth": 2,
            "linecolor": "white",
            "showbackground": true,
            "ticks": "",
            "zerolinecolor": "white"
           },
           "yaxis": {
            "backgroundcolor": "#E5ECF6",
            "gridcolor": "white",
            "gridwidth": 2,
            "linecolor": "white",
            "showbackground": true,
            "ticks": "",
            "zerolinecolor": "white"
           },
           "zaxis": {
            "backgroundcolor": "#E5ECF6",
            "gridcolor": "white",
            "gridwidth": 2,
            "linecolor": "white",
            "showbackground": true,
            "ticks": "",
            "zerolinecolor": "white"
           }
          },
          "shapedefaults": {
           "line": {
            "color": "#2a3f5f"
           }
          },
          "ternary": {
           "aaxis": {
            "gridcolor": "white",
            "linecolor": "white",
            "ticks": ""
           },
           "baxis": {
            "gridcolor": "white",
            "linecolor": "white",
            "ticks": ""
           },
           "bgcolor": "#E5ECF6",
           "caxis": {
            "gridcolor": "white",
            "linecolor": "white",
            "ticks": ""
           }
          },
          "title": {
           "x": 0.05
          },
          "xaxis": {
           "automargin": true,
           "gridcolor": "white",
           "linecolor": "white",
           "ticks": "",
           "title": {
            "standoff": 15
           },
           "zerolinecolor": "white",
           "zerolinewidth": 2
          },
          "yaxis": {
           "automargin": true,
           "gridcolor": "white",
           "linecolor": "white",
           "ticks": "",
           "title": {
            "standoff": 15
           },
           "zerolinecolor": "white",
           "zerolinewidth": 2
          }
         }
        },
        "title": {
         "text": "Big 3 Attack Efficiency (GF per Match vs xGF per Match)"
        },
        "xaxis": {
         "anchor": "y",
         "domain": [
          0,
          1
         ],
         "tickangle": 45,
         "title": {
          "text": "Season"
         }
        },
        "yaxis": {
         "anchor": "x",
         "domain": [
          0,
          1
         ],
         "title": {
          "text": "Attack Efficiency (GF - xGF)"
         }
        }
       }
      }
     },
     "metadata": {},
     "output_type": "display_data"
    }
   ],
   "source": [
    "fig = px.bar(\n",
    "    season_team,\n",
    "    x=\"season\",\n",
    "    y=\"attack_efficiency\",\n",
    "    color=\"team_std\",\n",
    "    barmode='group',\n",
    "    title=\"Big 3 Attack Efficiency (GF per Match vs xGF per Match)\",\n",
    "    labels={\n",
    "        \"season\": \"Season\",\n",
    "        \"attack_efficiency\": \"Attack Efficiency (GF - xGF)\",\n",
    "        \"team_std\": \"Team\"\n",
    "    },\n",
    "    hover_data={\"attack_efficiency\": \":.2f\"}\n",
    ")\n",
    "\n",
    "# Add a horizontal line at y=0 to easily distinguish over/under-performance\n",
    "fig.add_hline(y=0, line_width=2, line_dash=\"dash\", line_color=\"black\")\n",
    "\n",
    "fig.update_layout(legend_title_text=\"Team\", xaxis_tickangle=45)\n",
    "\n",
    "# In a Jupyter environment, this will display the interactive chart directly in the output.\n",
    "fig.show()"
   ]
  },
  {
   "cell_type": "markdown",
   "metadata": {},
   "source": [
    "1. Real Madrid's Peak and Post-Ronaldo Decline:\n",
    "\n",
    "- Real Madrid demonstrated exceptional over-performance in the 2014-2015 (+0.59) and 2015-2016 (+0.51)  seasons, indicating a world-class ability to convert chances during this period.\n",
    "\n",
    "- A significant shift occurred in the 2018-2019 season, where they posted a negative efficiency (-0.15) for the first time in this dataset, coinciding with the departure of Cristiano Ronaldo.\n",
    "\n",
    "- The team recorded its worst finishing performance in the 2024-2025 season with an efficiency of -0.27.\n",
    "\n",
    "-------------------------------------------------------------------------------------------------------------------------------------------------------------------------------\n",
    "\n",
    "2. Barcelona's Volatile Finishing:\n",
    "\n",
    "- Barcelona reached the highest peak of any team in the 2016-2017 season with an attack efficiency of +0.59, a testament to the clinical nature of the MSN (Messi, Suárez,Neymar) attacking trio.\n",
    "\n",
    "- However, the team has also shown periods of extreme inefficiency, most notably in the 2022-2023 season where their efficiency plummeted to -0.34, indicating significant struggles in converting quality chances into goals.\n",
    "\n",
    "--------------------------------------------------------------------------------------------------------------------------------------------------------------------------------\n",
    "\n",
    "3. Atlético Madrid's Relative Consistency:\n",
    "\n",
    "- Atlético Madrid generally performed closer to their expected values compared to the other two giants, showing consistent over-performance from 2014 to 2018.\n",
    "\n",
    "- Their most significant period of under-performance occurred in the 2019-2020 season, with an efficiency score of -0.20.\n"
   ]
  }
 ],
 "metadata": {
  "kernelspec": {
   "display_name": "ds_study",
   "language": "python",
   "name": "python3"
  },
  "language_info": {
   "codemirror_mode": {
    "name": "ipython",
    "version": 3
   },
   "file_extension": ".py",
   "mimetype": "text/x-python",
   "name": "python",
   "nbconvert_exporter": "python",
   "pygments_lexer": "ipython3",
   "version": "3.10.18"
  }
 },
 "nbformat": 4,
 "nbformat_minor": 2
}
