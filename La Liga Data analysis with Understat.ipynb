{
 "cells": [
  {
   "cell_type": "markdown",
   "metadata": {},
   "source": [
    "## La Liga Data analysis from Data of Understat"
   ]
  },
  {
   "cell_type": "code",
   "execution_count": null,
   "metadata": {},
   "outputs": [
    {
     "name": "stdout",
     "output_type": "stream",
     "text": [
      "   match_id                 date home_team            away_team  home_goals  \\\n",
      "0      5826  2014-08-23 18:00:00    Malaga        Athletic Club           1   \n",
      "1      5827  2014-08-23 20:00:00   Sevilla             Valencia           1   \n",
      "2      5828  2014-08-23 20:00:00   Granada  Deportivo La Coruna           2   \n",
      "3      5829  2014-08-23 22:00:00   Almeria             Espanyol           1   \n",
      "4      5830  2014-08-24 18:00:00     Eibar        Real Sociedad           1   \n",
      "\n",
      "   away_goals  home_xg  away_xg  home_shots  away_shots  home_sot  away_sot  \\\n",
      "0           0     1.32     1.14          12          12         3         5   \n",
      "1           1     1.17     1.75          12          11         3         1   \n",
      "2           1     0.55     0.38          10           8         3         1   \n",
      "3           1     0.98     0.40          19          12         6         2   \n",
      "4           0     0.47     0.98          12          19         5         4   \n",
      "\n",
      "   home_deep  away_deep  home_ppda  away_ppda  home_xpts  away_xpts  \n",
      "0          4          5      12.07       6.30       1.53       1.14  \n",
      "1          8          4       9.42      10.65       0.89       1.82  \n",
      "2          2          4       4.78       5.80       1.45       1.08  \n",
      "3          5          4       6.67      15.80       1.88       0.77  \n",
      "4          4          1       8.79       6.67       0.83       1.81  \n"
     ]
    }
   ],
   "source": [
    "import pandas as pd\n",
    "df = pd.read_csv(\"/Users/minseobeom/Desktop/라리가 데이터 (데이터 분석 및 예측 독학용)/Understat_Data_scraping/la_liga_2014-2025_match_info.csv\")\n",
    "\n",
    "print(df.head())"
   ]
  },
  {
   "cell_type": "markdown",
   "metadata": {},
   "source": [
    "## Basic EDA Visualization (Exploratory Data Analysis)(2014-2025) ##\n",
    "\n",
    "- Goal: Understand overall league trends and data distribution\n",
    "\n",
    "- Seasonal Average Goals per Match (시즌별 경기당 득점 추이)\n",
    "\n",
    "- Home Win / Draw / Away Win Rate Changes (홈 승률 / 무승부율 / 원정 승률 변화)\n",
    "\n",
    "- Difference in Expected Goals (xG) between Home and Away → Box Plot or Violin Plot (홈 vs 원정 기대득점(xG) 차이)\n"
   ]
  },
  {
   "cell_type": "markdown",
   "metadata": {},
   "source": [
    "# 1. Load & Prepare / 데이터 로드·준비"
   ]
  },
  {
   "cell_type": "code",
   "execution_count": null,
   "metadata": {},
   "outputs": [],
   "source": [
    "# Step 0) Imports & basic config / 라이브러리 임포트 및 기본 설정\n",
    "import pandas as pd\n",
    "import numpy as np\n",
    "import matplotlib.pyplot as plt\n",
    "\n",
    "plt.rcParams[\"axes.unicode_minus\"] = False  # Fix minus sign rendering / 마이너스 기호 깨짐 방지\n"
   ]
  },
  {
   "cell_type": "code",
   "execution_count": null,
   "metadata": {},
   "outputs": [
    {
     "name": "stdout",
     "output_type": "stream",
     "text": [
      "                 date home_team            away_team  home_goals  away_goals  \\\n",
      "0 2014-08-23 18:00:00    Malaga        Athletic Club           1           0   \n",
      "1 2014-08-23 20:00:00   Sevilla             Valencia           1           1   \n",
      "2 2014-08-23 20:00:00   Granada  Deportivo La Coruna           2           1   \n",
      "3 2014-08-23 22:00:00   Almeria             Espanyol           1           1   \n",
      "4 2014-08-24 18:00:00     Eibar        Real Sociedad           1           0   \n",
      "\n",
      "   season result  \n",
      "0    2014      H  \n",
      "1    2014      D  \n",
      "2    2014      H  \n",
      "3    2014      D  \n",
      "4    2014      H  \n"
     ]
    }
   ],
   "source": [
    "\n",
    "# Load CSV\n",
    "df = pd.read_csv(\"/Users/minseobeom/Desktop/라리가 데이터 (데이터 분석 및 예측 독학용)/Understat_Data_scraping/la_liga_2014-2025_match_info.csv\")\n",
    "\n",
    "# Convert date column to datetime\n",
    "df[\"date\"] = pd.to_datetime(df[\"date\"])\n",
    "\n",
    "# Season label as start year only (e.g., 2014-2015 → 2014)\n",
    "# 시즌 라벨을 시작 연도만 표기 (예: 2014-2015 → 2014)\n",
    "def make_season_year(y, m):\n",
    "    return y if m >= 8 else y - 1\n",
    "\n",
    "df[\"season\"] = df.apply(lambda r: make_season_year(r[\"date\"].year, r[\"date\"].month), axis=1)\n",
    "\n",
    "# Match result H/D/A\n",
    "# 경기 결과 (H=홈승, D=무승부, A=원정승)\n",
    "df[\"result\"] = np.where(\n",
    "    df[\"home_goals\"] > df[\"away_goals\"], \"H\",\n",
    "    np.where(df[\"home_goals\"] < df[\"away_goals\"], \"A\", \"D\")\n",
    ")\n",
    "\n",
    "plt.rcParams[\"axes.unicode_minus\"] = False  # minus sign rendering fix\n",
    "print(df[[\"date\", \"home_team\", \"away_team\", \"home_goals\", \"away_goals\", \"season\", \"result\"]].head())\n"
   ]
  },
  {
   "cell_type": "markdown",
   "metadata": {},
   "source": [
    "# 2. Seasonal Average Goals per Match (시즌별 경기당 득점 추이)"
   ]
  },
  {
   "cell_type": "code",
   "execution_count": null,
   "metadata": {},
   "outputs": [
    {
     "name": "stderr",
     "output_type": "stream",
     "text": [
      "/var/folders/yl/3cpbqsq96s70dm9lcf8p9c_00000gn/T/ipykernel_26056/2911352031.py:5: FutureWarning: DataFrameGroupBy.apply operated on the grouping columns. This behavior is deprecated, and in a future version of pandas the grouping columns will be excluded from the operation. Either pass `include_groups=False` to exclude the groupings or explicitly select the grouping columns after groupby to silence this warning.\n",
      "  season_goals = df.groupby(\"season\").apply(\n"
     ]
    },
    {
     "data": {
      "application/vnd.plotly.v1+json": {
       "config": {
        "plotlyServerURL": "https://plot.ly"
       },
       "data": [
        {
         "hovertemplate": "Season / 시즌=%{x}<br>Goals per Match / 경기당 득점=%{y}<extra></extra>",
         "legendgroup": "",
         "line": {
          "color": "#636efa",
          "dash": "solid"
         },
         "marker": {
          "symbol": "circle"
         },
         "mode": "lines+markers",
         "name": "",
         "orientation": "v",
         "showlegend": false,
         "type": "scatter",
         "x": {
          "bdata": "3gffB+AH4QfiB+MH5AflB+YH5wfoBw==",
          "dtype": "i2"
         },
         "xaxis": "x",
         "y": {
          "bdata": "4HNLnPo9BUBUv+eWOPUFQJc49XtuiQdA7ViBMNKOBUAeKxBG2rEEQE79nlvi1ANAA2GkHSsQBEBWIIy0YwUEQK+hvIbyGgRAh/IaymsoBUAor6G8hvIEQA==",
          "dtype": "f8"
         },
         "yaxis": "y"
        }
       ],
       "layout": {
        "legend": {
         "tracegroupgap": 0
        },
        "template": {
         "data": {
          "bar": [
           {
            "error_x": {
             "color": "#2a3f5f"
            },
            "error_y": {
             "color": "#2a3f5f"
            },
            "marker": {
             "line": {
              "color": "#E5ECF6",
              "width": 0.5
             },
             "pattern": {
              "fillmode": "overlay",
              "size": 10,
              "solidity": 0.2
             }
            },
            "type": "bar"
           }
          ],
          "barpolar": [
           {
            "marker": {
             "line": {
              "color": "#E5ECF6",
              "width": 0.5
             },
             "pattern": {
              "fillmode": "overlay",
              "size": 10,
              "solidity": 0.2
             }
            },
            "type": "barpolar"
           }
          ],
          "carpet": [
           {
            "aaxis": {
             "endlinecolor": "#2a3f5f",
             "gridcolor": "white",
             "linecolor": "white",
             "minorgridcolor": "white",
             "startlinecolor": "#2a3f5f"
            },
            "baxis": {
             "endlinecolor": "#2a3f5f",
             "gridcolor": "white",
             "linecolor": "white",
             "minorgridcolor": "white",
             "startlinecolor": "#2a3f5f"
            },
            "type": "carpet"
           }
          ],
          "choropleth": [
           {
            "colorbar": {
             "outlinewidth": 0,
             "ticks": ""
            },
            "type": "choropleth"
           }
          ],
          "contour": [
           {
            "colorbar": {
             "outlinewidth": 0,
             "ticks": ""
            },
            "colorscale": [
             [
              0,
              "#0d0887"
             ],
             [
              0.1111111111111111,
              "#46039f"
             ],
             [
              0.2222222222222222,
              "#7201a8"
             ],
             [
              0.3333333333333333,
              "#9c179e"
             ],
             [
              0.4444444444444444,
              "#bd3786"
             ],
             [
              0.5555555555555556,
              "#d8576b"
             ],
             [
              0.6666666666666666,
              "#ed7953"
             ],
             [
              0.7777777777777778,
              "#fb9f3a"
             ],
             [
              0.8888888888888888,
              "#fdca26"
             ],
             [
              1,
              "#f0f921"
             ]
            ],
            "type": "contour"
           }
          ],
          "contourcarpet": [
           {
            "colorbar": {
             "outlinewidth": 0,
             "ticks": ""
            },
            "type": "contourcarpet"
           }
          ],
          "heatmap": [
           {
            "colorbar": {
             "outlinewidth": 0,
             "ticks": ""
            },
            "colorscale": [
             [
              0,
              "#0d0887"
             ],
             [
              0.1111111111111111,
              "#46039f"
             ],
             [
              0.2222222222222222,
              "#7201a8"
             ],
             [
              0.3333333333333333,
              "#9c179e"
             ],
             [
              0.4444444444444444,
              "#bd3786"
             ],
             [
              0.5555555555555556,
              "#d8576b"
             ],
             [
              0.6666666666666666,
              "#ed7953"
             ],
             [
              0.7777777777777778,
              "#fb9f3a"
             ],
             [
              0.8888888888888888,
              "#fdca26"
             ],
             [
              1,
              "#f0f921"
             ]
            ],
            "type": "heatmap"
           }
          ],
          "histogram": [
           {
            "marker": {
             "pattern": {
              "fillmode": "overlay",
              "size": 10,
              "solidity": 0.2
             }
            },
            "type": "histogram"
           }
          ],
          "histogram2d": [
           {
            "colorbar": {
             "outlinewidth": 0,
             "ticks": ""
            },
            "colorscale": [
             [
              0,
              "#0d0887"
             ],
             [
              0.1111111111111111,
              "#46039f"
             ],
             [
              0.2222222222222222,
              "#7201a8"
             ],
             [
              0.3333333333333333,
              "#9c179e"
             ],
             [
              0.4444444444444444,
              "#bd3786"
             ],
             [
              0.5555555555555556,
              "#d8576b"
             ],
             [
              0.6666666666666666,
              "#ed7953"
             ],
             [
              0.7777777777777778,
              "#fb9f3a"
             ],
             [
              0.8888888888888888,
              "#fdca26"
             ],
             [
              1,
              "#f0f921"
             ]
            ],
            "type": "histogram2d"
           }
          ],
          "histogram2dcontour": [
           {
            "colorbar": {
             "outlinewidth": 0,
             "ticks": ""
            },
            "colorscale": [
             [
              0,
              "#0d0887"
             ],
             [
              0.1111111111111111,
              "#46039f"
             ],
             [
              0.2222222222222222,
              "#7201a8"
             ],
             [
              0.3333333333333333,
              "#9c179e"
             ],
             [
              0.4444444444444444,
              "#bd3786"
             ],
             [
              0.5555555555555556,
              "#d8576b"
             ],
             [
              0.6666666666666666,
              "#ed7953"
             ],
             [
              0.7777777777777778,
              "#fb9f3a"
             ],
             [
              0.8888888888888888,
              "#fdca26"
             ],
             [
              1,
              "#f0f921"
             ]
            ],
            "type": "histogram2dcontour"
           }
          ],
          "mesh3d": [
           {
            "colorbar": {
             "outlinewidth": 0,
             "ticks": ""
            },
            "type": "mesh3d"
           }
          ],
          "parcoords": [
           {
            "line": {
             "colorbar": {
              "outlinewidth": 0,
              "ticks": ""
             }
            },
            "type": "parcoords"
           }
          ],
          "pie": [
           {
            "automargin": true,
            "type": "pie"
           }
          ],
          "scatter": [
           {
            "fillpattern": {
             "fillmode": "overlay",
             "size": 10,
             "solidity": 0.2
            },
            "type": "scatter"
           }
          ],
          "scatter3d": [
           {
            "line": {
             "colorbar": {
              "outlinewidth": 0,
              "ticks": ""
             }
            },
            "marker": {
             "colorbar": {
              "outlinewidth": 0,
              "ticks": ""
             }
            },
            "type": "scatter3d"
           }
          ],
          "scattercarpet": [
           {
            "marker": {
             "colorbar": {
              "outlinewidth": 0,
              "ticks": ""
             }
            },
            "type": "scattercarpet"
           }
          ],
          "scattergeo": [
           {
            "marker": {
             "colorbar": {
              "outlinewidth": 0,
              "ticks": ""
             }
            },
            "type": "scattergeo"
           }
          ],
          "scattergl": [
           {
            "marker": {
             "colorbar": {
              "outlinewidth": 0,
              "ticks": ""
             }
            },
            "type": "scattergl"
           }
          ],
          "scattermap": [
           {
            "marker": {
             "colorbar": {
              "outlinewidth": 0,
              "ticks": ""
             }
            },
            "type": "scattermap"
           }
          ],
          "scattermapbox": [
           {
            "marker": {
             "colorbar": {
              "outlinewidth": 0,
              "ticks": ""
             }
            },
            "type": "scattermapbox"
           }
          ],
          "scatterpolar": [
           {
            "marker": {
             "colorbar": {
              "outlinewidth": 0,
              "ticks": ""
             }
            },
            "type": "scatterpolar"
           }
          ],
          "scatterpolargl": [
           {
            "marker": {
             "colorbar": {
              "outlinewidth": 0,
              "ticks": ""
             }
            },
            "type": "scatterpolargl"
           }
          ],
          "scatterternary": [
           {
            "marker": {
             "colorbar": {
              "outlinewidth": 0,
              "ticks": ""
             }
            },
            "type": "scatterternary"
           }
          ],
          "surface": [
           {
            "colorbar": {
             "outlinewidth": 0,
             "ticks": ""
            },
            "colorscale": [
             [
              0,
              "#0d0887"
             ],
             [
              0.1111111111111111,
              "#46039f"
             ],
             [
              0.2222222222222222,
              "#7201a8"
             ],
             [
              0.3333333333333333,
              "#9c179e"
             ],
             [
              0.4444444444444444,
              "#bd3786"
             ],
             [
              0.5555555555555556,
              "#d8576b"
             ],
             [
              0.6666666666666666,
              "#ed7953"
             ],
             [
              0.7777777777777778,
              "#fb9f3a"
             ],
             [
              0.8888888888888888,
              "#fdca26"
             ],
             [
              1,
              "#f0f921"
             ]
            ],
            "type": "surface"
           }
          ],
          "table": [
           {
            "cells": {
             "fill": {
              "color": "#EBF0F8"
             },
             "line": {
              "color": "white"
             }
            },
            "header": {
             "fill": {
              "color": "#C8D4E3"
             },
             "line": {
              "color": "white"
             }
            },
            "type": "table"
           }
          ]
         },
         "layout": {
          "annotationdefaults": {
           "arrowcolor": "#2a3f5f",
           "arrowhead": 0,
           "arrowwidth": 1
          },
          "autotypenumbers": "strict",
          "coloraxis": {
           "colorbar": {
            "outlinewidth": 0,
            "ticks": ""
           }
          },
          "colorscale": {
           "diverging": [
            [
             0,
             "#8e0152"
            ],
            [
             0.1,
             "#c51b7d"
            ],
            [
             0.2,
             "#de77ae"
            ],
            [
             0.3,
             "#f1b6da"
            ],
            [
             0.4,
             "#fde0ef"
            ],
            [
             0.5,
             "#f7f7f7"
            ],
            [
             0.6,
             "#e6f5d0"
            ],
            [
             0.7,
             "#b8e186"
            ],
            [
             0.8,
             "#7fbc41"
            ],
            [
             0.9,
             "#4d9221"
            ],
            [
             1,
             "#276419"
            ]
           ],
           "sequential": [
            [
             0,
             "#0d0887"
            ],
            [
             0.1111111111111111,
             "#46039f"
            ],
            [
             0.2222222222222222,
             "#7201a8"
            ],
            [
             0.3333333333333333,
             "#9c179e"
            ],
            [
             0.4444444444444444,
             "#bd3786"
            ],
            [
             0.5555555555555556,
             "#d8576b"
            ],
            [
             0.6666666666666666,
             "#ed7953"
            ],
            [
             0.7777777777777778,
             "#fb9f3a"
            ],
            [
             0.8888888888888888,
             "#fdca26"
            ],
            [
             1,
             "#f0f921"
            ]
           ],
           "sequentialminus": [
            [
             0,
             "#0d0887"
            ],
            [
             0.1111111111111111,
             "#46039f"
            ],
            [
             0.2222222222222222,
             "#7201a8"
            ],
            [
             0.3333333333333333,
             "#9c179e"
            ],
            [
             0.4444444444444444,
             "#bd3786"
            ],
            [
             0.5555555555555556,
             "#d8576b"
            ],
            [
             0.6666666666666666,
             "#ed7953"
            ],
            [
             0.7777777777777778,
             "#fb9f3a"
            ],
            [
             0.8888888888888888,
             "#fdca26"
            ],
            [
             1,
             "#f0f921"
            ]
           ]
          },
          "colorway": [
           "#636efa",
           "#EF553B",
           "#00cc96",
           "#ab63fa",
           "#FFA15A",
           "#19d3f3",
           "#FF6692",
           "#B6E880",
           "#FF97FF",
           "#FECB52"
          ],
          "font": {
           "color": "#2a3f5f"
          },
          "geo": {
           "bgcolor": "white",
           "lakecolor": "white",
           "landcolor": "#E5ECF6",
           "showlakes": true,
           "showland": true,
           "subunitcolor": "white"
          },
          "hoverlabel": {
           "align": "left"
          },
          "hovermode": "closest",
          "mapbox": {
           "style": "light"
          },
          "paper_bgcolor": "white",
          "plot_bgcolor": "#E5ECF6",
          "polar": {
           "angularaxis": {
            "gridcolor": "white",
            "linecolor": "white",
            "ticks": ""
           },
           "bgcolor": "#E5ECF6",
           "radialaxis": {
            "gridcolor": "white",
            "linecolor": "white",
            "ticks": ""
           }
          },
          "scene": {
           "xaxis": {
            "backgroundcolor": "#E5ECF6",
            "gridcolor": "white",
            "gridwidth": 2,
            "linecolor": "white",
            "showbackground": true,
            "ticks": "",
            "zerolinecolor": "white"
           },
           "yaxis": {
            "backgroundcolor": "#E5ECF6",
            "gridcolor": "white",
            "gridwidth": 2,
            "linecolor": "white",
            "showbackground": true,
            "ticks": "",
            "zerolinecolor": "white"
           },
           "zaxis": {
            "backgroundcolor": "#E5ECF6",
            "gridcolor": "white",
            "gridwidth": 2,
            "linecolor": "white",
            "showbackground": true,
            "ticks": "",
            "zerolinecolor": "white"
           }
          },
          "shapedefaults": {
           "line": {
            "color": "#2a3f5f"
           }
          },
          "ternary": {
           "aaxis": {
            "gridcolor": "white",
            "linecolor": "white",
            "ticks": ""
           },
           "baxis": {
            "gridcolor": "white",
            "linecolor": "white",
            "ticks": ""
           },
           "bgcolor": "#E5ECF6",
           "caxis": {
            "gridcolor": "white",
            "linecolor": "white",
            "ticks": ""
           }
          },
          "title": {
           "x": 0.05
          },
          "xaxis": {
           "automargin": true,
           "gridcolor": "white",
           "linecolor": "white",
           "ticks": "",
           "title": {
            "standoff": 15
           },
           "zerolinecolor": "white",
           "zerolinewidth": 2
          },
          "yaxis": {
           "automargin": true,
           "gridcolor": "white",
           "linecolor": "white",
           "ticks": "",
           "title": {
            "standoff": 15
           },
           "zerolinecolor": "white",
           "zerolinewidth": 2
          }
         }
        },
        "title": {
         "text": "Goals per Match by Season"
        },
        "xaxis": {
         "anchor": "y",
         "domain": [
          0,
          1
         ],
         "title": {
          "text": "Season / 시즌"
         }
        },
        "yaxis": {
         "anchor": "x",
         "domain": [
          0,
          1
         ],
         "title": {
          "text": "Goals per Match / 경기당 득점"
         }
        }
       }
      }
     },
     "metadata": {},
     "output_type": "display_data"
    }
   ],
   "source": [
    "import pandas as pd\n",
    "import plotly.express as px\n",
    "\n",
    "# 시즌별 평균 득점 데이터프레임 예시\n",
    "season_goals = df.groupby(\"season\").apply(\n",
    "    lambda x: (x[\"home_goals\"] + x[\"away_goals\"]).sum() / len(x)\n",
    ").reset_index(name=\"goals_per_match\")\n",
    "\n",
    "# Plotly 라인 차트 생성\n",
    "fig = px.line(\n",
    "    season_goals,\n",
    "    x=\"season\",\n",
    "    y=\"goals_per_match\",\n",
    "    markers=True,\n",
    "    title=\"Goals per Match by Season\",\n",
    "    labels={\"season\": \"Season / 시즌\", \"goals_per_match\": \"Goals per Match / 경기당 득점\"},\n",
    "    hover_data={\"season\": True, \"goals_per_match\": True}  # 마우스오버 시 표시할 데이터\n",
    ")\n",
    "\n",
    "# 그래프 표시\n",
    "fig.show()\n"
   ]
  },
  {
   "cell_type": "markdown",
   "metadata": {},
   "source": [
    "# 3. Home Win / Draw / Away Win Rate Changes (홈 승률 / 무승부율 / 원정 승률 변화)"
   ]
  },
  {
   "cell_type": "code",
   "execution_count": null,
   "metadata": {},
   "outputs": [
    {
     "data": {
      "application/vnd.plotly.v1+json": {
       "config": {
        "plotlyServerURL": "https://plot.ly"
       },
       "data": [
        {
         "hovertemplate": "Season: %{x}<br>Home Win: %{y:.1%}<extra></extra>",
         "name": "Home Win / 홈승",
         "type": "bar",
         "x": [
          "2014",
          "2015",
          "2016",
          "2017",
          "2018",
          "2019",
          "2020",
          "2021",
          "2022",
          "2023",
          "2024"
         ],
         "y": {
          "bdata": "zczMzMzM3D8j7ViBMNLeP7/nljj1e94/XOLU77kl3j+3xKnfc0vcP+LU77klTt0/xanfc0uc2j+ivIbyGsrbP3Hq99wSp94/BcJIO1Yg3D9pxwqEkXbcPw==",
          "dtype": "f8"
         }
        },
        {
         "hovertemplate": "Season: %{x}<br>Draw: %{y:.1%}<extra></extra>",
         "name": "Draw / 무승부",
         "type": "bar",
         "x": [
          "2014",
          "2015",
          "2016",
          "2017",
          "2018",
          "2019",
          "2020",
          "2021",
          "2022",
          "2023",
          "2024"
         ],
         "y": {
          "bdata": "cer33BKnzj/V77klTv3OP6rfc0uc+s0/f88tcer3zD9sKK+hvIbSP/Maymsor9E/uiVO/Z5b0j8eKxBG2rHSP6rfc0uc+s0/ViCMtGMF0j9kBcJIO1bQPw==",
          "dtype": "f8"
         }
        },
        {
         "hovertemplate": "Season: %{x}<br>Away Win: %{y:.1%}<extra></extra>",
         "name": "Away Win / 원정승",
         "type": "bar",
         "x": [
          "2014",
          "2015",
          "2016",
          "2017",
          "2018",
          "2019",
          "2020",
          "2021",
          "2022",
          "2023",
          "2024"
         ],
         "y": {
          "bdata": "+z23xKnf0z/zGsprKK/RP2wor6G8htI/5TWU11Be0z/dEqd+zy3RPysQRtqxAtE/gTDSjhUI0z9BGGnHCoTRP7olTv2eW9I/pB0rEEba0T8zMzMzMzPTPw==",
          "dtype": "f8"
         }
        }
       ],
       "layout": {
        "barmode": "stack",
        "template": {
         "data": {
          "bar": [
           {
            "error_x": {
             "color": "#2a3f5f"
            },
            "error_y": {
             "color": "#2a3f5f"
            },
            "marker": {
             "line": {
              "color": "#E5ECF6",
              "width": 0.5
             },
             "pattern": {
              "fillmode": "overlay",
              "size": 10,
              "solidity": 0.2
             }
            },
            "type": "bar"
           }
          ],
          "barpolar": [
           {
            "marker": {
             "line": {
              "color": "#E5ECF6",
              "width": 0.5
             },
             "pattern": {
              "fillmode": "overlay",
              "size": 10,
              "solidity": 0.2
             }
            },
            "type": "barpolar"
           }
          ],
          "carpet": [
           {
            "aaxis": {
             "endlinecolor": "#2a3f5f",
             "gridcolor": "white",
             "linecolor": "white",
             "minorgridcolor": "white",
             "startlinecolor": "#2a3f5f"
            },
            "baxis": {
             "endlinecolor": "#2a3f5f",
             "gridcolor": "white",
             "linecolor": "white",
             "minorgridcolor": "white",
             "startlinecolor": "#2a3f5f"
            },
            "type": "carpet"
           }
          ],
          "choropleth": [
           {
            "colorbar": {
             "outlinewidth": 0,
             "ticks": ""
            },
            "type": "choropleth"
           }
          ],
          "contour": [
           {
            "colorbar": {
             "outlinewidth": 0,
             "ticks": ""
            },
            "colorscale": [
             [
              0,
              "#0d0887"
             ],
             [
              0.1111111111111111,
              "#46039f"
             ],
             [
              0.2222222222222222,
              "#7201a8"
             ],
             [
              0.3333333333333333,
              "#9c179e"
             ],
             [
              0.4444444444444444,
              "#bd3786"
             ],
             [
              0.5555555555555556,
              "#d8576b"
             ],
             [
              0.6666666666666666,
              "#ed7953"
             ],
             [
              0.7777777777777778,
              "#fb9f3a"
             ],
             [
              0.8888888888888888,
              "#fdca26"
             ],
             [
              1,
              "#f0f921"
             ]
            ],
            "type": "contour"
           }
          ],
          "contourcarpet": [
           {
            "colorbar": {
             "outlinewidth": 0,
             "ticks": ""
            },
            "type": "contourcarpet"
           }
          ],
          "heatmap": [
           {
            "colorbar": {
             "outlinewidth": 0,
             "ticks": ""
            },
            "colorscale": [
             [
              0,
              "#0d0887"
             ],
             [
              0.1111111111111111,
              "#46039f"
             ],
             [
              0.2222222222222222,
              "#7201a8"
             ],
             [
              0.3333333333333333,
              "#9c179e"
             ],
             [
              0.4444444444444444,
              "#bd3786"
             ],
             [
              0.5555555555555556,
              "#d8576b"
             ],
             [
              0.6666666666666666,
              "#ed7953"
             ],
             [
              0.7777777777777778,
              "#fb9f3a"
             ],
             [
              0.8888888888888888,
              "#fdca26"
             ],
             [
              1,
              "#f0f921"
             ]
            ],
            "type": "heatmap"
           }
          ],
          "histogram": [
           {
            "marker": {
             "pattern": {
              "fillmode": "overlay",
              "size": 10,
              "solidity": 0.2
             }
            },
            "type": "histogram"
           }
          ],
          "histogram2d": [
           {
            "colorbar": {
             "outlinewidth": 0,
             "ticks": ""
            },
            "colorscale": [
             [
              0,
              "#0d0887"
             ],
             [
              0.1111111111111111,
              "#46039f"
             ],
             [
              0.2222222222222222,
              "#7201a8"
             ],
             [
              0.3333333333333333,
              "#9c179e"
             ],
             [
              0.4444444444444444,
              "#bd3786"
             ],
             [
              0.5555555555555556,
              "#d8576b"
             ],
             [
              0.6666666666666666,
              "#ed7953"
             ],
             [
              0.7777777777777778,
              "#fb9f3a"
             ],
             [
              0.8888888888888888,
              "#fdca26"
             ],
             [
              1,
              "#f0f921"
             ]
            ],
            "type": "histogram2d"
           }
          ],
          "histogram2dcontour": [
           {
            "colorbar": {
             "outlinewidth": 0,
             "ticks": ""
            },
            "colorscale": [
             [
              0,
              "#0d0887"
             ],
             [
              0.1111111111111111,
              "#46039f"
             ],
             [
              0.2222222222222222,
              "#7201a8"
             ],
             [
              0.3333333333333333,
              "#9c179e"
             ],
             [
              0.4444444444444444,
              "#bd3786"
             ],
             [
              0.5555555555555556,
              "#d8576b"
             ],
             [
              0.6666666666666666,
              "#ed7953"
             ],
             [
              0.7777777777777778,
              "#fb9f3a"
             ],
             [
              0.8888888888888888,
              "#fdca26"
             ],
             [
              1,
              "#f0f921"
             ]
            ],
            "type": "histogram2dcontour"
           }
          ],
          "mesh3d": [
           {
            "colorbar": {
             "outlinewidth": 0,
             "ticks": ""
            },
            "type": "mesh3d"
           }
          ],
          "parcoords": [
           {
            "line": {
             "colorbar": {
              "outlinewidth": 0,
              "ticks": ""
             }
            },
            "type": "parcoords"
           }
          ],
          "pie": [
           {
            "automargin": true,
            "type": "pie"
           }
          ],
          "scatter": [
           {
            "fillpattern": {
             "fillmode": "overlay",
             "size": 10,
             "solidity": 0.2
            },
            "type": "scatter"
           }
          ],
          "scatter3d": [
           {
            "line": {
             "colorbar": {
              "outlinewidth": 0,
              "ticks": ""
             }
            },
            "marker": {
             "colorbar": {
              "outlinewidth": 0,
              "ticks": ""
             }
            },
            "type": "scatter3d"
           }
          ],
          "scattercarpet": [
           {
            "marker": {
             "colorbar": {
              "outlinewidth": 0,
              "ticks": ""
             }
            },
            "type": "scattercarpet"
           }
          ],
          "scattergeo": [
           {
            "marker": {
             "colorbar": {
              "outlinewidth": 0,
              "ticks": ""
             }
            },
            "type": "scattergeo"
           }
          ],
          "scattergl": [
           {
            "marker": {
             "colorbar": {
              "outlinewidth": 0,
              "ticks": ""
             }
            },
            "type": "scattergl"
           }
          ],
          "scattermap": [
           {
            "marker": {
             "colorbar": {
              "outlinewidth": 0,
              "ticks": ""
             }
            },
            "type": "scattermap"
           }
          ],
          "scattermapbox": [
           {
            "marker": {
             "colorbar": {
              "outlinewidth": 0,
              "ticks": ""
             }
            },
            "type": "scattermapbox"
           }
          ],
          "scatterpolar": [
           {
            "marker": {
             "colorbar": {
              "outlinewidth": 0,
              "ticks": ""
             }
            },
            "type": "scatterpolar"
           }
          ],
          "scatterpolargl": [
           {
            "marker": {
             "colorbar": {
              "outlinewidth": 0,
              "ticks": ""
             }
            },
            "type": "scatterpolargl"
           }
          ],
          "scatterternary": [
           {
            "marker": {
             "colorbar": {
              "outlinewidth": 0,
              "ticks": ""
             }
            },
            "type": "scatterternary"
           }
          ],
          "surface": [
           {
            "colorbar": {
             "outlinewidth": 0,
             "ticks": ""
            },
            "colorscale": [
             [
              0,
              "#0d0887"
             ],
             [
              0.1111111111111111,
              "#46039f"
             ],
             [
              0.2222222222222222,
              "#7201a8"
             ],
             [
              0.3333333333333333,
              "#9c179e"
             ],
             [
              0.4444444444444444,
              "#bd3786"
             ],
             [
              0.5555555555555556,
              "#d8576b"
             ],
             [
              0.6666666666666666,
              "#ed7953"
             ],
             [
              0.7777777777777778,
              "#fb9f3a"
             ],
             [
              0.8888888888888888,
              "#fdca26"
             ],
             [
              1,
              "#f0f921"
             ]
            ],
            "type": "surface"
           }
          ],
          "table": [
           {
            "cells": {
             "fill": {
              "color": "#EBF0F8"
             },
             "line": {
              "color": "white"
             }
            },
            "header": {
             "fill": {
              "color": "#C8D4E3"
             },
             "line": {
              "color": "white"
             }
            },
            "type": "table"
           }
          ]
         },
         "layout": {
          "annotationdefaults": {
           "arrowcolor": "#2a3f5f",
           "arrowhead": 0,
           "arrowwidth": 1
          },
          "autotypenumbers": "strict",
          "coloraxis": {
           "colorbar": {
            "outlinewidth": 0,
            "ticks": ""
           }
          },
          "colorscale": {
           "diverging": [
            [
             0,
             "#8e0152"
            ],
            [
             0.1,
             "#c51b7d"
            ],
            [
             0.2,
             "#de77ae"
            ],
            [
             0.3,
             "#f1b6da"
            ],
            [
             0.4,
             "#fde0ef"
            ],
            [
             0.5,
             "#f7f7f7"
            ],
            [
             0.6,
             "#e6f5d0"
            ],
            [
             0.7,
             "#b8e186"
            ],
            [
             0.8,
             "#7fbc41"
            ],
            [
             0.9,
             "#4d9221"
            ],
            [
             1,
             "#276419"
            ]
           ],
           "sequential": [
            [
             0,
             "#0d0887"
            ],
            [
             0.1111111111111111,
             "#46039f"
            ],
            [
             0.2222222222222222,
             "#7201a8"
            ],
            [
             0.3333333333333333,
             "#9c179e"
            ],
            [
             0.4444444444444444,
             "#bd3786"
            ],
            [
             0.5555555555555556,
             "#d8576b"
            ],
            [
             0.6666666666666666,
             "#ed7953"
            ],
            [
             0.7777777777777778,
             "#fb9f3a"
            ],
            [
             0.8888888888888888,
             "#fdca26"
            ],
            [
             1,
             "#f0f921"
            ]
           ],
           "sequentialminus": [
            [
             0,
             "#0d0887"
            ],
            [
             0.1111111111111111,
             "#46039f"
            ],
            [
             0.2222222222222222,
             "#7201a8"
            ],
            [
             0.3333333333333333,
             "#9c179e"
            ],
            [
             0.4444444444444444,
             "#bd3786"
            ],
            [
             0.5555555555555556,
             "#d8576b"
            ],
            [
             0.6666666666666666,
             "#ed7953"
            ],
            [
             0.7777777777777778,
             "#fb9f3a"
            ],
            [
             0.8888888888888888,
             "#fdca26"
            ],
            [
             1,
             "#f0f921"
            ]
           ]
          },
          "colorway": [
           "#636efa",
           "#EF553B",
           "#00cc96",
           "#ab63fa",
           "#FFA15A",
           "#19d3f3",
           "#FF6692",
           "#B6E880",
           "#FF97FF",
           "#FECB52"
          ],
          "font": {
           "color": "#2a3f5f"
          },
          "geo": {
           "bgcolor": "white",
           "lakecolor": "white",
           "landcolor": "#E5ECF6",
           "showlakes": true,
           "showland": true,
           "subunitcolor": "white"
          },
          "hoverlabel": {
           "align": "left"
          },
          "hovermode": "closest",
          "mapbox": {
           "style": "light"
          },
          "paper_bgcolor": "white",
          "plot_bgcolor": "#E5ECF6",
          "polar": {
           "angularaxis": {
            "gridcolor": "white",
            "linecolor": "white",
            "ticks": ""
           },
           "bgcolor": "#E5ECF6",
           "radialaxis": {
            "gridcolor": "white",
            "linecolor": "white",
            "ticks": ""
           }
          },
          "scene": {
           "xaxis": {
            "backgroundcolor": "#E5ECF6",
            "gridcolor": "white",
            "gridwidth": 2,
            "linecolor": "white",
            "showbackground": true,
            "ticks": "",
            "zerolinecolor": "white"
           },
           "yaxis": {
            "backgroundcolor": "#E5ECF6",
            "gridcolor": "white",
            "gridwidth": 2,
            "linecolor": "white",
            "showbackground": true,
            "ticks": "",
            "zerolinecolor": "white"
           },
           "zaxis": {
            "backgroundcolor": "#E5ECF6",
            "gridcolor": "white",
            "gridwidth": 2,
            "linecolor": "white",
            "showbackground": true,
            "ticks": "",
            "zerolinecolor": "white"
           }
          },
          "shapedefaults": {
           "line": {
            "color": "#2a3f5f"
           }
          },
          "ternary": {
           "aaxis": {
            "gridcolor": "white",
            "linecolor": "white",
            "ticks": ""
           },
           "baxis": {
            "gridcolor": "white",
            "linecolor": "white",
            "ticks": ""
           },
           "bgcolor": "#E5ECF6",
           "caxis": {
            "gridcolor": "white",
            "linecolor": "white",
            "ticks": ""
           }
          },
          "title": {
           "x": 0.05
          },
          "xaxis": {
           "automargin": true,
           "gridcolor": "white",
           "linecolor": "white",
           "ticks": "",
           "title": {
            "standoff": 15
           },
           "zerolinecolor": "white",
           "zerolinewidth": 2
          },
          "yaxis": {
           "automargin": true,
           "gridcolor": "white",
           "linecolor": "white",
           "ticks": "",
           "title": {
            "standoff": 15
           },
           "zerolinecolor": "white",
           "zerolinewidth": 2
          }
         }
        },
        "title": {
         "text": "Result Rates by Season (Interactive) / 시즌별 결과 비율"
        },
        "xaxis": {
         "title": {
          "text": "Season / 시즌"
         }
        },
        "yaxis": {
         "title": {
          "text": "Rate / 비율"
         }
        }
       }
      }
     },
     "metadata": {},
     "output_type": "display_data"
    }
   ],
   "source": [
    "import plotly.graph_objects as go\n",
    "\n",
    "# 1) 시즌별 결과 개수 → 비율\n",
    "res_counts = (\n",
    "    df.groupby([\"season\", \"result\"])\n",
    "      .size()\n",
    "      .unstack(fill_value=0)[[\"H\",\"D\",\"A\"]]     # 고정 순서\n",
    ")\n",
    "res_rates = (res_counts.T / res_counts.sum(axis=1)).T  # 각 시즌 합 1.0\n",
    "\n",
    "seasons = res_rates.index.astype(str).tolist()\n",
    "H = res_rates[\"H\"].values\n",
    "D = res_rates[\"D\"].values\n",
    "A = res_rates[\"A\"].values\n",
    "\n",
    "# 2) 인터랙티브 스택드 바\n",
    "fig = go.Figure()\n",
    "fig.add_bar(\n",
    "    x=seasons, y=H, name=\"Home Win / 홈승\",\n",
    "    hovertemplate=\"Season: %{x}<br>Home Win: %{y:.1%}<extra></extra>\"\n",
    ")\n",
    "fig.add_bar(\n",
    "    x=seasons, y=D, name=\"Draw / 무승부\",\n",
    "    hovertemplate=\"Season: %{x}<br>Draw: %{y:.1%}<extra></extra>\"\n",
    ")\n",
    "fig.add_bar(\n",
    "    x=seasons, y=A, name=\"Away Win / 원정승\",\n",
    "    hovertemplate=\"Season: %{x}<br>Away Win: %{y:.1%}<extra></extra>\"\n",
    ")\n",
    "\n",
    "fig.update_layout(\n",
    "    barmode=\"stack\",\n",
    "    title=\"Result Rates by Season (Interactive) / 시즌별 결과 비율\",\n",
    "    xaxis_title=\"Season / 시즌\",\n",
    "    yaxis_title=\"Rate / 비율\",\n",
    ")\n",
    "fig.show()\n"
   ]
  },
  {
   "cell_type": "markdown",
   "metadata": {},
   "source": [
    "3-1. Team Result Rates over Seasons / 팀별 결과 비율 (누적 막대)"
   ]
  },
  {
   "cell_type": "code",
   "execution_count": null,
   "metadata": {},
   "outputs": [
    {
     "data": {
      "application/vnd.plotly.v1+json": {
       "config": {
        "plotlyServerURL": "https://plot.ly"
       },
       "data": [
        {
         "customdata": [
          "Alaves",
          "Alaves",
          "Alaves",
          "Alaves",
          "Alaves",
          "Alaves",
          "Alaves",
          "Alaves",
          "Alaves",
          "Alaves",
          "Alaves"
         ],
         "hovertemplate": "Team: %{customdata}<br>Season: %{x}<br>Win: %{y} 경기<extra></extra>",
         "name": "Win / 승",
         "type": "bar",
         "x": [
          "2014",
          "2015",
          "2016",
          "2017",
          "2018",
          "2019",
          "2020",
          "2021",
          "2022",
          "2023",
          "2024"
         ],
         "y": {
          "bdata": "AAAAAAAAAAAAAAAAAAAAAAAAAAAAACxAAAAAAAAALkAAAAAAAAAqQAAAAAAAACRAAAAAAAAAIkAAAAAAAAAgQAAAAAAAAAAAAAAAAAAAKEAAAAAAAAAkQA==",
          "dtype": "f8"
         }
        },
        {
         "customdata": [
          "Alaves",
          "Alaves",
          "Alaves",
          "Alaves",
          "Alaves",
          "Alaves",
          "Alaves",
          "Alaves",
          "Alaves",
          "Alaves",
          "Alaves"
         ],
         "hovertemplate": "Team: %{customdata}<br>Season: %{x}<br>Draw: %{y} 경기<extra></extra>",
         "name": "Draw / 무",
         "type": "bar",
         "x": [
          "2014",
          "2015",
          "2016",
          "2017",
          "2018",
          "2019",
          "2020",
          "2021",
          "2022",
          "2023",
          "2024"
         ],
         "y": {
          "bdata": "AAAAAAAAAAAAAAAAAAAAAAAAAAAAACpAAAAAAAAAAEAAAAAAAAAmQAAAAAAAACJAAAAAAAAAJkAAAAAAAAAcQAAAAAAAAAAAAAAAAAAAJEAAAAAAAAAoQA==",
          "dtype": "f8"
         }
        },
        {
         "customdata": [
          "Alaves",
          "Alaves",
          "Alaves",
          "Alaves",
          "Alaves",
          "Alaves",
          "Alaves",
          "Alaves",
          "Alaves",
          "Alaves",
          "Alaves"
         ],
         "hovertemplate": "Team: %{customdata}<br>Season: %{x}<br>Loss: %{y} 경기<extra></extra>",
         "name": "Loss / 패",
         "type": "bar",
         "x": [
          "2014",
          "2015",
          "2016",
          "2017",
          "2018",
          "2019",
          "2020",
          "2021",
          "2022",
          "2023",
          "2024"
         ],
         "y": {
          "bdata": "AAAAAAAAAAAAAAAAAAAAAAAAAAAAACZAAAAAAAAANUAAAAAAAAAsQAAAAAAAADNAAAAAAAAAMkAAAAAAAAA3QAAAAAAAAAAAAAAAAAAAMEAAAAAAAAAwQA==",
          "dtype": "f8"
         }
        }
       ],
       "layout": {
        "barmode": "stack",
        "legend": {
         "title": {
          "text": "Result / 결과"
         }
        },
        "margin": {
         "t": 110
        },
        "template": {
         "data": {
          "bar": [
           {
            "error_x": {
             "color": "#2a3f5f"
            },
            "error_y": {
             "color": "#2a3f5f"
            },
            "marker": {
             "line": {
              "color": "#E5ECF6",
              "width": 0.5
             },
             "pattern": {
              "fillmode": "overlay",
              "size": 10,
              "solidity": 0.2
             }
            },
            "type": "bar"
           }
          ],
          "barpolar": [
           {
            "marker": {
             "line": {
              "color": "#E5ECF6",
              "width": 0.5
             },
             "pattern": {
              "fillmode": "overlay",
              "size": 10,
              "solidity": 0.2
             }
            },
            "type": "barpolar"
           }
          ],
          "carpet": [
           {
            "aaxis": {
             "endlinecolor": "#2a3f5f",
             "gridcolor": "white",
             "linecolor": "white",
             "minorgridcolor": "white",
             "startlinecolor": "#2a3f5f"
            },
            "baxis": {
             "endlinecolor": "#2a3f5f",
             "gridcolor": "white",
             "linecolor": "white",
             "minorgridcolor": "white",
             "startlinecolor": "#2a3f5f"
            },
            "type": "carpet"
           }
          ],
          "choropleth": [
           {
            "colorbar": {
             "outlinewidth": 0,
             "ticks": ""
            },
            "type": "choropleth"
           }
          ],
          "contour": [
           {
            "colorbar": {
             "outlinewidth": 0,
             "ticks": ""
            },
            "colorscale": [
             [
              0,
              "#0d0887"
             ],
             [
              0.1111111111111111,
              "#46039f"
             ],
             [
              0.2222222222222222,
              "#7201a8"
             ],
             [
              0.3333333333333333,
              "#9c179e"
             ],
             [
              0.4444444444444444,
              "#bd3786"
             ],
             [
              0.5555555555555556,
              "#d8576b"
             ],
             [
              0.6666666666666666,
              "#ed7953"
             ],
             [
              0.7777777777777778,
              "#fb9f3a"
             ],
             [
              0.8888888888888888,
              "#fdca26"
             ],
             [
              1,
              "#f0f921"
             ]
            ],
            "type": "contour"
           }
          ],
          "contourcarpet": [
           {
            "colorbar": {
             "outlinewidth": 0,
             "ticks": ""
            },
            "type": "contourcarpet"
           }
          ],
          "heatmap": [
           {
            "colorbar": {
             "outlinewidth": 0,
             "ticks": ""
            },
            "colorscale": [
             [
              0,
              "#0d0887"
             ],
             [
              0.1111111111111111,
              "#46039f"
             ],
             [
              0.2222222222222222,
              "#7201a8"
             ],
             [
              0.3333333333333333,
              "#9c179e"
             ],
             [
              0.4444444444444444,
              "#bd3786"
             ],
             [
              0.5555555555555556,
              "#d8576b"
             ],
             [
              0.6666666666666666,
              "#ed7953"
             ],
             [
              0.7777777777777778,
              "#fb9f3a"
             ],
             [
              0.8888888888888888,
              "#fdca26"
             ],
             [
              1,
              "#f0f921"
             ]
            ],
            "type": "heatmap"
           }
          ],
          "histogram": [
           {
            "marker": {
             "pattern": {
              "fillmode": "overlay",
              "size": 10,
              "solidity": 0.2
             }
            },
            "type": "histogram"
           }
          ],
          "histogram2d": [
           {
            "colorbar": {
             "outlinewidth": 0,
             "ticks": ""
            },
            "colorscale": [
             [
              0,
              "#0d0887"
             ],
             [
              0.1111111111111111,
              "#46039f"
             ],
             [
              0.2222222222222222,
              "#7201a8"
             ],
             [
              0.3333333333333333,
              "#9c179e"
             ],
             [
              0.4444444444444444,
              "#bd3786"
             ],
             [
              0.5555555555555556,
              "#d8576b"
             ],
             [
              0.6666666666666666,
              "#ed7953"
             ],
             [
              0.7777777777777778,
              "#fb9f3a"
             ],
             [
              0.8888888888888888,
              "#fdca26"
             ],
             [
              1,
              "#f0f921"
             ]
            ],
            "type": "histogram2d"
           }
          ],
          "histogram2dcontour": [
           {
            "colorbar": {
             "outlinewidth": 0,
             "ticks": ""
            },
            "colorscale": [
             [
              0,
              "#0d0887"
             ],
             [
              0.1111111111111111,
              "#46039f"
             ],
             [
              0.2222222222222222,
              "#7201a8"
             ],
             [
              0.3333333333333333,
              "#9c179e"
             ],
             [
              0.4444444444444444,
              "#bd3786"
             ],
             [
              0.5555555555555556,
              "#d8576b"
             ],
             [
              0.6666666666666666,
              "#ed7953"
             ],
             [
              0.7777777777777778,
              "#fb9f3a"
             ],
             [
              0.8888888888888888,
              "#fdca26"
             ],
             [
              1,
              "#f0f921"
             ]
            ],
            "type": "histogram2dcontour"
           }
          ],
          "mesh3d": [
           {
            "colorbar": {
             "outlinewidth": 0,
             "ticks": ""
            },
            "type": "mesh3d"
           }
          ],
          "parcoords": [
           {
            "line": {
             "colorbar": {
              "outlinewidth": 0,
              "ticks": ""
             }
            },
            "type": "parcoords"
           }
          ],
          "pie": [
           {
            "automargin": true,
            "type": "pie"
           }
          ],
          "scatter": [
           {
            "fillpattern": {
             "fillmode": "overlay",
             "size": 10,
             "solidity": 0.2
            },
            "type": "scatter"
           }
          ],
          "scatter3d": [
           {
            "line": {
             "colorbar": {
              "outlinewidth": 0,
              "ticks": ""
             }
            },
            "marker": {
             "colorbar": {
              "outlinewidth": 0,
              "ticks": ""
             }
            },
            "type": "scatter3d"
           }
          ],
          "scattercarpet": [
           {
            "marker": {
             "colorbar": {
              "outlinewidth": 0,
              "ticks": ""
             }
            },
            "type": "scattercarpet"
           }
          ],
          "scattergeo": [
           {
            "marker": {
             "colorbar": {
              "outlinewidth": 0,
              "ticks": ""
             }
            },
            "type": "scattergeo"
           }
          ],
          "scattergl": [
           {
            "marker": {
             "colorbar": {
              "outlinewidth": 0,
              "ticks": ""
             }
            },
            "type": "scattergl"
           }
          ],
          "scattermap": [
           {
            "marker": {
             "colorbar": {
              "outlinewidth": 0,
              "ticks": ""
             }
            },
            "type": "scattermap"
           }
          ],
          "scattermapbox": [
           {
            "marker": {
             "colorbar": {
              "outlinewidth": 0,
              "ticks": ""
             }
            },
            "type": "scattermapbox"
           }
          ],
          "scatterpolar": [
           {
            "marker": {
             "colorbar": {
              "outlinewidth": 0,
              "ticks": ""
             }
            },
            "type": "scatterpolar"
           }
          ],
          "scatterpolargl": [
           {
            "marker": {
             "colorbar": {
              "outlinewidth": 0,
              "ticks": ""
             }
            },
            "type": "scatterpolargl"
           }
          ],
          "scatterternary": [
           {
            "marker": {
             "colorbar": {
              "outlinewidth": 0,
              "ticks": ""
             }
            },
            "type": "scatterternary"
           }
          ],
          "surface": [
           {
            "colorbar": {
             "outlinewidth": 0,
             "ticks": ""
            },
            "colorscale": [
             [
              0,
              "#0d0887"
             ],
             [
              0.1111111111111111,
              "#46039f"
             ],
             [
              0.2222222222222222,
              "#7201a8"
             ],
             [
              0.3333333333333333,
              "#9c179e"
             ],
             [
              0.4444444444444444,
              "#bd3786"
             ],
             [
              0.5555555555555556,
              "#d8576b"
             ],
             [
              0.6666666666666666,
              "#ed7953"
             ],
             [
              0.7777777777777778,
              "#fb9f3a"
             ],
             [
              0.8888888888888888,
              "#fdca26"
             ],
             [
              1,
              "#f0f921"
             ]
            ],
            "type": "surface"
           }
          ],
          "table": [
           {
            "cells": {
             "fill": {
              "color": "#EBF0F8"
             },
             "line": {
              "color": "white"
             }
            },
            "header": {
             "fill": {
              "color": "#C8D4E3"
             },
             "line": {
              "color": "white"
             }
            },
            "type": "table"
           }
          ]
         },
         "layout": {
          "annotationdefaults": {
           "arrowcolor": "#2a3f5f",
           "arrowhead": 0,
           "arrowwidth": 1
          },
          "autotypenumbers": "strict",
          "coloraxis": {
           "colorbar": {
            "outlinewidth": 0,
            "ticks": ""
           }
          },
          "colorscale": {
           "diverging": [
            [
             0,
             "#8e0152"
            ],
            [
             0.1,
             "#c51b7d"
            ],
            [
             0.2,
             "#de77ae"
            ],
            [
             0.3,
             "#f1b6da"
            ],
            [
             0.4,
             "#fde0ef"
            ],
            [
             0.5,
             "#f7f7f7"
            ],
            [
             0.6,
             "#e6f5d0"
            ],
            [
             0.7,
             "#b8e186"
            ],
            [
             0.8,
             "#7fbc41"
            ],
            [
             0.9,
             "#4d9221"
            ],
            [
             1,
             "#276419"
            ]
           ],
           "sequential": [
            [
             0,
             "#0d0887"
            ],
            [
             0.1111111111111111,
             "#46039f"
            ],
            [
             0.2222222222222222,
             "#7201a8"
            ],
            [
             0.3333333333333333,
             "#9c179e"
            ],
            [
             0.4444444444444444,
             "#bd3786"
            ],
            [
             0.5555555555555556,
             "#d8576b"
            ],
            [
             0.6666666666666666,
             "#ed7953"
            ],
            [
             0.7777777777777778,
             "#fb9f3a"
            ],
            [
             0.8888888888888888,
             "#fdca26"
            ],
            [
             1,
             "#f0f921"
            ]
           ],
           "sequentialminus": [
            [
             0,
             "#0d0887"
            ],
            [
             0.1111111111111111,
             "#46039f"
            ],
            [
             0.2222222222222222,
             "#7201a8"
            ],
            [
             0.3333333333333333,
             "#9c179e"
            ],
            [
             0.4444444444444444,
             "#bd3786"
            ],
            [
             0.5555555555555556,
             "#d8576b"
            ],
            [
             0.6666666666666666,
             "#ed7953"
            ],
            [
             0.7777777777777778,
             "#fb9f3a"
            ],
            [
             0.8888888888888888,
             "#fdca26"
            ],
            [
             1,
             "#f0f921"
            ]
           ]
          },
          "colorway": [
           "#636efa",
           "#EF553B",
           "#00cc96",
           "#ab63fa",
           "#FFA15A",
           "#19d3f3",
           "#FF6692",
           "#B6E880",
           "#FF97FF",
           "#FECB52"
          ],
          "font": {
           "color": "#2a3f5f"
          },
          "geo": {
           "bgcolor": "white",
           "lakecolor": "white",
           "landcolor": "#E5ECF6",
           "showlakes": true,
           "showland": true,
           "subunitcolor": "white"
          },
          "hoverlabel": {
           "align": "left"
          },
          "hovermode": "closest",
          "mapbox": {
           "style": "light"
          },
          "paper_bgcolor": "white",
          "plot_bgcolor": "#E5ECF6",
          "polar": {
           "angularaxis": {
            "gridcolor": "white",
            "linecolor": "white",
            "ticks": ""
           },
           "bgcolor": "#E5ECF6",
           "radialaxis": {
            "gridcolor": "white",
            "linecolor": "white",
            "ticks": ""
           }
          },
          "scene": {
           "xaxis": {
            "backgroundcolor": "#E5ECF6",
            "gridcolor": "white",
            "gridwidth": 2,
            "linecolor": "white",
            "showbackground": true,
            "ticks": "",
            "zerolinecolor": "white"
           },
           "yaxis": {
            "backgroundcolor": "#E5ECF6",
            "gridcolor": "white",
            "gridwidth": 2,
            "linecolor": "white",
            "showbackground": true,
            "ticks": "",
            "zerolinecolor": "white"
           },
           "zaxis": {
            "backgroundcolor": "#E5ECF6",
            "gridcolor": "white",
            "gridwidth": 2,
            "linecolor": "white",
            "showbackground": true,
            "ticks": "",
            "zerolinecolor": "white"
           }
          },
          "shapedefaults": {
           "line": {
            "color": "#2a3f5f"
           }
          },
          "ternary": {
           "aaxis": {
            "gridcolor": "white",
            "linecolor": "white",
            "ticks": ""
           },
           "baxis": {
            "gridcolor": "white",
            "linecolor": "white",
            "ticks": ""
           },
           "bgcolor": "#E5ECF6",
           "caxis": {
            "gridcolor": "white",
            "linecolor": "white",
            "ticks": ""
           }
          },
          "title": {
           "x": 0.05
          },
          "xaxis": {
           "automargin": true,
           "gridcolor": "white",
           "linecolor": "white",
           "ticks": "",
           "title": {
            "standoff": 15
           },
           "zerolinecolor": "white",
           "zerolinewidth": 2
          },
          "yaxis": {
           "automargin": true,
           "gridcolor": "white",
           "linecolor": "white",
           "ticks": "",
           "title": {
            "standoff": 15
           },
           "zerolinecolor": "white",
           "zerolinewidth": 2
          }
         }
        },
        "title": {
         "text": "Result Counts by Season — Alaves / 시즌 결과 경기 수 — Alaves"
        },
        "updatemenus": [
         {
          "buttons": [
           {
            "args": [
             {
              "customdata": [
               [
                "Alaves",
                "Alaves",
                "Alaves",
                "Alaves",
                "Alaves",
                "Alaves",
                "Alaves",
                "Alaves",
                "Alaves",
                "Alaves",
                "Alaves"
               ],
               [
                "Alaves",
                "Alaves",
                "Alaves",
                "Alaves",
                "Alaves",
                "Alaves",
                "Alaves",
                "Alaves",
                "Alaves",
                "Alaves",
                "Alaves"
               ],
               [
                "Alaves",
                "Alaves",
                "Alaves",
                "Alaves",
                "Alaves",
                "Alaves",
                "Alaves",
                "Alaves",
                "Alaves",
                "Alaves",
                "Alaves"
               ]
              ],
              "y": [
               [
                0,
                0,
                14,
                15,
                13,
                10,
                9,
                8,
                0,
                12,
                10
               ],
               [
                0,
                0,
                13,
                2,
                11,
                9,
                11,
                7,
                0,
                10,
                12
               ],
               [
                0,
                0,
                11,
                21,
                14,
                19,
                18,
                23,
                0,
                16,
                16
               ]
              ]
             },
             {
              "title": "Result Counts by Season — Alaves / 시즌 결과 경기 수 — Alaves"
             }
            ],
            "label": "Alaves",
            "method": "update"
           },
           {
            "args": [
             {
              "customdata": [
               [
                "Almeria",
                "Almeria",
                "Almeria",
                "Almeria",
                "Almeria",
                "Almeria",
                "Almeria",
                "Almeria",
                "Almeria",
                "Almeria",
                "Almeria"
               ],
               [
                "Almeria",
                "Almeria",
                "Almeria",
                "Almeria",
                "Almeria",
                "Almeria",
                "Almeria",
                "Almeria",
                "Almeria",
                "Almeria",
                "Almeria"
               ],
               [
                "Almeria",
                "Almeria",
                "Almeria",
                "Almeria",
                "Almeria",
                "Almeria",
                "Almeria",
                "Almeria",
                "Almeria",
                "Almeria",
                "Almeria"
               ]
              ],
              "y": [
               [
                8,
                0,
                0,
                0,
                0,
                0,
                0,
                0,
                11,
                3,
                0
               ],
               [
                8,
                0,
                0,
                0,
                0,
                0,
                0,
                0,
                8,
                12,
                0
               ],
               [
                22,
                0,
                0,
                0,
                0,
                0,
                0,
                0,
                19,
                23,
                0
               ]
              ]
             },
             {
              "title": "Result Counts by Season — Almeria / 시즌 결과 경기 수 — Almeria"
             }
            ],
            "label": "Almeria",
            "method": "update"
           },
           {
            "args": [
             {
              "customdata": [
               [
                "Athletic Club",
                "Athletic Club",
                "Athletic Club",
                "Athletic Club",
                "Athletic Club",
                "Athletic Club",
                "Athletic Club",
                "Athletic Club",
                "Athletic Club",
                "Athletic Club",
                "Athletic Club"
               ],
               [
                "Athletic Club",
                "Athletic Club",
                "Athletic Club",
                "Athletic Club",
                "Athletic Club",
                "Athletic Club",
                "Athletic Club",
                "Athletic Club",
                "Athletic Club",
                "Athletic Club",
                "Athletic Club"
               ],
               [
                "Athletic Club",
                "Athletic Club",
                "Athletic Club",
                "Athletic Club",
                "Athletic Club",
                "Athletic Club",
                "Athletic Club",
                "Athletic Club",
                "Athletic Club",
                "Athletic Club",
                "Athletic Club"
               ]
              ],
              "y": [
               [
                15,
                18,
                19,
                10,
                13,
                13,
                11,
                14,
                14,
                19,
                19
               ],
               [
                10,
                8,
                6,
                13,
                14,
                12,
                13,
                13,
                9,
                11,
                13
               ],
               [
                13,
                12,
                13,
                15,
                11,
                13,
                14,
                11,
                15,
                8,
                6
               ]
              ]
             },
             {
              "title": "Result Counts by Season — Athletic Club / 시즌 결과 경기 수 — Athletic Club"
             }
            ],
            "label": "Athletic Club",
            "method": "update"
           },
           {
            "args": [
             {
              "customdata": [
               [
                "Atletico Madrid",
                "Atletico Madrid",
                "Atletico Madrid",
                "Atletico Madrid",
                "Atletico Madrid",
                "Atletico Madrid",
                "Atletico Madrid",
                "Atletico Madrid",
                "Atletico Madrid",
                "Atletico Madrid",
                "Atletico Madrid"
               ],
               [
                "Atletico Madrid",
                "Atletico Madrid",
                "Atletico Madrid",
                "Atletico Madrid",
                "Atletico Madrid",
                "Atletico Madrid",
                "Atletico Madrid",
                "Atletico Madrid",
                "Atletico Madrid",
                "Atletico Madrid",
                "Atletico Madrid"
               ],
               [
                "Atletico Madrid",
                "Atletico Madrid",
                "Atletico Madrid",
                "Atletico Madrid",
                "Atletico Madrid",
                "Atletico Madrid",
                "Atletico Madrid",
                "Atletico Madrid",
                "Atletico Madrid",
                "Atletico Madrid",
                "Atletico Madrid"
               ]
              ],
              "y": [
               [
                23,
                28,
                23,
                23,
                22,
                18,
                26,
                21,
                23,
                24,
                22
               ],
               [
                9,
                4,
                9,
                10,
                10,
                16,
                8,
                8,
                8,
                4,
                10
               ],
               [
                6,
                6,
                6,
                5,
                6,
                4,
                4,
                9,
                7,
                10,
                6
               ]
              ]
             },
             {
              "title": "Result Counts by Season — Atletico Madrid / 시즌 결과 경기 수 — Atletico Madrid"
             }
            ],
            "label": "Atletico Madrid",
            "method": "update"
           },
           {
            "args": [
             {
              "customdata": [
               [
                "Barcelona",
                "Barcelona",
                "Barcelona",
                "Barcelona",
                "Barcelona",
                "Barcelona",
                "Barcelona",
                "Barcelona",
                "Barcelona",
                "Barcelona",
                "Barcelona"
               ],
               [
                "Barcelona",
                "Barcelona",
                "Barcelona",
                "Barcelona",
                "Barcelona",
                "Barcelona",
                "Barcelona",
                "Barcelona",
                "Barcelona",
                "Barcelona",
                "Barcelona"
               ],
               [
                "Barcelona",
                "Barcelona",
                "Barcelona",
                "Barcelona",
                "Barcelona",
                "Barcelona",
                "Barcelona",
                "Barcelona",
                "Barcelona",
                "Barcelona",
                "Barcelona"
               ]
              ],
              "y": [
               [
                30,
                29,
                28,
                28,
                26,
                25,
                24,
                21,
                28,
                26,
                28
               ],
               [
                4,
                4,
                6,
                9,
                9,
                7,
                7,
                10,
                4,
                7,
                4
               ],
               [
                4,
                5,
                4,
                1,
                3,
                6,
                7,
                7,
                6,
                5,
                6
               ]
              ]
             },
             {
              "title": "Result Counts by Season — Barcelona / 시즌 결과 경기 수 — Barcelona"
             }
            ],
            "label": "Barcelona",
            "method": "update"
           },
           {
            "args": [
             {
              "customdata": [
               [
                "Cadiz",
                "Cadiz",
                "Cadiz",
                "Cadiz",
                "Cadiz",
                "Cadiz",
                "Cadiz",
                "Cadiz",
                "Cadiz",
                "Cadiz",
                "Cadiz"
               ],
               [
                "Cadiz",
                "Cadiz",
                "Cadiz",
                "Cadiz",
                "Cadiz",
                "Cadiz",
                "Cadiz",
                "Cadiz",
                "Cadiz",
                "Cadiz",
                "Cadiz"
               ],
               [
                "Cadiz",
                "Cadiz",
                "Cadiz",
                "Cadiz",
                "Cadiz",
                "Cadiz",
                "Cadiz",
                "Cadiz",
                "Cadiz",
                "Cadiz",
                "Cadiz"
               ]
              ],
              "y": [
               [
                0,
                0,
                0,
                0,
                0,
                0,
                11,
                8,
                10,
                6,
                0
               ],
               [
                0,
                0,
                0,
                0,
                0,
                0,
                11,
                15,
                12,
                15,
                0
               ],
               [
                0,
                0,
                0,
                0,
                0,
                0,
                16,
                15,
                16,
                17,
                0
               ]
              ]
             },
             {
              "title": "Result Counts by Season — Cadiz / 시즌 결과 경기 수 — Cadiz"
             }
            ],
            "label": "Cadiz",
            "method": "update"
           },
           {
            "args": [
             {
              "customdata": [
               [
                "Celta Vigo",
                "Celta Vigo",
                "Celta Vigo",
                "Celta Vigo",
                "Celta Vigo",
                "Celta Vigo",
                "Celta Vigo",
                "Celta Vigo",
                "Celta Vigo",
                "Celta Vigo",
                "Celta Vigo"
               ],
               [
                "Celta Vigo",
                "Celta Vigo",
                "Celta Vigo",
                "Celta Vigo",
                "Celta Vigo",
                "Celta Vigo",
                "Celta Vigo",
                "Celta Vigo",
                "Celta Vigo",
                "Celta Vigo",
                "Celta Vigo"
               ],
               [
                "Celta Vigo",
                "Celta Vigo",
                "Celta Vigo",
                "Celta Vigo",
                "Celta Vigo",
                "Celta Vigo",
                "Celta Vigo",
                "Celta Vigo",
                "Celta Vigo",
                "Celta Vigo",
                "Celta Vigo"
               ]
              ],
              "y": [
               [
                13,
                17,
                13,
                13,
                10,
                7,
                14,
                12,
                11,
                10,
                16
               ],
               [
                12,
                9,
                6,
                10,
                11,
                16,
                11,
                10,
                10,
                11,
                7
               ],
               [
                13,
                12,
                19,
                15,
                17,
                15,
                13,
                16,
                17,
                17,
                15
               ]
              ]
             },
             {
              "title": "Result Counts by Season — Celta Vigo / 시즌 결과 경기 수 — Celta Vigo"
             }
            ],
            "label": "Celta Vigo",
            "method": "update"
           },
           {
            "args": [
             {
              "customdata": [
               [
                "Cordoba",
                "Cordoba",
                "Cordoba",
                "Cordoba",
                "Cordoba",
                "Cordoba",
                "Cordoba",
                "Cordoba",
                "Cordoba",
                "Cordoba",
                "Cordoba"
               ],
               [
                "Cordoba",
                "Cordoba",
                "Cordoba",
                "Cordoba",
                "Cordoba",
                "Cordoba",
                "Cordoba",
                "Cordoba",
                "Cordoba",
                "Cordoba",
                "Cordoba"
               ],
               [
                "Cordoba",
                "Cordoba",
                "Cordoba",
                "Cordoba",
                "Cordoba",
                "Cordoba",
                "Cordoba",
                "Cordoba",
                "Cordoba",
                "Cordoba",
                "Cordoba"
               ]
              ],
              "y": [
               [
                3,
                0,
                0,
                0,
                0,
                0,
                0,
                0,
                0,
                0,
                0
               ],
               [
                11,
                0,
                0,
                0,
                0,
                0,
                0,
                0,
                0,
                0,
                0
               ],
               [
                24,
                0,
                0,
                0,
                0,
                0,
                0,
                0,
                0,
                0,
                0
               ]
              ]
             },
             {
              "title": "Result Counts by Season — Cordoba / 시즌 결과 경기 수 — Cordoba"
             }
            ],
            "label": "Cordoba",
            "method": "update"
           },
           {
            "args": [
             {
              "customdata": [
               [
                "Deportivo La Coruna",
                "Deportivo La Coruna",
                "Deportivo La Coruna",
                "Deportivo La Coruna",
                "Deportivo La Coruna",
                "Deportivo La Coruna",
                "Deportivo La Coruna",
                "Deportivo La Coruna",
                "Deportivo La Coruna",
                "Deportivo La Coruna",
                "Deportivo La Coruna"
               ],
               [
                "Deportivo La Coruna",
                "Deportivo La Coruna",
                "Deportivo La Coruna",
                "Deportivo La Coruna",
                "Deportivo La Coruna",
                "Deportivo La Coruna",
                "Deportivo La Coruna",
                "Deportivo La Coruna",
                "Deportivo La Coruna",
                "Deportivo La Coruna",
                "Deportivo La Coruna"
               ],
               [
                "Deportivo La Coruna",
                "Deportivo La Coruna",
                "Deportivo La Coruna",
                "Deportivo La Coruna",
                "Deportivo La Coruna",
                "Deportivo La Coruna",
                "Deportivo La Coruna",
                "Deportivo La Coruna",
                "Deportivo La Coruna",
                "Deportivo La Coruna",
                "Deportivo La Coruna"
               ]
              ],
              "y": [
               [
                7,
                8,
                8,
                6,
                0,
                0,
                0,
                0,
                0,
                0,
                0
               ],
               [
                14,
                18,
                12,
                11,
                0,
                0,
                0,
                0,
                0,
                0,
                0
               ],
               [
                17,
                12,
                18,
                21,
                0,
                0,
                0,
                0,
                0,
                0,
                0
               ]
              ]
             },
             {
              "title": "Result Counts by Season — Deportivo La Coruna / 시즌 결과 경기 수 — Deportivo La Coruna"
             }
            ],
            "label": "Deportivo La Coruna",
            "method": "update"
           },
           {
            "args": [
             {
              "customdata": [
               [
                "Eibar",
                "Eibar",
                "Eibar",
                "Eibar",
                "Eibar",
                "Eibar",
                "Eibar",
                "Eibar",
                "Eibar",
                "Eibar",
                "Eibar"
               ],
               [
                "Eibar",
                "Eibar",
                "Eibar",
                "Eibar",
                "Eibar",
                "Eibar",
                "Eibar",
                "Eibar",
                "Eibar",
                "Eibar",
                "Eibar"
               ],
               [
                "Eibar",
                "Eibar",
                "Eibar",
                "Eibar",
                "Eibar",
                "Eibar",
                "Eibar",
                "Eibar",
                "Eibar",
                "Eibar",
                "Eibar"
               ]
              ],
              "y": [
               [
                9,
                11,
                15,
                14,
                11,
                11,
                6,
                0,
                0,
                0,
                0
               ],
               [
                8,
                10,
                9,
                9,
                14,
                9,
                12,
                0,
                0,
                0,
                0
               ],
               [
                21,
                17,
                14,
                15,
                13,
                18,
                20,
                0,
                0,
                0,
                0
               ]
              ]
             },
             {
              "title": "Result Counts by Season — Eibar / 시즌 결과 경기 수 — Eibar"
             }
            ],
            "label": "Eibar",
            "method": "update"
           },
           {
            "args": [
             {
              "customdata": [
               [
                "Elche",
                "Elche",
                "Elche",
                "Elche",
                "Elche",
                "Elche",
                "Elche",
                "Elche",
                "Elche",
                "Elche",
                "Elche"
               ],
               [
                "Elche",
                "Elche",
                "Elche",
                "Elche",
                "Elche",
                "Elche",
                "Elche",
                "Elche",
                "Elche",
                "Elche",
                "Elche"
               ],
               [
                "Elche",
                "Elche",
                "Elche",
                "Elche",
                "Elche",
                "Elche",
                "Elche",
                "Elche",
                "Elche",
                "Elche",
                "Elche"
               ]
              ],
              "y": [
               [
                11,
                0,
                0,
                0,
                0,
                0,
                8,
                11,
                5,
                0,
                0
               ],
               [
                8,
                0,
                0,
                0,
                0,
                0,
                12,
                9,
                10,
                0,
                0
               ],
               [
                19,
                0,
                0,
                0,
                0,
                0,
                18,
                18,
                23,
                0,
                0
               ]
              ]
             },
             {
              "title": "Result Counts by Season — Elche / 시즌 결과 경기 수 — Elche"
             }
            ],
            "label": "Elche",
            "method": "update"
           },
           {
            "args": [
             {
              "customdata": [
               [
                "Espanyol",
                "Espanyol",
                "Espanyol",
                "Espanyol",
                "Espanyol",
                "Espanyol",
                "Espanyol",
                "Espanyol",
                "Espanyol",
                "Espanyol",
                "Espanyol"
               ],
               [
                "Espanyol",
                "Espanyol",
                "Espanyol",
                "Espanyol",
                "Espanyol",
                "Espanyol",
                "Espanyol",
                "Espanyol",
                "Espanyol",
                "Espanyol",
                "Espanyol"
               ],
               [
                "Espanyol",
                "Espanyol",
                "Espanyol",
                "Espanyol",
                "Espanyol",
                "Espanyol",
                "Espanyol",
                "Espanyol",
                "Espanyol",
                "Espanyol",
                "Espanyol"
               ]
              ],
              "y": [
               [
                13,
                12,
                15,
                12,
                14,
                5,
                0,
                10,
                8,
                0,
                11
               ],
               [
                10,
                7,
                11,
                13,
                11,
                10,
                0,
                12,
                13,
                0,
                9
               ],
               [
                15,
                19,
                12,
                13,
                13,
                23,
                0,
                16,
                17,
                0,
                18
               ]
              ]
             },
             {
              "title": "Result Counts by Season — Espanyol / 시즌 결과 경기 수 — Espanyol"
             }
            ],
            "label": "Espanyol",
            "method": "update"
           },
           {
            "args": [
             {
              "customdata": [
               [
                "Getafe",
                "Getafe",
                "Getafe",
                "Getafe",
                "Getafe",
                "Getafe",
                "Getafe",
                "Getafe",
                "Getafe",
                "Getafe",
                "Getafe"
               ],
               [
                "Getafe",
                "Getafe",
                "Getafe",
                "Getafe",
                "Getafe",
                "Getafe",
                "Getafe",
                "Getafe",
                "Getafe",
                "Getafe",
                "Getafe"
               ],
               [
                "Getafe",
                "Getafe",
                "Getafe",
                "Getafe",
                "Getafe",
                "Getafe",
                "Getafe",
                "Getafe",
                "Getafe",
                "Getafe",
                "Getafe"
               ]
              ],
              "y": [
               [
                10,
                9,
                0,
                15,
                15,
                14,
                9,
                8,
                10,
                10,
                11
               ],
               [
                7,
                9,
                0,
                10,
                14,
                12,
                11,
                15,
                12,
                13,
                9
               ],
               [
                21,
                20,
                0,
                13,
                9,
                12,
                18,
                15,
                16,
                15,
                18
               ]
              ]
             },
             {
              "title": "Result Counts by Season — Getafe / 시즌 결과 경기 수 — Getafe"
             }
            ],
            "label": "Getafe",
            "method": "update"
           },
           {
            "args": [
             {
              "customdata": [
               [
                "Girona",
                "Girona",
                "Girona",
                "Girona",
                "Girona",
                "Girona",
                "Girona",
                "Girona",
                "Girona",
                "Girona",
                "Girona"
               ],
               [
                "Girona",
                "Girona",
                "Girona",
                "Girona",
                "Girona",
                "Girona",
                "Girona",
                "Girona",
                "Girona",
                "Girona",
                "Girona"
               ],
               [
                "Girona",
                "Girona",
                "Girona",
                "Girona",
                "Girona",
                "Girona",
                "Girona",
                "Girona",
                "Girona",
                "Girona",
                "Girona"
               ]
              ],
              "y": [
               [
                0,
                0,
                0,
                14,
                9,
                0,
                0,
                0,
                13,
                25,
                11
               ],
               [
                0,
                0,
                0,
                9,
                10,
                0,
                0,
                0,
                10,
                6,
                8
               ],
               [
                0,
                0,
                0,
                15,
                19,
                0,
                0,
                0,
                15,
                7,
                19
               ]
              ]
             },
             {
              "title": "Result Counts by Season — Girona / 시즌 결과 경기 수 — Girona"
             }
            ],
            "label": "Girona",
            "method": "update"
           },
           {
            "args": [
             {
              "customdata": [
               [
                "Granada",
                "Granada",
                "Granada",
                "Granada",
                "Granada",
                "Granada",
                "Granada",
                "Granada",
                "Granada",
                "Granada",
                "Granada"
               ],
               [
                "Granada",
                "Granada",
                "Granada",
                "Granada",
                "Granada",
                "Granada",
                "Granada",
                "Granada",
                "Granada",
                "Granada",
                "Granada"
               ],
               [
                "Granada",
                "Granada",
                "Granada",
                "Granada",
                "Granada",
                "Granada",
                "Granada",
                "Granada",
                "Granada",
                "Granada",
                "Granada"
               ]
              ],
              "y": [
               [
                7,
                10,
                4,
                0,
                0,
                16,
                13,
                8,
                0,
                4,
                0
               ],
               [
                14,
                9,
                8,
                0,
                0,
                8,
                7,
                14,
                0,
                9,
                0
               ],
               [
                17,
                19,
                26,
                0,
                0,
                14,
                18,
                16,
                0,
                25,
                0
               ]
              ]
             },
             {
              "title": "Result Counts by Season — Granada / 시즌 결과 경기 수 — Granada"
             }
            ],
            "label": "Granada",
            "method": "update"
           },
           {
            "args": [
             {
              "customdata": [
               [
                "Las Palmas",
                "Las Palmas",
                "Las Palmas",
                "Las Palmas",
                "Las Palmas",
                "Las Palmas",
                "Las Palmas",
                "Las Palmas",
                "Las Palmas",
                "Las Palmas",
                "Las Palmas"
               ],
               [
                "Las Palmas",
                "Las Palmas",
                "Las Palmas",
                "Las Palmas",
                "Las Palmas",
                "Las Palmas",
                "Las Palmas",
                "Las Palmas",
                "Las Palmas",
                "Las Palmas",
                "Las Palmas"
               ],
               [
                "Las Palmas",
                "Las Palmas",
                "Las Palmas",
                "Las Palmas",
                "Las Palmas",
                "Las Palmas",
                "Las Palmas",
                "Las Palmas",
                "Las Palmas",
                "Las Palmas",
                "Las Palmas"
               ]
              ],
              "y": [
               [
                0,
                12,
                10,
                5,
                0,
                0,
                0,
                0,
                0,
                10,
                8
               ],
               [
                0,
                8,
                9,
                7,
                0,
                0,
                0,
                0,
                0,
                10,
                8
               ],
               [
                0,
                18,
                19,
                26,
                0,
                0,
                0,
                0,
                0,
                18,
                22
               ]
              ]
             },
             {
              "title": "Result Counts by Season — Las Palmas / 시즌 결과 경기 수 — Las Palmas"
             }
            ],
            "label": "Las Palmas",
            "method": "update"
           },
           {
            "args": [
             {
              "customdata": [
               [
                "Leganes",
                "Leganes",
                "Leganes",
                "Leganes",
                "Leganes",
                "Leganes",
                "Leganes",
                "Leganes",
                "Leganes",
                "Leganes",
                "Leganes"
               ],
               [
                "Leganes",
                "Leganes",
                "Leganes",
                "Leganes",
                "Leganes",
                "Leganes",
                "Leganes",
                "Leganes",
                "Leganes",
                "Leganes",
                "Leganes"
               ],
               [
                "Leganes",
                "Leganes",
                "Leganes",
                "Leganes",
                "Leganes",
                "Leganes",
                "Leganes",
                "Leganes",
                "Leganes",
                "Leganes",
                "Leganes"
               ]
              ],
              "y": [
               [
                0,
                0,
                8,
                12,
                11,
                8,
                0,
                0,
                0,
                0,
                9
               ],
               [
                0,
                0,
                11,
                7,
                12,
                12,
                0,
                0,
                0,
                0,
                13
               ],
               [
                0,
                0,
                19,
                19,
                15,
                18,
                0,
                0,
                0,
                0,
                16
               ]
              ]
             },
             {
              "title": "Result Counts by Season — Leganes / 시즌 결과 경기 수 — Leganes"
             }
            ],
            "label": "Leganes",
            "method": "update"
           },
           {
            "args": [
             {
              "customdata": [
               [
                "Levante",
                "Levante",
                "Levante",
                "Levante",
                "Levante",
                "Levante",
                "Levante",
                "Levante",
                "Levante",
                "Levante",
                "Levante"
               ],
               [
                "Levante",
                "Levante",
                "Levante",
                "Levante",
                "Levante",
                "Levante",
                "Levante",
                "Levante",
                "Levante",
                "Levante",
                "Levante"
               ],
               [
                "Levante",
                "Levante",
                "Levante",
                "Levante",
                "Levante",
                "Levante",
                "Levante",
                "Levante",
                "Levante",
                "Levante",
                "Levante"
               ]
              ],
              "y": [
               [
                9,
                8,
                0,
                11,
                11,
                14,
                9,
                8,
                0,
                0,
                0
               ],
               [
                10,
                8,
                0,
                13,
                11,
                7,
                14,
                11,
                0,
                0,
                0
               ],
               [
                19,
                22,
                0,
                14,
                16,
                17,
                15,
                19,
                0,
                0,
                0
               ]
              ]
             },
             {
              "title": "Result Counts by Season — Levante / 시즌 결과 경기 수 — Levante"
             }
            ],
            "label": "Levante",
            "method": "update"
           },
           {
            "args": [
             {
              "customdata": [
               [
                "Malaga",
                "Malaga",
                "Malaga",
                "Malaga",
                "Malaga",
                "Malaga",
                "Malaga",
                "Malaga",
                "Malaga",
                "Malaga",
                "Malaga"
               ],
               [
                "Malaga",
                "Malaga",
                "Malaga",
                "Malaga",
                "Malaga",
                "Malaga",
                "Malaga",
                "Malaga",
                "Malaga",
                "Malaga",
                "Malaga"
               ],
               [
                "Malaga",
                "Malaga",
                "Malaga",
                "Malaga",
                "Malaga",
                "Malaga",
                "Malaga",
                "Malaga",
                "Malaga",
                "Malaga",
                "Malaga"
               ]
              ],
              "y": [
               [
                14,
                12,
                12,
                5,
                0,
                0,
                0,
                0,
                0,
                0,
                0
               ],
               [
                8,
                12,
                10,
                5,
                0,
                0,
                0,
                0,
                0,
                0,
                0
               ],
               [
                16,
                14,
                16,
                28,
                0,
                0,
                0,
                0,
                0,
                0,
                0
               ]
              ]
             },
             {
              "title": "Result Counts by Season — Malaga / 시즌 결과 경기 수 — Malaga"
             }
            ],
            "label": "Malaga",
            "method": "update"
           },
           {
            "args": [
             {
              "customdata": [
               [
                "Mallorca",
                "Mallorca",
                "Mallorca",
                "Mallorca",
                "Mallorca",
                "Mallorca",
                "Mallorca",
                "Mallorca",
                "Mallorca",
                "Mallorca",
                "Mallorca"
               ],
               [
                "Mallorca",
                "Mallorca",
                "Mallorca",
                "Mallorca",
                "Mallorca",
                "Mallorca",
                "Mallorca",
                "Mallorca",
                "Mallorca",
                "Mallorca",
                "Mallorca"
               ],
               [
                "Mallorca",
                "Mallorca",
                "Mallorca",
                "Mallorca",
                "Mallorca",
                "Mallorca",
                "Mallorca",
                "Mallorca",
                "Mallorca",
                "Mallorca",
                "Mallorca"
               ]
              ],
              "y": [
               [
                0,
                0,
                0,
                0,
                0,
                9,
                0,
                10,
                14,
                8,
                13
               ],
               [
                0,
                0,
                0,
                0,
                0,
                6,
                0,
                9,
                8,
                16,
                9
               ],
               [
                0,
                0,
                0,
                0,
                0,
                23,
                0,
                19,
                16,
                14,
                16
               ]
              ]
             },
             {
              "title": "Result Counts by Season — Mallorca / 시즌 결과 경기 수 — Mallorca"
             }
            ],
            "label": "Mallorca",
            "method": "update"
           },
           {
            "args": [
             {
              "customdata": [
               [
                "Osasuna",
                "Osasuna",
                "Osasuna",
                "Osasuna",
                "Osasuna",
                "Osasuna",
                "Osasuna",
                "Osasuna",
                "Osasuna",
                "Osasuna",
                "Osasuna"
               ],
               [
                "Osasuna",
                "Osasuna",
                "Osasuna",
                "Osasuna",
                "Osasuna",
                "Osasuna",
                "Osasuna",
                "Osasuna",
                "Osasuna",
                "Osasuna",
                "Osasuna"
               ],
               [
                "Osasuna",
                "Osasuna",
                "Osasuna",
                "Osasuna",
                "Osasuna",
                "Osasuna",
                "Osasuna",
                "Osasuna",
                "Osasuna",
                "Osasuna",
                "Osasuna"
               ]
              ],
              "y": [
               [
                0,
                0,
                4,
                0,
                0,
                13,
                11,
                12,
                15,
                12,
                12
               ],
               [
                0,
                0,
                10,
                0,
                0,
                13,
                11,
                11,
                8,
                9,
                16
               ],
               [
                0,
                0,
                24,
                0,
                0,
                12,
                16,
                15,
                15,
                17,
                10
               ]
              ]
             },
             {
              "title": "Result Counts by Season — Osasuna / 시즌 결과 경기 수 — Osasuna"
             }
            ],
            "label": "Osasuna",
            "method": "update"
           },
           {
            "args": [
             {
              "customdata": [
               [
                "Rayo Vallecano",
                "Rayo Vallecano",
                "Rayo Vallecano",
                "Rayo Vallecano",
                "Rayo Vallecano",
                "Rayo Vallecano",
                "Rayo Vallecano",
                "Rayo Vallecano",
                "Rayo Vallecano",
                "Rayo Vallecano",
                "Rayo Vallecano"
               ],
               [
                "Rayo Vallecano",
                "Rayo Vallecano",
                "Rayo Vallecano",
                "Rayo Vallecano",
                "Rayo Vallecano",
                "Rayo Vallecano",
                "Rayo Vallecano",
                "Rayo Vallecano",
                "Rayo Vallecano",
                "Rayo Vallecano",
                "Rayo Vallecano"
               ],
               [
                "Rayo Vallecano",
                "Rayo Vallecano",
                "Rayo Vallecano",
                "Rayo Vallecano",
                "Rayo Vallecano",
                "Rayo Vallecano",
                "Rayo Vallecano",
                "Rayo Vallecano",
                "Rayo Vallecano",
                "Rayo Vallecano",
                "Rayo Vallecano"
               ]
              ],
              "y": [
               [
                15,
                9,
                0,
                0,
                8,
                0,
                0,
                11,
                13,
                8,
                13
               ],
               [
                4,
                11,
                0,
                0,
                8,
                0,
                0,
                9,
                10,
                14,
                13
               ],
               [
                19,
                18,
                0,
                0,
                22,
                0,
                0,
                18,
                15,
                16,
                12
               ]
              ]
             },
             {
              "title": "Result Counts by Season — Rayo Vallecano / 시즌 결과 경기 수 — Rayo Vallecano"
             }
            ],
            "label": "Rayo Vallecano",
            "method": "update"
           },
           {
            "args": [
             {
              "customdata": [
               [
                "Real Betis",
                "Real Betis",
                "Real Betis",
                "Real Betis",
                "Real Betis",
                "Real Betis",
                "Real Betis",
                "Real Betis",
                "Real Betis",
                "Real Betis",
                "Real Betis"
               ],
               [
                "Real Betis",
                "Real Betis",
                "Real Betis",
                "Real Betis",
                "Real Betis",
                "Real Betis",
                "Real Betis",
                "Real Betis",
                "Real Betis",
                "Real Betis",
                "Real Betis"
               ],
               [
                "Real Betis",
                "Real Betis",
                "Real Betis",
                "Real Betis",
                "Real Betis",
                "Real Betis",
                "Real Betis",
                "Real Betis",
                "Real Betis",
                "Real Betis",
                "Real Betis"
               ]
              ],
              "y": [
               [
                0,
                11,
                10,
                18,
                14,
                10,
                17,
                19,
                17,
                14,
                16
               ],
               [
                0,
                12,
                9,
                6,
                8,
                11,
                10,
                8,
                9,
                15,
                12
               ],
               [
                0,
                15,
                19,
                14,
                16,
                17,
                11,
                11,
                12,
                9,
                10
               ]
              ]
             },
             {
              "title": "Result Counts by Season — Real Betis / 시즌 결과 경기 수 — Real Betis"
             }
            ],
            "label": "Real Betis",
            "method": "update"
           },
           {
            "args": [
             {
              "customdata": [
               [
                "Real Madrid",
                "Real Madrid",
                "Real Madrid",
                "Real Madrid",
                "Real Madrid",
                "Real Madrid",
                "Real Madrid",
                "Real Madrid",
                "Real Madrid",
                "Real Madrid",
                "Real Madrid"
               ],
               [
                "Real Madrid",
                "Real Madrid",
                "Real Madrid",
                "Real Madrid",
                "Real Madrid",
                "Real Madrid",
                "Real Madrid",
                "Real Madrid",
                "Real Madrid",
                "Real Madrid",
                "Real Madrid"
               ],
               [
                "Real Madrid",
                "Real Madrid",
                "Real Madrid",
                "Real Madrid",
                "Real Madrid",
                "Real Madrid",
                "Real Madrid",
                "Real Madrid",
                "Real Madrid",
                "Real Madrid",
                "Real Madrid"
               ]
              ],
              "y": [
               [
                30,
                28,
                29,
                22,
                21,
                26,
                25,
                26,
                24,
                29,
                26
               ],
               [
                2,
                6,
                6,
                10,
                5,
                9,
                9,
                8,
                6,
                8,
                6
               ],
               [
                6,
                4,
                3,
                6,
                12,
                3,
                4,
                4,
                8,
                1,
                6
               ]
              ]
             },
             {
              "title": "Result Counts by Season — Real Madrid / 시즌 결과 경기 수 — Real Madrid"
             }
            ],
            "label": "Real Madrid",
            "method": "update"
           },
           {
            "args": [
             {
              "customdata": [
               [
                "Real Sociedad",
                "Real Sociedad",
                "Real Sociedad",
                "Real Sociedad",
                "Real Sociedad",
                "Real Sociedad",
                "Real Sociedad",
                "Real Sociedad",
                "Real Sociedad",
                "Real Sociedad",
                "Real Sociedad"
               ],
               [
                "Real Sociedad",
                "Real Sociedad",
                "Real Sociedad",
                "Real Sociedad",
                "Real Sociedad",
                "Real Sociedad",
                "Real Sociedad",
                "Real Sociedad",
                "Real Sociedad",
                "Real Sociedad",
                "Real Sociedad"
               ],
               [
                "Real Sociedad",
                "Real Sociedad",
                "Real Sociedad",
                "Real Sociedad",
                "Real Sociedad",
                "Real Sociedad",
                "Real Sociedad",
                "Real Sociedad",
                "Real Sociedad",
                "Real Sociedad",
                "Real Sociedad"
               ]
              ],
              "y": [
               [
                11,
                13,
                19,
                14,
                13,
                16,
                17,
                17,
                21,
                16,
                13
               ],
               [
                13,
                9,
                7,
                7,
                11,
                8,
                11,
                11,
                8,
                12,
                7
               ],
               [
                14,
                16,
                12,
                17,
                14,
                14,
                10,
                10,
                9,
                10,
                18
               ]
              ]
             },
             {
              "title": "Result Counts by Season — Real Sociedad / 시즌 결과 경기 수 — Real Sociedad"
             }
            ],
            "label": "Real Sociedad",
            "method": "update"
           },
           {
            "args": [
             {
              "customdata": [
               [
                "Real Valladolid",
                "Real Valladolid",
                "Real Valladolid",
                "Real Valladolid",
                "Real Valladolid",
                "Real Valladolid",
                "Real Valladolid",
                "Real Valladolid",
                "Real Valladolid",
                "Real Valladolid",
                "Real Valladolid"
               ],
               [
                "Real Valladolid",
                "Real Valladolid",
                "Real Valladolid",
                "Real Valladolid",
                "Real Valladolid",
                "Real Valladolid",
                "Real Valladolid",
                "Real Valladolid",
                "Real Valladolid",
                "Real Valladolid",
                "Real Valladolid"
               ],
               [
                "Real Valladolid",
                "Real Valladolid",
                "Real Valladolid",
                "Real Valladolid",
                "Real Valladolid",
                "Real Valladolid",
                "Real Valladolid",
                "Real Valladolid",
                "Real Valladolid",
                "Real Valladolid",
                "Real Valladolid"
               ]
              ],
              "y": [
               [
                0,
                0,
                0,
                0,
                10,
                9,
                5,
                0,
                11,
                0,
                4
               ],
               [
                0,
                0,
                0,
                0,
                11,
                15,
                16,
                0,
                7,
                0,
                4
               ],
               [
                0,
                0,
                0,
                0,
                17,
                14,
                17,
                0,
                20,
                0,
                30
               ]
              ]
             },
             {
              "title": "Result Counts by Season — Real Valladolid / 시즌 결과 경기 수 — Real Valladolid"
             }
            ],
            "label": "Real Valladolid",
            "method": "update"
           },
           {
            "args": [
             {
              "customdata": [
               [
                "SD Huesca",
                "SD Huesca",
                "SD Huesca",
                "SD Huesca",
                "SD Huesca",
                "SD Huesca",
                "SD Huesca",
                "SD Huesca",
                "SD Huesca",
                "SD Huesca",
                "SD Huesca"
               ],
               [
                "SD Huesca",
                "SD Huesca",
                "SD Huesca",
                "SD Huesca",
                "SD Huesca",
                "SD Huesca",
                "SD Huesca",
                "SD Huesca",
                "SD Huesca",
                "SD Huesca",
                "SD Huesca"
               ],
               [
                "SD Huesca",
                "SD Huesca",
                "SD Huesca",
                "SD Huesca",
                "SD Huesca",
                "SD Huesca",
                "SD Huesca",
                "SD Huesca",
                "SD Huesca",
                "SD Huesca",
                "SD Huesca"
               ]
              ],
              "y": [
               [
                0,
                0,
                0,
                0,
                7,
                0,
                7,
                0,
                0,
                0,
                0
               ],
               [
                0,
                0,
                0,
                0,
                12,
                0,
                13,
                0,
                0,
                0,
                0
               ],
               [
                0,
                0,
                0,
                0,
                19,
                0,
                18,
                0,
                0,
                0,
                0
               ]
              ]
             },
             {
              "title": "Result Counts by Season — SD Huesca / 시즌 결과 경기 수 — SD Huesca"
             }
            ],
            "label": "SD Huesca",
            "method": "update"
           },
           {
            "args": [
             {
              "customdata": [
               [
                "Sevilla",
                "Sevilla",
                "Sevilla",
                "Sevilla",
                "Sevilla",
                "Sevilla",
                "Sevilla",
                "Sevilla",
                "Sevilla",
                "Sevilla",
                "Sevilla"
               ],
               [
                "Sevilla",
                "Sevilla",
                "Sevilla",
                "Sevilla",
                "Sevilla",
                "Sevilla",
                "Sevilla",
                "Sevilla",
                "Sevilla",
                "Sevilla",
                "Sevilla"
               ],
               [
                "Sevilla",
                "Sevilla",
                "Sevilla",
                "Sevilla",
                "Sevilla",
                "Sevilla",
                "Sevilla",
                "Sevilla",
                "Sevilla",
                "Sevilla",
                "Sevilla"
               ]
              ],
              "y": [
               [
                23,
                14,
                21,
                17,
                17,
                19,
                24,
                18,
                13,
                10,
                10
               ],
               [
                7,
                10,
                9,
                7,
                8,
                13,
                5,
                16,
                10,
                11,
                11
               ],
               [
                8,
                14,
                8,
                14,
                13,
                6,
                9,
                4,
                15,
                17,
                17
               ]
              ]
             },
             {
              "title": "Result Counts by Season — Sevilla / 시즌 결과 경기 수 — Sevilla"
             }
            ],
            "label": "Sevilla",
            "method": "update"
           },
           {
            "args": [
             {
              "customdata": [
               [
                "Sporting Gijon",
                "Sporting Gijon",
                "Sporting Gijon",
                "Sporting Gijon",
                "Sporting Gijon",
                "Sporting Gijon",
                "Sporting Gijon",
                "Sporting Gijon",
                "Sporting Gijon",
                "Sporting Gijon",
                "Sporting Gijon"
               ],
               [
                "Sporting Gijon",
                "Sporting Gijon",
                "Sporting Gijon",
                "Sporting Gijon",
                "Sporting Gijon",
                "Sporting Gijon",
                "Sporting Gijon",
                "Sporting Gijon",
                "Sporting Gijon",
                "Sporting Gijon",
                "Sporting Gijon"
               ],
               [
                "Sporting Gijon",
                "Sporting Gijon",
                "Sporting Gijon",
                "Sporting Gijon",
                "Sporting Gijon",
                "Sporting Gijon",
                "Sporting Gijon",
                "Sporting Gijon",
                "Sporting Gijon",
                "Sporting Gijon",
                "Sporting Gijon"
               ]
              ],
              "y": [
               [
                0,
                10,
                7,
                0,
                0,
                0,
                0,
                0,
                0,
                0,
                0
               ],
               [
                0,
                9,
                10,
                0,
                0,
                0,
                0,
                0,
                0,
                0,
                0
               ],
               [
                0,
                19,
                21,
                0,
                0,
                0,
                0,
                0,
                0,
                0,
                0
               ]
              ]
             },
             {
              "title": "Result Counts by Season — Sporting Gijon / 시즌 결과 경기 수 — Sporting Gijon"
             }
            ],
            "label": "Sporting Gijon",
            "method": "update"
           },
           {
            "args": [
             {
              "customdata": [
               [
                "Valencia",
                "Valencia",
                "Valencia",
                "Valencia",
                "Valencia",
                "Valencia",
                "Valencia",
                "Valencia",
                "Valencia",
                "Valencia",
                "Valencia"
               ],
               [
                "Valencia",
                "Valencia",
                "Valencia",
                "Valencia",
                "Valencia",
                "Valencia",
                "Valencia",
                "Valencia",
                "Valencia",
                "Valencia",
                "Valencia"
               ],
               [
                "Valencia",
                "Valencia",
                "Valencia",
                "Valencia",
                "Valencia",
                "Valencia",
                "Valencia",
                "Valencia",
                "Valencia",
                "Valencia",
                "Valencia"
               ]
              ],
              "y": [
               [
                22,
                11,
                13,
                22,
                15,
                14,
                10,
                11,
                11,
                13,
                11
               ],
               [
                11,
                11,
                7,
                7,
                16,
                11,
                13,
                15,
                9,
                10,
                13
               ],
               [
                5,
                16,
                18,
                9,
                7,
                13,
                15,
                12,
                18,
                15,
                14
               ]
              ]
             },
             {
              "title": "Result Counts by Season — Valencia / 시즌 결과 경기 수 — Valencia"
             }
            ],
            "label": "Valencia",
            "method": "update"
           },
           {
            "args": [
             {
              "customdata": [
               [
                "Villarreal",
                "Villarreal",
                "Villarreal",
                "Villarreal",
                "Villarreal",
                "Villarreal",
                "Villarreal",
                "Villarreal",
                "Villarreal",
                "Villarreal",
                "Villarreal"
               ],
               [
                "Villarreal",
                "Villarreal",
                "Villarreal",
                "Villarreal",
                "Villarreal",
                "Villarreal",
                "Villarreal",
                "Villarreal",
                "Villarreal",
                "Villarreal",
                "Villarreal"
               ],
               [
                "Villarreal",
                "Villarreal",
                "Villarreal",
                "Villarreal",
                "Villarreal",
                "Villarreal",
                "Villarreal",
                "Villarreal",
                "Villarreal",
                "Villarreal",
                "Villarreal"
               ]
              ],
              "y": [
               [
                16,
                18,
                19,
                18,
                10,
                18,
                15,
                16,
                19,
                14,
                20
               ],
               [
                12,
                10,
                10,
                7,
                14,
                6,
                13,
                11,
                7,
                11,
                10
               ],
               [
                10,
                10,
                9,
                13,
                14,
                14,
                10,
                11,
                12,
                13,
                8
               ]
              ]
             },
             {
              "title": "Result Counts by Season — Villarreal / 시즌 결과 경기 수 — Villarreal"
             }
            ],
            "label": "Villarreal",
            "method": "update"
           }
          ],
          "showactive": true,
          "type": "dropdown",
          "x": 1,
          "xanchor": "right",
          "y": 1.18,
          "yanchor": "top"
         }
        ],
        "xaxis": {
         "title": {
          "text": "Season / 시즌"
         }
        },
        "yaxis": {
         "title": {
          "text": "Number of Matches / 경기 수"
         }
        }
       }
      }
     },
     "metadata": {},
     "output_type": "display_data"
    }
   ],
   "source": [
    "# ==========================================================\n",
    "# Step 7B) Team Result Counts over Seasons — Interactive (Dropdown)\n",
    "#          팀별 시즌 승/무/패 경기 수 — 인터랙티브(드롭다운)\n",
    "# ==========================================================\n",
    "\n",
    "import numpy as np\n",
    "import pandas as pd\n",
    "import plotly.graph_objects as go\n",
    "\n",
    "# 0) 홈/원정 → 팀별 경기 결과 데이터프레임 만들기\n",
    "home_rows = pd.DataFrame({\n",
    "    \"season\": df[\"season\"],\n",
    "    \"team\": df[\"home_team\"],\n",
    "    \"is_win\":  (df[\"home_goals\"] >  df[\"away_goals\"]).astype(int),\n",
    "    \"is_draw\": (df[\"home_goals\"] == df[\"away_goals\"]).astype(int),\n",
    "    \"is_loss\": (df[\"home_goals\"] <  df[\"away_goals\"]).astype(int),\n",
    "})\n",
    "away_rows = pd.DataFrame({\n",
    "    \"season\": df[\"season\"],\n",
    "    \"team\": df[\"away_team\"],\n",
    "    \"is_win\":  (df[\"away_goals\"] >  df[\"home_goals\"]).astype(int),\n",
    "    \"is_draw\": (df[\"away_goals\"] == df[\"home_goals\"]).astype(int),\n",
    "    \"is_loss\": (df[\"away_goals\"] <  df[\"home_goals\"]).astype(int),\n",
    "})\n",
    "team_match = pd.concat([home_rows, away_rows], ignore_index=True)\n",
    "\n",
    "# 1) 시즌별 승/무/패 경기 수 집계\n",
    "counts = (team_match\n",
    "          .groupby([\"season\",\"team\"], as_index=False)\n",
    "          .agg(W=(\"is_win\",\"sum\"), D=(\"is_draw\",\"sum\"), L=(\"is_loss\",\"sum\")))\n",
    "\n",
    "teams = sorted(counts[\"team\"].unique().tolist())\n",
    "seasons = sorted(counts[\"season\"].unique().tolist())\n",
    "seasons_str = list(map(str, seasons))\n",
    "\n",
    "def get_team_series(t: str) -> pd.DataFrame:\n",
    "    \"\"\"Return season-indexed W/D/L counts for a team / 팀의 시즌별 승/무/패 경기 수\"\"\"\n",
    "    s = (counts.loc[counts[\"team\"].eq(t), [\"season\",\"W\",\"D\",\"L\"]]\n",
    "               .set_index(\"season\")\n",
    "               .reindex(seasons)\n",
    "               .fillna(0))\n",
    "    return s\n",
    "\n",
    "# 2) 초기 팀 설정\n",
    "init_team = teams[0]\n",
    "init_series = get_team_series(init_team)\n",
    "cd = np.array([init_team] * len(seasons_str), dtype=object)\n",
    "\n",
    "fig = go.Figure(data=[\n",
    "    go.Bar(x=seasons_str, y=init_series[\"W\"], name=\"Win / 승\",\n",
    "           customdata=cd,\n",
    "           hovertemplate=\"Team: %{customdata}<br>Season: %{x}<br>Win: %{y} 경기<extra></extra>\"),\n",
    "    go.Bar(x=seasons_str, y=init_series[\"D\"], name=\"Draw / 무\",\n",
    "           customdata=cd,\n",
    "           hovertemplate=\"Team: %{customdata}<br>Season: %{x}<br>Draw: %{y} 경기<extra></extra>\"),\n",
    "    go.Bar(x=seasons_str, y=init_series[\"L\"], name=\"Loss / 패\",\n",
    "           customdata=cd,\n",
    "           hovertemplate=\"Team: %{customdata}<br>Season: %{x}<br>Loss: %{y} 경기<extra></extra>\")\n",
    "])\n",
    "\n",
    "# 3) 레이아웃: 드롭다운 위치, 상단 여백\n",
    "fig.update_layout(\n",
    "    barmode=\"stack\",\n",
    "    title=f\"Result Counts by Season — {init_team} / 시즌 결과 경기 수 — {init_team}\",\n",
    "    xaxis_title=\"Season / 시즌\",\n",
    "    yaxis_title=\"Number of Matches / 경기 수\",\n",
    "    legend_title_text=\"Result / 결과\",\n",
    "    updatemenus=[dict(\n",
    "        type=\"dropdown\",\n",
    "        buttons=[],\n",
    "        x=1.0, y=1.18, xanchor=\"right\", yanchor=\"top\",\n",
    "        showactive=True\n",
    "    )],\n",
    "    margin=dict(t=110)\n",
    ")\n",
    "\n",
    "# 4) 드롭다운 버튼 생성\n",
    "buttons = []\n",
    "for t in teams:\n",
    "    s = get_team_series(t)\n",
    "    cd_t = np.array([t] * len(seasons_str), dtype=object)\n",
    "    buttons.append(dict(\n",
    "        label=t,\n",
    "        method=\"update\",\n",
    "        args=[\n",
    "            {\"y\": [s[\"W\"], s[\"D\"], s[\"L\"]],\n",
    "             \"customdata\": [cd_t, cd_t, cd_t]},\n",
    "            {\"title\": f\"Result Counts by Season — {t} / 시즌 결과 경기 수 — {t}\"}\n",
    "        ]\n",
    "    ))\n",
    "\n",
    "fig.update_layout(updatemenus=[dict(\n",
    "    type=\"dropdown\",\n",
    "    buttons=buttons,\n",
    "    x=1.0, y=1.18, xanchor=\"right\", yanchor=\"top\",\n",
    "    showactive=True\n",
    ")])\n",
    "\n",
    "fig.show()\n"
   ]
  },
  {
   "cell_type": "markdown",
   "metadata": {},
   "source": [
    "# 4. Difference in Expected Goals (xG) between Home and Away → Box Plot or Violin Plot (홈 vs 원정 기대득점(xG) 차이)"
   ]
  },
  {
   "cell_type": "markdown",
   "metadata": {},
   "source": [
    "4-1. Per-match xG Difference — Distribution (경기 단위 xG 차이 분포)"
   ]
  },
  {
   "cell_type": "code",
   "execution_count": null,
   "metadata": {},
   "outputs": [
    {
     "data": {
      "application/vnd.plotly.v1+json": {
       "config": {
        "plotlyServerURL": "https://plot.ly"
       },
       "data": [
        {
         "bingroup": "x",
         "hovertemplate": "xG diff: %{x:.3f}<br>Count: %{y}<extra></extra>",
         "legendgroup": "",
         "marker": {
          "color": "#636efa",
          "opacity": 0.8,
          "pattern": {
           "shape": ""
          }
         },
         "name": "",
         "nbinsx": 40,
         "orientation": "v",
         "showlegend": false,
         "type": "histogram",
         "x": {
          "bdata": "ENejcD0Kxz+QwvUoXI/iv8T1KFyPwsU/j8L1KFyP4j9SuB6F61Hgv+F6FK5H4fY/AAAAAAAA9D9H4XoUrkcFwHA9CtejcM0/SOF6FK5H4b+AFK5H4XqEP+J6FK5H4eo/mpmZmZmZ4b/gehSuR+H+P1O4HoXrUeA/QArXo3A92r8oXI/C9SgAwMj1KFyPwtW/6HoUrkfh2j80MzMzMzPjP+xRuB6F69E/pHA9CtejAEBwPQrXo3DdP7gehetRuN4/zczMzMzM+D8zMzMzMzPrP6RwPQrXo+g/16NwPQrX+z/iehSuR+HKv6VwPQrXo9C/pHA9CtejwD/Yo3A9CtfTv7gehetRuK4/AAAAAAAA+D96FK5H4XoCQEjhehSuR/E/wvUoXI/CB0DYo3A9Ctf7vwrXo3A9CgvA9ihcj8L19L/2KFyPwvUGQDAzMzMzM8M/pHA9CtejwD/2KFyPwvUAQOF6FK5H4fa/UrgehetR/D8qXI/C9SjMP65H4XoUrte/CtejcD0K+z8+CtejcD3yPz4K16NwPfq/wB6F61G4nr/rUbgehesRQD0K16NwPQRAzMzMzMzM5D/////////nv3gUrkfherQ/uB6F61G4zj/gehSuR+HKP7wehetRuJ4/SOF6FK5H8T9wPQrXo3Dlv65H4XoUrgPAAAAAAAAAAABH4XoUrkf9P5qZmZmZmfU/XI/C9ShcDUDiehSuR+Hqvx6F61G4Hu0/9ihcj8L1BkB4FK5H4Xqkv1K4HoXrUQ7AhetRuB6FA0BH4XoUrkcBQChcj8L1KPC/SOF6FK5HC0CE61G4HoXbP2ZmZmZmZgDASOF6FK5HA0AQ16NwPQq3P7gehetRuPo/hutRuB6F47+OwvUoXI/iPxSuR+F6FOY/Fa5H4XoU8j+YmZmZmZnJPwAAAAAAAAxAehSuR+F61D/E9Shcj8LVv5DC9Shcj/K/PgrXo3A96r9SuB6F61H8v1yPwvUoXO8/mpmZmZmZ8T/C9Shcj8L1v+xRuB6F69E/hOtRuB6F4z8wMzMzMzPDPyCF61G4HtU/exSuR+F69L8pXI/C9SjwP1yPwvUoXAHAVLgehetRyL/E9Shcj8L9PxWuR+F6FPY/cBSuR+F6tD+E61G4HoXbPwrXo3A9CvO/AAAAAAAAAADYo3A9CtfTP3gUrkfherQ/CtejcD0KAUCQwvUoXI8OwBWuR+F6FAhAmpmZmZmZyb/E9Shcj8LFP5iZmZmZmdm/uB6F61G48j+AFK5H4Xq0P1yPwvUoXPM/kML1KFyP4j8I16NwPQrHP/QoXI/C9eC/7FG4HoXrB8AI16NwPQrXPwvXo3A9Cu8/4noUrkfhBEAyMzMzMzPTv5qZmZmZmem/cD0K16Nw3b/qUbgehevBP4/C9Shcj+K/UrgehetRAEAVrkfhehQCQMj1KFyPwsW/Z2ZmZmZm/j/hehSuR+H2P/UoXI/C9eA/ENejcD0Kxz8qXI/C9SjsP4AUrkfherQ/KVyPwvUo/L9cj8L1KFwDQOR6FK5H4co/AAAAAAAAAADXo3A9CtfzP5DC9Shcj/I/cD0K16Nw3T8VrkfhehTuPzQzMzMzM8O/ANejcD0Ktz9SuB6F61ECQPYoXI/C9fA/uB6F61G48r8oXI/C9Sjsv6RwPQrXowBAMzMzMzMz4z/C9Shcj8Ltv+xRuB6F6/2/61G4HoXr+T+YmZmZmZm5vxSuR+F6FPa/mpmZmZmZ2b/rUbgehevpv4/C9ShcjwDAuB6F61G4/r+AFK5H4XqUP6RwPQrXo9C/uB6F61G43j80MzMzMzPTv8L1KFyPwvU/cD0K16Nwzb/hehSuR+H+P+F6FK5H4eI/oB6F61G4rj8wXI/C9Si8PwAAAAAAAPg/zczMzMzMBkCG61G4HoXzPz4K16NwPeo/7FG4HoXrwb+6HoXrUbj2P1yPwvUoXPs/KlyPwvUo7D/sUbgehev9v/YoXI/C9fg/uB6F61G4+r8ehetRuB7tP3A9CtejcPk/DNejcD0K179H4XoUrkcJwEjhehSuR+k/wvUoXI/C1T9I4XoUrkfRP8P1KFyPwvk/NDMzMzMz078fhetRuB4BQMT1KFyPwuU/R+F6FK5H+T8fhetRuB7xv5mZmZmZmQdAHoXrUbge1T/NzMzMzMz0P5qZmZmZmQFA4HoUrkfh4r/C9Shcj8LxP3E9CtejcANASOF6FK5HAUB6FK5H4XrwP4AUrkfheqS/H4XrUbgeAUBcj8L1KFwBQJDC9Shcj/I/HoXrUbgeBUA+CtejcD3aP8T1KFyPwtW/MzMzMzMzBUAQ16NwPQq3Pz4K16NwPQbAexSuR+F6BEDkehSuR+HKP7kehetRuABAhetRuB6F6z8AAAAAAADQv4brUbgehes/AAAAAAAA+D9I4XoUrkcLQOxRuB6F6+m/UbgehetR+D8AAAAAAADgPwrXo3A9Cuc/4HoUrkfh2r/qUbgehevpvzMzMzMzM/c/MjMzMzMz679oZmZmZmbWv8zMzMzMzPw/Fa5H4XoU+j8ehetRuB79v83MzMzMzOS/61G4HoXr4b+uR+F6FK4FwEjhehSuR+E/pHA9Ctej+L+YmZmZmZnZvwvXo3A9Cu8/exSuR+F6+L8UrkfhehTeP+F6FK5H4QBA9ihcj8L12D84MzMzMzPDv+hRuB6F6+G/9ihcj8L14L/rUbgehev1PxSuR+F6FPY/9ihcj8L1EECPwvUoXI/SP+J6FK5H4eI/hOtRuB6F2z+sR+F6FK7XP4XrUbgehQVAzczMzMzM9L/hehSuR+HyvzQzMzMzM/8/kML1KFyP6r+AmZmZmZmpv7cehetRuOY/pHA9CtejAkBcj8L1KFz/PwAAAAAAAOg/CtejcD0KAcBxPQrXo3D9P+R6FK5H4cq/61G4HoXrA8BwPQrXo3DxP+F6FK5H4do/zczMzMzM5L+4HoXrUbj2Pz0K16NwPeo/MjMzMzMz4z+AFK5H4XqEvypcj8L1KOw/uB6F61G45r/rUbgehevxvylcj8L1KPg/C9ejcD0KGECuR+F6FK7vP8AehetRuL4/ehSuR+F69L+AFK5H4XqkPypcj8L1KOw/CNejcD0Kxz8L16NwPQrXPzMzMzMzM/c/zszMzMzM7L+E61G4HoXjP65H4XoUrue/ENejcD0Kxz9wPQrXo3DdvzMzMzMzM/u/zczMzMzMBkDC9Shcj8L9v1yPwvUoXN+/NDMzMzMz4z9xPQrXo3AWQNSjcD0K19M/uB6F61G4zj8AAAAAAADgvwjXo3A9Cse/tx6F61G43j8ehetRuB7lv3A9CtejcOU/w/UoXI/C5b8AAAAAAAAAQAAAAAAAABBAFK5H4XoUAkApXI/C9Sjcv2ZmZmZmZgBANDMzMzMz+7+amZmZmZnZP1K4HoXrUeg/AAAAAAAABMAyMzMzMzPzP3A9CtejcN0/UrgehetR9L+AFK5H4XrEP/UoXI/C9fQ/cj0K16Nw/T8AFa5H4XqEPylcj8L1KPw/mZmZmZmZAUAghetRuB7tP2ZmZmZmZu4/4noUrkfh6r/Xo3A9CtcDQClcj8L1KPQ/7FG4HoXrA0B6FK5H4Xrsv6RwPQrXo+i/rkfhehSu1z8ehetRuB7lPwvXo3A9ChfA6FG4HoXrsT+5HoXrUbjyP1K4HoXrUcg/NDMzMzMzwz9mZmZmZmbuvzwK16NwPdo/hetRuB6FAUAAAAAAAAD0P4XrUbgehfO/ZmZmZmZmCEA0MzMzMzP/PxSuR+F6FPI/exSuR+F61D+OwvUoXI/iPxSuR+F6FN4/kML1KFyP0r+gmZmZmZmpv/UoXI/C9eA/1qNwPQrX0z+AFK5H4XqEPxWuR+F6FOY/ZmZmZmZm7r/NzMzMzMz0v4/C9Shcj/K/4noUrkfh4j/E9Shcj8Ltv5qZmZmZmfk/4XoUrkfh8j9SuB6F61H0v0jhehSuR/0/eBSuR+F6hD+G61G4HoX3PzMzMzMzM/+/9ihcj8L16L9I4XoUrkfhv9ejcD0K1/M/R+F6FK5H8b8zMzMzMzMBQLgehetRuL4/rkfhehSu17+amZmZmZnpv5qZmZmZmdk/KlyPwvUo+L/sUbgehev1v1yPwvUoXPO/H4XrUbge9b+gcD0K16PAv3E9CtejcO2/2KNwPQrX6z8pXI/C9SjkPzMzMzMzM/s/61G4HoXr+T+uR+F6FK4BQHsUrkfhevA/AAAAAAAA4D+kcD0K16PwP7gehetRuN6/UrgehetR6D+cmZmZmZnJP0fhehSuRwfAULgehetR2L8AAAAAAAD4vwjXo3A9Crc/cT0K16Nw5b9bj8L1KFzvP9ajcD0K1wFANDMzMzMzwz8AAAAAAAD4vwAAAAAAAOA/UrgehetR9D/sUbgehev5P+F6FK5H4fa/RuF6FK5H4b/D9Shcj8LlP0nhehSuR+m/aGZmZmZm1j8ehetRuB4JQBSuR+F6FPa/cT0K16Nw8T8AAAAAAADwPxSuR+F6FALACtejcD0KA0CQwvUoXI/Sv4TrUbgeheu/KVyPwvUo/L+gmZmZmZmpv6RwPQrXo+C/hutRuB6F6z9xPQrXo3DxPx+F61G4HgdAZmZmZmZmBEBwPQrXo3D9P5qZmZmZmdk/oHA9CtejwD8wXI/C9Si8PxSuR+F6FPo/U7gehetR4D+6HoXrUbjeP8D1KFyPwsU/UrgehetRAsAoXI/C9Si8v7BH4XoUrtc/zszMzMzM5L+E61G4HoXrP5iZmZmZmdm/j8L1KFyPAEBnZmZmZmbuP5qZmZmZmfk/oJmZmZmZqT8ehetRuB7tv3wUrkfhevw/wB6F61G4rj+AFK5H4XqUP9ijcD0K1+O/cT0K16Nw8b9cj8L1KFwDQD0K16NwPeI/61G4HoXr8b/QzMzMzMzcP1C4HoXrUdi/gBSuR+F6pL+uR+F6FK4TQJDC9Shcj9I/rkfhehSuAcB4FK5H4XqUv2RmZmZmZtY/CtejcD0K8z9H4XoUrkcFQKNwPQrXo+C/61G4HoXrAUA0MzMzMzPDP8L1KFyPwvE/PgrXo3A9/r80MzMzMzPTv1K4HoXrUeg/pHA9Ctej8D97FK5H4XrwPzwK16NwPQbANDMzMzMz0z8wMzMzMzPDPwAAAAAAANA/Z2ZmZmZmAEBmZmZmZmbWP4AUrkfheoQ/NDMzMzMzwz9mZmZmZmYGQD0K16NwPeo/PQrXo3A98j+kcD0K16PQPyhcj8L1KADAmJmZmZmZ2T/OzMzMzMzwv+xRuB6F68E/wvUoXI/C5b+OwvUoXI/qv0jhehSuR+G/CtejcD0KAcCcmZmZmZnZv8j1KFyPwsU/pHA9CtejAkBwPQrXo3D5PzIzMzMzM+s/wvUoXI/C/b+2HoXrUbjePyhcj8L1KOw/FK5H4XoUAMBI4XoUrkfpvxSuR+F6FPo/Fa5H4XoU+j9I4XoUrkf1v65H4XoUrvO/zszMzMzM3L8UrkfhehT+P6RwPQrXowBAUrgehetR9D+F61G4HoULQPUoXI/C9di/mJmZmZmZ2T8fhetRuB7xv2ZmZmZmZta/9ihcj8L18D+AFK5H4XqUv6RwPQrXowBAAAAAAAAA/D/Uo3A9CtfTvwrXo3A9CgVAexSuR+F69L+kcD0K16Pgv8L1KFyPwuU/zczMzMzM5D97FK5H4Xrkv2dmZmZmZvI/KVyPwvUoE0AoXI/C9SjMP4/C9Shcj/6/7FG4HoXrAUB7FK5H4XrkP7gehetRuAZA16NwPQrX679I4XoUrkf9vwAAAAAAAAJA9Shcj8L16D98FK5H4XrEPx6F61G4Hg9AFq5H4XoU5r80MzMzMzPjP3gUrkfherQ/hetRuB6F67+G61G4HoXjP65H4XoUrv8/mpmZmZmZ2b+AFK5H4XqkP8zMzMzMzPi/CtejcD0K8z/4KFyPwvXYvylcj8L1KPQ/fBSuR+F61L+amZmZmZkRQMzMzMzMzNw/Fa5H4XoU5j9SuB6F61EEQDMzMzMzM+M/PgrXo3A94j+uR+F6FK7/P/YoXI/C9QRApHA9Ctej/L/Yo3A9Ctfrv5iZmZmZmdk/Xo/C9Shc5z+gHoXrUbievwnXo3A9Cvs/mpmZmZmZ4b+uR+F6FK4DQEjhehSuR/U/7FG4HoXr8b9nZmZmZmYMQHE9CtejcPk/ehSuR+F6CkDgehSuR+H2v+hRuB6F68G/uB6F61G48j+QwvUoXI8IQMzMzMzMzNy/9ihcj8L19D8AAAAAAADQvx+F61G4HgnAoJmZmZmZqb/A9Shcj8LFP3I9CtejcN2/SOF6FK5H0b+kcD0K16PwP9ijcD0K19M/7FG4HoXr/T+sR+F6FK7vP9ijcD0K1/s/zczMzMzM9D80MzMzMzPTP8zMzMzMzPg/KVyPwvUoAkCkcD0K16MGQMAehetRuK6/KlyPwvUo3D8yMzMzMzPjv7AehetRuL6/NDMzMzMz9z/C9Shcj8Ltvx6F61G4Hv2/IIXrUbge5T/gehSuR+HiPwjXo3A9Crc/7FG4HoXr9b8K16NwPQoFQB6F61G4HvE/Fq5H4XoU5j+ZmZmZmZnZv6RwPQrXowxAMzMzMzMzEECkcD0K16P4v5DC9Shcj+o/rkfhehSuAcDNzMzMzMwCQEjhehSuR+E/kML1KFyP8j9dj8L1KFz7v/BRuB6F67G/9ihcj8L12L/sUbgehevRPyhcj8L1KLw/Z2ZmZmZm1r/sUbgehevRP69H4XoUrue/NDMzMzMz0z+kcD0K16PwP2ZmZmZmZta/pHA9Ctej8D+YmZmZmZnJv1K4HoXrUfC/o3A9Ctej8D9wPQrXo3DtP0jhehSuR/0/UrgehetR8D+4HoXrUbjuv6RwPQrXo+A/kML1KFyP/j+4HoXrUbjuvwAAAAAAAPw/PQrXo3A98r/OzMzMzMwKwIbrUbgehes/KFyPwvUo5D8ehetRuB7lPxSuR+F6FARAuB6F61G43j/NzMzMzMwAwMP1KFyPwuW/ZmZmZmZm/j+I61G4HoXbv0jhehSuR/k/////////379SuB6F61ERQAzXo3A9Cse/UrgehetR8D88CtejcD3aPx6F61G4HuU/4noUrkfh9j/MzMzMzMzwPypcj8L1KNw/ENejcD0Ktz/1KFyPwvX4vz0K16NwPfo/PgrXo3A9+r8Q16NwPQrHvz4K16NwPfI/eBSuR+F61D9QuB6F61HYP5DC9Shcj/K/zszMzMzM+L9SuB6F61EIQK9H4XoUrvs/4XoUrkfhDkAUrkfhehT2PxWuR+F6FOa/AAAAAAAA4L9RuB6F61HoP9ejcD0K1/M/exSuR+F69L8K16NwPQr3P9ijcD0K1/M/zszMzMzM3L+tR+F6FK7zP65H4XoUrve/H4XrUbge8b/rUbgehevhv3A9CtejcM2/HoXrUbge7T9xPQrXo3D1PzQzMzMzM/e/cD0K16Nw5T9I4XoUrkfRPz0K16NwPQDA1qNwPQrX07+uR+F6FK7XP+B6FK5H4co/PArXo3A96j/NzMzMzMz0Pz4K16NwPfI/cj0K16Nw3T+E61G4HoUHQK5H4XoUrtc/MzMzMzMz+z96FK5H4XoMwAAAAAAAAARA4noUrkfh2r9I4XoUrkfhvwDXo3A9Crc/exSuR+F6+D8M16NwPQrXv+J6FK5H4QBA1KNwPQrX0z9I4XoUrkfxv1K4HoXrUfA/CtejcD0KFkAoXI/C9SjkPzQzMzMzM+u/PArXo3A9+j/NzMzMzMwAQIAUrkfhepQ/rkfhehSu8z97FK5H4Xrkv3E9CtejcPG/Fq5H4XoU3j8AAAAAAAAAwDAzMzMzM9M/4XoUrkfh8j9wPQrXo3D1P47C9Shcj9K/mpmZmZmZ6b/MzMzMzMzkP8L1KFyPwsW/7FG4HoXr0T+E61G4HoXbvwAAAAAAAOg/1qNwPQrX0z9UuB6F61Hgv6CZmZmZmck/pXA9Ctej+D8ehetRuB4DQCpcj8L1KPS/oB6F61G4nr8oXI/C9Sj0v83MzMzMzAbAcD0K16Nw5T8AAAAAAADoPxSuR+F6FN4/nJmZmZmZ2T80MzMzMzPTP5qZmZmZmek/XI/C9Shc5z8AAAAAAAAAACpcj8L1KPQ/uB6F61G4DED2KFyPwvXov+J6FK5H4fI/4XoUrkfh6j/D9Shcj8IDwJmZmZmZmRBApHA9Ctej0L+AFK5H4XqEvwAAAAAAAAAAgBSuR+F6hD/hehSuR+Hav2ZmZmZmZua/exSuR+F6/D9SuB6F61Hgv8zMzMzMzAJA4noUrkfh6j9cj8L1KFz7v+B6FK5H4do/cD0K16NwzT+F61G4HoX7vxSuR+F6FAZAMzMzMzMzB0C4HoXrUbj2v/YoXI/C9fA/4XoUrkfh8j94FK5H4XrEv+B6FK5H4eo/FK5H4XoU3j9I4XoUrkfhP1O4HoXrUfy/PQrXo3A9AEDMzMzMzMzcvyhcj8L1KMw/4noUrkfh2r9QuB6F61HIv1C4HoXrUdg/PgrXo3A92r/iehSuR+HKv/YoXI/C9fS/MzMzMzMz0z/Yo3A9CtfTP0fhehSuR+E/o3A9Ctej/D8VrkfhehTmv1K4HoXrUfA/jsL1KFyP4j8chetRuB7Vv4/C9Shcj/I/oJmZmZmZqb9wPQrXo3D5P1K4HoXrUQjApHA9Ctej+D/hehSuR+H2vwDXo3A9Cre/ZmZmZmZm/j8L16NwPQrzP8D1KFyPwsW/H4XrUbge7T8AAAAAAADgP4brUbgehds/wvUoXI/C9T9UuB6F61HYv6RwPQrXo/A/PgrXo3A9AsCuR+F6FK7zP0fhehSuR+k/ZmZmZmZm1r/+///////nvwAAAAAAAOg/Fa5H4XoU5r9SuB6F61ESQOtRuB6F6wVApHA9CtejCMByPQrXo3DtPx+F61G4Hu0/FK5H4XoU3r+kcD0K16P4PzIzMzMzM+O/1qNwPQrX07+4HoXrUbjyv1yPwvUoXPO/SOF6FK5H8T/Yo3A9CtfTP8P1KFyPwvE/rEfhehSu1z/iehSuR+H+PxSuR+F6FPI/MzMzMzMzAUCkcD0K16P0v+xRuB6F6+m/ZmZmZmZm9r+uR+F6FK77P1yPwvUoXPs/gBSuR+F6pL+ZmZmZmZnxP4AUrkfhepS/4noUrkfh6j+sR+F6FK7XPx6F61G4HuU/+Chcj8L12D+QwvUoXI/2P4/C9Shcj/K/hutRuB6F4z/hehSuR+ECQKVwPQrXo8A/16NwPQrX67+ZmZmZmZnxPypcj8L1KOS/cD0K16NwzT+QwvUoXI/+v3oUrkfheuw/fBSuR+F61D9kZmZmZmbuvxWuR+F6FOa/uR6F61G47j8zMzMzMzP/v65H4XoUrv8/rkfhehSu9z+ZmZmZmZkBQOF6FK5H4fa/CtejcD0K9z8pXI/C9SjwP6RwPQrXo9C/ZGZmZmZm1j8ghetRuB7Vv3E9CtejcPU/9ihcj8L12D9wPQrXo3Dlv4AUrkfhepS/ULgehetR2D9TuB6F61HYP3Q9CtejcM2/4noUrkfh4j/MzMzMzMzcP8AehetRuJ6/PgrXo3A94j8ehetRuB7Vvz4K16NwPfo/cD0K16Nw/T8pXI/C9SgIwOxRuB6F6/E/rkfhehSu17+jcD0K16PgPyhcj8L1KMw/FK5H4XoU/r97FK5H4XrkP7gehetRuL4/pHA9Ctej4D8ehetRuB7VP+J6FK5H4f6/wvUoXI/C1T9cj8L1KFz3v7gehetRuABA8FG4HoXrsT9mZmZmZmbmP9ijcD0K1wNAgBSuR+F6pL+uR+F6FK7vPxSuR+F6FA5AhutRuB6F27+jcD0K16P8P3E9CtejcPW/HoXrUbge1T8ehetRuB7xP8P1KFyPwvE/uR6F61G45r9oZmZmZmbWP6RwPQrXo/Q/UrgehetRDEDNzMzMzMzcP1K4HoXrUdg/Fa5H4XoU7j+E61G4HoXrPz0K16NwPQDAAAAAAAAA4D/rUbgehev5v6RwPQrXo9C/CtejcD0Kxz+ZmZmZmZnhP3A9CtejcPk/7FG4HoXr4T+kcD0K16PQv+tRuB6F6+G/oJmZmZmZuT8AAAAAAADgP7kehetRuOY/XI/C9Shc+7/2KFyPwvXwvwvXo3A9CgFAwvUoXI/C7T/gehSuR+HaP3gUrkfhesS/WLgehetRyD+wR+F6FK7vP1G4HoXrUfA/PgrXo3A96j+4HoXrUbi+v5qZmZmZmfU/PgrXo3A96j8+CtejcD3yP1K4HoXrUdi/cD0K16Nw5T+ZmZmZmZkBwIAUrkfheoQ/AAAAAAAA0L9wPQrXo3Dlv65H4XoUrvM/ZmZmZmZmAMBmZmZmZmbyP4TrUbgehfe/FK5H4XoU5j/////////PP4/C9Shcj+K/KVyPwvUo8D9cj8L1KFwLQPYoXI/C9fQ/2KNwPQrX678zMzMzMzPzP7gehetRuM4/AAAAAAAA+D+AFK5H4XqEvwAAAAAAANA/kML1KFyP6j8qXI/C9Sj8P0jhehSuR/0/fBSuR+F6xL89CtejcD3qP2dmZmZmZuY/ZmZmZmZm9r+YmZmZmZnZv5DC9Shcj/o/4noUrkfh/j/NzMzMzMzwvzMzMzMzM/M/PQrXo3A98j/Xo3A9CtcBwMzMzMzMzPQ/61G4HoXr/T9oZmZmZmbWv4AUrkfherS/kML1KFyP/j/MzMzMzMzsP0fhehSuR9E/aGZmZmZm1r/Xo3A9CtfrPwAAAAAAAPQ/AQAAAAAA4D97FK5H4XoAQIbrUbgeheu/R+F6FK5H6T/2KFyPwvUAQLcehetRuOa/CtejcD0K9z/gehSuR+HKP1yPwvUoXOc/PQrXo3A9/j8zMzMzMzPrP8zMzMzMzNw/4HoUrkfh8j+6HoXrUbjeP9ejcD0K1+s/cD0K16Nw8b8AAAAAAAD0v8AehetRuL6/NDMzMzMz079I4XoUrkfhP9ijcD0K19M/16NwPQrX8z8VrkfhehTmP6BwPQrXo8C/NDMzMzMz+z/Wo3A9CtfzP/YoXI/C9dg/2KNwPQrX/z+wHoXrUbiuv/YoXI/C9fw/XY/C9ShcCUAAAAAAAADov/YoXI/C9ei/7FG4HoXr6b8+CtejcD3yPyxcj8L1KMy/ZmZmZmZm5j+wR+F6FK7XPxDXo3A9Cre/hutRuB6FBcB7FK5H4XrwP2dmZmZmZv4/ZmZmZmZm5r/rUbgehesDQOB6FK5H4do/gBSuR+F6pD8AAAAAAADQPxauR+F6FO4/VLgehetR6L97FK5H4XrwP1C4HoXrUdg/PgrXo3A96j97FK5H4XrsP0jhehSuR9E/j8L1KFyPBECAFK5H4Xq0P1K4HoXrUfi/KFyPwvUovD8Q16NwPQrHP9ajcD0K1/M/cD0K16Nw+T/NzMzMzMwEQGZmZmZmZuY/MzMzMzMz87/rUbgehesFQPYoXI/C9fw/cBSuR+F6pL+AFK5H4XqUP7gehetRuL6/NDMzMzMz67+AFK5H4XqEv2ZmZmZmZgZA2KNwPQrX07+AFK5H4XqEP7kehetRuPa/sB6F61G4rr96FK5H4XrkP1uPwvUoXOe/uB6F61G43j/gehSuR+HqP5qZmZmZmcm/j8L1KFyP8r+PwvUoXI/yv3I9CtejcN0/MzMzMzMzDUB8FK5H4XrkP5mZmZmZmQNAZ2ZmZmZmDMBdj8L1KFz3PxWuR+F6FPI/UbgehetR+D8K16NwPQoHQCpcj8L1KPg/MzMzMzMz9z9cj8L1KFwBwKRwPQrXo/S/MFyPwvUovL+4HoXrUbj+v1S4HoXrUcg/ZmZmZmZm/r8wXI/C9Si8v6RwPQrXo8A/AAAAAAAA9D8pXI/C9SjwP6RwPQrXowBAwvUoXI/CCcAAAAAAAADov1yPwvUoXAFAcD0K16Nw3T8UrkfhehT6P6RwPQrXo/A/7FG4HoXr8T9I4XoUrkf1P4AUrkfherS/AAAAAAAA8L9SuB6F61HwP1K4HoXrUfg/hOtRuB6F478ehetRuB7VP9ajcD0K1+s/9ihcj8L16D/sUbgehesFwChcj8L1KLy/KFyPwvUo7L+jcD0K16Povz4K16NwPeI/PgrXo3A9AEDrUbgehevhP7gehetRuABAsB6F61G4vr+vR+F6FK4PQD0K16NwPfa/IIXrUbge1T8+CtejcD32PzAzMzMzM8O/hOtRuB6F+z/hehSuR+H2P6RwPQrXo+g/kML1KFyP8j8ghetRuB7tv5DC9Shcj+o/PQrXo3A94r9wPQrXo3AFQHsUrkfhevQ/ZmZmZmZmAMBwPQrXo3D1P3A9CtejcPk/KFyPwvUo7D+AFK5H4Xq0P7gehetRuM6/AAAAAAAA0D/Xo3A9CtcDQLgehetRuPI/XI/C9ShcA0CwHoXrUbiuPzMzMzMzMwFAMzMzMzMzE0AehetRuB7tv4/C9Shcj/Y/HoXrUbgeAUClcD0K16PoP////////++/7FG4HoXrwT9mZmZmZmbuv+B6FK5H4do/4noUrkfhAkDD9Shcj8LxP2dmZmZmZvq/RuF6FK5H4T/kehSuR+HKvwAAAAAAAATANDMzMzMzw7+5HoXrUbgEQBSuR+F6FPo/pHA9Ctej6L+OwvUoXI/iv4XrUbgehfs/cT0K16NwAUBSuB6F61HwP8L1KFyPwu0/gBSuR+F6hL+G61G4HoXzP7gehetRuPI/KlyPwvUoAMCE61G4HoXbP1K4HoXrUdi/61G4HoXr+T96FK5H4Xr0P6AehetRuK6/XY/C9Shc578oXI/C9Sjkv8T1KFyPwv0/16NwPQrX8z8oXI/C9SjsP4/C9ShcjwBA////////97+mcD0K16PAv8AehetRuK6/pHA9CtejEEDC9Shcj8IBQIAUrkfhepQ/AAAAAAAABkD2KFyPwvX4P8L1KFyPwuW/xPUoXI/C9b/C9Shcj8LVv6RwPQrXo/S/mJmZmZmZuT+amZmZmZnhP5qZmZmZmem/NDMzMzMz0z/gehSuR+HKPwjXo3A9Cse/fBSuR+F6xD8zMzMzMzPrP/YoXI/C9fg/aGZmZmZm/j/wUbgeheuxP+J6FK5H4fI//P//////z79dj8L1KFznPzQzMzMzM9M/KlyPwvUo3L89CtejcD3qP8T1KFyPwvm/ZmZmZmZm5j+amZmZmZnpP8D1KFyPwuU/UbgehetR4D8K16NwPQrvP2ZmZmZmZtY/mZmZmZmZ9b+AFK5H4XqEP65H4XoUru8/7FG4HoXrsb/C9Shcj8LVP5qZmZmZmfk/C9ejcD0K77+AFK5H4XqkvwrXo3A9CgFAMzMzMzMz4z8zMzMzMzMDQDBcj8L1KMy/r0fhehSuC0BRuB6F61H0v9ijcD0K1+u/HoXrUbge5b/MzMzMzMzcP8AehetRuL6/8FG4HoXrsb/0KFyPwvXYv+J6FK5H4f4/hutRuB6F2z8VrkfhehTmv9ejcD0K1wNAcD0K16Nwzb+uR+F6FK77v6xH4XoUrtc/gBSuR+F6lL/4///////PPz4K16NwPdo/hutRuB6F2z/hehSuR+HaPwAAAAAAAAJA16NwPQrX8z/Xo3A9CtfrP0bhehSuR+G/7FG4HoXr0T+QwvUoXI/SP+F6FK5H4fY/CtejcD0KAUCkcD0K16P0v5qZmZmZmQtAexSuR+F65L9I4XoUrkcJQJqZmZmZmek/wB6F61G4zj/wUbgehevBv1K4HoXrUeC/1qNwPQrX678AAAAAAAAIwGZmZmZmZvK/HoXrUbge9T8+CtejcD3aP5DC9Shcj9K/Fq5H4XoU3j8oXI/C9Si8P1S4HoXrUcg/HoXrUbge5b/C9Shcj8IYQMzMzMzMzOy/61G4HoXr4T+lcD0K16PwP/YoXI/C9fg/H4XrUbgeAUBH4XoUrkf9PwAAAAAAAPy/pHA9CtejwD9I4XoUrkcDwArXo3A9Cu8/cD0K16NwzT+4HoXrUbjeP3AUrkfherS/9Shcj8L16L9kZmZmZmbWv0jhehSuR9E/CtejcD0K9z+PwvUoXI8CQLgehetRuN6/wB6F61G4rj+amZmZmZnpP69H4XoUru8/16NwPQrXDUDYo3A9Ctf3P1G4HoXrUei/4noUrkfh8j9I4XoUrkf5P1S4HoXrUci/wvUoXI/C5b8UrkfhehTev7AehetRuM4/CtejcD0KA0BwPQrXo3Ddv+J6FK5H4eI/XY/C9Shc/z9xPQrXo3D1PyCF61G4HtU/cT0K16Nw9T8yMzMzMzPjP5mZmZmZmQHA4FG4HoXrsT+F61G4HoXzPzAzMzMzM8M/zczMzMzM9L/AHoXrUbiePz4K16NwPfY/1qNwPQrX4796FK5H4XoIQK5H4XoUru8/9Shcj8L18D8L16NwPQr3P5mZmZmZmQVAgBSuR+F6hL/Wo3A9Ctfrv6CZmZmZmbm/AAAAAAAAAACvR+F6FK7vPyxcj8L1KMw/16NwPQrXBUDrUbgehevRP/YoXI/C9eC/NDMzMzMz0z8zMzMzMzPzP5yZmZmZmbm/wvUoXI/C9b9SuB6F61ERQGRmZmZmZuY/HoXrUbge5T+4HoXrUbgAQEjhehSuRw1A4noUrkfh2j8BAAAAAADoPyhcj8L1KPy/ZmZmZmZmAMCZmZmZmZnZP4AUrkfheqS/zMzMzMzM+D9cj8L1KFznP8AehetRuL4/KlyPwvUo5D/Xo3A9Ctf3P1K4HoXrUei/PgrXo3A99j/sUbgehevRvx6F61G4HgdAPgrXo3A99j8+CtejcD0CQPYoXI/C9eC/o3A9Ctej6L/iehSuR+HyP9ajcD0K1/+/MjMzMzMz8798FK5H4XrUv5DC9Shcj+o/61G4HoXr+T9cj8L1KFz7PzQzMzMzM+O/XI/C9Shc3z80MzMzMzP/P6CZmZmZmam/ZGZmZmZm1j/Wo3A9Ctf/PwEAAAAAANA/MzMzMzMz/z/NzMzMzMzkP6RwPQrXo+A/4noUrkfh8j9cj8L1KFzvP83MzMzMzOQ/9ihcj8L1+D9RuB6F61HoP6RwPQrXo+g/xPUoXI/C1T9ACtejcD3av4AehetRuJ6/7FG4HoXr6T8UrkfhehT+v6VwPQrXo/g/r0fhehSu5z9xPQrXo3D5vxDXo3A9Cre/FK5H4XoU7r+YmZmZmZnJv7gehetRuO4/CtejcD0K9z9TuB6F61HYv5DC9Shcj+I/pHA9Ctej9D9SuB6F61EAQHA9CtejcM0/zMzMzMzM7D/1KFyPwvX8P////////++/wvUoXI/CB8DsUbgehev1P5qZmZmZmQFAmJmZmZmZuT+uR+F6FK7nP8D1KFyPwsW/uB6F61G48j8I16NwPQrXP83MzMzMzPA/hOtRuB6F+z+F61G4HoXjP47C9Shcj+I/UrgehetR/D9nZmZmZmYAQEjhehSuR9E/zczMzMzM8D+F61G4HoUHQOJ6FK5H4eo/SOF6FK5HCcAghetRuB7tvwzXo3A9Cuc/lML1KFyP0r/D9Shcj8IDwLgehetRuO4/9ihcj8L14L8+CtejcD3yPypcj8L1KNw/CNejcD0Kxz/rUbgehevxvyBcj8L1KLw/FK5H4XoU8j+4HoXrUbjyPwrXo3A9Csc/MjMzMzMz0z/+///////fP2dmZmZmZtY/KVyPwvUo7L+uR+F6FK7nP8L1KFyPwvU/pHA9Ctej0L8oXI/C9SjMv/UoXI/C9fi/AAAAAAAA8D+4HoXrUbjOv9ijcD0K1/O/PQrXo3A94j/sUbgehevRPzQzMzMzM+s/NDMzMzMz4z8ehetRuB7lP+J6FK5H4QZAAAAAAAAA0L9I4XoUrkfhv9DMzMzMzNw/PgrXo3A9AMAK16NwPQrzvx6F61G4HvU/UrgehetR8D8AAAAAAADQv87MzMzMzOw/mJmZmZmZyT9I4XoUrkfpP4AUrkfherS/KVyPwvUo5L+4HoXrUbjmP1C4HoXrUdi/ANejcD0Kt79bj8L1KFz/P/BRuB6F68E/NDMzMzMz07+4HoXrUbjeP+R6FK5H4co/ZmZmZmZm5r/sUbgehevhv3A9CtejcPU/KVyPwvUo/D/sUbgehevpvwAAAAAAAAJAzMzMzMzM+D+YmZmZmZnhv3oUrkfheuS/61G4HoXr9T/sUbgehevhvzQzMzMzM9M/AAAAAAAAEUCkcD0K16PgP7wehetRuM6/PArXo3A94j9J4XoUrkfhPzMzMzMzM+M/uB6F61G4+r8qXI/C9SjMv65H4XoUru8/KVyPwvUoCECAFK5H4XqUv7gehetRuO6/CtejcD0K7z+gmZmZmZm5P/YoXI/C9fQ/XI/C9Shc8z+AFK5H4XqUvwAAAAAAAPC/AAAAAAAA4L8UrkfhehTmv3A9CtejcN0/zMzMzMzM9D+4HoXrUbgMwPYoXI/C9ei/KVyPwvUo5D+AFK5H4XqUv6RwPQrXo+C/MjMzMzMz0z8BAAAAAADQP/YoXI/C9fQ/ZmZmZmZm/r8gXI/C9Si8P5qZmZmZmRFAmJmZmZmZ2T9wPQrXo3DdPypcj8L1KPQ/7FG4HoXr0b/A9Shcj8LFv1K4HoXrUeC/FK5H4XoU5j/E9Shcj8LtPwIAAAAAANA/zMzMzMzM8L89CtejcD3qP61H4XoUrtc/wPUoXI/Cxb8AAAAAAADwPwAfhetRuJ6/zczMzMzM7L9yPQrXo3DlP2ZmZmZmZvK/mJmZmZmZuT80MzMzMzPjP6BwPQrXo8A/ZmZmZmZm5j9I4XoUrkfhvx6F61G4HuU/9Shcj8L16D80MzMzMzP7v3sUrkfheuQ/rkfhehSu5z8oXI/C9SjcPzAzMzMzM8M/XY/C9Shc57/sUbgehevhv5yZmZmZmck/XI/C9ShcAUDhehSuR+H2v7YehetRuN4/mJmZmZmZyb97FK5H4XoAQHI9CtejcOU/4XoUrkfh+j+amZmZmZnhv3A9CtejcO2/mJmZmZmZ6b80MzMzMzPDPzIzMzMzM9M/9ihcj8L16D+kcD0K16PAP47C9Shcj9I/cj0K16Nw9T+PwvUoXI/yP7gehetRuPI/pHA9Ctej0L8J16NwPQrzP+B6FK5H4co/uB6F61G4zj8ghetRuB71PwrXo3A9Cse/ZmZmZmZm5j9xPQrXo3D5v3oUrkfhetQ/cBSuR+F6pD8wXI/C9Si8P1yPwvUoXOc/rkfhehSu7z8I16NwPQq3v4AUrkfherS/NDMzMzMz078zMzMzMzPzP61H4XoUrv8/zszMzMzM8D96FK5H4XrsP9ajcD0K1+s/Fq5H4XoU7j88CtejcD3qPxSuR+F6FP4/fBSuR+F61L/rUbgehevhP2hmZmZmZtY/4noUrkfh6j8fhetRuB7VP/QoXI/C9di/wvUoXI/C5T8I16NwPQrXv+xRuB6F6+m/jsL1KFyP4r9kZmZmZmbuvx6F61G4Hu2/cD0K16Nw3T+uR+F6FK73PwAAAAAAAPg/Fa5H4XoUCkAUrkfhehQAwPYoXI/C9eA/CtejcD0KB0BwPQrXo3D1PzMzMzMzMwNApnA9CtejwL/NzMzMzMzwv9ajcD0K1+s/AFK4HoXrsT8oXI/C9SjMP1G4HoXrUfg/pHA9CtejwL9nZmZmZmbyPxDXo3A9Csc/aGZmZmZm1j8AAAAAAAAAAHAUrkfherS/+Chcj8L12L/AHoXrUbiuPyhcj8L1KOS/MzMzMzMz8z9QuB6F61HYP1K4HoXrUfQ/4HoUrkfhyr+uR+F6FK7nv+F6FK5H4QLApHA9CtejAECQwvUoXI/iPyhcj8L1KNw/SOF6FK5H+T9nZmZmZmb6P6RwPQrXo9A/AAAAAAAA0L8AAAAAAAD0vx+F61G4HuU/XI/C9Shc37+E61G4HoX3P83MzMzMzPS/uR6F61G4AkAK16NwPQoJwDIzMzMzM8M/KVyPwvUo5D8M16NwPQrHP3A9CtejcOW/fBSuR+F61D+kcD0K16PwP5mZmZmZmeE/9ihcj8L1+D+E61G4HoXbPxSuR+F6FPo/ULgehetR2L/iehSuR+HqPx6F61G4HvU/UrgehetR6D96FK5H4Xr4PzQzMzMzM9M/CtejcD0K7z/sUbgehevpPwDXo3A9Cre/H4XrUbge8b8AFa5H4XqEv8L1KFyPwuU/KVyPwvUo+D+uR+F6FK4LQFK4HoXrUeC/j8L1KFyPAEB8FK5H4Xr4P3A9CtejcN0/mpmZmZmZ6T/wUbgeheuxv6hwPQrXo9A/9ihcj8L1/D80MzMzMzPzPypcj8L1KPi/9ihcj8L14L/+///////fPzQzMzMzM+M/9ihcj8L18L/wUbgeheuxv4brUbgehfM/fBSuR+F6+D9lZmZmZmbmP+xRuB6F6xJAmZmZmZmZ+T/sUbgeheuxv6RwPQrXo+g/9ihcj8L18D+amZmZmZnxv7oehetRuM6/4XoUrkfh8r/C9Shcj8LVv+F6FK5H4fY/4HoUrkfhyj88CtejcD3aP65H4XoUrvu/onA9Ctej0D8yMzMzMzP3PxSuR+F6FN4/w/UoXI/C+T+QwvUoXI8CQAAAAAAAAPA/PgrXo3A96r+jcD0K16P4P4TrUbgehdu/HoXrUbge8T9lZmZmZmbmPzQzMzMzM/8/7FG4HoXr8T8wXI/C9Si8P1yPwvUoXO8/9ihcj8L1/D+ZmZmZmZnpPx6F61G4HvW/w/UoXI/C7T+OwvUoXI/qP4XrUbgehQtArkfhehSu978zMzMzMzPzP3wUrkfheuS/HoXrUbgeA0DoehSuR+HKv4AUrkfheqQ/cD0K16Nw3T8Q16NwPQq3v1K4HoXrUfA/XY/C9Shc5z+PwvUoXI/qPzQzMzMzM9M/uB6F61G4zr/2KFyPwvX0v8T1KFyPwuU/9ihcj8L18L+vR+F6FK73P6CZmZmZmbm/cD0K16Nw+b9wPQrXo3Ddv+F6FK5H4QBA2KNwPQrX878+CtejcD32v83MzMzMzPA/ULgehetR4D+QwvUoXI/SvzAzMzMzM8O/KVyPwvUo9D8AAAAAAAAIQPYoXI/C9dg/R+F6FK5H8b88CtejcD3yPzAzMzMzM8M/kML1KFyP+j+QwvUoXI/ivxWuR+F6FPo/TOF6FK5H0b+amZmZmZkFQDQzMzMzM9M/SOF6FK5H9b8+CtejcD3iv3E9CtejcOW/7FG4HoXrwT8AAAAAAAAEQB6F61G4HgXAPgrXo3A96r9cj8L1KFzfv0jhehSuR/E/Fq5H4XoU5r/2KFyPwvXwv5qZmZmZmf2/H4XrUbge/T/E9Shcj8LFvwAAAAAAAPQ/FK5H4XoUCkDYo3A9Ctf/P6hwPQrXo8C/KFyPwvUo7L/AHoXrUbjOP1O4HoXrUfg/4noUrkfh4j9xPQrXo3DtPwrXo3A9Cvc/Z2ZmZmZm7j89CtejcD3yP2hmZmZmZu4/UrgehetR8D+amZmZmZnhv/YoXI/C9fg/gBSuR+F6tD9I4XoUrkfhPyCF61G4Hu2/4HoUrkfh6j97FK5H4XoAQADXo3A9Cre/uh6F61G43r8AAAAAAADovxSuR+F6FPI/rUfhehSu8z+AHoXrUbieP+xRuB6F6/0/uB6F61G45r+E61G4HoXbv7gehetRuARA61G4HoXr4b/hehSuR+Hyv1yPwvUoXPc/Fa5H4XoU5r/sUbgehevRP/YoXI/C9dg/MDMzMzMzw7/NzMzMzMwAQGZmZmZmZvY/xPUoXI/Cxb8oXI/C9Sj8P0fhehSuR+E/KFyPwvUo5D9RuB6F61ECwCCF61G4HtW/xPUoXI/C7b8K16NwPQrXP1K4HoXrUfQ/9ihcj8L1BkAsXI/C9SjMvwvXo3A9Cu+/qHA9CtejwD/oUbgeheuxvyhcj8L1KLw/zszMzMzM+D8AAAAAAADwv6CZmZmZmam/hetRuB6F+z/I9Shcj8LFv3E9CtejcPE/wB6F61G4vj+uR+F6FK7vv4/C9Shcj/Y/16NwPQrX6z/oUbgeheuxv+tRuB6F6/k/wvUoXI/C/T9cj8L1KFz7vwAAAAAAAARAENejcD0Kx79QuB6F61HIvxSuR+F6FPI/PQrXo3A9AsDsUbgehevxP7gehetRuO4/+Chcj8L12D+E61G4HoXrP1iPwvUoXN8/o3A9Ctej9D+jcD0K16PoPz4K16NwPfo/XI/C9Shc7z+amZmZmZnxP8L1KFyPwvk/rkfhehSu5z8+CtejcD3qv8AehetRuJ4/UrgehetR2D/2KFyPwvXgPylcj8L1KOy/4HoUrkfh4j+QwvUoXI/iv1yPwvUoXN+/UrgehetR4D/MzMzMzMzsP0jhehSuR/E/gBSuR+F6pL8I16NwPQrHvwAAAAAAAALAAAAAAAAA4D/2KFyPwvUAQLgehetRuO6/AAAAAAAA6L/gehSuR+HKP1K4HoXrUeA/MjMzMzMz+z8K16NwPQrHv6RwPQrXo+A/C9ejcD0K578oXI/C9Sjwv5qZmZmZmQVA9ihcj8L18D8UrkfhehTuP+xRuB6F6/U/gBSuR+F6pL/////////7Px+F61G4HvE/wvUoXI/C7T8AAAAAAADQv7kehetRuO4/sEfhehSu1z+amZmZmZnpPwAAAAAAAPg/4noUrkfh9r9RuB6F61HwP3A9CtejcPU/SOF6FK5H8b98FK5H4XrUvx6F61G4Hu2/PgrXo3A9/r9cj8L1KFzfv+xRuB6F6/0/w/UoXI/C+T+8HoXrUbjePz4K16NwPfI/9ihcj8L19D+uR+F6FK7/P5qZmZmZmem/MDMzMzMzwz+4HoXrUbj2PzMzMzMzM+u/16NwPQrX4z+cmZmZmZnpPwjXo3A9Crc/mZmZmZmZ4b9I4XoUrkfpv16PwvUoXO+/FK5H4XoU/j9kZmZmZmbWP/QoXI/C9di/4XoUrkfhDEBSuB6F61ECQPUoXI/C9fC/cD0K16Nwzb9I4XoUrkfRvyhcj8L1KNw/4XoUrkfh8r+cmZmZmZnJP7kehetRuPo/SOF6FK5H6T+QwvUoXI/qP+xRuB6F6+E/hOtRuB6FAUC3HoXrUbjyP7gehetRuM4/Fa5H4XoU9r80MzMzMzPTP6RwPQrXo/w/mJmZmZmZyT+YmZmZmZm5v3wUrkfheuS/NDMzMzMz079SuB6F61H4v/YoXI/C9eg/cT0K16Nw5T/sUbgehevhv2hmZmZmZu4/Fa5H4XoU5j/MzMzMzMzsv+F6FK5H4eo/9ihcj8L1AECG61G4HoX/P83MzMzMzOw/zMzMzMzM+D/rUbgehev5P7gehetRuL6/Fa5H4XoU7j80MzMzMzPjvypcj8L1KPg/AAAAAAAAAkCkcD0K16P0v6RwPQrXowRA1KNwPQrX07/sUbgehevhPzYzMzMzM8O/uB6F61G43r97FK5H4XoVQBSuR+F6FPY/pHA9Ctej9D9I4XoUrkfpv3A9CtejcOW/MjMzMzMz87/2KFyPwvX4vwrXo3A9CgNA7FG4HoXr9T80MzMzMzPTv1yPwvUoXANApHA9Ctej0L9SuB6F61HgP9ejcD0K1+u/hOtRuB6F6z+QwvUoXI8EQCpcj8L1KOQ/XI/C9Shc/7/hehSuR+HyP4XrUbgehfe/cT0K16Nw7T9cj8L1KFwFQAAAAAAAAPA/PgrXo3A94j+I61G4HoXbPzMzMzMzM/O/CdejcD0K5z8+CtejcD32v5DC9Shcj9I/aGZmZmZm1j+gmZmZmZmpP/BRuB6F68E/7FG4HoXr4b9TuB6F61Hov7gehetRuPI/Wo/C9Shc77/1KFyPwvXoPyDXo3A9Crc/ZGZmZmZm1r89CtejcD32P3E9CtejcPk/rkfhehSu979I4XoUrkf5P8AehetRuJ6/2KNwPQrX078UrkfhehQCQBSuR+F6FAJAkML1KFyP6r8VrkfhehQKQHsUrkfheuS/rkfhehSu7z/D9Shcj8L1v1yPwvUoXN8/61G4HoXr6b97FK5H4XrkP47C9Shcj9I/MzMzMzMz+z94FK5H4Xq0Pz4K16NwPQBACtejcD0K9z9wPQrXo3DlP3E9CtejcPE/MFyPwvUovD98FK5H4XrUP7gehetRuL6/jsL1KFyP6j9SuB6F61HwvwAAAAAAAPA/rkfhehSu/z+4HoXrUbi+v5iZmZmZmck/PArXo3A96j/+///////fv9ejcD0K1/M/PgrXo3A9BECOwvUoXI/iv+J6FK5H4eo/7lG4HoXr0T88CtejcD3qvz4K16NwPeo/SOF6FK5H+b+E61G4HoXjP+xRuB6F69G/rUfhehSu+789CtejcD3yP+F6FK5H4fq/PgrXo3A94r8AAAAAAADwP12PwvUoXO8/gBSuR+F6hL+vR+F6FK77P61H4XoUrv8/ULgehetRyD/C9Shcj8IFQNejcD0K1/M/cD0K16Nw9T8oXI/C9Si8v5DC9Shcj9I/ENejcD0Kt78ghetRuB7VP4XrUbgeheM/7FG4HoXr6T8gXI/C9Si8P8zMzMzMzPw/C9ejcD0K178ghetRuB79vypcj8L1KOQ/SOF6FK5H4b+kcD0K16PQv/UoXI/C9fQ/HoXrUbge9T9SuB6F61H4v3A9CtejcOU/////////7z9cj8L1KFwBQHsUrkfhevQ/onA9Ctej0L8oXI/C9SgIQFuPwvUoXOe/wB6F61G4nj9mZmZmZmbyPxSuR+F6FPo/j8L1KFyPAMC4HoXrUbjOP0jhehSuR+m/XI/C9Shc3z8pXI/C9Sj0PxSuR+F6FOY/mpmZmZmZ2b8AAAAAAAD4P6RwPQrXo/A/8FG4HoXrsT94FK5H4Xq0v1yPwvUoXOc/hetRuB6FAUC4HoXrUbjOv7gehetRuBBAHoXrUbgeAUAzMzMzMzPzv8zMzMzMzOy/AAAAAAAA9D8wXI/C9Si8v+F6FK5H4QLA2KNwPQrX+z8K16NwPQr7P8L1KFyPwgNApHA9Ctej0D8AAAAAAAAAAHsUrkfheuQ/ODMzMzMzw79yPQrXo3D9P/YoXI/C9eA/4noUrkfh6r9wPQrXo3Ddv0AUrkfheoQ/sB6F61G4rj+A61G4HoXbP4/C9Shcj/o/rUfhehSu7z/2KFyPwvUAQMzMzMzMzNw/eBSuR+F6xL8oXI/C9SjkP4CZmZmZmam/mpmZmZmZ4T8+CtejcD36Pz4K16NwPfY/zMzMzMzM3L+F61G4HoX/P9ijcD0K1/e/oJmZmZmZub9nZmZmZmYAwD0K16NwPeq/4noUrkfh6j/8///////Pv6RwPQrXo9C/cD0K16Nw3T9cj8L1KFzzP8AehetRuJ6/cT0K16Nw5T8wXI/C9Si8P9ijcD0K1+O/pHA9Ctej+L8zMzMzMzPzP8P1KFyPwv0/eBSuR+F6tD+G61G4HoXjv3gUrkfherQ/pHA9CtejAMAgXI/C9Si8PwAAAAAAAAAAXI/C9Shc3z8zMzMzMzMFQIzC9Shcj9I/kML1KFyP6r8L16NwPQrvP8D1KFyPwsW/7FG4HoXr0b8+CtejcD3aPwrXo3A9CvM/uR6F61G45r8oXI/C9SjMv/coXI/C9eg/xPUoXI/CxT+gHoXrUbiuv1K4HoXrUfA/ULgehetRyL/D9Shcj8L5P+F6FK5H4eK/sEfhehSu5z/A9Shcj8LFP9ejcD0K1wFAULgehetRyL+PwvUoXI/2vx6F61G4HuU/oJmZmZmZqT/AHoXrUbieP7AehetRuL4/KFyPwvUozL8K16NwPQrXPylcj8L1KATAkML1KFyP8j+kcD0K16PAv1K4HoXrUfQ/kML1KFyP9j9mZmZmZmYAQJqZmZmZmdm/61G4HoXr0T9I4XoUrkf9P0jhehSuRwXAj8L1KFyP0j9TuB6F61HYP6RwPQrXo/y/oHA9CtejwD/AHoXrUbi+P65H4XoUruc/7FG4HoXr6b+F61G4HoX7P+xRuB6F6/W/8FG4HoXrsT+5HoXrUbjOv7gehetRuN4/ULgehetRyL8oXI/C9SjsP8zMzMzMzPA/SOF6FK5H0T/E9Shcj8LFvzwK16NwPdq/4noUrkfh8r/AHoXrUbi+P4AUrkfhepS/mZmZmZmZ+T+4HoXrUbjevylcj8L1KOy/mpmZmZmZ2T/QzMzMzMzcPwAAAAAAANA/UrgehetR4L+2HoXrUbjeP65H4XoUrvO/gBSuR+F6pD9wPQrXo3DNP+xRuB6F6+E/oHA9CtejwD80MzMzMzPjv65H4XoUrtc/4XoUrkfhCsCPwvUoXI/yP3wUrkfherS/kJmZmZmZuT9SuB6F61H8P4TrUbgehes/PgrXo3A92j8AAAAAAAACQIXrUbgehds/KVyPwvUo3L/wUbgeheuxP8AehetRuJ6/4HoUrkfh6j+amZmZmZnhP1yPwvUoXPc/fBSuR+F65L8VrkfhehT+P+B6FK5H4co/FK5H4XoU/j+kcD0K16P0v+J6FK5H4fo/rkfhehSu9z+gmZmZmZmpvypcj8L1KNy/mpmZmZmZ6b8K16NwPQoBwJqZmZmZmQPAKlyPwvUoAsAK16NwPQrHv1K4HoXrUQJAKFyPwvUo3D8oXI/C9SgKQML1KFyPwvG/AAAAAAAA0L8VrkfhehTeP5DC9Shcj/K/UrgehetRAEDD9Shcj8LlP+F6FK5H4QBAkML1KFyP0j9xPQrXo3DlPwzXo3A9Cte/MjMzMzMz4789CtejcD3aPxWuR+F6FP4/KVyPwvUo+L9mZmZmZmb2v1O4HoXrUeg/wB6F61G4nj/MzMzMzMz0v0rhehSuR9E/mJmZmZmZyb/4KFyPwvXYP/QoXI/C9dg/KlyPwvUo5L9I4XoUrkfxP3sUrkfheuy/o3A9Ctej/D9xPQrXo3DtP4AUrkfheoQ/wvUoXI/C1T97FK5H4Xr0vx+F61G4HvG/PQrXo3A9+r8+CtejcD3aP6RwPQrXo/w/KFyPwvUozD8AAAAAAAAAwEjhehSuR+G/VLgehetR2D9cj8L1KFzzP65H4XoUrtc/cj0K16Nw3b8L16NwPQr3PxDXo3A9Csc/Fa5H4XoU+r8K16NwPQrvv6RwPQrXowRAcBSuR+F6xL+QwvUoXI/ivzIzMzMzM+O/9ihcj8L18D+amZmZmZnhvz4K16NwPfY/kML1KFyPDEDMzMzMzMzkP9ejcD0K1wFAUbgehetR/L+G61G4HoUHQArXo3A9Cu8/ZGZmZmZm5j+kcD0K16P0P+hRuB6F67E/8FG4HoXrsT9I4XoUrkfxPzAzMzMzM8M/XI/C9Shc37+amZmZmZnxP0fhehSuR/2/wB6F61G4rr/AHoXrUbieP+F6FK5H4QJAMDMzMzMzwz/iehSuR+Hiv8T1KFyPwu2/exSuR+F6+L8WrkfhehTmv83MzMzMzAJApHA9Ctej0D8yMzMzMzMJQDwK16NwPeo/16NwPQrXBcAAAAAAAADov6RwPQrXowBAuB6F61G48r/iehSuR+HqP8zMzMzMzOw/8FG4HoXrwT9mZmZmZmbyvxWuR+F6FN4/ZmZmZmZm8r8qXI/C9SjcP5iZmZmZmeE/KFyPwvUo3D/sUbgehevBv+F6FK5H4co/pHA9CtejwL/gehSuR+HKvypcj8L1KOS/KFyPwvUo7L8+CtejcD36P4XrUbgeheM/mpmZmZmZ/T9SuB6F61HoP3E9CtejcPU/SOF6FK5H+T/1KFyPwvX0Pz4K16NwPeK/wvUoXI/C/b+F61G4HoXrP65H4XoUrvM/HIXrUbge1T+vR+F6FK7nv4TrUbgehfu/zMzMzMzM3L+kcD0K16P0v0nhehSuR+k/fBSuR+F61L8+CtejcD3aP+xRuB6F6wXAAAAAAAAA4L/Xo3A9CtfzP5mZmZmZmfE/uB6F61G4rj+G61G4HoX3PwrXo3A9CgNAuh6F61G47r9dj8L1KFzfPwzXo3A9Cu8/YBSuR+F6lL/NzMzMzMz8P/YoXI/C9eC/uR6F61G4+r97FK5H4Xrwv+F6FK5H4fI/pHA9Ctej/D+YmZmZmZnZvxSuR+F6FOY/AAAAAAAA9D9cj8L1KFwBwHE9CtejcO0/DNejcD0Kxz+amZmZmZkHwOB6FK5H4do/UbgehetR6L8pXI/C9SgEwML1KFyPwv0/j8L1KFyP8r/C9Shcj8LFP7oehetRuN6/KFyPwvUo/D/2KFyPwvXgv1yPwvUoXP+/SOF6FK5H/b/gehSuR+HKP9ejcD0K1+O/ehSuR+F69L8qXI/C9SjcP1C4HoXrUdg/kJmZmZmZqb96FK5H4XrUvylcj8L1KABAMzMzMzMz87+AFK5H4XqkP+J6FK5H4do/MzMzMzMz07+amZmZmZn1P8L1KFyPwvk/HoXrUbge5b+kcD0K16P0Px+F61G4HgXAFa5H4XoU7j/MzMzMzMz8P+B6FK5H4eI/PgrXo3A94j/MzMzMzMzkv+J6FK5H4eK/cD0K16NwBUAUrkfhehTuvx+F61G4HtU/Fa5H4XoU7r+AFK5H4XqUvwAAAAAAAAJASOF6FK5H4T/2KFyPwvX4PwAAAAAAANA/9ihcj8L1BMCwR+F6FK7Xvx6F61G4Hv0/w/UoXI/CEUBTuB6F61HgP6RwPQrXo/g/mJmZmZmZ4T9cj8L1KFzfv1K4HoXrUfw/rkfhehSu9z+gmZmZmZm5v+BRuB6F67G/ZmZmZmZm7j8zMzMzMzMBQKRwPQrXo+i/mpmZmZmZ6T+kcD0K16PwP8j1KFyPwsW/pHA9Ctej/L/1KFyPwvXgvx6F61G4HgNAUrgehetR9L+kcD0K16P0P7gehetRuN4/mpmZmZmZ2b/2KFyPwvXwP4XrUbgehQFA7FG4HoXr+T8AAAAAAAACQOJ6FK5H4eK/exSuR+F6AkAUrkfhehTuvx+F61G4HvU/hutRuB6F979SuB6F61Hgv1yPwvUoXOc/mJmZmZmZuT+uR+F6FK7Xv3gUrkfhesQ/mpmZmZmZ8T+kcD0K16PoPxDXo3A9Cre/aGZmZmZm1j+gmZmZmZmpP4AUrkfhepQ/mpmZmZmZ4b/Xo3A9CtcDQKCZmZmZmbk/CtejcD0KE0AI16NwPQrHv4XrUbgehfM/4noUrkfh6j8K16NwPQrXP6RwPQrXo9C/AAAAAAAA8D/iehSuR+Hav5DC9Shcj/a/cD0K16Nw3T+AFK5H4XqUP3sUrkfhevi/CNejcD0Kxz/E9Shcj8Llv3A9CtejcPU/PgrXo3A9/j8zMzMzMzPzP+F6FK5H4QDAfBSuR+F6xD80MzMzMzPTv5yZmZmZmdk/o3A9Ctej4D+YmZmZmZn5P3I9CtejcN2/SOF6FK5HA8CZmZmZmZnZvylcj8L1KALAj8L1KFyP+j+4HoXrUbi+vwjXo3A9Cue/mZmZmZmZ8b/E9Shcj8LFP5mZmZmZmfU/AAAAAAAA9D9I4XoUrkfRv+R6FK5H4co/HoXrUbgeAUDD9Shcj8L1P5iZmZmZmak/XI/C9Shc3z/Yo3A9CtfTP1yPwvUoXPM/wB6F61G4nr9dj8L1KFznv1iPwvUoXN8/wPUoXI/Cxb/hehSuR+EKwIXrUbgehdu/AAAAAAAABkCvR+F6FK7vv7gehetRuL6/HoXrUbge+T+kcD0K16Pwv9ajcD0K1/u/hutRuB6FA0CF61G4HoXjv4AUrkfheqS/gBSuR+F6pD+uR+F6FK4BwHI9CtejcO0/PArXo3A92j8K16NwPQr7PwAAAAAAAOg/UrgehetRyD/iehSuR+H6P7gehetRuL4/CNejcD0Ktz+4HoXrUbjOv1yPwvUoXAPAPQrXo3A96r+uR+F6FK7XP8L1KFyPwuU/gBSuR+F6lD9wPQrXo3DxPyhcj8L1KOQ/FK5H4XoU9j/Xo3A9Ctf3PwjXo3A9Ctc/NDMzMzMzwz/1KFyPwvX4P+tRuB6F6/G/16NwPQrX07/D9Shcj8Llv5DC9ShcjwTAoJmZmZmZuT97FK5H4XoCQMT1KFyPwtU/fBSuR+F6xD+amZmZmZnhP8j1KFyPwsW/NDMzMzMz079SuB6F61HgP/QoXI/C9eA/8FG4HoXrsb9wPQrXo3DNvzIzMzMzM+M/o3A9Ctej6L/NzMzMzMz8v/YoXI/C9eA/wvUoXI/C7b+QwvUoXI/yP6RwPQrXo9A/R+F6FK5H6T8BAAAAAADgP9ijcD0K19M/AAAAAAAAAEBSuB6F61Hgv3sUrkfhegJArkfhehSu9z9wPQrXo3DtPx+F61G4HtU/UbgehetR/L8oXI/C9SjkP5qZmZmZmfW/HoXrUbge7b9xPQrXo3DxPzIzMzMzM+u/uB6F61G48j+amZmZmZnhP7kehetRuPq/VLgehetRyD+QwvUoXI/Sv3sUrkfhevA/gBSuR+F6lL+G61G4HoXbv/goXI/C9dg/vB6F61G4zr/oUbgeheuxPwAAAAAAAAAAAgAAAAAA6L/gehSuR+HKv3sUrkfhegRAhetRuB6FCUAK16NwPQrvPzQzMzMzM9M/sEfhehSu1z+gmZmZmZm5PwAAAAAAAOi/cD0K16Nw8T8AAAAAAADQPylcj8L1KPg/KVyPwvUo7D8CAAAAAADgv+J6FK5H4dq/AAAAAAAABECuR+F6FK7vP65H4XoUrv8/o3A9Ctej4L/C9Shcj8LVP+F6FK5H4eq/pHA9Ctej4L+kcD0K16PoP249CtejcO2/xPUoXI/C+T8fhetRuB71P4/C9Shcj/q/Fa5H4XoU+j8K16NwPQrXv3E9CtejcN2/KlyPwvUo/L/NzMzMzMzwPxWuR+F6FOa/j8L1KFyP+r+AFK5H4Xq0v+J6FK5H4eo/gBSuR+F6hL+QwvUoXI/ivx+F61G4HvG/mZmZmZmZ8b88CtejcD3aP2dmZmZmZvI/uR6F61G45r9SuB6F61H0P2ZmZmZmZvK/gBSuR+F6tL9wPQrXo3DlP6RwPQrXo+g/NDMzMzMz8z/gehSuR+H6P+J6FK5H4fI/IIXrUbge1b8WrkfhehT2v6RwPQrXo/A/ehSuR+F65D+mcD0K16PQP5qZmZmZmfE/16NwPQrX6z+bmZmZmZnxPzMzMzMzMwNARuF6FK5H6T/OzMzMzMz4P+xRuB6F6/0/XI/C9Shc5z/iehSuR+H6P1K4HoXrUeA/rkfhehSu7797FK5H4Xr0v9ijcD0K1+M/FK5H4XoU5j8ghetRuB7Vv3oUrkfhegBA7FG4HoXr0b8ehetRuB71v0bhehSuR9E/gBSuR+F6pD/2KFyPwvXoP8AehetRuK4/AAAAAAAA0L8AAAAAAAAAQLAehetRuL6/PgrXo3A98j/sUbgehevpPx6F61G4HuU/oHA9CtejwD+gmZmZmZmpvz4K16NwPQBASOF6FK5H4T+AFK5H4XqkP6RwPQrXo9A/cT0K16Nw7T8pXI/C9SgAwHsUrkfhevg/mpmZmZmZA8A8CtejcD3aP4/C9ShcjwDANDMzMzMz6z+YmZmZmZnZP5CZmZmZmam/hOtRuB6F27/gehSuR+H6P0jhehSuR+k/dD0K16Nw3b8+CtejcD36P4TrUbgehes/uR6F61G47j9SuB6F61HoPz0K16NwPQBAHoXrUbge1T+gmZmZmZmpP7AehetRuJ4/oHA9CtejwL8I16NwPQq3P9SjcD0K19O/KlyPwvUo5D9cj8L1KFznP2ZmZmZmZu4/cT0K16Nw9T8fhetRuB7xv+pRuB6F6/U/wvUoXI/C7b96FK5H4XrwvwrXo3A9Csc/9ihcj8L1/L8Q16NwPQq3v65H4XoUrvM/oJmZmZmZuT+4HoXrUbjyP8L1KFyPwgnA9yhcj8L16L/C9Shcj8LFv+xRuB6F6/E/DNejcD0K1z+F61G4HoXrv8jMzMzMzNy/SOF6FK5H0b/2KFyPwvX8v5DC9Shcj/o/Z2ZmZmZm7r97FK5H4XoEwKCZmZmZmam/SOF6FK5H8T9xPQrXo3DxvzAzMzMzM9O/CtejcD0K9789CtejcD3iP6NwPQrXo/Q/mpmZmZmZ+b8M16NwPQrHPz4K16NwPeo/pHA9Ctej0D8K16NwPQrXv3wUrkfheuw/hutRuB6F278AAAAAAAD0v8AehetRuK6/mpmZmZmZ4T8zMzMzMzMBQGZmZmZmZuY/UrgehetR8L8wMzMzMzPDPwzXo3A9Cse/AQAAAAAA4L96FK5H4Xr0P7kehetRuPo/uB6F61G4+r8K16NwPQr7P9ejcD0K1+u/Fa5H4XoU+j+QwvUoXI/qv1S4HoXrUdg/ehSuR+F6BEAsXI/C9SjkP4/C9ShcjwxAwvUoXI/C+b/Xo3A9CtfrvwAAAAAAAOC/pHA9Ctej9L+AFK5H4XqEv7gehetRuN4/FK5H4XoU/j+AFK5H4XrEP12PwvUoXO+/KlyPwvUo5L8qXI/C9SgOQIbrUbgehf+/pHA9Ctej8L84MzMzMzPDPxSuR+F6FABAKFyPwvUozL/sUbgehesHQOB6FK5H4co/uB6F61G43j+icD0K16PAP1yPwvUoXAdA4noUrkfh+j97FK5H4XrkP+xRuB6F6+G/61G4HoXr8b9xPQrXo3D9P83MzMzMzPA/hetRuB6F4796FK5H4XrUP6NwPQrXo/S/xPUoXI/CxT80MzMzMzPjP+J6FK5H4do/ehSuR+F6+D9wPQrXo3D5v83MzMzMzAhAhetRuB6F6z+kcD0K16PwP+B6FK5H4dq/hOtRuB6F4z/MzMzMzMzkP3A9CtejcPU/wB6F61G4nr9nZmZmZmbuv8zMzMzMzOQ/w/UoXI/C5b80MzMzMzPjvx6F61G4HvE/AQAAAAAA4D+5HoXrUbjeP4AUrkfhepS/ZmZmZmZm+r98FK5H4Xr4vxSuR+F6FO4/MjMzMzMz6z+I61G4HoXbv1yPwvUoXAVAAAAAAAAA8L/sUbgehevRPzQzMzMzM9M/CtejcD0KAUCuR+F6FK4JwLwehetRuM6/uB6F61G4zr8K16NwPQoDQHwUrkfheuQ/NDMzMzMz+78UrkfhehTyP3oUrkfhegRAODMzMzMzw79wPQrXo3DxP3A9CtejcOU/oJmZmZmZub9cj8L1KFznv6CZmZmZmak/rkfhehSuEEBcj8L1KFzvP8P1KFyPwvE/SOF6FK5HB0AfhetRuB7lv65H4XoUru+/ZGZmZmZm7j8pXI/C9SjwPwrXo3A9Cte/7FG4HoXr+T+ZmZmZmZn1P6JwPQrXo9A/61G4HoXrCcBbj8L1KFzzP8L1KFyPwvW/hutRuB6FB0B4FK5H4XrEv/YoXI/C9eg/gBSuR+F6hD+0HoXrUbjOP7gehetRuO4/KlyPwvUozD/sUbgehevBPwrXo3A9CgNAUrgehetRDkB8FK5H4Xrkv6RwPQrXowBAwB6F61G4rr8UrkfhehTevzMzMzMzM/c/FK5H4XoU5j+uR+F6FK7zPz4K16NwPeo/16NwPQrX8z+F61G4HoXrvwrXo3A9Cg3AFK5H4XoU9j/Wo3A9CtfjPxWuR+F6FP6/uB6F61G4AkAVrkfhehT6PzQzMzMzMxJAW4/C9Shc8z8L16NwPQq3vwrXo3A9Cvc/AAAAAAAA9D+kcD0K16MCQPBRuB6F67G/AQAAAAAA4D8UrkfhehTyv12PwvUoXPM/PQrXo3A9/j+G61G4HoXrP3sUrkfhevC/Fa5H4XoU+j9AFK5H4XqEv1yPwvUoXN8/KFyPwvUo3D8UrkfhehTmvzAzMzMzM8M/FK5H4XoU/r9mZmZmZmYKwPYoXI/C9eg/wB6F61G4nj+wR+F6FK7Xv47C9Shcj+K/ZmZmZmZm1j9TuB6F61HgP+tRuB6F6wNA////////7z8UrkfhehTyv9ajcD0K1w3APgrXo3A94r+AFK5H4XrEP5qZmZmZmfE/wvUoXI/C7b+G61G4HoXrP8AehetRuJ6/uh6F61G45j/C9Shcj8LlP7gehetRuO6/AAAAAAAA6D/Yo3A9CtfTvzQzMzMzM9O/HoXrUbge1T+YmZmZmZnZP1K4HoXrUdg/ANejcD0Kt7/Wo3A9Ctfrv5DC9Shcj/Y/4XoUrkfhBkBcj8L1KFz/Pz0K16NwPeK/ULgehetRyL9dj8L1KFz7P0nhehSuR+G/9yhcj8L19D8K16NwPQrnvx+F61G4HuU/UrgehetR2D/2KFyPwvX4P8AehetRuJ4/mZmZmZmZ8T+F61G4HoUDwK5H4XoUrv8/exSuR+F68L/NzMzMzMwQQArXo3A9Cuc/mJmZmZmZuT9I4XoUrkfhP8P1KFyPwvE/mZmZmZmZ8b94FK5H4XqkPwAAAAAAAOg/FK5H4XoU+r9I4XoUrkf5P4XrUbgehfu/VLgehetR2D+YmZmZmZnhv/BRuB6F67E/W4/C9Shc/z80MzMzMzP3vzwK16NwPfo/wvUoXI/C1b+wHoXrUbiuvxauR+F6FPo/cD0K16Nw7T/4KFyPwvXYP8P1KFyPwuW/R+F6FK5H4b80MzMzMzPjP83MzMzMzALAAAAAAAAA/D96FK5H4XoCwBWuR+F6FPI/xPUoXI/C1b+uR+F6FK4NQJmZmZmZmem/PQrXo3A99j9mZmZmZmb+PwIAAAAAAOi/PgrXo3A9AsB4FK5H4Xq0P/QoXI/C9di/16NwPQrX87/oUbgeheuxv5DC9Shcj+o/wB6F61G4rr+amZmZmZnZvz4K16NwPeK/AAAAAAAAAACkcD0K16PoP4TrUbgeheu/kML1KFyPBEDgehSuR+Hav5qZmZmZmQfASOF6FK5H9b97FK5H4Xr0P1S4HoXrUci/CtejcD0KB0AAAAAAAADgv8zMzMzMzA7AAAAAAAAACEDoUbgehevBP+F6FK5H4QpA4noUrkfhAkDD9Shcj8L5P6RwPQrXowBA0PUoXI/Cxb/AmZmZmZmpP1yPwvUoXAPA9ihcj8L12L9TuB6F61H0P+xRuB6F6wPAAAAAAAAA0L88CtejcD3qv4brUbgehf+/hetRuB6F9z9wPQrXo3DlP65H4XoUrhRAHoXrUbge9T/MzMzMzMz4PzQzMzMzM9O/kML1KFyP+j/oUbgehevBPx6F61G4HvE/gBSuR+F6hD8K16NwPQoBQKxH4XoUrte/CdejcD0K8z8qXI/C9Sj8v5DC9Shcj9I/2KNwPQrX478sXI/C9SjMv/YoXI/C9fS/uB6F61G4AEBI4XoUrkfRv6RwPQrXo+i/xPUoXI/CxT+vR+F6FK73P+pRuB6F6+G/hetRuB6F878oXI/C9Si8P6BwPQrXo8C/MzMzMzMzAUAoXI/C9SjkP/YoXI/C9QLAC9ejcD0K5z8oXI/C9SjwP9ejcD0K1/s/rkfhehSu8z/Yo3A9CtfrP2ZmZmZmZua/mJmZmZmZyb9H4XoUrkfxP4/C9ShcjwBAHoXrUbge/T9SuB6F61Hgv2hmZmZmZta/m5mZmZmZ6b8UrkfhehTev5iZmZmZmdm/H4XrUbge8T8+CtejcD3iv+xRuB6F6+G/4HoUrkfh2r/2KFyPwvUIQAAAAAAAAApAcBSuR+F6pL8I16NwPQrHv5DC9Shcj/o/61G4HoXr/T+vR+F6FK7nP2AUrkfhepS/9ihcj8L12L9nZmZmZmb+P+F6FK5H4eI/FK5H4XoU7j/hehSuR+EAQOB6FK5H4cq/4HoUrkfhyj8fhetRuB4BwB6F61G4Hvk/IIXrUbge5T9xPQrXo3D9P/BRuB6F67G/hetRuB6F6z+kcD0K16PQP1yPwvUoXOe/4XoUrkfhBEBwPQrXo3DdP2ZmZmZmZg5AZmZmZmZm8j8ehetRuB7lP0fhehSuR9G/sEfhehSu17+amZmZmZnhv8zMzMzMzPS/cT0K16NwAUBwPQrXo3DNP5yZmZmZmbm/16NwPQrX978I16NwPQq3P4AUrkfheqS/uh6F61G4zr8K16NwPQr/P4TrUbgeheM/ZmZmZmZm7j8M16NwPQrHP7gehetRuPI/C9ejcD0K7z8ehetRuB7xP8zMzMzMzOS/1qNwPQrX/79mZmZmZmb+P65H4XoUrvM/NDMzMzMz8z+QwvUoXI/qv+xRuB6F67E/AAAAAAAA0D+amZmZmZnxP/QoXI/C9di/9ihcj8L1/L/MzMzMzMzkP4AUrkfheqQ/ZmZmZmZm5j8AAAAAAADoP83MzMzMzAJA61G4HoXr4b+QwvUoXI8AQHA9CtejcOU/61G4HoXr+T94FK5H4XqkPwAAAAAAAPC/////////5z+wHoXrUbiev5mZmZmZmem/IIXrUbge9T+G61G4HoUNQEfhehSuR/k/R+F6FK5HAUAAAAAAAAD8P0jhehSuR+G/4HoUrkfhyj9SuB6F61HwP+xRuB6F6/U/UrgehetR+D8I16NwPQq3v3E9CtejcAdApHA9Ctej/L88CtejcD3aP+xRuB6F6+G/UrgehetR2D96FK5H4XrwP65H4XoUrtc/61G4HoXr+b8fhetRuB4DQP7//////+c/exSuR+F65D9nZmZmZmb2P6BwPQrXo8C/2KNwPQrX8z+PwvUoXI/yvwrXo3A9Cvs/KFyPwvUo3D97FK5H4XoIQAAAAAAAAAAAUrgehetR4D/OzMzMzMz0v1yPwvUoXP8/HIXrUbge1T8UrkfhehTev6CZmZmZmbk/cD0K16Nw7T8chetRuB7Vv6CZmZmZmak/XI/C9ShcC0DXo3A9Ctf/P1C4HoXrUcg/2KNwPQrX8z+G61G4HoX7P1yPwvUoXPe/uB6F61G4zj98FK5H4XrsP6CZmZmZmak/fBSuR+F67D+jcD0K16PwP1yPwvUoXAnA4XoUrkfh9j89CtejcD3aP3E9CtejcPU/CNejcD0Kx78AAAAAAAAAAKRwPQrXowBAHoXrUbge1b+jcD0K16PwPwrXo3A9Cvc/dD0K16NwzT9SuB6F61HwPwAAAAAAAADAAAAAAAAAAAB6FK5H4Xr0P4TrUbgehds/XI/C9Shc9z8+CtejcD3av5mZmZmZmeG/hOtRuB6F2z8M16NwPQrvv8L1KFyPwuU/ZmZmZmZmBEAL16NwPQr3P0jhehSuR/k/9Shcj8L16D8+CtejcD36PzQzMzMzM9M/4HoUrkfh2j8pXI/C9Sj4v1K4HoXrUfS/9ihcj8L1+D/gehSuR+HKP4AUrkfherQ/XI/C9ShcBUAUrkfhehTeP4jrUbgehdu/4XoUrkfhBEAAAAAAAAD0P2ZmZmZmZvI/fBSuR+F6tL8AAAAAAADgP8AehetRuJ4/pHA9Ctej8L/D9Shcj8Lxv87MzMzMzOw/cT0K16NwEEBmZmZmZmb+P0jhehSuR/U/exSuR+F6AECkcD0K16PAv3oUrkfhevA/IIXrUbge+b8VrkfhehT+P65H4XoUru8/exSuR+F68L9RuB6F61H0vzwK16NwPdo/9ihcj8L1/L/sUbgehevhP7kehetRuOY/5HoUrkfh2r+4HoXrUbjmv3A9CtejcPU/SOF6FK5HD8DNzMzMzMzkP4brUbgehdu/mZmZmZmZA0AUrkfhehTuv7gehetRuOa/+Chcj8L12D8M16NwPQrXvypcj8L1KPS/zszMzMzM3D+gmZmZmZmpPx+F61G4HvE/AAAAAAAA0L+4HoXrUbj2P8zMzMzMzPw/pHA9Ctej9L9H4XoUrkfhP0jhehSuR+k/uB6F61G4vj8VrkfhehT+P+B6FK5H4dq/gBSuR+F6pL80MzMzMzPDvwjXo3A9Cre/pHA9CtejDkDsUbgehevpv8P1KFyPwvG/exSuR+F6BkBI4XoUrkf9P+F6FK5H4QZA61G4HoXr8T/sUbgehev5Pz0K16NwPQBAo3A9Ctej9L8A16NwPQq3v4brUbgehfM/UrgehetRAEA+CtejcD3qPzwK16NwPfY/NDMzMzMz0z/rUbgehesQQDMzMzMzMwVA1qNwPQrX6z89CtejcD0CQKRwPQrXo9A/AAAAAAAA8D+vR+F6FK7vP0fhehSuR/k/w/UoXI/C9T9RuB6F61H0P5DC9Shcj9I/zszMzMzM5L+OwvUoXI/qP6RwPQrXo/C/cD0K16Nw7b9ej8L1KFzvP7gehetRuP4/mJmZmZmZ2b9SuB6F61HoP5qZmZmZmfU/AAAAAAAA0D+2HoXrUbjuv6RwPQrXo+A/FK5H4XoU9j8yMzMzMzPjv4/C9Shcj/Y/Eq5H4XoU3r8ehetRuB79P7gehetRuN4/Fq5H4XoU3j/Yo3A9CtfrP1yPwvUoXPM/AAAAAAAA6D/wUbgehevRP3oUrkfhevi/UrgehetR2D98FK5H4XrEPx+F61G4HgFAuB6F61G4vr8pXI/C9SgRQFK4HoXrUQJAAAAAAAAA8D+ZmZmZmZnhPwrXo3A9CvM/FK5H4XoU5r/+///////nP3Q9CtejcN2/zszMzMzM7D8zMzMzMzPrvzwK16NwPdo/Fq5H4XoU5r96FK5H4Xr4v5qZmZmZmfE/wPUoXI/Cxb9cj8L1KFzzPz4K16NwPf4/XI/C9Shc778M16NwPQrXvwjXo3A9Csc/16NwPQrX478qXI/C9SjkvwjXo3A9Cse/cD0K16Nwzb8oXI/C9Sjsv+F6FK5H4eI/FK5H4XoU/j8AAAAAAAD8v1K4HoXrUeg/hetRuB6F678ehetRuB7xv5iZmZmZmeG/7FG4HoXr8T+QwvUoXI8CQBSuR+F6FOY/hutRuB6F8z80MzMzMzP/v8zMzMzMzNw/LFyPwvUo3L+kcD0K16P0PxSuR+F6FOa/1qNwPQrX6z9wPQrXo3Dxv+B6FK5H4do/KVyPwvUoBED2KFyPwvX8PwAAAAAAAAbArkfhehSu9z80MzMzMzPzP6NwPQrXo/g/KFyPwvUo/D/hehSuR+HyP9ejcD0K1+O/cD0K16NwzT8AAAAAAADQvwrXo3A9Cu+/uB6F61G4AECOwvUoXI8OQJDC9Shcj/o/XI/C9Shc8z8yMzMzMzP7P+xRuB6F6+G/xPUoXI/C1b8+CtejcD32P+B6FK5H4do/yPUoXI/Cxb9QuB6F61HIPypcj8L1KPw/KlyPwvUo7D/wUbgehevBP1yPwvUoXPc/RuF6FK5H4T+AFK5H4XqEvx+F61G4HgFAHoXrUbge5T9nZmZmZmbuP6RwPQrXo/g/4HoUrkfh2r9nZmZmZmbmvzwK16NwPdq/zczMzMzMAECYmZmZmZm5P+xRuB6F67E/w/UoXI/C5T9mZmZmZmb+vxSuR+F6FN6/rkfhehSu9z8fhetRuB7lP8zMzMzMzNw/hOtRuB6F47+QwvUoXI/iv1C4HoXrUfS/2KNwPQrX0z9cj8L1KFwDQD4K16NwPQBAgBSuR+F6tL+F61G4HoUHQIXrUbgeheO/SOF6FK5HEUA+CtejcD3aP1C4HoXrUci/AAAAAAAAAAAUrkfhehQAQChcj8L1KABAehSuR+F68D8fhetRuB4DwFK4HoXrUfA/AB+F61G4nr8sXI/C9SjcP9ijcD0K19O/7FG4HoXr8b/wUbgeheuxvyCF61G4HvU/gBSuR+F6tL8AAAAAAAD0PxSuR+F6FPI/zMzMzMzM3D/2KFyPwvXovwzXo3A9Ctc/hetRuB6F2z8wMzMzMzPDP1yPwvUoXO8/cD0K16Nw8b+cmZmZmZnhv8zMzMzMzPg/zMzMzMzM7D9I4XoUrkfxv4TrUbgeheO/exSuR+F6AkBSuB6F61H8P65H4XoUrte/CtejcD0K+z8yMzMzMzPrP8zMzMzMzNy/hutRuB6F+z/2KFyPwvXYP8L1KFyPwgNAuB6F61G4BMBmZmZmZmb+v4TrUbgeheu/ZmZmZmZm8j+wHoXrUbi+v8AehetRuJ6/9ihcj8L1+L+PwvUoXI8IQEbhehSuR9G/mpmZmZmZ2b8K16NwPQrXv8T1KFyPwtW/mZmZmZmZ9T9xPQrXo3D5P8P1KFyPwuU/uh6F61G45r/hehSuR+HyP9SjcD0K19O/MzMzMzMz4z/rUbgehevxP+J6FK5H4eo/cD0K16Nw9T8zMzMzMzMBQML1KFyPwuW/KVyPwvUo5D/iehSuR+H+Pylcj8L1KPA/hetRuB6FAUAK16NwPQoDQB6F61G4HuU/16NwPQrX+z8K16NwPQrnP8D1KFyPwsU/gBSuR+F6lL8AAAAAAADgP3I9CtejcOW/9ihcj8L19D8K16NwPQrzP2ZmZmZmZvK/KlyPwvUo5D98FK5H4XrkPx+F61G4HgNAPQrXo3A9AMD2KFyPwvUCwDMzMzMzM/O/VLgehetR2L8zMzMzMzPjv2dmZmZmZgZAFK5H4XoU9j8K16NwPQrHP1S4HoXrUeC/1qNwPQrX4z8zMzMzMzMFQFK4HoXrUQpAhutRuB6F4z9gFK5H4Xqkv5iZmZmZmck/ANejcD0Ktz/rUbgehevhvwAAAAAAAPQ/uR6F61G4AMCAFK5H4XqEPxSuR+F6FPo/CtejcD0KCUDqUbgehevpP6RwPQrXo/A/aGZmZmZm1r+jcD0K16P8PzMzMzMzM/e/PQrXo3A99r9ACtejcD3aPwAAAAAAAOi/PgrXo3A9/j+4HoXrUbjmP5iZmZmZmfU/XI/C9Shc/z/gehSuR+HKv5DC9Shcj/I/FK5H4XoU9j/NzMzMzMz0P/YoXI/C9dg/rkfhehSu17/AHoXrUbiuPx6F61G4HgFAmZmZmZmZ8b8AAAAAAAAAQP///////+e/pHA9Ctej0L+4HoXrUbi+PxSuR+F6FPK/yPUoXI/C1b9I4XoUrkf1Pz4K16NwPeK/KFyPwvUovD/A9Shcj8LVPx6F61G4HgNAFK5H4XoU3r+cmZmZmZnpP9ijcD0K1+s/4noUrkfh/r/Xo3A9Ctf3P6CZmZmZmcm/7FG4HoXr8b9SuB6F61HgvxauR+F6FN4/2KNwPQrX0z+sR+F6FK7XvwjXo3A9Cte/KFyPwvUo8D9kZmZmZmbWP8L1KFyPwuW/mJmZmZmZ6T/1KFyPwvX8PzMzMzMzMwlAuB6F61G48j9oZmZmZmbuP4/C9Shcj+K/FK5H4XoU3j8fhetRuB71P+xRuB6F69E/fBSuR+F65D8K16NwPQoBQG49CtejcN0/hetRuB6F678fhetRuB7xP7AehetRuL4/w/UoXI/C8T9SuB6F61HwvxSuR+F6FOY/XI/C9Shc7z8wMzMzMzPDv6RwPQrXowJAzczMzMzM9L96FK5H4Xr4vwrXo3A9CvM/9ihcj8L16D+ZmZmZmZnhP6CZmZmZmak/AAAAAAAAAkDXo3A9Ctf3P3wUrkfheuw/9ihcj8L14L9SuB6F61HwP6BwPQrXo8C/AAAAAAAABkCamZmZmZkHQDgzMzMzM8O/uB6F61G4zr8+CtejcD3iP/YoXI/C9fg/ENejcD0Ktz/qUbgehevRPxDXo3A9Csc/2KNwPQrX/z/AHoXrUbiuPypcj8L1KNy/MzMzMzMzCUAA16NwPQq3P+B6FK5H4eq/Z2ZmZmZm+j/C9Shcj8L1Px+F61G4HgPA4HoUrkfh4r9yPQrXo3DtPxSuR+F6FN6/wvUoXI/C8T+gmZmZmZm5P6CZmZmZmbk/FK5H4XoU9r/2KFyPwvXoP8P1KFyPwuU/pHA9Ctej0L9xPQrXo3DlP7gehetRuPY/ehSuR+F61D+QwvUoXI/+P2ZmZmZmZvK/ehSuR+F67D/rUbgehevhv4AUrkfheoQ/aGZmZmZm1r9QuB6F61HYP/YoXI/C9eA/hutRuB6F879wFK5H4Xqkv4XrUbgehf+/cT0K16Nw+T/sUbgehev1vxDXo3A9Cre/PgrXo3A9AEDXo3A9Ctf3P3A9CtejcAVArkfhehSu17/Yo3A9Ctfrv1yPwvUoXN8/eBSuR+F6xD+YmZmZmZnhP5iZmZmZmcm/uB6F61G49j8zMzMzMzPrP3wUrkfherS/KFyPwvUo5L9I4XoUrkfxP8P1KFyPwglASOF6FK5H0b/1KFyPwvXYvx+F61G4HvU/SOF6FK5H8T8VrkfhehTyP8P1KFyPwvE/61G4HoXrC0AghetRuB7VPxSuR+F6FPo/kML1KFyP0r9I4XoUrkfhv4TrUbgehdu/9ihcj8L1DkC4HoXrUbjOP6RwPQrXo/g/w/UoXI/CAUCE61G4HoXrPzQzMzMzM8M/ZmZmZmZm8j+4HoXrUbgAwOtRuB6F6/E/61G4HoXr8T8K16NwPQr3P6xH4XoUrtc/hOtRuB6F4z+E61G4HoXrP12PwvUoXN+/61G4HoXr9T/////////3P5DC9Shcj/a/j8L1KFyPAEBSuB6F61HYP4XrUbgehfO/pHA9Ctej9D9wPQrXo3DxvwjXo3A9Ctc/cT0K16Nw7T8AAAAAAADgP7AehetRuL6/gBSuR+F6hD8+CtejcD3qP/goXI/C9dg/wvUoXI/CAUCkcD0K16PQv3A9CtejcN0/1qNwPQrX4z8UrkfhehQOQAIAAAAAANA/Fq5H4XoU+r/sUbgehesFQEfhehSuR+E/gBSuR+F6tD+kcD0K16PQvyCF61G4HuW/SeF6FK5H8b+4HoXrUbjePwEAAAAAANC/pHA9Ctej0D9mZmZmZmbyv/YoXI/C9ei/4HoUrkfh2j8L16NwPQr/v8AehetRuJ6/Z2ZmZmZm5j8ehetRuB7lP8zMzMzMzNy/gBSuR+F6xD94FK5H4XrEv3E9CtejcN0/HoXrUbge9T9mZmZmZmbWPwAAAAAAAPA/zszMzMzM/D8M16NwPQrXPwvXo3A9CvO/PQrXo3A96j/gehSuR+HiPx6F61G4HtU/FK5H4XoU8r/iehSuR+HiP7gehetRuPY/4XoUrkfh+r8+CtejcD0IQKRwPQrXowRAwvUoXI/CA8AVrkfhehQSQHE9CtejcPW/4noUrkfh6j/8///////PPwrXo3A9Cu+/W4/C9Shc9z8UrkfhehTuv8zMzMzMzPi/9ihcj8L14D+kcD0K16P4P8L1KFyPwvk/j8L1KFyPAMDkehSuR+Hav8L1KFyPwuU/hOtRuB6F67/C9Shcj8L5P9ajcD0K1/e/7FG4HoXr0b9mZmZmZmYIQGZmZmZmZu4/H4XrUbge8T+amZmZmZkBQM3MzMzMzOS/R+F6FK5H6T8oXI/C9SjcvxSuR+F6FOY/gBSuR+F6pL9H4XoUrkcSQHA9CtejcN0/CtejcD0K17+mcD0K16P8vz0K16NwPfI/4FG4HoXrsb8pXI/C9Sj0P5mZmZmZmek/Z2ZmZmZm7j98FK5H4Xr8P3oUrkfhevQ/mpmZmZmZ+b/1KFyPwvX4v1yPwvUoXO8/uR6F61G48r8fhetRuB4BQDIzMzMzM9M/CtejcD0KB0AAAAAAAAD8P3oUrkfheuy/4noUrkfh4j+QwvUoXI/2P/YoXI/C9dg/PgrXo3A9CkDkehSuR+HKPzQzMzMzM+u/mpmZmZmZ8T8wMzMzMzPDP4AUrkfheoQ/AAAAAAAA8L+wR+F6FK7vvzQzMzMzM/u/PgrXo3A99j/2KFyPwvXgP4/C9Shcj/6/CtejcD0K7z+QwvUoXI/iv5DC9Shcj/a/4noUrkfh4j8VrkfhehQCQML1KFyPwhNAKFyPwvUo7L/rUbgehesLQKxH4XoUrtc/KFyPwvUozD80MzMzMzP7vylcj8L1KABAULgehetRyD/sUbgehevxv/YoXI/C9eg/uB6F61G4AkA+CtejcD36P9ajcD0K1+M/KFyPwvUozL9cj8L1KFznPylcj8L1KAhA16NwPQrX9z8zMzMzMzP7P2ZmZmZmZvI/4XoUrkfh4r9I4XoUrkcFQDQzMzMzM/s/PgrXo3A99j+amZmZmZkJQI/C9Shcj+o/mpmZmZmZ4T+4HoXrUbjmP5iZmZmZmcm/NDMzMzMz078zMzMzMzPjvxSuR+F6FPY/6FG4HoXrsb/Wo3A9CtfjPyhcj8L1KPQ/NDMzMzMz079mZmZmZmYGQDwK16NwPeo/mpmZmZmZ9b+5HoXrUbjmP/YoXI/C9QTAMjMzMzMz6z+G61G4HoXjv0jhehSuR/k/gBSuR+F6tL/AHoXrUbiuv65H4XoUrgfAMzMzMzMz9z8fhetRuB4HQKAehetRuJ4/zMzMzMzM3D+AFK5H4XqkP9ejcD0K1xHAoJmZmZmZuT8gXI/C9Si8P8AehetRuJ6/hOtRuB6F8z+AFK5H4XqUv+tRuB6F6+m/exSuR+F69L9SuB6F61HgP+xRuB6F6+k/4HoUrkfh+j96FK5H4Xrkv6RwPQrXo8C/CtejcD0Ktz+4HoXrUbjmPypcj8L1KNy/dD0K16Nw3T/D9Shcj8L5P3AUrkfheqS/oB6F61G4rr8+CtejcD3aP2ZmZmZmZvY/bj0K16Nw5T+QmZmZmZm5PzQzMzMzMwFAH4XrUbge9b8ehetRuB7tP1K4HoXrUei/SOF6FK5HBUBQuB6F61HIv9ejcD0K1/c/eBSuR+F6tD9SuB6F61EEwMzMzMzMzPA/cD0K16Nw9b8UrkfhehQCwHA9CtejcPE/kML1KFyP4j+E61G4HoXrv2hmZmZmZta/cD0K16NwzT9mZmZmZmb+P+B6FK5H4dq/hOtRuB6F278zMzMzMzP/v1K4HoXrUQLAZmZmZmZm8r+kcD0K16MCwM3MzMzMzADAZmZmZmZmFUDsUbgehevBvylcj8L1KPA/XI/C9Shc/z9cj8L1KFz7v5yZmZmZmck/wB6F61G4rr+ocD0K16PAv9ejcD0K1wHAMjMzMzMz9z/+///////nv2ZmZmZmZuY/fBSuR+F6CEBcj8L1KFznPz4K16NwPfa/oJmZmZmZqT8fhetRuB4JQOJ6FK5H4fI/AAAAAAAA8L/2KFyPwvXwP4/C9Shcj/Y/16NwPQrX878oXI/C9Sjcv9ajcD0K1+s/Fa5H4XoUAkC4HoXrUbjOPxSuR+F6FA5AzMzMzMzM5D8UrkfhehTuP4brUbgehds/wvUoXI/C+T/rUbgehevpPyhcj8L1KPC/zszMzMzM5L8ghetRuB7VP8T1KFyPwtU/cT0K16Nw8b9SuB6F61HovzQzMzMzM9M/MjMzMzMz0z9mZmZmZmbuv6RwPQrXo/Q/PgrXo3A9AkBSuB6F61H4P65H4XoUrvc/zczMzMzM8D/sUbgehevRvwjXo3A9Cu+/rkfhehSu87/iehSuR+ESQD0K16NwPQBA2KNwPQrX97/sUbgehevpP+BRuB6F67G/FK5H4XoUAED////////nv3oUrkfhevw/C9ejcD0K8z+4HoXrUbjeP3AUrkfheqS/H4XrUbgeDUBYuB6F61HIP+xRuB6F69G/8FG4HoXrsT+4HoXrUbj2v4brUbgehfs/ULgehetR2D9UuB6F61HYPxDXo3A9Cre/Fa5H4XoU/j/gehSuR+HKvylcj8L1KPS/KFyPwvUo3D9dj8L1KFzvvx6F61G4HgNAHIXrUbge7T+AFK5H4Xqkv8P1KFyPwvW/4XoUrkfh8r+uR+F6FK7Xv+J6FK5H4fI/H4XrUbge8b9wPQrXo3AQQMAehetRuJ4/AAAAAAAAAABxPQrXo3DtP1yPwvUoXPM/KFyPwvUo3L8UrkfhehQCQOhRuB6F67E/mJmZmZmZyT+AFK5H4XqUP5qZmZmZmeE/7FG4HoXrB8BwPQrXo3DtPyhcj8L1KAJAzszMzMzM3L+F61G4HoXzPx6F61G4HvG/4noUrkfh2r8AAAAAAAAEwOJ6FK5H4eI/QDMzMzMzwz+jcD0K16PgPwzXo3A9Cse/gBSuR+F6tD9wFK5H4XqkPwEAAAAAAOC/7FG4HoXr8T8fhetRuB7lv7gehetRuOY/eBSuR+F6xD9wPQrXo3AFQK5H4XoUrte/cT0K16Nw9b/gUbgeheuxP8AehetRuL4/gBSuR+F6hD8ehetRuB7tv3AUrkfhesS/MjMzMzMz4z8+CtejcD0CQOB6FK5H4fK/rkfhehSu5z/NzMzMzMwIQOxRuB6F6/k/4noUrkfhBEBI4XoUrkfpP2ZmZmZmZtY/7FG4HoXr4b+F61G4HoXbv8P1KFyPwgFA4noUrkfh9j9QuB6F61HIv+B6FK5H4do/pHA9Ctej4D96FK5H4XrsP/BRuB6F68E/XI/C9Shc978UrkfhehTuP6NwPQrXo/g/VLgehetRyL8fhetRuB7lP6RwPQrXo/Q/kML1KFyP0r8L16NwPQoDQGZmZmZmZvq//////////7/+///////vv7gehetRuPY/uB6F61G43j/OzMzMzMz4P7kehetRuOY/7FG4HoXr/b+kcD0K16PQvxSuR+F6FABA9ihcj8L14D+uR+F6FK73P5qZmZmZmfE/16NwPQrXB0BI4XoUrkfRv6hwPQrXo8A/9ihcj8L16D80MzMzMzPjv3sUrkfhehBA9Chcj8L12L8oXI/C9Sj4P6NwPQrXo+i/AAAAAAAA6L8wXI/C9SjMP65H4XoUrve/wvUoXI/C1b+amZmZmZnhv8L1KFyPwvU//v//////3z8L16NwPQr3P1yPwvUoXO8/UrgehetR9D/Uo3A9CtfTv2dmZmZmZu6/7FG4HoXr9T97FK5H4XoIwAjXo3A9Cte/4XoUrkfhBMA=",
          "dtype": "f8"
         },
         "xaxis": "x",
         "yaxis": "y"
        },
        {
         "hovertemplate": "xG diff: %{x:.3f}<br>Count: %{y}<extra></extra>",
         "legendgroup": "",
         "marker": {
          "color": "#636efa"
         },
         "name": "",
         "notched": true,
         "showlegend": false,
         "type": "box",
         "x": {
          "bdata": "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",
          "dtype": "f8"
         },
         "xaxis": "x2",
         "yaxis": "y2"
        }
       ],
       "layout": {
        "barmode": "relative",
        "legend": {
         "tracegroupgap": 0
        },
        "shapes": [
         {
          "line": {
           "color": "gray",
           "dash": "dash",
           "width": 2
          },
          "type": "line",
          "x0": 0,
          "x1": 0,
          "xref": "x",
          "y0": 0,
          "y1": 1,
          "yref": "y domain"
         },
         {
          "line": {
           "color": "gray",
           "dash": "dash",
           "width": 2
          },
          "type": "line",
          "x0": 0,
          "x1": 0,
          "xref": "x2",
          "y0": 0,
          "y1": 1,
          "yref": "y2 domain"
         }
        ],
        "template": {
         "data": {
          "bar": [
           {
            "error_x": {
             "color": "#2a3f5f"
            },
            "error_y": {
             "color": "#2a3f5f"
            },
            "marker": {
             "line": {
              "color": "#E5ECF6",
              "width": 0.5
             },
             "pattern": {
              "fillmode": "overlay",
              "size": 10,
              "solidity": 0.2
             }
            },
            "type": "bar"
           }
          ],
          "barpolar": [
           {
            "marker": {
             "line": {
              "color": "#E5ECF6",
              "width": 0.5
             },
             "pattern": {
              "fillmode": "overlay",
              "size": 10,
              "solidity": 0.2
             }
            },
            "type": "barpolar"
           }
          ],
          "carpet": [
           {
            "aaxis": {
             "endlinecolor": "#2a3f5f",
             "gridcolor": "white",
             "linecolor": "white",
             "minorgridcolor": "white",
             "startlinecolor": "#2a3f5f"
            },
            "baxis": {
             "endlinecolor": "#2a3f5f",
             "gridcolor": "white",
             "linecolor": "white",
             "minorgridcolor": "white",
             "startlinecolor": "#2a3f5f"
            },
            "type": "carpet"
           }
          ],
          "choropleth": [
           {
            "colorbar": {
             "outlinewidth": 0,
             "ticks": ""
            },
            "type": "choropleth"
           }
          ],
          "contour": [
           {
            "colorbar": {
             "outlinewidth": 0,
             "ticks": ""
            },
            "colorscale": [
             [
              0,
              "#0d0887"
             ],
             [
              0.1111111111111111,
              "#46039f"
             ],
             [
              0.2222222222222222,
              "#7201a8"
             ],
             [
              0.3333333333333333,
              "#9c179e"
             ],
             [
              0.4444444444444444,
              "#bd3786"
             ],
             [
              0.5555555555555556,
              "#d8576b"
             ],
             [
              0.6666666666666666,
              "#ed7953"
             ],
             [
              0.7777777777777778,
              "#fb9f3a"
             ],
             [
              0.8888888888888888,
              "#fdca26"
             ],
             [
              1,
              "#f0f921"
             ]
            ],
            "type": "contour"
           }
          ],
          "contourcarpet": [
           {
            "colorbar": {
             "outlinewidth": 0,
             "ticks": ""
            },
            "type": "contourcarpet"
           }
          ],
          "heatmap": [
           {
            "colorbar": {
             "outlinewidth": 0,
             "ticks": ""
            },
            "colorscale": [
             [
              0,
              "#0d0887"
             ],
             [
              0.1111111111111111,
              "#46039f"
             ],
             [
              0.2222222222222222,
              "#7201a8"
             ],
             [
              0.3333333333333333,
              "#9c179e"
             ],
             [
              0.4444444444444444,
              "#bd3786"
             ],
             [
              0.5555555555555556,
              "#d8576b"
             ],
             [
              0.6666666666666666,
              "#ed7953"
             ],
             [
              0.7777777777777778,
              "#fb9f3a"
             ],
             [
              0.8888888888888888,
              "#fdca26"
             ],
             [
              1,
              "#f0f921"
             ]
            ],
            "type": "heatmap"
           }
          ],
          "histogram": [
           {
            "marker": {
             "pattern": {
              "fillmode": "overlay",
              "size": 10,
              "solidity": 0.2
             }
            },
            "type": "histogram"
           }
          ],
          "histogram2d": [
           {
            "colorbar": {
             "outlinewidth": 0,
             "ticks": ""
            },
            "colorscale": [
             [
              0,
              "#0d0887"
             ],
             [
              0.1111111111111111,
              "#46039f"
             ],
             [
              0.2222222222222222,
              "#7201a8"
             ],
             [
              0.3333333333333333,
              "#9c179e"
             ],
             [
              0.4444444444444444,
              "#bd3786"
             ],
             [
              0.5555555555555556,
              "#d8576b"
             ],
             [
              0.6666666666666666,
              "#ed7953"
             ],
             [
              0.7777777777777778,
              "#fb9f3a"
             ],
             [
              0.8888888888888888,
              "#fdca26"
             ],
             [
              1,
              "#f0f921"
             ]
            ],
            "type": "histogram2d"
           }
          ],
          "histogram2dcontour": [
           {
            "colorbar": {
             "outlinewidth": 0,
             "ticks": ""
            },
            "colorscale": [
             [
              0,
              "#0d0887"
             ],
             [
              0.1111111111111111,
              "#46039f"
             ],
             [
              0.2222222222222222,
              "#7201a8"
             ],
             [
              0.3333333333333333,
              "#9c179e"
             ],
             [
              0.4444444444444444,
              "#bd3786"
             ],
             [
              0.5555555555555556,
              "#d8576b"
             ],
             [
              0.6666666666666666,
              "#ed7953"
             ],
             [
              0.7777777777777778,
              "#fb9f3a"
             ],
             [
              0.8888888888888888,
              "#fdca26"
             ],
             [
              1,
              "#f0f921"
             ]
            ],
            "type": "histogram2dcontour"
           }
          ],
          "mesh3d": [
           {
            "colorbar": {
             "outlinewidth": 0,
             "ticks": ""
            },
            "type": "mesh3d"
           }
          ],
          "parcoords": [
           {
            "line": {
             "colorbar": {
              "outlinewidth": 0,
              "ticks": ""
             }
            },
            "type": "parcoords"
           }
          ],
          "pie": [
           {
            "automargin": true,
            "type": "pie"
           }
          ],
          "scatter": [
           {
            "fillpattern": {
             "fillmode": "overlay",
             "size": 10,
             "solidity": 0.2
            },
            "type": "scatter"
           }
          ],
          "scatter3d": [
           {
            "line": {
             "colorbar": {
              "outlinewidth": 0,
              "ticks": ""
             }
            },
            "marker": {
             "colorbar": {
              "outlinewidth": 0,
              "ticks": ""
             }
            },
            "type": "scatter3d"
           }
          ],
          "scattercarpet": [
           {
            "marker": {
             "colorbar": {
              "outlinewidth": 0,
              "ticks": ""
             }
            },
            "type": "scattercarpet"
           }
          ],
          "scattergeo": [
           {
            "marker": {
             "colorbar": {
              "outlinewidth": 0,
              "ticks": ""
             }
            },
            "type": "scattergeo"
           }
          ],
          "scattergl": [
           {
            "marker": {
             "colorbar": {
              "outlinewidth": 0,
              "ticks": ""
             }
            },
            "type": "scattergl"
           }
          ],
          "scattermap": [
           {
            "marker": {
             "colorbar": {
              "outlinewidth": 0,
              "ticks": ""
             }
            },
            "type": "scattermap"
           }
          ],
          "scattermapbox": [
           {
            "marker": {
             "colorbar": {
              "outlinewidth": 0,
              "ticks": ""
             }
            },
            "type": "scattermapbox"
           }
          ],
          "scatterpolar": [
           {
            "marker": {
             "colorbar": {
              "outlinewidth": 0,
              "ticks": ""
             }
            },
            "type": "scatterpolar"
           }
          ],
          "scatterpolargl": [
           {
            "marker": {
             "colorbar": {
              "outlinewidth": 0,
              "ticks": ""
             }
            },
            "type": "scatterpolargl"
           }
          ],
          "scatterternary": [
           {
            "marker": {
             "colorbar": {
              "outlinewidth": 0,
              "ticks": ""
             }
            },
            "type": "scatterternary"
           }
          ],
          "surface": [
           {
            "colorbar": {
             "outlinewidth": 0,
             "ticks": ""
            },
            "colorscale": [
             [
              0,
              "#0d0887"
             ],
             [
              0.1111111111111111,
              "#46039f"
             ],
             [
              0.2222222222222222,
              "#7201a8"
             ],
             [
              0.3333333333333333,
              "#9c179e"
             ],
             [
              0.4444444444444444,
              "#bd3786"
             ],
             [
              0.5555555555555556,
              "#d8576b"
             ],
             [
              0.6666666666666666,
              "#ed7953"
             ],
             [
              0.7777777777777778,
              "#fb9f3a"
             ],
             [
              0.8888888888888888,
              "#fdca26"
             ],
             [
              1,
              "#f0f921"
             ]
            ],
            "type": "surface"
           }
          ],
          "table": [
           {
            "cells": {
             "fill": {
              "color": "#EBF0F8"
             },
             "line": {
              "color": "white"
             }
            },
            "header": {
             "fill": {
              "color": "#C8D4E3"
             },
             "line": {
              "color": "white"
             }
            },
            "type": "table"
           }
          ]
         },
         "layout": {
          "annotationdefaults": {
           "arrowcolor": "#2a3f5f",
           "arrowhead": 0,
           "arrowwidth": 1
          },
          "autotypenumbers": "strict",
          "coloraxis": {
           "colorbar": {
            "outlinewidth": 0,
            "ticks": ""
           }
          },
          "colorscale": {
           "diverging": [
            [
             0,
             "#8e0152"
            ],
            [
             0.1,
             "#c51b7d"
            ],
            [
             0.2,
             "#de77ae"
            ],
            [
             0.3,
             "#f1b6da"
            ],
            [
             0.4,
             "#fde0ef"
            ],
            [
             0.5,
             "#f7f7f7"
            ],
            [
             0.6,
             "#e6f5d0"
            ],
            [
             0.7,
             "#b8e186"
            ],
            [
             0.8,
             "#7fbc41"
            ],
            [
             0.9,
             "#4d9221"
            ],
            [
             1,
             "#276419"
            ]
           ],
           "sequential": [
            [
             0,
             "#0d0887"
            ],
            [
             0.1111111111111111,
             "#46039f"
            ],
            [
             0.2222222222222222,
             "#7201a8"
            ],
            [
             0.3333333333333333,
             "#9c179e"
            ],
            [
             0.4444444444444444,
             "#bd3786"
            ],
            [
             0.5555555555555556,
             "#d8576b"
            ],
            [
             0.6666666666666666,
             "#ed7953"
            ],
            [
             0.7777777777777778,
             "#fb9f3a"
            ],
            [
             0.8888888888888888,
             "#fdca26"
            ],
            [
             1,
             "#f0f921"
            ]
           ],
           "sequentialminus": [
            [
             0,
             "#0d0887"
            ],
            [
             0.1111111111111111,
             "#46039f"
            ],
            [
             0.2222222222222222,
             "#7201a8"
            ],
            [
             0.3333333333333333,
             "#9c179e"
            ],
            [
             0.4444444444444444,
             "#bd3786"
            ],
            [
             0.5555555555555556,
             "#d8576b"
            ],
            [
             0.6666666666666666,
             "#ed7953"
            ],
            [
             0.7777777777777778,
             "#fb9f3a"
            ],
            [
             0.8888888888888888,
             "#fdca26"
            ],
            [
             1,
             "#f0f921"
            ]
           ]
          },
          "colorway": [
           "#636efa",
           "#EF553B",
           "#00cc96",
           "#ab63fa",
           "#FFA15A",
           "#19d3f3",
           "#FF6692",
           "#B6E880",
           "#FF97FF",
           "#FECB52"
          ],
          "font": {
           "color": "#2a3f5f"
          },
          "geo": {
           "bgcolor": "white",
           "lakecolor": "white",
           "landcolor": "#E5ECF6",
           "showlakes": true,
           "showland": true,
           "subunitcolor": "white"
          },
          "hoverlabel": {
           "align": "left"
          },
          "hovermode": "closest",
          "mapbox": {
           "style": "light"
          },
          "paper_bgcolor": "white",
          "plot_bgcolor": "#E5ECF6",
          "polar": {
           "angularaxis": {
            "gridcolor": "white",
            "linecolor": "white",
            "ticks": ""
           },
           "bgcolor": "#E5ECF6",
           "radialaxis": {
            "gridcolor": "white",
            "linecolor": "white",
            "ticks": ""
           }
          },
          "scene": {
           "xaxis": {
            "backgroundcolor": "#E5ECF6",
            "gridcolor": "white",
            "gridwidth": 2,
            "linecolor": "white",
            "showbackground": true,
            "ticks": "",
            "zerolinecolor": "white"
           },
           "yaxis": {
            "backgroundcolor": "#E5ECF6",
            "gridcolor": "white",
            "gridwidth": 2,
            "linecolor": "white",
            "showbackground": true,
            "ticks": "",
            "zerolinecolor": "white"
           },
           "zaxis": {
            "backgroundcolor": "#E5ECF6",
            "gridcolor": "white",
            "gridwidth": 2,
            "linecolor": "white",
            "showbackground": true,
            "ticks": "",
            "zerolinecolor": "white"
           }
          },
          "shapedefaults": {
           "line": {
            "color": "#2a3f5f"
           }
          },
          "ternary": {
           "aaxis": {
            "gridcolor": "white",
            "linecolor": "white",
            "ticks": ""
           },
           "baxis": {
            "gridcolor": "white",
            "linecolor": "white",
            "ticks": ""
           },
           "bgcolor": "#E5ECF6",
           "caxis": {
            "gridcolor": "white",
            "linecolor": "white",
            "ticks": ""
           }
          },
          "title": {
           "x": 0.05
          },
          "xaxis": {
           "automargin": true,
           "gridcolor": "white",
           "linecolor": "white",
           "ticks": "",
           "title": {
            "standoff": 15
           },
           "zerolinecolor": "white",
           "zerolinewidth": 2
          },
          "yaxis": {
           "automargin": true,
           "gridcolor": "white",
           "linecolor": "white",
           "ticks": "",
           "title": {
            "standoff": 15
           },
           "zerolinecolor": "white",
           "zerolinewidth": 2
          }
         }
        },
        "title": {
         "text": "xG Difference per Match (Home - Away)"
        },
        "xaxis": {
         "anchor": "y",
         "domain": [
          0,
          1
         ],
         "title": {
          "text": "xG Difference (Home - Away)"
         }
        },
        "xaxis2": {
         "anchor": "y2",
         "domain": [
          0,
          1
         ],
         "matches": "x",
         "showgrid": true,
         "showticklabels": false
        },
        "yaxis": {
         "anchor": "x",
         "domain": [
          0,
          0.8316
         ],
         "title": {
          "text": "count"
         }
        },
        "yaxis2": {
         "anchor": "x2",
         "domain": [
          0.8416,
          1
         ],
         "matches": "y2",
         "showgrid": false,
         "showline": false,
         "showticklabels": false,
         "ticks": ""
        }
       }
      }
     },
     "metadata": {},
     "output_type": "display_data"
    }
   ],
   "source": [
    "import pandas as pd\n",
    "import plotly.express as px\n",
    "\n",
    "# xG difference per match = home_xg - away_xg\n",
    "# 경기 단위 xG 차이 = 홈 xG - 원정 xG\n",
    "df[\"xg_diff\"] = (df[\"home_xg\"] - df[\"away_xg\"]).astype(float)\n",
    "\n",
    "# Interactive histogram with a reference line at 0\n",
    "# 0 기준선 포함 인터랙티브 히스토그램\n",
    "fig = px.histogram(\n",
    "    df.dropna(subset=[\"xg_diff\"]),\n",
    "    x=\"xg_diff\",\n",
    "    nbins=40,\n",
    "    title=\"xG Difference per Match (Home - Away)\",\n",
    "    labels={\"xg_diff\": \"xG Difference (Home - Away)\"},\n",
    "    marginal=\"box\",  # add a small boxplot on the side / 옆에 박스플롯 추가\n",
    "    opacity=0.8\n",
    ")\n",
    "fig.update_traces(hovertemplate=\"xG diff: %{x:.3f}<br>Count: %{y}<extra></extra>\")\n",
    "fig.add_vline(x=0, line_width=2, line_dash=\"dash\", line_color=\"gray\")  # reference line / 기준선\n",
    "fig.show()\n"
   ]
  },
  {
   "cell_type": "markdown",
   "metadata": {},
   "source": [
    "- English\n",
    "    \n",
    "    If the distribution is shifted to the right of 0, it means that in most matches, the home team generated more xG than the away team → a sign of home advantage.\n",
    "    If the center (mean/median) of the distribution is greater than 0, it indicates that across the league, home teams generally create better chances than away teams.\n",
    "- 한국어\n",
    "    \n",
    "    분포가 0보다 오른쪽으로 치우쳐 있으면, 대부분의 경기에서 홈팀의 기대득점(xG)이 원정보다 높았다는 의미 → 홈 어드밴티지 신호.\n",
    "    분포의 중심(평균/중앙값)이 0보다 크면, 리그 전체적으로 홈팀이 원정팀보다 더 좋은 득점 기회를 만든다는 의미."
   ]
  },
  {
   "cell_type": "markdown",
   "metadata": {},
   "source": [
    "4-2. Seasonal Mean xG Difference — Trend (시즌별 평균 xG 차이 추세)"
   ]
  },
  {
   "cell_type": "code",
   "execution_count": null,
   "metadata": {},
   "outputs": [
    {
     "data": {
      "application/vnd.plotly.v1+json": {
       "config": {
        "plotlyServerURL": "https://plot.ly"
       },
       "data": [
        {
         "customdata": {
          "bdata": "BWugbZw69z8AAAAAAMB3QEup7hlJnvY/AAAAAADAd0ByHuBRon30PwAAAAAAwHdAXWX0b3BZ9D8AAAAAAMB3QLOvBPLgJfI/AAAAAADAd0Bd4QTogonyPwAAAAAAwHdAUQR0jAQX9D8AAAAAAMB3QPILMFK0ffQ/AAAAAADAd0BKMdTasG71PwAAAAAAwHdA0qBKN2h58z8AAAAAAMB3QEArTh4xy/Y/AAAAAADAd0A=",
          "dtype": "f8",
          "shape": "11, 2"
         },
         "hovertemplate": "Season: %{x}<br>Mean xG diff: %{y:.3f}<br>Std: %{customdata[0]:.3f}<br>N: %{customdata[1]}<extra></extra>",
         "legendgroup": "",
         "line": {
          "color": "#636efa",
          "dash": "solid"
         },
         "marker": {
          "symbol": "circle"
         },
         "mode": "lines+markers",
         "name": "",
         "orientation": "v",
         "showlegend": false,
         "type": "scatter",
         "x": {
          "bdata": "3gffB+AH4QfiB+MH5AflB+YH5wfoBw==",
          "dtype": "i2"
         },
         "xaxis": "x",
         "y": {
          "bdata": "AX6ZEGqY2j8JBvhlQqjZP5gtX4v1Ftk/iIIT3ZvW3z9xhYbgu8fZPwNPRRtl+tc/H7sIWQpgyz/4U+Olm8TUP5Tpr2AJj98/HgdSQU6G3j+r+Jtfr7PXPw==",
          "dtype": "f8"
         },
         "yaxis": "y"
        }
       ],
       "layout": {
        "legend": {
         "tracegroupgap": 0
        },
        "shapes": [
         {
          "line": {
           "color": "gray",
           "dash": "dash",
           "width": 2
          },
          "type": "line",
          "x0": 0,
          "x1": 1,
          "xref": "x domain",
          "y0": 0,
          "y1": 0,
          "yref": "y"
         }
        ],
        "template": {
         "data": {
          "bar": [
           {
            "error_x": {
             "color": "#2a3f5f"
            },
            "error_y": {
             "color": "#2a3f5f"
            },
            "marker": {
             "line": {
              "color": "#E5ECF6",
              "width": 0.5
             },
             "pattern": {
              "fillmode": "overlay",
              "size": 10,
              "solidity": 0.2
             }
            },
            "type": "bar"
           }
          ],
          "barpolar": [
           {
            "marker": {
             "line": {
              "color": "#E5ECF6",
              "width": 0.5
             },
             "pattern": {
              "fillmode": "overlay",
              "size": 10,
              "solidity": 0.2
             }
            },
            "type": "barpolar"
           }
          ],
          "carpet": [
           {
            "aaxis": {
             "endlinecolor": "#2a3f5f",
             "gridcolor": "white",
             "linecolor": "white",
             "minorgridcolor": "white",
             "startlinecolor": "#2a3f5f"
            },
            "baxis": {
             "endlinecolor": "#2a3f5f",
             "gridcolor": "white",
             "linecolor": "white",
             "minorgridcolor": "white",
             "startlinecolor": "#2a3f5f"
            },
            "type": "carpet"
           }
          ],
          "choropleth": [
           {
            "colorbar": {
             "outlinewidth": 0,
             "ticks": ""
            },
            "type": "choropleth"
           }
          ],
          "contour": [
           {
            "colorbar": {
             "outlinewidth": 0,
             "ticks": ""
            },
            "colorscale": [
             [
              0,
              "#0d0887"
             ],
             [
              0.1111111111111111,
              "#46039f"
             ],
             [
              0.2222222222222222,
              "#7201a8"
             ],
             [
              0.3333333333333333,
              "#9c179e"
             ],
             [
              0.4444444444444444,
              "#bd3786"
             ],
             [
              0.5555555555555556,
              "#d8576b"
             ],
             [
              0.6666666666666666,
              "#ed7953"
             ],
             [
              0.7777777777777778,
              "#fb9f3a"
             ],
             [
              0.8888888888888888,
              "#fdca26"
             ],
             [
              1,
              "#f0f921"
             ]
            ],
            "type": "contour"
           }
          ],
          "contourcarpet": [
           {
            "colorbar": {
             "outlinewidth": 0,
             "ticks": ""
            },
            "type": "contourcarpet"
           }
          ],
          "heatmap": [
           {
            "colorbar": {
             "outlinewidth": 0,
             "ticks": ""
            },
            "colorscale": [
             [
              0,
              "#0d0887"
             ],
             [
              0.1111111111111111,
              "#46039f"
             ],
             [
              0.2222222222222222,
              "#7201a8"
             ],
             [
              0.3333333333333333,
              "#9c179e"
             ],
             [
              0.4444444444444444,
              "#bd3786"
             ],
             [
              0.5555555555555556,
              "#d8576b"
             ],
             [
              0.6666666666666666,
              "#ed7953"
             ],
             [
              0.7777777777777778,
              "#fb9f3a"
             ],
             [
              0.8888888888888888,
              "#fdca26"
             ],
             [
              1,
              "#f0f921"
             ]
            ],
            "type": "heatmap"
           }
          ],
          "histogram": [
           {
            "marker": {
             "pattern": {
              "fillmode": "overlay",
              "size": 10,
              "solidity": 0.2
             }
            },
            "type": "histogram"
           }
          ],
          "histogram2d": [
           {
            "colorbar": {
             "outlinewidth": 0,
             "ticks": ""
            },
            "colorscale": [
             [
              0,
              "#0d0887"
             ],
             [
              0.1111111111111111,
              "#46039f"
             ],
             [
              0.2222222222222222,
              "#7201a8"
             ],
             [
              0.3333333333333333,
              "#9c179e"
             ],
             [
              0.4444444444444444,
              "#bd3786"
             ],
             [
              0.5555555555555556,
              "#d8576b"
             ],
             [
              0.6666666666666666,
              "#ed7953"
             ],
             [
              0.7777777777777778,
              "#fb9f3a"
             ],
             [
              0.8888888888888888,
              "#fdca26"
             ],
             [
              1,
              "#f0f921"
             ]
            ],
            "type": "histogram2d"
           }
          ],
          "histogram2dcontour": [
           {
            "colorbar": {
             "outlinewidth": 0,
             "ticks": ""
            },
            "colorscale": [
             [
              0,
              "#0d0887"
             ],
             [
              0.1111111111111111,
              "#46039f"
             ],
             [
              0.2222222222222222,
              "#7201a8"
             ],
             [
              0.3333333333333333,
              "#9c179e"
             ],
             [
              0.4444444444444444,
              "#bd3786"
             ],
             [
              0.5555555555555556,
              "#d8576b"
             ],
             [
              0.6666666666666666,
              "#ed7953"
             ],
             [
              0.7777777777777778,
              "#fb9f3a"
             ],
             [
              0.8888888888888888,
              "#fdca26"
             ],
             [
              1,
              "#f0f921"
             ]
            ],
            "type": "histogram2dcontour"
           }
          ],
          "mesh3d": [
           {
            "colorbar": {
             "outlinewidth": 0,
             "ticks": ""
            },
            "type": "mesh3d"
           }
          ],
          "parcoords": [
           {
            "line": {
             "colorbar": {
              "outlinewidth": 0,
              "ticks": ""
             }
            },
            "type": "parcoords"
           }
          ],
          "pie": [
           {
            "automargin": true,
            "type": "pie"
           }
          ],
          "scatter": [
           {
            "fillpattern": {
             "fillmode": "overlay",
             "size": 10,
             "solidity": 0.2
            },
            "type": "scatter"
           }
          ],
          "scatter3d": [
           {
            "line": {
             "colorbar": {
              "outlinewidth": 0,
              "ticks": ""
             }
            },
            "marker": {
             "colorbar": {
              "outlinewidth": 0,
              "ticks": ""
             }
            },
            "type": "scatter3d"
           }
          ],
          "scattercarpet": [
           {
            "marker": {
             "colorbar": {
              "outlinewidth": 0,
              "ticks": ""
             }
            },
            "type": "scattercarpet"
           }
          ],
          "scattergeo": [
           {
            "marker": {
             "colorbar": {
              "outlinewidth": 0,
              "ticks": ""
             }
            },
            "type": "scattergeo"
           }
          ],
          "scattergl": [
           {
            "marker": {
             "colorbar": {
              "outlinewidth": 0,
              "ticks": ""
             }
            },
            "type": "scattergl"
           }
          ],
          "scattermap": [
           {
            "marker": {
             "colorbar": {
              "outlinewidth": 0,
              "ticks": ""
             }
            },
            "type": "scattermap"
           }
          ],
          "scattermapbox": [
           {
            "marker": {
             "colorbar": {
              "outlinewidth": 0,
              "ticks": ""
             }
            },
            "type": "scattermapbox"
           }
          ],
          "scatterpolar": [
           {
            "marker": {
             "colorbar": {
              "outlinewidth": 0,
              "ticks": ""
             }
            },
            "type": "scatterpolar"
           }
          ],
          "scatterpolargl": [
           {
            "marker": {
             "colorbar": {
              "outlinewidth": 0,
              "ticks": ""
             }
            },
            "type": "scatterpolargl"
           }
          ],
          "scatterternary": [
           {
            "marker": {
             "colorbar": {
              "outlinewidth": 0,
              "ticks": ""
             }
            },
            "type": "scatterternary"
           }
          ],
          "surface": [
           {
            "colorbar": {
             "outlinewidth": 0,
             "ticks": ""
            },
            "colorscale": [
             [
              0,
              "#0d0887"
             ],
             [
              0.1111111111111111,
              "#46039f"
             ],
             [
              0.2222222222222222,
              "#7201a8"
             ],
             [
              0.3333333333333333,
              "#9c179e"
             ],
             [
              0.4444444444444444,
              "#bd3786"
             ],
             [
              0.5555555555555556,
              "#d8576b"
             ],
             [
              0.6666666666666666,
              "#ed7953"
             ],
             [
              0.7777777777777778,
              "#fb9f3a"
             ],
             [
              0.8888888888888888,
              "#fdca26"
             ],
             [
              1,
              "#f0f921"
             ]
            ],
            "type": "surface"
           }
          ],
          "table": [
           {
            "cells": {
             "fill": {
              "color": "#EBF0F8"
             },
             "line": {
              "color": "white"
             }
            },
            "header": {
             "fill": {
              "color": "#C8D4E3"
             },
             "line": {
              "color": "white"
             }
            },
            "type": "table"
           }
          ]
         },
         "layout": {
          "annotationdefaults": {
           "arrowcolor": "#2a3f5f",
           "arrowhead": 0,
           "arrowwidth": 1
          },
          "autotypenumbers": "strict",
          "coloraxis": {
           "colorbar": {
            "outlinewidth": 0,
            "ticks": ""
           }
          },
          "colorscale": {
           "diverging": [
            [
             0,
             "#8e0152"
            ],
            [
             0.1,
             "#c51b7d"
            ],
            [
             0.2,
             "#de77ae"
            ],
            [
             0.3,
             "#f1b6da"
            ],
            [
             0.4,
             "#fde0ef"
            ],
            [
             0.5,
             "#f7f7f7"
            ],
            [
             0.6,
             "#e6f5d0"
            ],
            [
             0.7,
             "#b8e186"
            ],
            [
             0.8,
             "#7fbc41"
            ],
            [
             0.9,
             "#4d9221"
            ],
            [
             1,
             "#276419"
            ]
           ],
           "sequential": [
            [
             0,
             "#0d0887"
            ],
            [
             0.1111111111111111,
             "#46039f"
            ],
            [
             0.2222222222222222,
             "#7201a8"
            ],
            [
             0.3333333333333333,
             "#9c179e"
            ],
            [
             0.4444444444444444,
             "#bd3786"
            ],
            [
             0.5555555555555556,
             "#d8576b"
            ],
            [
             0.6666666666666666,
             "#ed7953"
            ],
            [
             0.7777777777777778,
             "#fb9f3a"
            ],
            [
             0.8888888888888888,
             "#fdca26"
            ],
            [
             1,
             "#f0f921"
            ]
           ],
           "sequentialminus": [
            [
             0,
             "#0d0887"
            ],
            [
             0.1111111111111111,
             "#46039f"
            ],
            [
             0.2222222222222222,
             "#7201a8"
            ],
            [
             0.3333333333333333,
             "#9c179e"
            ],
            [
             0.4444444444444444,
             "#bd3786"
            ],
            [
             0.5555555555555556,
             "#d8576b"
            ],
            [
             0.6666666666666666,
             "#ed7953"
            ],
            [
             0.7777777777777778,
             "#fb9f3a"
            ],
            [
             0.8888888888888888,
             "#fdca26"
            ],
            [
             1,
             "#f0f921"
            ]
           ]
          },
          "colorway": [
           "#636efa",
           "#EF553B",
           "#00cc96",
           "#ab63fa",
           "#FFA15A",
           "#19d3f3",
           "#FF6692",
           "#B6E880",
           "#FF97FF",
           "#FECB52"
          ],
          "font": {
           "color": "#2a3f5f"
          },
          "geo": {
           "bgcolor": "white",
           "lakecolor": "white",
           "landcolor": "#E5ECF6",
           "showlakes": true,
           "showland": true,
           "subunitcolor": "white"
          },
          "hoverlabel": {
           "align": "left"
          },
          "hovermode": "closest",
          "mapbox": {
           "style": "light"
          },
          "paper_bgcolor": "white",
          "plot_bgcolor": "#E5ECF6",
          "polar": {
           "angularaxis": {
            "gridcolor": "white",
            "linecolor": "white",
            "ticks": ""
           },
           "bgcolor": "#E5ECF6",
           "radialaxis": {
            "gridcolor": "white",
            "linecolor": "white",
            "ticks": ""
           }
          },
          "scene": {
           "xaxis": {
            "backgroundcolor": "#E5ECF6",
            "gridcolor": "white",
            "gridwidth": 2,
            "linecolor": "white",
            "showbackground": true,
            "ticks": "",
            "zerolinecolor": "white"
           },
           "yaxis": {
            "backgroundcolor": "#E5ECF6",
            "gridcolor": "white",
            "gridwidth": 2,
            "linecolor": "white",
            "showbackground": true,
            "ticks": "",
            "zerolinecolor": "white"
           },
           "zaxis": {
            "backgroundcolor": "#E5ECF6",
            "gridcolor": "white",
            "gridwidth": 2,
            "linecolor": "white",
            "showbackground": true,
            "ticks": "",
            "zerolinecolor": "white"
           }
          },
          "shapedefaults": {
           "line": {
            "color": "#2a3f5f"
           }
          },
          "ternary": {
           "aaxis": {
            "gridcolor": "white",
            "linecolor": "white",
            "ticks": ""
           },
           "baxis": {
            "gridcolor": "white",
            "linecolor": "white",
            "ticks": ""
           },
           "bgcolor": "#E5ECF6",
           "caxis": {
            "gridcolor": "white",
            "linecolor": "white",
            "ticks": ""
           }
          },
          "title": {
           "x": 0.05
          },
          "xaxis": {
           "automargin": true,
           "gridcolor": "white",
           "linecolor": "white",
           "ticks": "",
           "title": {
            "standoff": 15
           },
           "zerolinecolor": "white",
           "zerolinewidth": 2
          },
          "yaxis": {
           "automargin": true,
           "gridcolor": "white",
           "linecolor": "white",
           "ticks": "",
           "title": {
            "standoff": 15
           },
           "zerolinecolor": "white",
           "zerolinewidth": 2
          }
         }
        },
        "title": {
         "text": "Seasonal Mean xG Difference (Home - Away)"
        },
        "xaxis": {
         "anchor": "y",
         "domain": [
          0,
          1
         ],
         "title": {
          "text": "Season"
         }
        },
        "yaxis": {
         "anchor": "x",
         "domain": [
          0,
          1
         ],
         "title": {
          "text": "Mean xG Difference"
         }
        }
       }
      }
     },
     "metadata": {},
     "output_type": "display_data"
    }
   ],
   "source": [
    "import numpy as np\n",
    "import plotly.express as px\n",
    "\n",
    "# Aggregate by season: mean, std, count of xg_diff\n",
    "# 시즌별 xg_diff의 평균/표준편차/표본수 집계\n",
    "season_xgdiff = (df\n",
    "    .dropna(subset=[\"xg_diff\"])\n",
    "    .groupby(\"season\")\n",
    "    .agg(mean_xg_diff=(\"xg_diff\",\"mean\"),\n",
    "         std_xg_diff=(\"xg_diff\",\"std\"),\n",
    "         n=(\"xg_diff\",\"size\"))\n",
    "    .reset_index()\n",
    ")\n",
    "\n",
    "# Interactive line chart\n",
    "# 인터랙티브 라인 차트\n",
    "fig = px.line(\n",
    "    season_xgdiff,\n",
    "    x=\"season\", y=\"mean_xg_diff\",\n",
    "    markers=True,\n",
    "    title=\"Seasonal Mean xG Difference (Home - Away)\",\n",
    "    labels={\"season\":\"Season\",\"mean_xg_diff\":\"Mean xG Difference\"},\n",
    "    hover_data={\"std_xg_diff\":\":.3f\",\"n\":True}\n",
    ")\n",
    "fig.add_hline(y=0, line_width=2, line_dash=\"dash\", line_color=\"gray\")  # reference line / 기준선\n",
    "fig.update_traces(hovertemplate=\"Season: %{x}<br>Mean xG diff: %{y:.3f}<br>Std: %{customdata[0]:.3f}<br>N: %{customdata[1]}<extra></extra>\")\n",
    "fig.show()\n"
   ]
  },
  {
   "cell_type": "markdown",
   "metadata": {},
   "source": [
    "- English\n",
    "\n",
    "    If the line stays above 0, that season’s average home xG was higher than away xG.\n",
    "    The slope or pattern of the line across seasons shows whether home advantage strength is increasing or decreasing over time.\n",
    "- 한국어\n",
    "\n",
    "    라인이 0 위에 있으면, 해당 시즌의 평균 홈팀 xG가 원정보다 높았다는 뜻.\n",
    "    시즌 간 라인의 기울기나 패턴을 보면 홈 어드밴티지의 강도가 시간이 지남에 따라 강화되고 있는지, 약화되고 있는지를 알 수 있음."
   ]
  },
  {
   "cell_type": "code",
   "execution_count": null,
   "metadata": {},
   "outputs": [],
   "source": [
    "# 📊 Graph Interpretation / 그래프 해석\n",
    "# ------------------------------------------------------------\n",
    "# EN:\n",
    "# X-axis (Season): From 2014 season to 2024 season (11 seasons)\n",
    "# Y-axis (Mean xG Difference): Average of (Home xG − Away xG) for each season\n",
    "# - Positive values: Home teams have higher expected goals than away teams on average\n",
    "# - Zero baseline: Home and away teams have equal expected goals\n",
    "# - Negative values: Away teams have higher expected goals than home teams (rare in this dataset)\n",
    "#\n",
    "# 📌 Key Observations:\n",
    "# - 2014–2019 seasons: Mean difference ~0.38–0.50 → Consistent home advantage in xG\n",
    "# - 2020 season: Drop to ~0.21 → Possible effect of COVID-19 no-audience matches\n",
    "# - 2021–2023 seasons: Recovered to ~0.49 → Home advantage regained\n",
    "# - 2024 season: Slight decline → Possible sign of reduced home advantage\n",
    "#\n",
    "# KO:\n",
    "# X축(Season): 2014 시즌부터 2024 시즌까지 11시즌\n",
    "# Y축(평균 xG 차이): 시즌별 (홈 xG − 원정 xG) 평균\n",
    "# - 양수 값: 홈팀이 평균적으로 원정팀보다 기대득점이 높음\n",
    "# - 0 기준선: 홈/원정 기대득점이 동일\n",
    "# - 음수 값: 원정팀이 평균적으로 홈팀보다 기대득점이 높음 (이번 데이터에서는 거의 없음)\n",
    "#\n",
    "# 📌 주요 관찰 포인트:\n",
    "# - 2014~2019 시즌: 평균 0.38~0.50 수준 → 홈팀이 꾸준히 xG 우위\n",
    "# - 2020 시즌: 약 0.21로 급감 → COVID-19 무관중 영향 가능성\n",
    "# - 2021~2023 시즌: 다시 회복하여 0.49 수준까지 상승\n",
    "# - 2024 시즌: 다소 하락 → 홈 이점 감소 가능성\n"
   ]
  },
  {
   "cell_type": "markdown",
   "metadata": {},
   "source": [
    "4-3. xG Difference by Season — Box Plot (시즌별 xG 차이 박스플롯)"
   ]
  },
  {
   "cell_type": "code",
   "execution_count": null,
   "metadata": {},
   "outputs": [
    {
     "data": {
      "application/vnd.plotly.v1+json": {
       "config": {
        "plotlyServerURL": "https://plot.ly"
       },
       "data": [
        {
         "alignmentgroup": "True",
         "hovertemplate": "Season: %{x}<br>xG diff: %{y:.3f}<extra></extra>",
         "legendgroup": "",
         "marker": {
          "color": "#636efa"
         },
         "name": "",
         "notched": false,
         "offsetgroup": "",
         "orientation": "v",
         "showlegend": false,
         "type": "box",
         "x": {
          "bdata": "3gfeB94H3gfeB94H3gfeB94H3gfeB94H3gfeB94H3gfeB94H3gfeB94H3gfeB94H3gfeB94H3gfeB94H3gfeB94H3gfeB94H3gfeB94H3gfeB94H3gfeB94H3gfeB94H3gfeB94H3gfeB94H3gfeB94H3gfeB94H3gfeB94H3gfeB94H3gfeB94H3gfeB94H3gfeB94H3gfeB94H3gfeB94H3gfeB94H3gfeB94H3gfeB94H3gfeB94H3gfeB94H3gfeB94H3gfeB94H3gfeB94H3gfeB94H3gfeB94H3gfeB94H3gfeB94H3gfeB94H3gfeB94H3gfeB94H3gfeB94H3gfeB94H3gfeB94H3gfeB94H3gfeB94H3gfeB94H3gfeB94H3gfeB94H3gfeB94H3gfeB94H3gfeB94H3gfeB94H3gfeB94H3gfeB94H3gfeB94H3gfeB94H3gfeB94H3gfeB94H3gfeB94H3gfeB94H3gfeB94H3gfeB94H3gfeB94H3gfeB94H3gfeB94H3gfeB94H3gfeB94H3gfeB94H3gfeB94H3gfeB94H3gfeB94H3gfeB94H3gfeB94H3gfeB94H3gfeB94H3gfeB94H3gfeB94H3gfeB94H3gfeB94H3gfeB94H3gfeB94H3gfeB94H3gfeB94H3gfeB94H3gfeB94H3gfeB94H3gfeB94H3gfeB94H3gfeB94H3gfeB94H3gfeB94H3gfeB94H3gfeB94H3gfeB94H3gfeB94H3gfeB94H3gfeB94H3gfeB94H3gfeB94H3gfeB94H3gfeB94H3gfeB94H3gfeB94H3gfeB94H3gfeB94H3gfeB94H3gfeB94H3gfeB94H3gfeB94H3gfeB94H3gfeB94H3gfeB94H3gfeB94H3gfeB94H3gfeB94H3gfeB94H3gfeB94H3gfeB94H3gfeB94H3gfeB94H3gfeB94H3gfeB94H3gfeB94H3gfeB94H3gfeB98H3wffB98H3wffB98H3wffB98H3wffB98H3wffB98H3wffB98H3wffB98H3wffB98H3wffB98H3wffB98H3wffB98H3wffB98H3wffB98H3wffB98H3wffB98H3wffB98H3wffB98H3wffB98H3wffB98H3wffB98H3wffB98H3wffB98H3wffB98H3wffB98H3wffB98H3wffB98H3wffB98H3wffB98H3wffB98H3wffB98H3wffB98H3wffB98H3wffB98H3wffB98H3wffB98H3wffB98H3wffB98H3wffB98H3wffB98H3wffB98H3wffB98H3wffB98H3wffB98H3wffB98H3wffB98H3wffB98H3wffB98H3wffB98H3wffB98H3wffB98H3wffB98H3wffB98H3wffB98H3wffB98H3wffB98H3wffB98H3wffB98H3wffB98H3wffB98H3wffB98H3wffB98H3wffB98H3wffB98H3wffB98H3wffB98H3wffB98H3wffB98H3wffB98H3wffB98H3wffB98H3wffB98H3wffB98H3wffB98H3wffB98H3wffB98H3wffB98H3wffB98H3wffB98H3wffB98H3wffB98H3wffB98H3wffB98H3wffB98H3wffB98H3wffB98H3wffB98H3wffB98H3wffB98H3wffB98H3wffB98H3wffB98H3wffB98H3wffB98H3wffB98H3wffB98H3wffB98H3wffB98H3wffB98H3wffB98H3wffB98H3wffB98H3wffB98H3wffB98H3wffB98H3wffB98H3wffB98H3wffB98H3wffB98H3wffB98H3wffB98H3wffB98H3wffB98H3wffB98H3wffB98H3wffB98H3wffB98H3wffB98H3wffB98H3wffB98H3wffB98H3wffB98H3wffB98H3wffB98H3wffB98H3wffB98H3wffB98H3wfgB+AH4AfgB+AH4AfgB+AH4AfgB+AH4AfgB+AH4AfgB+AH4AfgB+AH4AfgB+AH4AfgB+AH4AfgB+AH4AfgB+AH4AfgB+AH4AfgB+AH4AfgB+AH4AfgB+AH4AfgB+AH4AfgB+AH4AfgB+AH4AfgB+AH4AfgB+AH4AfgB+AH4AfgB+AH4AfgB+AH4AfgB+AH4AfgB+AH4AfgB+AH4AfgB+AH4AfgB+AH4AfgB+AH4AfgB+AH4AfgB+AH4AfgB+AH4AfgB+AH4AfgB+AH4AfgB+AH4AfgB+AH4AfgB+AH4AfgB+AH4AfgB+AH4AfgB+AH4AfgB+AH4AfgB+AH4AfgB+AH4AfgB+AH4AfgB+AH4AfgB+AH4AfgB+AH4AfgB+AH4AfgB+AH4AfgB+AH4AfgB+AH4AfgB+AH4AfgB+AH4AfgB+AH4AfgB+AH4AfgB+AH4AfgB+AH4AfgB+AH4AfgB+AH4AfgB+AH4AfgB+AH4AfgB+AH4AfgB+AH4AfgB+AH4AfgB+AH4AfgB+AH4AfgB+AH4AfgB+AH4AfgB+AH4AfgB+AH4AfgB+AH4AfgB+AH4AfgB+AH4AfgB+AH4AfgB+AH4AfgB+AH4AfgB+AH4AfgB+AH4AfgB+AH4AfgB+AH4AfgB+AH4AfgB+AH4AfgB+AH4AfgB+AH4AfgB+AH4AfgB+AH4AfgB+AH4AfgB+AH4AfgB+AH4AfgB+AH4AfgB+AH4AfgB+AH4AfgB+AH4AfgB+AH4AfgB+AH4AfgB+AH4AfgB+AH4AfgB+AH4AfgB+AH4AfgB+AH4AfgB+AH4AfgB+AH4AfgB+AH4AfgB+AH4AfgB+AH4AfgB+AH4AfgB+AH4AfgB+AH4AfgB+AH4AfgB+AH4AfgB+AH4AfgB+AH4AfgB+AH4AfgB+AH4AfgB+AH4AfgB+AH4AfgB+AH4AfgB+AH4AfgB+AH4AfgB+AH4AfgB+AH4AfgB+AH4AfgB+AH4AfgB+AH4AfgB+AH4AfgB+AH4AfgB+AH4QfhB+EH4QfhB+EH4QfhB+EH4QfhB+EH4QfhB+EH4QfhB+EH4QfhB+EH4QfhB+EH4QfhB+EH4QfhB+EH4QfhB+EH4QfhB+EH4QfhB+EH4QfhB+EH4QfhB+EH4QfhB+EH4QfhB+EH4QfhB+EH4QfhB+EH4QfhB+EH4QfhB+EH4QfhB+EH4QfhB+EH4QfhB+EH4QfhB+EH4QfhB+EH4QfhB+EH4QfhB+EH4QfhB+EH4QfhB+EH4QfhB+EH4QfhB+EH4QfhB+EH4QfhB+EH4QfhB+EH4QfhB+EH4QfhB+EH4QfhB+EH4QfhB+EH4QfhB+EH4QfhB+EH4QfhB+EH4QfhB+EH4QfhB+EH4QfhB+EH4QfhB+EH4QfhB+EH4QfhB+EH4QfhB+EH4QfhB+EH4QfhB+EH4QfhB+EH4QfhB+EH4QfhB+EH4QfhB+EH4QfhB+EH4QfhB+EH4QfhB+EH4QfhB+EH4QfhB+EH4QfhB+EH4QfhB+EH4QfhB+EH4QfhB+EH4QfhB+EH4QfhB+EH4QfhB+EH4QfhB+EH4QfhB+EH4QfhB+EH4QfhB+EH4QfhB+EH4QfhB+EH4QfhB+EH4QfhB+EH4QfhB+EH4QfhB+EH4QfhB+EH4QfhB+EH4QfhB+EH4QfhB+EH4QfhB+EH4QfhB+EH4QfhB+EH4QfhB+EH4QfhB+EH4QfhB+EH4QfhB+EH4QfhB+EH4QfhB+EH4QfhB+EH4QfhB+EH4QfhB+EH4QfhB+EH4QfhB+EH4QfhB+EH4QfhB+EH4QfhB+EH4QfhB+EH4QfhB+EH4QfhB+EH4QfhB+EH4QfhB+EH4QfhB+EH4QfhB+EH4QfhB+EH4QfhB+EH4QfhB+EH4QfhB+EH4QfhB+EH4QfhB+EH4QfhB+EH4QfhB+EH4QfhB+EH4QfhB+EH4QfhB+EH4QfhB+EH4QfhB+EH4QfhB+EH4QfhB+EH4QfhB+EH4QfhB+EH4QfhB+EH4QfhB+EH4QfhB+EH4QfhB+EH4QfhB+IH4gfiB+IH4gfiB+IH4gfiB+IH4gfiB+IH4gfiB+IH4gfiB+IH4gfiB+IH4gfiB+IH4gfiB+IH4gfiB+IH4gfiB+IH4gfiB+IH4gfiB+IH4gfiB+IH4gfiB+IH4gfiB+IH4gfiB+IH4gfiB+IH4gfiB+IH4gfiB+IH4gfiB+IH4gfiB+IH4gfiB+IH4gfiB+IH4gfiB+IH4gfiB+IH4gfiB+IH4gfiB+IH4gfiB+IH4gfiB+IH4gfiB+IH4gfiB+IH4gfiB+IH4gfiB+IH4gfiB+IH4gfiB+IH4gfiB+IH4gfiB+IH4gfiB+IH4gfiB+IH4gfiB+IH4gfiB+IH4gfiB+IH4gfiB+IH4gfiB+IH4gfiB+IH4gfiB+IH4gfiB+IH4gfiB+IH4gfiB+IH4gfiB+IH4gfiB+IH4gfiB+IH4gfiB+IH4gfiB+IH4gfiB+IH4gfiB+IH4gfiB+IH4gfiB+IH4gfiB+IH4gfiB+IH4gfiB+IH4gfiB+IH4gfiB+IH4gfiB+IH4gfiB+IH4gfiB+IH4gfiB+IH4gfiB+IH4gfiB+IH4gfiB+IH4gfiB+IH4gfiB+IH4gfiB+IH4gfiB+IH4gfiB+IH4gfiB+IH4gfiB+IH4gfiB+IH4gfiB+IH4gfiB+IH4gfiB+IH4gfiB+IH4gfiB+IH4gfiB+IH4gfiB+IH4gfiB+IH4gfiB+IH4gfiB+IH4gfiB+IH4gfiB+IH4gfiB+IH4gfiB+IH4gfiB+IH4gfiB+IH4gfiB+IH4gfiB+IH4gfiB+IH4gfiB+IH4gfiB+IH4gfiB+IH4gfiB+IH4gfiB+IH4gfiB+IH4gfiB+IH4gfiB+IH4gfiB+IH4gfiB+IH4gfiB+IH4gfiB+IH4gfiB+IH4gfiB+IH4gfiB+IH4gfiB+IH4gfiB+IH4gfiB+IH4gfiB+IH4gfiB+IH4gfiB+IH4gfiB+IH4gfiB+IH4gfiB+IH4gfiB+IH4gfiB+IH4gfiB+IH4gfiB+IH4gfjB+MH4wfjB+MH4wfjB+MH4wfjB+MH4wfjB+MH4wfjB+MH4wfjB+MH4wfjB+MH4wfjB+MH4wfjB+MH4wfjB+MH4wfjB+MH4wfjB+MH4wfjB+MH4wfjB+MH4wfjB+MH4wfjB+MH4wfjB+MH4wfjB+MH4wfjB+MH4wfjB+MH4wfjB+MH4wfjB+MH4wfjB+MH4wfjB+MH4wfjB+MH4wfjB+MH4wfjB+MH4wfjB+MH4wfjB+MH4wfjB+MH4wfjB+MH4wfjB+MH4wfjB+MH4wfjB+MH4wfjB+MH4wfjB+MH4wfjB+MH4wfjB+MH4wfjB+MH4wfjB+MH4wfjB+MH4wfjB+MH4wfjB+MH4wfjB+MH4wfjB+MH4wfjB+MH4wfjB+MH4wfjB+MH4wfjB+MH4wfjB+MH4wfjB+MH4wfjB+MH4wfjB+MH4wfjB+MH4wfjB+MH4wfjB+MH4wfjB+MH4wfjB+MH4wfjB+MH4wfjB+MH4wfjB+MH4wfjB+MH4wfjB+MH4wfjB+MH4wfjB+MH4wfjB+MH4wfjB+MH4wfjB+MH4wfjB+MH4wfjB+MH4wfjB+MH4wfjB+MH4wfjB+MH4wfjB+MH4wfjB+MH4wfjB+MH4wfjB+MH4wfjB+MH4wfjB+MH4wfjB+MH4wfjB+MH4wfjB+MH4wfjB+MH4wfjB+MH4wfjB+MH4wfjB+MH4wfjB+MH4wfjB+MH4wfjB+MH4wfjB+MH4wfjB+MH4wfjB+MH4wfjB+MH4wfjB+MH4wfjB+MH4wfjB+MH4wfjB+MH4wfjB+MH4wfjB+MH4wfjB+MH4wfjB+MH4wfjB+MH4wfjB+MH4wfjB+MH4wfjB+MH4wfjB+MH4wfjB+MH4wfjB+MH4wfjB+MH4wfjB+MH4wfjB+MH4wfjB+MH4wfjB+MH4wfjB+MH4wfjB+MH4wfjB+MH4wfjB+MH4wfjB+MH4wfjB+MH4wfjB+MH4wfjB+MH4wfjB+MH4wfjB+MH4wfjB+MH4wfjB+MH4wfjB+MH5AfkB+QH5AfkB+QH5AfkB+QH5AfkB+QH5AfkB+QH5AfkB+QH5AfkB+QH5AfkB+QH5AfkB+QH5AfkB+QH5AfkB+QH5AfkB+QH5AfkB+QH5AfkB+QH5AfkB+QH5AfkB+QH5AfkB+QH5AfkB+QH5AfkB+QH5AfkB+QH5AfkB+QH5AfkB+QH5AfkB+QH5AfkB+QH5AfkB+QH5AfkB+QH5AfkB+QH5AfkB+QH5AfkB+QH5AfkB+QH5AfkB+QH5AfkB+QH5AfkB+QH5AfkB+QH5AfkB+QH5AfkB+QH5AfkB+QH5AfkB+QH5AfkB+QH5AfkB+QH5AfkB+QH5AfkB+QH5AfkB+QH5AfkB+QH5AfkB+QH5AfkB+QH5AfkB+QH5AfkB+QH5AfkB+QH5AfkB+QH5AfkB+QH5AfkB+QH5AfkB+QH5AfkB+QH5AfkB+QH5AfkB+QH5AfkB+QH5AfkB+QH5AfkB+QH5AfkB+QH5AfkB+QH5AfkB+QH5AfkB+QH5AfkB+QH5AfkB+QH5AfkB+QH5AfkB+QH5AfkB+QH5AfkB+QH5AfkB+QH5AfkB+QH5AfkB+QH5AfkB+QH5AfkB+QH5AfkB+QH5AfkB+QH5AfkB+QH5AfkB+QH5AfkB+QH5AfkB+QH5AfkB+QH5AfkB+QH5AfkB+QH5AfkB+QH5AfkB+QH5AfkB+QH5AfkB+QH5AfkB+QH5AfkB+QH5AfkB+QH5AfkB+QH5AfkB+QH5AfkB+QH5AfkB+QH5AfkB+QH5AfkB+QH5AfkB+QH5AfkB+QH5AfkB+QH5AfkB+QH5AfkB+QH5AfkB+QH5AfkB+QH5AfkB+QH5AfkB+QH5AfkB+QH5AfkB+QH5AfkB+QH5AfkB+QH5AfkB+QH5AfkB+QH5AfkB+QH5AfkB+QH5AfkB+QH5AfkB+QH5AfkB+QH5AfkB+QH5AfkB+QH5AfkB+QH5AfkB+QH5AfkB+QH5AfkB+QH5AfkB+QH5AfkB+QH5AfkB+QH5AfkB+QH5AfkB+UH5QflB+UH5QflB+UH5QflB+UH5QflB+UH5QflB+UH5QflB+UH5QflB+UH5QflB+UH5QflB+UH5QflB+UH5QflB+UH5QflB+UH5QflB+UH5QflB+UH5QflB+UH5QflB+UH5QflB+UH5QflB+UH5QflB+UH5QflB+UH5QflB+UH5QflB+UH5QflB+UH5QflB+UH5QflB+UH5QflB+UH5QflB+UH5QflB+UH5QflB+UH5QflB+UH5QflB+UH5QflB+UH5QflB+UH5QflB+UH5QflB+UH5QflB+UH5QflB+UH5QflB+UH5QflB+UH5QflB+UH5QflB+UH5QflB+UH5QflB+UH5QflB+UH5QflB+UH5QflB+UH5QflB+UH5QflB+UH5QflB+UH5QflB+UH5QflB+UH5QflB+UH5QflB+UH5QflB+UH5QflB+UH5QflB+UH5QflB+UH5QflB+UH5QflB+UH5QflB+UH5QflB+UH5QflB+UH5QflB+UH5QflB+UH5QflB+UH5QflB+UH5QflB+UH5QflB+UH5QflB+UH5QflB+UH5QflB+UH5QflB+UH5QflB+UH5QflB+UH5QflB+UH5QflB+UH5QflB+UH5QflB+UH5QflB+UH5QflB+UH5QflB+UH5QflB+UH5QflB+UH5QflB+UH5QflB+UH5QflB+UH5QflB+UH5QflB+UH5QflB+UH5QflB+UH5QflB+UH5QflB+UH5QflB+UH5QflB+UH5QflB+UH5QflB+UH5QflB+UH5QflB+UH5QflB+UH5QflB+UH5QflB+UH5QflB+UH5QflB+UH5QflB+UH5QflB+UH5QflB+UH5QflB+UH5QflB+UH5QflB+UH5QflB+UH5QflB+UH5QflB+UH5QflB+UH5QflB+UH5QflB+UH5QflB+UH5QflB+UH5QflB+UH5QflB+UH5QflB+UH5QflB+UH5QflB+UH5QflB+UH5QflB+UH5QflB+UH5QflB+UH5QfmB+YH5gfmB+YH5gfmB+YH5gfmB+YH5gfmB+YH5gfmB+YH5gfmB+YH5gfmB+YH5gfmB+YH5gfmB+YH5gfmB+YH5gfmB+YH5gfmB+YH5gfmB+YH5gfmB+YH5gfmB+YH5gfmB+YH5gfmB+YH5gfmB+YH5gfmB+YH5gfmB+YH5gfmB+YH5gfmB+YH5gfmB+YH5gfmB+YH5gfmB+YH5gfmB+YH5gfmB+YH5gfmB+YH5gfmB+YH5gfmB+YH5gfmB+YH5gfmB+YH5gfmB+YH5gfmB+YH5gfmB+YH5gfmB+YH5gfmB+YH5gfmB+YH5gfmB+YH5gfmB+YH5gfmB+YH5gfmB+YH5gfmB+YH5gfmB+YH5gfmB+YH5gfmB+YH5gfmB+YH5gfmB+YH5gfmB+YH5gfmB+YH5gfmB+YH5gfmB+YH5gfmB+YH5gfmB+YH5gfmB+YH5gfmB+YH5gfmB+YH5gfmB+YH5gfmB+YH5gfmB+YH5gfmB+YH5gfmB+YH5gfmB+YH5gfmB+YH5gfmB+YH5gfmB+YH5gfmB+YH5gfmB+YH5gfmB+YH5gfmB+YH5gfmB+YH5gfmB+YH5gfmB+YH5gfmB+YH5gfmB+YH5gfmB+YH5gfmB+YH5gfmB+YH5gfmB+YH5gfmB+YH5gfmB+YH5gfmB+YH5gfmB+YH5gfmB+YH5gfmB+YH5gfmB+YH5gfmB+YH5gfmB+YH5gfmB+YH5gfmB+YH5gfmB+YH5gfmB+YH5gfmB+YH5gfmB+YH5gfmB+YH5gfmB+YH5gfmB+YH5gfmB+YH5gfmB+YH5gfmB+YH5gfmB+YH5gfmB+YH5gfmB+YH5gfmB+YH5gfmB+YH5gfmB+YH5gfmB+YH5gfmB+YH5gfmB+YH5gfmB+YH5gfmB+YH5gfmB+YH5gfmB+YH5gfmB+YH5gfmB+YH5gfmB+YH5gfmB+YH5gfmB+YH5gfmB+YH5gfmB+YH5gfmB+YH5gfmB+YH5gfmB+YH5gfmB+YH5gfmB+YH5gfmB+YH5wfnB+cH5wfnB+cH5wfnB+cH5wfnB+cH5wfnB+cH5wfnB+cH5wfnB+cH5wfnB+cH5wfnB+cH5wfnB+cH5wfnB+cH5wfnB+cH5wfnB+cH5wfnB+cH5wfnB+cH5wfnB+cH5wfnB+cH5wfnB+cH5wfnB+cH5wfnB+cH5wfnB+cH5wfnB+cH5wfnB+cH5wfnB+cH5wfnB+cH5wfnB+cH5wfnB+cH5wfnB+cH5wfnB+cH5wfnB+cH5wfnB+cH5wfnB+cH5wfnB+cH5wfnB+cH5wfnB+cH5wfnB+cH5wfnB+cH5wfnB+cH5wfnB+cH5wfnB+cH5wfnB+cH5wfnB+cH5wfnB+cH5wfnB+cH5wfnB+cH5wfnB+cH5wfnB+cH5wfnB+cH5wfnB+cH5wfnB+cH5wfnB+cH5wfnB+cH5wfnB+cH5wfnB+cH5wfnB+cH5wfnB+cH5wfnB+cH5wfnB+cH5wfnB+cH5wfnB+cH5wfnB+cH5wfnB+cH5wfnB+cH5wfnB+cH5wfnB+cH5wfnB+cH5wfnB+cH5wfnB+cH5wfnB+cH5wfnB+cH5wfnB+cH5wfnB+cH5wfnB+cH5wfnB+cH5wfnB+cH5wfnB+cH5wfnB+cH5wfnB+cH5wfnB+cH5wfnB+cH5wfnB+cH5wfnB+cH5wfnB+cH5wfnB+cH5wfnB+cH5wfnB+cH5wfnB+cH5wfnB+cH5wfnB+cH5wfnB+cH5wfnB+cH5wfnB+cH5wfnB+cH5wfnB+cH5wfnB+cH5wfnB+cH5wfnB+cH5wfnB+cH5wfnB+cH5wfnB+cH5wfnB+cH5wfnB+cH5wfnB+cH5wfnB+cH5wfnB+cH5wfnB+cH5wfnB+cH5wfnB+cH5wfnB+cH5wfnB+cH5wfnB+cH5wfnB+cH5wfnB+cH5wfnB+cH5wfnB+cH5wfnB+cH5wfnB+cH5wfnB+cH5wfnB+cH5wfnB+cH5wfnB+cH5wfnB+cH5wfnB+cH5wfnB+cH5wfnB+cH5wfnB+cH5wfnB+gH6AfoB+gH6AfoB+gH6AfoB+gH6AfoB+gH6AfoB+gH6AfoB+gH6AfoB+gH6AfoB+gH6AfoB+gH6AfoB+gH6AfoB+gH6AfoB+gH6AfoB+gH6AfoB+gH6AfoB+gH6AfoB+gH6AfoB+gH6AfoB+gH6AfoB+gH6AfoB+gH6AfoB+gH6AfoB+gH6AfoB+gH6AfoB+gH6AfoB+gH6AfoB+gH6AfoB+gH6AfoB+gH6AfoB+gH6AfoB+gH6AfoB+gH6AfoB+gH6AfoB+gH6AfoB+gH6AfoB+gH6AfoB+gH6AfoB+gH6AfoB+gH6AfoB+gH6AfoB+gH6AfoB+gH6AfoB+gH6AfoB+gH6AfoB+gH6AfoB+gH6AfoB+gH6AfoB+gH6AfoB+gH6AfoB+gH6AfoB+gH6AfoB+gH6AfoB+gH6AfoB+gH6AfoB+gH6AfoB+gH6AfoB+gH6AfoB+gH6AfoB+gH6AfoB+gH6AfoB+gH6AfoB+gH6AfoB+gH6AfoB+gH6AfoB+gH6AfoB+gH6AfoB+gH6AfoB+gH6AfoB+gH6AfoB+gH6AfoB+gH6AfoB+gH6AfoB+gH6AfoB+gH6AfoB+gH6AfoB+gH6AfoB+gH6AfoB+gH6AfoB+gH6AfoB+gH6AfoB+gH6AfoB+gH6AfoB+gH6AfoB+gH6AfoB+gH6AfoB+gH6AfoB+gH6AfoB+gH6AfoB+gH6AfoB+gH6AfoB+gH6AfoB+gH6AfoB+gH6AfoB+gH6AfoB+gH6AfoB+gH6AfoB+gH6AfoB+gH6AfoB+gH6AfoB+gH6AfoB+gH6AfoB+gH6AfoB+gH6AfoB+gH6AfoB+gH6AfoB+gH6AfoB+gH6AfoB+gH6AfoB+gH6AfoB+gH6AfoB+gH6AfoB+gH6AfoB+gH6AfoB+gH6AfoB+gH6AfoB+gH6AfoB+gH6AfoB+gH6AfoB+gH6AfoB+gH6AfoB+gH6AfoB+gH6AfoB+gH6AfoB+gH6AfoB+gH6AfoB+gH6AfoB+gH6Ac=",
          "dtype": "i2"
         },
         "x0": " ",
         "xaxis": "x",
         "y": {
          "bdata": "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",
          "dtype": "f8"
         },
         "y0": " ",
         "yaxis": "y"
        }
       ],
       "layout": {
        "boxmode": "group",
        "legend": {
         "tracegroupgap": 0
        },
        "shapes": [
         {
          "line": {
           "color": "gray",
           "dash": "dash",
           "width": 2
          },
          "type": "line",
          "x0": 0,
          "x1": 1,
          "xref": "x domain",
          "y0": 0,
          "y1": 0,
          "yref": "y"
         }
        ],
        "template": {
         "data": {
          "bar": [
           {
            "error_x": {
             "color": "#2a3f5f"
            },
            "error_y": {
             "color": "#2a3f5f"
            },
            "marker": {
             "line": {
              "color": "#E5ECF6",
              "width": 0.5
             },
             "pattern": {
              "fillmode": "overlay",
              "size": 10,
              "solidity": 0.2
             }
            },
            "type": "bar"
           }
          ],
          "barpolar": [
           {
            "marker": {
             "line": {
              "color": "#E5ECF6",
              "width": 0.5
             },
             "pattern": {
              "fillmode": "overlay",
              "size": 10,
              "solidity": 0.2
             }
            },
            "type": "barpolar"
           }
          ],
          "carpet": [
           {
            "aaxis": {
             "endlinecolor": "#2a3f5f",
             "gridcolor": "white",
             "linecolor": "white",
             "minorgridcolor": "white",
             "startlinecolor": "#2a3f5f"
            },
            "baxis": {
             "endlinecolor": "#2a3f5f",
             "gridcolor": "white",
             "linecolor": "white",
             "minorgridcolor": "white",
             "startlinecolor": "#2a3f5f"
            },
            "type": "carpet"
           }
          ],
          "choropleth": [
           {
            "colorbar": {
             "outlinewidth": 0,
             "ticks": ""
            },
            "type": "choropleth"
           }
          ],
          "contour": [
           {
            "colorbar": {
             "outlinewidth": 0,
             "ticks": ""
            },
            "colorscale": [
             [
              0,
              "#0d0887"
             ],
             [
              0.1111111111111111,
              "#46039f"
             ],
             [
              0.2222222222222222,
              "#7201a8"
             ],
             [
              0.3333333333333333,
              "#9c179e"
             ],
             [
              0.4444444444444444,
              "#bd3786"
             ],
             [
              0.5555555555555556,
              "#d8576b"
             ],
             [
              0.6666666666666666,
              "#ed7953"
             ],
             [
              0.7777777777777778,
              "#fb9f3a"
             ],
             [
              0.8888888888888888,
              "#fdca26"
             ],
             [
              1,
              "#f0f921"
             ]
            ],
            "type": "contour"
           }
          ],
          "contourcarpet": [
           {
            "colorbar": {
             "outlinewidth": 0,
             "ticks": ""
            },
            "type": "contourcarpet"
           }
          ],
          "heatmap": [
           {
            "colorbar": {
             "outlinewidth": 0,
             "ticks": ""
            },
            "colorscale": [
             [
              0,
              "#0d0887"
             ],
             [
              0.1111111111111111,
              "#46039f"
             ],
             [
              0.2222222222222222,
              "#7201a8"
             ],
             [
              0.3333333333333333,
              "#9c179e"
             ],
             [
              0.4444444444444444,
              "#bd3786"
             ],
             [
              0.5555555555555556,
              "#d8576b"
             ],
             [
              0.6666666666666666,
              "#ed7953"
             ],
             [
              0.7777777777777778,
              "#fb9f3a"
             ],
             [
              0.8888888888888888,
              "#fdca26"
             ],
             [
              1,
              "#f0f921"
             ]
            ],
            "type": "heatmap"
           }
          ],
          "histogram": [
           {
            "marker": {
             "pattern": {
              "fillmode": "overlay",
              "size": 10,
              "solidity": 0.2
             }
            },
            "type": "histogram"
           }
          ],
          "histogram2d": [
           {
            "colorbar": {
             "outlinewidth": 0,
             "ticks": ""
            },
            "colorscale": [
             [
              0,
              "#0d0887"
             ],
             [
              0.1111111111111111,
              "#46039f"
             ],
             [
              0.2222222222222222,
              "#7201a8"
             ],
             [
              0.3333333333333333,
              "#9c179e"
             ],
             [
              0.4444444444444444,
              "#bd3786"
             ],
             [
              0.5555555555555556,
              "#d8576b"
             ],
             [
              0.6666666666666666,
              "#ed7953"
             ],
             [
              0.7777777777777778,
              "#fb9f3a"
             ],
             [
              0.8888888888888888,
              "#fdca26"
             ],
             [
              1,
              "#f0f921"
             ]
            ],
            "type": "histogram2d"
           }
          ],
          "histogram2dcontour": [
           {
            "colorbar": {
             "outlinewidth": 0,
             "ticks": ""
            },
            "colorscale": [
             [
              0,
              "#0d0887"
             ],
             [
              0.1111111111111111,
              "#46039f"
             ],
             [
              0.2222222222222222,
              "#7201a8"
             ],
             [
              0.3333333333333333,
              "#9c179e"
             ],
             [
              0.4444444444444444,
              "#bd3786"
             ],
             [
              0.5555555555555556,
              "#d8576b"
             ],
             [
              0.6666666666666666,
              "#ed7953"
             ],
             [
              0.7777777777777778,
              "#fb9f3a"
             ],
             [
              0.8888888888888888,
              "#fdca26"
             ],
             [
              1,
              "#f0f921"
             ]
            ],
            "type": "histogram2dcontour"
           }
          ],
          "mesh3d": [
           {
            "colorbar": {
             "outlinewidth": 0,
             "ticks": ""
            },
            "type": "mesh3d"
           }
          ],
          "parcoords": [
           {
            "line": {
             "colorbar": {
              "outlinewidth": 0,
              "ticks": ""
             }
            },
            "type": "parcoords"
           }
          ],
          "pie": [
           {
            "automargin": true,
            "type": "pie"
           }
          ],
          "scatter": [
           {
            "fillpattern": {
             "fillmode": "overlay",
             "size": 10,
             "solidity": 0.2
            },
            "type": "scatter"
           }
          ],
          "scatter3d": [
           {
            "line": {
             "colorbar": {
              "outlinewidth": 0,
              "ticks": ""
             }
            },
            "marker": {
             "colorbar": {
              "outlinewidth": 0,
              "ticks": ""
             }
            },
            "type": "scatter3d"
           }
          ],
          "scattercarpet": [
           {
            "marker": {
             "colorbar": {
              "outlinewidth": 0,
              "ticks": ""
             }
            },
            "type": "scattercarpet"
           }
          ],
          "scattergeo": [
           {
            "marker": {
             "colorbar": {
              "outlinewidth": 0,
              "ticks": ""
             }
            },
            "type": "scattergeo"
           }
          ],
          "scattergl": [
           {
            "marker": {
             "colorbar": {
              "outlinewidth": 0,
              "ticks": ""
             }
            },
            "type": "scattergl"
           }
          ],
          "scattermap": [
           {
            "marker": {
             "colorbar": {
              "outlinewidth": 0,
              "ticks": ""
             }
            },
            "type": "scattermap"
           }
          ],
          "scattermapbox": [
           {
            "marker": {
             "colorbar": {
              "outlinewidth": 0,
              "ticks": ""
             }
            },
            "type": "scattermapbox"
           }
          ],
          "scatterpolar": [
           {
            "marker": {
             "colorbar": {
              "outlinewidth": 0,
              "ticks": ""
             }
            },
            "type": "scatterpolar"
           }
          ],
          "scatterpolargl": [
           {
            "marker": {
             "colorbar": {
              "outlinewidth": 0,
              "ticks": ""
             }
            },
            "type": "scatterpolargl"
           }
          ],
          "scatterternary": [
           {
            "marker": {
             "colorbar": {
              "outlinewidth": 0,
              "ticks": ""
             }
            },
            "type": "scatterternary"
           }
          ],
          "surface": [
           {
            "colorbar": {
             "outlinewidth": 0,
             "ticks": ""
            },
            "colorscale": [
             [
              0,
              "#0d0887"
             ],
             [
              0.1111111111111111,
              "#46039f"
             ],
             [
              0.2222222222222222,
              "#7201a8"
             ],
             [
              0.3333333333333333,
              "#9c179e"
             ],
             [
              0.4444444444444444,
              "#bd3786"
             ],
             [
              0.5555555555555556,
              "#d8576b"
             ],
             [
              0.6666666666666666,
              "#ed7953"
             ],
             [
              0.7777777777777778,
              "#fb9f3a"
             ],
             [
              0.8888888888888888,
              "#fdca26"
             ],
             [
              1,
              "#f0f921"
             ]
            ],
            "type": "surface"
           }
          ],
          "table": [
           {
            "cells": {
             "fill": {
              "color": "#EBF0F8"
             },
             "line": {
              "color": "white"
             }
            },
            "header": {
             "fill": {
              "color": "#C8D4E3"
             },
             "line": {
              "color": "white"
             }
            },
            "type": "table"
           }
          ]
         },
         "layout": {
          "annotationdefaults": {
           "arrowcolor": "#2a3f5f",
           "arrowhead": 0,
           "arrowwidth": 1
          },
          "autotypenumbers": "strict",
          "coloraxis": {
           "colorbar": {
            "outlinewidth": 0,
            "ticks": ""
           }
          },
          "colorscale": {
           "diverging": [
            [
             0,
             "#8e0152"
            ],
            [
             0.1,
             "#c51b7d"
            ],
            [
             0.2,
             "#de77ae"
            ],
            [
             0.3,
             "#f1b6da"
            ],
            [
             0.4,
             "#fde0ef"
            ],
            [
             0.5,
             "#f7f7f7"
            ],
            [
             0.6,
             "#e6f5d0"
            ],
            [
             0.7,
             "#b8e186"
            ],
            [
             0.8,
             "#7fbc41"
            ],
            [
             0.9,
             "#4d9221"
            ],
            [
             1,
             "#276419"
            ]
           ],
           "sequential": [
            [
             0,
             "#0d0887"
            ],
            [
             0.1111111111111111,
             "#46039f"
            ],
            [
             0.2222222222222222,
             "#7201a8"
            ],
            [
             0.3333333333333333,
             "#9c179e"
            ],
            [
             0.4444444444444444,
             "#bd3786"
            ],
            [
             0.5555555555555556,
             "#d8576b"
            ],
            [
             0.6666666666666666,
             "#ed7953"
            ],
            [
             0.7777777777777778,
             "#fb9f3a"
            ],
            [
             0.8888888888888888,
             "#fdca26"
            ],
            [
             1,
             "#f0f921"
            ]
           ],
           "sequentialminus": [
            [
             0,
             "#0d0887"
            ],
            [
             0.1111111111111111,
             "#46039f"
            ],
            [
             0.2222222222222222,
             "#7201a8"
            ],
            [
             0.3333333333333333,
             "#9c179e"
            ],
            [
             0.4444444444444444,
             "#bd3786"
            ],
            [
             0.5555555555555556,
             "#d8576b"
            ],
            [
             0.6666666666666666,
             "#ed7953"
            ],
            [
             0.7777777777777778,
             "#fb9f3a"
            ],
            [
             0.8888888888888888,
             "#fdca26"
            ],
            [
             1,
             "#f0f921"
            ]
           ]
          },
          "colorway": [
           "#636efa",
           "#EF553B",
           "#00cc96",
           "#ab63fa",
           "#FFA15A",
           "#19d3f3",
           "#FF6692",
           "#B6E880",
           "#FF97FF",
           "#FECB52"
          ],
          "font": {
           "color": "#2a3f5f"
          },
          "geo": {
           "bgcolor": "white",
           "lakecolor": "white",
           "landcolor": "#E5ECF6",
           "showlakes": true,
           "showland": true,
           "subunitcolor": "white"
          },
          "hoverlabel": {
           "align": "left"
          },
          "hovermode": "closest",
          "mapbox": {
           "style": "light"
          },
          "paper_bgcolor": "white",
          "plot_bgcolor": "#E5ECF6",
          "polar": {
           "angularaxis": {
            "gridcolor": "white",
            "linecolor": "white",
            "ticks": ""
           },
           "bgcolor": "#E5ECF6",
           "radialaxis": {
            "gridcolor": "white",
            "linecolor": "white",
            "ticks": ""
           }
          },
          "scene": {
           "xaxis": {
            "backgroundcolor": "#E5ECF6",
            "gridcolor": "white",
            "gridwidth": 2,
            "linecolor": "white",
            "showbackground": true,
            "ticks": "",
            "zerolinecolor": "white"
           },
           "yaxis": {
            "backgroundcolor": "#E5ECF6",
            "gridcolor": "white",
            "gridwidth": 2,
            "linecolor": "white",
            "showbackground": true,
            "ticks": "",
            "zerolinecolor": "white"
           },
           "zaxis": {
            "backgroundcolor": "#E5ECF6",
            "gridcolor": "white",
            "gridwidth": 2,
            "linecolor": "white",
            "showbackground": true,
            "ticks": "",
            "zerolinecolor": "white"
           }
          },
          "shapedefaults": {
           "line": {
            "color": "#2a3f5f"
           }
          },
          "ternary": {
           "aaxis": {
            "gridcolor": "white",
            "linecolor": "white",
            "ticks": ""
           },
           "baxis": {
            "gridcolor": "white",
            "linecolor": "white",
            "ticks": ""
           },
           "bgcolor": "#E5ECF6",
           "caxis": {
            "gridcolor": "white",
            "linecolor": "white",
            "ticks": ""
           }
          },
          "title": {
           "x": 0.05
          },
          "xaxis": {
           "automargin": true,
           "gridcolor": "white",
           "linecolor": "white",
           "ticks": "",
           "title": {
            "standoff": 15
           },
           "zerolinecolor": "white",
           "zerolinewidth": 2
          },
          "yaxis": {
           "automargin": true,
           "gridcolor": "white",
           "linecolor": "white",
           "ticks": "",
           "title": {
            "standoff": 15
           },
           "zerolinecolor": "white",
           "zerolinewidth": 2
          }
         }
        },
        "title": {
         "text": "xG Difference by Season (Home - Away)"
        },
        "xaxis": {
         "anchor": "y",
         "domain": [
          0,
          1
         ],
         "title": {
          "text": "Season"
         }
        },
        "yaxis": {
         "anchor": "x",
         "domain": [
          0,
          1
         ],
         "title": {
          "text": "xG Difference"
         }
        }
       }
      }
     },
     "metadata": {},
     "output_type": "display_data"
    }
   ],
   "source": [
    "import plotly.express as px\n",
    "\n",
    "# Box plot of xg_diff by season to see spread/median per season\n",
    "# 시즌별 xg_diff 박스플롯 (분산/중앙값을 시즌별로 비교)\n",
    "fig = px.box(\n",
    "    df.dropna(subset=[\"xg_diff\"]),\n",
    "    x=\"season\", y=\"xg_diff\",\n",
    "    title=\"xG Difference by Season (Home - Away)\",\n",
    "    labels={\"season\":\"Season\",\"xg_diff\":\"xG Difference\"}\n",
    ")\n",
    "fig.add_hline(y=0, line_width=2, line_dash=\"dash\", line_color=\"gray\")\n",
    "fig.update_traces(hovertemplate=\"Season: %{x}<br>xG diff: %{y:.3f}<extra></extra>\")\n",
    "fig.show()\n"
   ]
  },
  {
   "cell_type": "markdown",
   "metadata": {},
   "source": [
    "- English\n",
    "\n",
    "    If the median line inside the box is above 0, it means the median match in that season favored home teams in xG.\n",
    "    The height of the box and whiskers show variability: a taller box means more match-to-match variation in home advantage that season.\n",
    "- 한국어\n",
    "\n",
    "    박스 안의 **중앙선(중앙값)**이 0보다 위에 있으면, 그 시즌의 중간 수준 경기에서도 홈팀이 원정보다 xG에서 유리했다는 의미.\n",
    "    박스와 수염(whisker)의 길이는 시즌 내 경기 간 **편차(변동성)**를 보여줌: 박스가 클수록 시즌 내 홈 어드밴티지 차이가 경기마다 크게 변동했다는 뜻.\n"
   ]
  },
  {
   "cell_type": "code",
   "execution_count": null,
   "metadata": {},
   "outputs": [],
   "source": [
    "# Step 4-3) xG Difference by Season — Box Plot\n",
    "# ------------------------------------------------------------\n",
    "# EN: This plot shows the distribution of match-by-match xG differences \n",
    "#     (Home xG − Away xG) for each season from 2014 to 2024.\n",
    "#     - X-axis: Season\n",
    "#     - Y-axis: xG Difference (Home − Away) per match\n",
    "#     - Box (IQR): Middle 50% of matches\n",
    "#     - Horizontal line inside box: Median xG difference for the season\n",
    "#         > Median > 0 → Home teams have higher xG in the median match\n",
    "#         > Median = 0 → Home and away teams have equal xG in the median match\n",
    "#         > Median < 0 → Away teams have higher xG in the median match\n",
    "#     - Box height & whiskers: Variability of match-to-match home advantage\n",
    "#         > Taller box → Higher variability in home advantage\n",
    "#         > Shorter box → More consistent xG differences\n",
    "#     - Dots: Outlier matches with unusually high or low xG differences\n",
    "# \n",
    "# KO: 이 그래프는 2014~2024 시즌 동안 경기별 기대득점(xG) 차이 \n",
    "#     (홈 xG − 원정 xG)의 분포를 시즌별로 시각화한 것입니다.\n",
    "#     - X축: 시즌\n",
    "#     - Y축: 경기당 xG 차이 (홈 − 원정)\n",
    "#     - 박스(IQR): 경기 결과의 중간 50% 구간\n",
    "#     - 박스 안 가로선: 해당 시즌의 중앙값 xG 차이\n",
    "#         > 중앙값 > 0 → 중앙 경기에서 홈팀이 원정팀보다 xG 우위\n",
    "#         > 중앙값 = 0 → 중앙 경기에서 홈/원정 xG 동일\n",
    "#         > 중앙값 < 0 → 중앙 경기에서 원정팀이 xG 우위\n",
    "#     - 박스 높이 & 수염: 시즌 내 경기별 홈 어드밴티지 변동성\n",
    "#         > 박스 높음 → 홈 어드밴티지 편차 큼\n",
    "#         > 박스 낮음 → 경기별 xG 차이가 일정\n",
    "#     - 점: 시즌 평균 경향에서 벗어난 특이 경기(이상치)\n",
    "# \n",
    "# 📌 Observations / 주요 관찰 포인트\n",
    "#     - 모든 시즌에서 중앙값이 0보다 위 → 홈팀이 평균적으로 xG 우위\n",
    "#     - 2020 시즌: 중앙값 하락, 변동폭 감소 → 홈 어드밴티지 감소 (COVID-19 영향 가능성)\n",
    "#     - 일부 시즌(2014, 2024)에서 극단적인 이상치 다수 존재\n"
   ]
  },
  {
   "cell_type": "code",
   "execution_count": null,
   "metadata": {},
   "outputs": [],
   "source": []
  }
 ],
 "metadata": {
  "kernelspec": {
   "display_name": "ds_study",
   "language": "python",
   "name": "python3"
  },
  "language_info": {
   "codemirror_mode": {
    "name": "ipython",
    "version": 3
   },
   "file_extension": ".py",
   "mimetype": "text/x-python",
   "name": "python",
   "nbconvert_exporter": "python",
   "pygments_lexer": "ipython3",
   "version": "3.10.18"
  }
 },
 "nbformat": 4,
 "nbformat_minor": 2
}
